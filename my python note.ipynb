{
 "cells": [
  {
   "cell_type": "markdown",
   "metadata": {},
   "source": [
    "# hello python"
   ]
  },
  {
   "cell_type": "markdown",
   "metadata": {},
   "source": [
    "**python** is really *cool*\n",
    "- python\n",
    "    - pandas\n",
    "    - depth1\n",
    "    - depth2\n",
    "    \n",
    "- java\n",
    "- c++\n",
    "- glang\n",
    "\n",
    "1. python\n",
    "2. java\n",
    "3. c++\n",
    "\n",
    "> 파이썬은 재밌다고 하더라...(인용구하는방법)\n",
    "$y=3x$\n",
    "\n",
    "```python\n",
    "\n",
    "[파이썬 공식 홈](https://www.python.org/)"
   ]
  },
  {
   "cell_type": "code",
   "execution_count": null,
   "metadata": {},
   "outputs": [],
   "source": [
    "a= 10 \n",
    "print (a)"
   ]
  },
  {
   "cell_type": "code",
   "execution_count": null,
   "metadata": {},
   "outputs": [],
   "source": [
    "\n",
    "a = \"포포\"\n",
    "b = 5\n",
    "print (a + \"는 나이가\" + str(b) + \"입니다\")\n"
   ]
  },
  {
   "cell_type": "code",
   "execution_count": null,
   "metadata": {},
   "outputs": [],
   "source": [
    "a= 10 #int\n",
    "b= 11.4 #float"
   ]
  },
  {
   "cell_type": "code",
   "execution_count": null,
   "metadata": {},
   "outputs": [],
   "source": [
    "# this line is very important\n",
    "# so don't delete those lines\n",
    "\n",
    "a= 10\n",
    "b= 11.4\n",
    "\n",
    "print (a,10, 200, b)"
   ]
  },
  {
   "cell_type": "code",
   "execution_count": 1,
   "metadata": {},
   "outputs": [
    {
     "ename": "NameError",
     "evalue": "name 'a' is not defined",
     "output_type": "error",
     "traceback": [
      "\u001b[0;31m---------------------------------------------------------------------------\u001b[0m",
      "\u001b[0;31mNameError\u001b[0m                                 Traceback (most recent call last)",
      "\u001b[0;32m<ipython-input-1-a44c6663cb10>\u001b[0m in \u001b[0;36m<module>\u001b[0;34m\u001b[0m\n\u001b[0;32m----> 1\u001b[0;31m \u001b[0mprint\u001b[0m\u001b[0;34m(\u001b[0m \u001b[0ma\u001b[0m\u001b[0;34m,\u001b[0m\u001b[0mb\u001b[0m\u001b[0;34m,\u001b[0m\u001b[0;36m10\u001b[0m\u001b[0;34m,\u001b[0m\u001b[0;36m100\u001b[0m\u001b[0;34m,\u001b[0m\u001b[0msep\u001b[0m\u001b[0;34m=\u001b[0m\u001b[0;34m'*'\u001b[0m\u001b[0;34m,\u001b[0m \u001b[0mend\u001b[0m\u001b[0;34m=\u001b[0m\u001b[0;34m'!!'\u001b[0m\u001b[0;34m)\u001b[0m\u001b[0;34m\u001b[0m\u001b[0;34m\u001b[0m\u001b[0m\n\u001b[0m\u001b[1;32m      2\u001b[0m \u001b[0;31m#중간중간에 띄어쓰기 사에 sep = 뒤에 있는 표시가 오고\u001b[0m\u001b[0;34m\u001b[0m\u001b[0;34m\u001b[0m\u001b[0;34m\u001b[0m\u001b[0m\n\u001b[1;32m      3\u001b[0m \u001b[0;31m#end 를 쓰면 맨 뒤에 옴.\u001b[0m\u001b[0;34m\u001b[0m\u001b[0;34m\u001b[0m\u001b[0;34m\u001b[0m\u001b[0m\n",
      "\u001b[0;31mNameError\u001b[0m: name 'a' is not defined"
     ]
    }
   ],
   "source": [
    "print( a,b,10,100,sep='*', end='!!')\n",
    "#중간중간에 띄어쓰기 사에 sep = 뒤에 있는 표시가 오고\n",
    "#end 를 쓰면 맨 뒤에 옴. "
   ]
  },
  {
   "cell_type": "code",
   "execution_count": null,
   "metadata": {},
   "outputs": [],
   "source": [
    "print(a)\n",
    "print(a,b)\n",
    "a #마지막값을 구해서 보여줌 = output"
   ]
  },
  {
   "cell_type": "code",
   "execution_count": null,
   "metadata": {},
   "outputs": [],
   "source": [
    "abcABC = 100\n",
    "_abc124 = 200\n",
    "ABC124=200\n",
    "a456BC = 100\n",
    "#변수를 만들때는 맨 앞에 숫자를 넣어주면 실행하기가 힘듬 -> 또는 헷갈림\n",
    "#코드는 다른 사람과 보는것이기 때문에 정확하게 설명적으로 변수를 쓰는게 훨씬 좋음!\n",
    "#class라는 변수는 쓸수 없다 -> why? class는 예약어임! 이미 선점하여 사용중인 키워드! \n"
   ]
  },
  {
   "cell_type": "code",
   "execution_count": null,
   "metadata": {},
   "outputs": [],
   "source": [
    "a = 10\n",
    "b = 11.45\n",
    "type(a,b) #type을 쓰면 변수가 어떤 타입인지 알수있음"
   ]
  },
  {
   "cell_type": "code",
   "execution_count": null,
   "metadata": {},
   "outputs": [],
   "source": [
    "c = None #(변수를 생성하고 싶은데 아직 정해지지 않았을때)"
   ]
  },
  {
   "cell_type": "code",
   "execution_count": null,
   "metadata": {},
   "outputs": [],
   "source": [
    "a = 5\n",
    "b = 4\n",
    "print(a>b)\n",
    "print(a<b)\n",
    "print(a>=b)\n",
    "print(a<=b)\n",
    "print(a==b)\n",
    "print(a !=b )#같지 않당\n",
    "\n",
    "c = a>b\n",
    "c = True\n",
    "print(type(c))\n",
    "print(c)"
   ]
  },
  {
   "cell_type": "code",
   "execution_count": null,
   "metadata": {},
   "outputs": [],
   "source": [
    "a= 5\n",
    "b= 4\n",
    "print(a+b)\n",
    "print(a*b)\n",
    "print(a-b)\n",
    "print(a/b)\n",
    "print(a%b)\n",
    "print(a**b)"
   ]
  },
  {
   "cell_type": "code",
   "execution_count": null,
   "metadata": {},
   "outputs": [],
   "source": [
    "#operator priorities -> ()를 넣으면 되! "
   ]
  },
  {
   "cell_type": "code",
   "execution_count": null,
   "metadata": {},
   "outputs": [],
   "source": [
    "a = 9\n",
    "t = a-3\n",
    "a = t\n",
    "print(a)\n",
    "\n",
    "#how to shorten\n",
    "a=9\n",
    "a-=3\n",
    "print(a)"
   ]
  },
  {
   "cell_type": "code",
   "execution_count": null,
   "metadata": {},
   "outputs": [],
   "source": [
    "#index추출\n",
    "a = 'Hello World' #길이 : 11\n",
    "print(a[0])\n",
    "print(a[-1]) #마지막꺼 음수는 마지막부터 가져옴"
   ]
  },
  {
   "cell_type": "code",
   "execution_count": null,
   "metadata": {},
   "outputs": [],
   "source": [
    "#slicing 부분적으로 문자를 자른다!\n",
    "a= 'Hello World'\n",
    "print(a[0:4]) #0,1,2,3까지만 들어옴!\n",
    "print(a[:5]) #아무곳 안쓰면 앞은 무조건0 뒤는 max"
   ]
  },
  {
   "cell_type": "code",
   "execution_count": null,
   "metadata": {},
   "outputs": [],
   "source": [
    "#문자열함수 \n",
    "a = 'Hello World'\n",
    "a.upper()\n",
    "a.lower()"
   ]
  },
  {
   "cell_type": "code",
   "execution_count": null,
   "metadata": {},
   "outputs": [],
   "source": [
    "a = 'hello world'\n",
    "a.replace('h','j')"
   ]
  },
  {
   "cell_type": "code",
   "execution_count": null,
   "metadata": {},
   "outputs": [],
   "source": [
    "#format\n",
    "temperature = 25.5\n",
    "prob = 80.0\n",
    "a = '오늘 기온{}도 이고, 비올 확률은 {}% 입니다.'.format(temperature, prob)\n",
    "print(a)"
   ]
  },
  {
   "cell_type": "code",
   "execution_count": null,
   "metadata": {},
   "outputs": [],
   "source": [
    "#split 문자열을 특정한 문자 구분하여 문자열의 리스트로 치환\n",
    "a= 'hello world what a nice weather'\n",
    "a.split()\n",
    "a.split('w')"
   ]
  },
  {
   "cell_type": "code",
   "execution_count": null,
   "metadata": {},
   "outputs": [],
   "source": [
    "#list, tuple => 복수개의 값을 담을 수 있는 데이터 구조\n",
    "#list\n",
    "a= []\n",
    "print(a)"
   ]
  },
  {
   "cell_type": "code",
   "execution_count": null,
   "metadata": {},
   "outputs": [],
   "source": [
    "a = [1,2,3,5,10]\n",
    "print(a)\n",
    "a = 'hello world'\n",
    "b = list(a) #문자열을 리스트화시킴\n",
    "print(b)\n"
   ]
  },
  {
   "cell_type": "code",
   "execution_count": null,
   "metadata": {},
   "outputs": [],
   "source": [
    "#string split\n",
    "a = \"hello world nice weather\"\n",
    "b = a. split()\n",
    "print(b)"
   ]
  },
  {
   "cell_type": "code",
   "execution_count": null,
   "metadata": {},
   "outputs": [],
   "source": [
    "#list indexing\n",
    "a = [1,2,3,4,5,6]\n",
    "print(a[2])\n",
    "print(a[5])\n",
    "print(a[-1])"
   ]
  },
  {
   "cell_type": "code",
   "execution_count": null,
   "metadata": {},
   "outputs": [],
   "source": [
    "#불변(immutable) -> 변경이 안됨\n",
    "a = 'hello world'\n",
    "print(a[0])\n",
    "a.replace('h','j')"
   ]
  },
  {
   "cell_type": "code",
   "execution_count": null,
   "metadata": {},
   "outputs": [],
   "source": [
    "a = [1,2,3,4,5]\n",
    "a[0] = 100\n",
    "print(a)"
   ]
  },
  {
   "cell_type": "code",
   "execution_count": null,
   "metadata": {},
   "outputs": [],
   "source": [
    "#list slicing\n",
    "a = [1,2,3,4,5,6,7,8]\n",
    "a[4:7]\n",
    "print(a[:7])\n",
    "print(a[3:])\n",
    "#slicing\n",
    "#start:end:increment(2)*건너뛰는거\n",
    "a[1:7:2]\n"
   ]
  },
  {
   "cell_type": "code",
   "execution_count": null,
   "metadata": {},
   "outputs": [],
   "source": [
    "a = 'hello'\n",
    "a.split()\n",
    "a.upper()\n",
    "\n",
    "a= [1,2,3,4,5]\n",
    "a.append(10) #마지막에 무언가를 추가하고 싶을때 쓰는게 append\n",
    "print(a)"
   ]
  },
  {
   "cell_type": "code",
   "execution_count": null,
   "metadata": {},
   "outputs": [],
   "source": [
    "a= [1,2,3,4,5]\n",
    "b=[6,7,8,9,10]\n",
    "a.extend(b)\n",
    "print(a)\n",
    "a+=b\n",
    "print(a)"
   ]
  },
  {
   "cell_type": "code",
   "execution_count": null,
   "metadata": {},
   "outputs": [],
   "source": [
    "#insert 함수\n",
    "a = [1,3,4,5,6]\n",
    "a.insert(1,40)\n",
    "print(a)\n"
   ]
  },
  {
   "cell_type": "code",
   "execution_count": null,
   "metadata": {},
   "outputs": [],
   "source": [
    "a= [1,2,3,4,5]\n",
    "a.remove(2)\n",
    "print(a)"
   ]
  },
  {
   "cell_type": "code",
   "execution_count": null,
   "metadata": {},
   "outputs": [],
   "source": [
    "a= [1,2,3,4,5]\n",
    "a.pop(1)#지우고자 하는 아이템을 반환 후, 삭제\n",
    "print(a)\n",
    "\n",
    "#index() 찾고자 하는 값의 인덱스 반환\n",
    "a = [2,3,4]\n",
    "a.index(3)\n",
    "\n"
   ]
  },
  {
   "cell_type": "code",
   "execution_count": null,
   "metadata": {},
   "outputs": [],
   "source": [
    "#in 키워드!\n",
    "a = [1,2,3,4,5,10]\n",
    "b = 7\n",
    "c = b in a \n",
    "print(c)"
   ]
  },
  {
   "cell_type": "code",
   "execution_count": null,
   "metadata": {},
   "outputs": [],
   "source": [
    "a = [9,10,7,19,1,2,20,21,7,8]\n",
    "a.sort(reverse=True)#큰거부터 작은거 순으로 내림차순\n",
    "print(a)\n",
    "#sort는 내부적으로 정렬 가능//sorted는 리스트의 정렬된 복사본을 반환\n",
    "\n",
    "b = sorted(a)#a를 다시 b로 정리하면 요렇게 됨!\n",
    "print(b)"
   ]
  },
  {
   "cell_type": "code",
   "execution_count": null,
   "metadata": {},
   "outputs": [],
   "source": [
    "# tuple\n",
    "a = [1,2,3]\n",
    "b = (1,2,3)\n",
    "print(type(a))\n",
    "print(type(b))\n",
    "\n",
    "a[0] = 100\n",
    "print(a)\n",
    "\n",
    "#투플은 immutable!"
   ]
  },
  {
   "cell_type": "code",
   "execution_count": null,
   "metadata": {},
   "outputs": [],
   "source": [
    "#tuple unpacking\n",
    "a,b = 100,200\n",
    "print(a,b)"
   ]
  },
  {
   "cell_type": "code",
   "execution_count": null,
   "metadata": {},
   "outputs": [],
   "source": [
    "#a와 b의 값을 교환해보기\n",
    "a =5\n",
    "b =4\n",
    "a,b =b,a\n",
    "print(a,b)"
   ]
  },
  {
   "cell_type": "code",
   "execution_count": null,
   "metadata": {},
   "outputs": [],
   "source": [
    "#dictionary 키와 값을 갖는 데이터 구조, 키는 내부적으로 hash 값으로 저장\n",
    "a = [0,1,2,3,4]\n",
    "print(a[0])\n",
    "print(a[4])\n",
    "a = {\"Korea\" : \"Seoul\", \"Canada\" : \"Ottawa\", \"USA\" : \"Washington D.C\"}\n",
    "print(a) #인덱스는 안됨!\n",
    "\n",
    "b = {0:1,1:6,7:9,8:10}\n",
    "print(b[0])\n",
    "#key,value만 있음"
   ]
  },
  {
   "cell_type": "code",
   "execution_count": null,
   "metadata": {},
   "outputs": [],
   "source": [
    "a = {\"Korea\" : \"Seoul\", \"Canada\" : \"Ottawa\", \"USA\" : \"Washington D.C\"}\n",
    "a[\"Japan\"] = \"Tokyo\" #얘는 추가하는 방법\n",
    "a[\"China\"] = \"Beijing\"\n",
    "print(a)"
   ]
  },
  {
   "cell_type": "code",
   "execution_count": null,
   "metadata": {},
   "outputs": [],
   "source": [
    "a = {\"a\" : 1, \"b\" : 2, \"c\" : 3}\n",
    "b = {\"a\" : 2, \"d\" : 4, \"e\" : 5}\n",
    "a.update(b)\n",
    "print(a)"
   ]
  },
  {
   "cell_type": "markdown",
   "metadata": {},
   "source": [
    "**key삭제**\n",
    "    pop 함수 이용\n",
    "    del 키워드 사용\n",
    "    "
   ]
  },
  {
   "cell_type": "code",
   "execution_count": null,
   "metadata": {},
   "outputs": [],
   "source": [
    "a = {\"a\" : 1, \"b\" : 2, \"c\" : 3}\n",
    "print(a)\n",
    "\n",
    "#a.pop(\"b\")\n",
    "del a[\"b\"]\n",
    "print(a)"
   ]
  },
  {
   "cell_type": "code",
   "execution_count": null,
   "metadata": {},
   "outputs": [],
   "source": [
    "print(a)\n",
    "a.clear()\n",
    "print(a)"
   ]
  },
  {
   "cell_type": "code",
   "execution_count": null,
   "metadata": {},
   "outputs": [],
   "source": [
    "#in\n",
    "a= {\"a\" :1, \"b\":2, \"c\" :3}\n",
    "print(a)\n",
    "b = [1,2,3,4,5,6,7,8,9,10,100]\n",
    "\n",
    "print(100 in b) #list같은 경우는 숫자가 너무 많으면 성능속도가 굉장히 줄어듬!\n",
    "print(\"b\" in a)\n"
   ]
  },
  {
   "cell_type": "code",
   "execution_count": null,
   "metadata": {},
   "outputs": [],
   "source": [
    "#value access\n",
    "a.get(\"b\")"
   ]
  },
  {
   "cell_type": "code",
   "execution_count": null,
   "metadata": {},
   "outputs": [],
   "source": [
    "#keys, values access\n",
    "print(a)\n",
    "print(list(a.keys()))\n",
    "print(list(a.values()))\n",
    "\n",
    "list(a.items())"
   ]
  },
  {
   "cell_type": "code",
   "execution_count": null,
   "metadata": {},
   "outputs": [],
   "source": [
    "#set\n",
    "a = {1,1,2,3,3,4,1,5}\n",
    "print(a)\n"
   ]
  },
  {
   "cell_type": "code",
   "execution_count": null,
   "metadata": {},
   "outputs": [],
   "source": [
    "a=[1,1,2,3,3,4,1,5]\n",
    "print(a)\n",
    "\n",
    "b=set(a)\n",
    "print(b)"
   ]
  },
  {
   "cell_type": "code",
   "execution_count": null,
   "metadata": {},
   "outputs": [],
   "source": [
    "a = {1,2,3}\n",
    "b = {2,3,4}\n",
    "\n",
    "print(a.union(b)) #합집합\n",
    "print(a.intersection(b)) #교집합\n",
    "print(a.difference(b)) #차집합\n",
    "print(a.issubset(b)) #부분 집합\n"
   ]
  },
  {
   "cell_type": "code",
   "execution_count": null,
   "metadata": {},
   "outputs": [],
   "source": [
    "#조건문(if,elif,else)\n",
    "#condition (조건문)\n",
    "\n",
    "if 6>=5:\n",
    "    print(\"6 is greater than 5\")\n",
    "    print(\"yeah, it is true\")\n",
    "print (\"This code is not belongs to if statements\")\n",
    "    "
   ]
  },
  {
   "cell_type": "code",
   "execution_count": null,
   "metadata": {},
   "outputs": [],
   "source": [
    "if 6==5 : \n",
    "    print(\"6 is greater than 5\")\n",
    "    print(\"yeah, it is true\")\n",
    "    \n",
    "print(\"this code does not belong to if statements\")"
   ]
  },
  {
   "cell_type": "code",
   "execution_count": null,
   "metadata": {},
   "outputs": [],
   "source": [
    "a = [1,10,9,24,25,26]\n",
    "i=0\n",
    "while i <len(a):\n",
    "    if a[i] > 20 :\n",
    "        print (a[i])\n",
    "    i += 1\n",
    "        "
   ]
  },
  {
   "cell_type": "code",
   "execution_count": null,
   "metadata": {},
   "outputs": [],
   "source": [
    "a = [1,10,9,24,25,26]\n",
    "i=0\n",
    "while i <len(a):\n",
    "    if a[i]%2 != 0 :\n",
    "        print (a[i])\n",
    "    else : print(a[i]/2)\n",
    "    i += 1\n"
   ]
  },
  {
   "cell_type": "code",
   "execution_count": null,
   "metadata": {},
   "outputs": [],
   "source": [
    "while True:\n",
    "    print('haha') #무한루프 => 작성을 안하는게 좋음\n",
    "#break:loop를 강제적으로 끝내기\n",
    "a = [1,10,9,24,25,26]\n",
    "\n",
    "i=0\n",
    "while i < len(a) :\n",
    "    print(a[i])\n",
    "    if a[i]>20:\n",
    "        break\n",
    "    i+=1"
   ]
  },
  {
   "cell_type": "code",
   "execution_count": null,
   "metadata": {},
   "outputs": [],
   "source": [
    "while True : \n",
    "    data = crawl() #범위가 어떻게 되는지 모를때! \n",
    "    if data ==None:\n",
    "        break\n",
    "    print(data)\n",
    "    "
   ]
  },
  {
   "cell_type": "code",
   "execution_count": null,
   "metadata": {},
   "outputs": [],
   "source": [
    "a = 7\n",
    "while a >0:\n",
    "    a-=1\n",
    "    if a ==5:\n",
    "        continue\n",
    "    print(a)"
   ]
  },
  {
   "cell_type": "markdown",
   "metadata": {},
   "source": [
    "# 1-100까지 더하기"
   ]
  },
  {
   "cell_type": "code",
   "execution_count": null,
   "metadata": {},
   "outputs": [],
   "source": [
    "num = 1\n",
    "_sum = 0\n",
    "\n",
    "while num <=100:\n",
    "    _sum += num\n",
    "    num+=1\n",
    "print(_sum)"
   ]
  },
  {
   "cell_type": "code",
   "execution_count": null,
   "metadata": {},
   "outputs": [],
   "source": [
    "#for 구문쓰면서 어떻게 반복문 ?\n",
    "a = [1,2,4,3,5]\n",
    "for i in a:\n",
    "    print(i, i*2)\n",
    "    "
   ]
  },
  {
   "cell_type": "code",
   "execution_count": null,
   "metadata": {},
   "outputs": [],
   "source": [
    "a = \"hello world\"\n",
    "for character in a :\n",
    "    print (character)"
   ]
  },
  {
   "cell_type": "code",
   "execution_count": null,
   "metadata": {},
   "outputs": [],
   "source": [
    "a = [1,10,3,4,5]\n",
    "for num in a :\n",
    "    if a %2 ==0 :\n",
    "        print(num/2)\n",
    "    else:\n",
    "    print(num+1)"
   ]
  },
  {
   "cell_type": "code",
   "execution_count": null,
   "metadata": {},
   "outputs": [],
   "source": [
    "#dict : {}\n",
    "\n",
    "a = {\"korea\": \"seoul\", \"japan\" : \"tokyo\", \"canada\" : \"ottawa\"}\n",
    "for k in a :\n",
    "    print(k, a[k])\n",
    "##key, value"
   ]
  },
  {
   "cell_type": "code",
   "execution_count": null,
   "metadata": {},
   "outputs": [],
   "source": [
    "for value in a.values():\n",
    "    print(value)\n",
    "    \n",
    "for a,b in a.items()\n",
    "list(a.items())"
   ]
  },
  {
   "cell_type": "code",
   "execution_count": null,
   "metadata": {},
   "outputs": [],
   "source": [
    "#for 에서 index 이용하기\n",
    "a = [1,2,3,4,5]\n",
    "for index, num in enumerate(a):\n",
    "    print(index,num)\n",
    "#중요!! \"enumerate함수 이용 : 인덱스와 모든 값 구하는게 가능!\""
   ]
  },
  {
   "cell_type": "code",
   "execution_count": null,
   "metadata": {},
   "outputs": [],
   "source": [
    "#break\n",
    "a = [100,90,80,70,60,50]\n",
    "for num in a :\n",
    "    if num <80:\n",
    "        break\n",
    "        \n",
    "    print(num)\n",
    "    "
   ]
  },
  {
   "cell_type": "code",
   "execution_count": null,
   "metadata": {},
   "outputs": [],
   "source": [
    "a = [100,90,80,70,60,50]\n",
    "for num in a :\n",
    "    if num >= 60 and num <= 70:\n",
    "        continue\n",
    "        print(num)"
   ]
  },
  {
   "cell_type": "code",
   "execution_count": null,
   "metadata": {},
   "outputs": [],
   "source": [
    "#loop중첩\n",
    "a = [1,2,4]\n",
    "for i in a:\n",
    "    for j in a:\n",
    "        print (i*j)"
   ]
  },
  {
   "cell_type": "markdown",
   "metadata": {},
   "source": [
    "#구구단출력하기\n",
    "2*1=2\n",
    "2*2=4\n",
    "2*3=6\n",
    "...\n",
    "2*9=18\n",
    "3*1=3\n",
    "...\n",
    "9*1=9\n",
    "9*9=81\n",
    "\n",
    "\n",
    "\n"
   ]
  },
  {
   "cell_type": "code",
   "execution_count": null,
   "metadata": {},
   "outputs": [],
   "source": [
    "a = range(2,9)\n",
    "b = range(1,9)\n",
    "\n",
    "for i in a:\n",
    "    for j in b:\n",
    "        print(i, 'x', j, '=', i*j)    "
   ]
  },
  {
   "cell_type": "code",
   "execution_count": null,
   "metadata": {},
   "outputs": [],
   "source": [
    "#collection의 길이\n",
    "a - [1,2,3,4,5]\n",
    "len(a)"
   ]
  },
  {
   "cell_type": "code",
   "execution_count": null,
   "metadata": {},
   "outputs": [],
   "source": [
    "ragne(10)\n",
    "list(range(1,10))\n",
    "\n",
    "list(range(1,101,5)) #5의 배수를 같은 것을 생성함!"
   ]
  },
  {
   "cell_type": "code",
   "execution_count": null,
   "metadata": {},
   "outputs": [],
   "source": [
    "a = range(1,10)\n",
    "b = range(2,10)\n",
    "\n",
    "for i in a :\n",
    "    for o in b : \n",
    "        print (str(i) + \"x\" + str(o) + \"=\" + str(i*o))\n",
    "\n",
    "#쌤이 한거\n",
    "x =2\n",
    "while x <= 9:\n",
    "    y = 1\n",
    "    while y<=9:\n",
    "        print (str(i) + \"x\" + str(o) + \"=\" + str(i*o))\n",
    "        y +=1\n",
    "    x+= 1\n",
    "\n",
    "\n",
    "nums = list(range(1,101))\n",
    "for x in nums:\n",
    "    if x%2 ==0 or x%11 ==0 :\n",
    "        print(x)\n",
    "\n",
    "# a = [22,1,3,4,6,98,21,55,87,99,19,20,45]\n",
    "# a.sort()\n",
    "# a[-1], a[0]\n",
    " \n",
    "\n",
    "#처음 만나는 값을 최소 값으로 지정\n",
    "#그리고 그 후 숫자를 만날때마다 현재 최소값보다 그 숫자가 작으면 최소값을 그 숫자로 업데이트\n",
    "a = [22,1,3,4,6,98,21,55,87,99,19,20,45]\n",
    "_min = a[0]\n",
    "_max = a[0]\n",
    "for x in a:\n",
    "    if x < _min:\n",
    "        _min = x\n",
    "    if x > _max:\n",
    "        _max = x\n",
    "print(_min, _max)\n"
   ]
  },
  {
   "cell_type": "code",
   "execution_count": 1,
   "metadata": {},
   "outputs": [
    {
     "name": "stdout",
     "output_type": "stream",
     "text": [
      "1 99\n"
     ]
    }
   ],
   "source": [
    "#처음 만나는 값을 최소 값으로 지정\n",
    "#그리고 그 후 숫자를 만날때마다 현재 최소값보다 그 숫자가 작으면 최소값을 그 숫자로 업데이트\n",
    "a = [22,1,3,4,6,98,21,55,87,99,19,20,45]\n",
    "_min = a[0]\n",
    "_max = a[0]\n",
    "for x in a:\n",
    "    if x < _min:\n",
    "        _min = x\n",
    "    if x > _max:\n",
    "        _max = x\n",
    "print(_min, _max)\n"
   ]
  },
  {
   "cell_type": "code",
   "execution_count": 4,
   "metadata": {},
   "outputs": [
    {
     "name": "stdout",
     "output_type": "stream",
     "text": [
      "36.92307692307692\n"
     ]
    }
   ],
   "source": [
    "a = [22,1,3,4,6,98,21,55,87,99,19,20,45]\n",
    "#while\n",
    "_sum=0\n",
    "i= 0\n",
    "while i < len(a) :\n",
    "    _sum+=a[i]\n",
    "    i +=1\n",
    "\n",
    "print(_sum/len(a))"
   ]
  },
  {
   "cell_type": "code",
   "execution_count": null,
   "metadata": {},
   "outputs": [],
   "source": [
    "#for\n",
    "_sum = 0\n",
    "for x in a:\n",
    "    _sum +=x\n",
    "print(_sum/len(a))"
   ]
  },
  {
   "cell_type": "code",
   "execution_count": 7,
   "metadata": {},
   "outputs": [
    {
     "name": "stdout",
     "output_type": "stream",
     "text": [
      "4\n",
      "10\n"
     ]
    }
   ],
   "source": [
    "#함수의 이해 및 사용(코드의 재사용1)\n",
    "#내장 함수의 예\n",
    "a = [1,2,3,4]\n",
    "length = len(a)\n",
    "print(length)\n",
    "\n",
    "summation = sum(a)\n",
    "print(summation)"
   ]
  },
  {
   "cell_type": "markdown",
   "metadata": {},
   "source": [
    "#함수의 정의\n",
    "#정의 시 최초 def 키워드 사용\n",
    "argument 정의 : 함수에 입력으로 전달하는 값을 의미, argument or parameter라고 칭함\n",
    ":(콜론) -> 함수 역시 코드 블록이기 때문에 콜론(:) 필요\n",
    "body (함수의 구현 부분, 함수 역시 코드 블록이기 때문에 들여쓰기 된 부분까지 함수의 코드블록으로 인지함)\n",
    "-> 함수를 호출한 코드 (caller)로 함수가 해당 기능을 수행하고 완료된 값(output)을 전달하기 위해 return키워드 사용\n",
    "즉, return 이후에 오는 값을 caller로 전달\n",
    "\n"
   ]
  },
  {
   "cell_type": "code",
   "execution_count": 11,
   "metadata": {},
   "outputs": [
    {
     "name": "stdout",
     "output_type": "stream",
     "text": [
      "330\n"
     ]
    }
   ],
   "source": [
    "def add(x,y):\n",
    "    n = x+y\n",
    "    return n\n",
    "\n",
    "l = len([1,2,3])\n",
    "c = add(30,300)\n",
    "print(c)"
   ]
  },
  {
   "cell_type": "code",
   "execution_count": 13,
   "metadata": {},
   "outputs": [
    {
     "name": "stdout",
     "output_type": "stream",
     "text": [
      "7\n"
     ]
    }
   ],
   "source": [
    "c = add(1,6)\n",
    "print(c)"
   ]
  },
  {
   "cell_type": "code",
   "execution_count": 15,
   "metadata": {},
   "outputs": [
    {
     "name": "stdout",
     "output_type": "stream",
     "text": [
      "10 80\n",
      "90\n"
     ]
    }
   ],
   "source": [
    "#parameter(argument)\n",
    "\n",
    "def test(x,y):\n",
    "    print(x,y)\n",
    "    n = x+y\n",
    "    return n\n",
    "a = test(10,80)\n",
    "print(a)"
   ]
  },
  {
   "cell_type": "code",
   "execution_count": 17,
   "metadata": {},
   "outputs": [
    {
     "data": {
      "text/plain": [
       "8"
      ]
     },
     "execution_count": 17,
     "metadata": {},
     "output_type": "execute_result"
    }
   ],
   "source": [
    "#default parameter(기본인자)\n",
    "def add(x,y,z=5) :\n",
    "    a = x+y+z\n",
    "    return a\n",
    "add(1,2,3)\n",
    "add(1,2)"
   ]
  },
  {
   "cell_type": "code",
   "execution_count": 20,
   "metadata": {},
   "outputs": [
    {
     "name": "stdout",
     "output_type": "stream",
     "text": [
      "1!2!3%%%2p3p4\n"
     ]
    }
   ],
   "source": [
    "print(1,2,3, sep='!', end = '%%%')\n",
    "print(2,3,4, sep = 'p')\n"
   ]
  },
  {
   "cell_type": "code",
   "execution_count": null,
   "metadata": {},
   "outputs": [],
   "source": []
  },
  {
   "cell_type": "code",
   "execution_count": 21,
   "metadata": {},
   "outputs": [
    {
     "data": {
      "text/plain": [
       "6"
      ]
     },
     "execution_count": 21,
     "metadata": {},
     "output_type": "execute_result"
    }
   ],
   "source": [
    "def test(x,y,z) :\n",
    "    a = x+y+z\n",
    "    return a\n",
    "test(1,2,3)"
   ]
  },
  {
   "cell_type": "code",
   "execution_count": 22,
   "metadata": {},
   "outputs": [
    {
     "data": {
      "text/plain": [
       "15"
      ]
     },
     "execution_count": 22,
     "metadata": {},
     "output_type": "execute_result"
    }
   ],
   "source": [
    "#return : end // \n",
    "def weird_multiply(x,y) :\n",
    "    if x>10:\n",
    "        return x * y\n",
    "    return (x+2)*y\n",
    "weird_multiply(1,5)"
   ]
  },
  {
   "cell_type": "code",
   "execution_count": 24,
   "metadata": {},
   "outputs": [
    {
     "name": "stdout",
     "output_type": "stream",
     "text": [
      "<class 'tuple'>\n",
      "(23, 60)\n"
     ]
    }
   ],
   "source": [
    "#multiple return(복수 값 반환) - tuple (여러가지 들어있는거)\n",
    "def add_mul(x,y) :\n",
    "    s = x+y\n",
    "    m = x*y\n",
    "    \n",
    "    return s,m\n",
    "\n",
    "c = add_mul(20,3)\n",
    "print(type(c))\n",
    "print(c)"
   ]
  },
  {
   "cell_type": "code",
   "execution_count": 25,
   "metadata": {},
   "outputs": [
    {
     "name": "stdout",
     "output_type": "stream",
     "text": [
      "30 40\n",
      "10 30\n"
     ]
    }
   ],
   "source": [
    "#variable scope(변수의 범위)\n",
    "num1 =10 #(global)\n",
    "num2 =30\n",
    "\n",
    "def test(num1,num2):\n",
    "    print(num1,num2)#local\n",
    "    return num1 + num2\n",
    "test(30,40)\n",
    "print(num1,num2)\n"
   ]
  },
  {
   "cell_type": "code",
   "execution_count": 30,
   "metadata": {},
   "outputs": [
    {
     "name": "stdout",
     "output_type": "stream",
     "text": [
      "10\n",
      "20\n",
      "30\n"
     ]
    }
   ],
   "source": [
    "#variable length argument(전달되는 피라미터의 개수가 고정적이지 않은 경우)\n",
    "def test(*args):\n",
    "    for item in x:\n",
    "        print(item)\n",
    "\n",
    "test(10,20,30)\n"
   ]
  },
  {
   "cell_type": "code",
   "execution_count": 32,
   "metadata": {},
   "outputs": [
    {
     "name": "stdout",
     "output_type": "stream",
     "text": [
      "key: a value: 1\n"
     ]
    }
   ],
   "source": [
    "#keyword parameter(키워드 파라미터)\n",
    "def test2(**kwargs):\n",
    "    for key, value in x.items():\n",
    "        print('key:', key, 'value:', value)\n",
    "test2(a=1)"
   ]
  },
  {
   "cell_type": "code",
   "execution_count": 37,
   "metadata": {},
   "outputs": [
    {
     "ename": "SyntaxError",
     "evalue": "EOL while scanning string literal (<ipython-input-37-724bd7a13b7f>, line 2)",
     "output_type": "error",
     "traceback": [
      "\u001b[1;36m  File \u001b[1;32m\"<ipython-input-37-724bd7a13b7f>\"\u001b[1;36m, line \u001b[1;32m2\u001b[0m\n\u001b[1;33m    a = '오늘 온도:{today_temp}도, 강수확률은 {today_prob}% \"\"\"\u001b[0m\n\u001b[1;37m                                                     ^\u001b[0m\n\u001b[1;31mSyntaxError\u001b[0m\u001b[1;31m:\u001b[0m EOL while scanning string literal\n"
     ]
    }
   ],
   "source": [
    "#문자열포맷함수 https://pyformat.info/\n",
    "a = '오늘 온도:{today_temp}도, 강수확률은 {today_prob}% \"\"\"\n",
    "내일온도 : {tomorrow_temp}도'\"\"\".format(20, 50, 23)\n",
    "\n",
    "print(a)"
   ]
  },
  {
   "cell_type": "code",
   "execution_count": 38,
   "metadata": {},
   "outputs": [
    {
     "data": {
      "text/plain": [
       "25"
      ]
     },
     "execution_count": 38,
     "metadata": {},
     "output_type": "execute_result"
    }
   ],
   "source": [
    "#lambda함수의 이해(simple -> 한글로 정의할 수 있음)한줄로 표현될 수 있음\n",
    "\n",
    "square = lambda x:x**2\n",
    "square(5)\n"
   ]
  },
  {
   "cell_type": "code",
   "execution_count": 41,
   "metadata": {},
   "outputs": [
    {
     "data": {
      "text/plain": [
       "30"
      ]
     },
     "execution_count": 41,
     "metadata": {},
     "output_type": "execute_result"
    }
   ],
   "source": [
    "def add(x,y):\n",
    "    return x+y\n",
    "\n",
    "add2 = lambda x,y:x+y\n",
    "add2(10,20)"
   ]
  },
  {
   "cell_type": "code",
   "execution_count": 45,
   "metadata": {},
   "outputs": [
    {
     "name": "stdout",
     "output_type": "stream",
     "text": [
      "['bob', 'teddy', 'charles', 'alexander3']\n"
     ]
    }
   ],
   "source": [
    "strings = ['bob','charles','alexander3','teddy']\n",
    "strings.sort(key=lambda s:len(s))\n",
    "print(strings)"
   ]
  },
  {
   "cell_type": "code",
   "execution_count": 49,
   "metadata": {},
   "outputs": [
    {
     "data": {
      "text/plain": [
       "[2, 6, 8]"
      ]
     },
     "execution_count": 49,
     "metadata": {},
     "output_type": "execute_result"
    }
   ],
   "source": [
    "#filter, map, reduce\n",
    "\n",
    "#filter(함수, 리스트)\n",
    "def even(n):\n",
    "    return n%2 ==0\n",
    "even(3)\n",
    "\n",
    "nums = [1,2,3,6,8,9]\n",
    "list(filter(lambda n:n%2==0, nums))"
   ]
  },
  {
   "cell_type": "code",
   "execution_count": 50,
   "metadata": {},
   "outputs": [
    {
     "data": {
      "text/plain": [
       "[1, 4, 9, 36, 64, 81, 100, 121, 169, 225]"
      ]
     },
     "execution_count": 50,
     "metadata": {},
     "output_type": "execute_result"
    }
   ],
   "source": [
    "#map\n",
    "#주어진 리스트, 리스트의 제곱을한 숫자로 새로운 리스트\n",
    "nums = [1,2,3,6,8,9,10,11,13,15]\n",
    "list(map(lambda n:n**2, nums))"
   ]
  },
  {
   "cell_type": "code",
   "execution_count": 51,
   "metadata": {},
   "outputs": [
    {
     "data": {
      "text/plain": [
       "[False, True, False, True, True, False, True, False, False, False]"
      ]
     },
     "execution_count": 51,
     "metadata": {},
     "output_type": "execute_result"
    }
   ],
   "source": [
    "list(map(lambda n:n%2==0, nums))"
   ]
  },
  {
   "cell_type": "code",
   "execution_count": 53,
   "metadata": {},
   "outputs": [
    {
     "data": {
      "text/plain": [
       "17"
      ]
     },
     "execution_count": 53,
     "metadata": {},
     "output_type": "execute_result"
    }
   ],
   "source": [
    "#reduce\n",
    "import functools \n",
    "a = [1,3,5,8]\n",
    "# 리스트 내의 모든 숫자의 합\n",
    "functools.reduce(lambda x,y:x+y,a)\n"
   ]
  },
  {
   "cell_type": "code",
   "execution_count": 55,
   "metadata": {
    "scrolled": true
   },
   "outputs": [
    {
     "name": "stdout",
     "output_type": "stream",
     "text": [
      "5.5\n",
      "2.0\n"
     ]
    }
   ],
   "source": [
    "#함수연습문제\n",
    "#주어진 숫자 리스트의 평균을 구하는 함수를 출력하시오.\n",
    "\n",
    "_sum=0\n",
    "a = [1,2,3,4,5,6,7,8,9,10]\n",
    "for x in a:\n",
    "    _sum+=x\n",
    "print(_sum/len(a))\n",
    "\n",
    "#입력 : 숫자리스트\n",
    "#출력 : 숫자리스트의 평균값\n",
    "\n",
    "def mean(nums):\n",
    "#     _sum=0\n",
    "#     for x in nums:\n",
    "#         _sum += x\n",
    "    return sum / len(nums)\n",
    "\n",
    "print(mean([1,2,3]))"
   ]
  },
  {
   "cell_type": "code",
   "execution_count": 59,
   "metadata": {},
   "outputs": [
    {
     "name": "stdout",
     "output_type": "stream",
     "text": [
      "False\n",
      "True\n"
     ]
    }
   ],
   "source": [
    "#해당숫자가소수인지아닌지판별하시오.\n",
    "#입력 : 양의 정수1개\n",
    "#출력 : boolean (소수 : true, 합성수 : false)\n",
    "\n",
    "def is_prime(num) :\n",
    "    for i in range(2, num):\n",
    "        if num % i ==0\n",
    "            return False\n",
    "    return True\n",
    "print(is_prime(100))\n",
    "print(is_prime(89))"
   ]
  },
  {
   "cell_type": "code",
   "execution_count": 60,
   "metadata": {},
   "outputs": [
    {
     "data": {
      "text/plain": [
       "4"
      ]
     },
     "execution_count": 60,
     "metadata": {},
     "output_type": "execute_result"
    }
   ],
   "source": [
    "#2부터 해당 숫자사이에 소수가 몇개인지 출력하는 함수를 구하시오. \n",
    "#입력 : 양의 정수 1개\n",
    "#출력 : 2- 해당 숫자 사이의 소수의 개수\n",
    "\n",
    "def num_prime(num) :\n",
    "    count = 0\n",
    "    for i in range(2, num+1):\n",
    "        if is_prime(i) :\n",
    "            count +=1\n",
    "    return count\n",
    "\n",
    "num_prime(7)\n"
   ]
  },
  {
   "cell_type": "markdown",
   "metadata": {},
   "source": [
    "모듈의 이해 및 사용\n",
    "\n",
    "그동안 사용했던 함수들 처럼, 다양한 기능들이 미리 함수로 구현되어 모듈 형태로 제공\n",
    "대표적으로 추후 과정에서 사용하게 될 아래의 모듈들이 존재\n",
    "requests - HTTP 요청/응답 모듈\n",
    "numpy - 수치해석 모듈\n",
    "pandas - 데이터 분석 모듈\n",
    "\n"
   ]
  },
  {
   "cell_type": "code",
   "execution_count": 63,
   "metadata": {},
   "outputs": [
    {
     "data": {
      "text/plain": [
       "'\\n<!doctype html>                <html lang=\"ko\" data-dark=\"false\"> <head> <meta charset=\"utf-8\"> <title>NAVER</title> <meta http-equiv=\"X-UA-Compatible\" content=\"IE=edge\"> <meta name=\"viewport\" content=\"width=1190\"> <meta name=\"apple-mobile-web-app-title\" content=\"NAVER\"/> <meta name=\"robots\" content=\"index,nofollow\"/> <meta name=\"description\" content=\"네이버 메인에서 다양한 정보와 유용한 컨텐츠를 만나 보세요\"/> <meta property=\"og:title\" content=\"네이버\"> <meta property=\"og:url\" content=\"https://www.naver.com/\"> <meta property=\"og:image\" content=\"https://s.pstatic.net/static/www/mobile/edit/2016/0705/mobile_212852414260.png\"> <meta property=\"og:description\" content=\"네이버 메인에서 다양한 정보와 유용한 컨텐츠를 만나 보세요\"/> <meta name=\"twitter:card\" content=\"summary\"> <meta name=\"twitter:title\" content=\"\"> <meta name=\"twitter:url\" content=\"https://www.naver.com/\"> <meta name=\"twitter:image\" content=\"https://s.pstatic.net/static/www/mobile/edit/2016/0705/mobile_212852414260.png\"> <meta name=\"twitter:description\" content=\"네이버 메인에서 다양한 정보와 유용한 컨텐츠를 만나 보세요\"/>  <link rel=\"stylesheet\" href=\"https://pm.pstatic.net/dist/css/nmain.20210224.css\"> <link rel=\"stylesheet\" href=\"https://ssl.pstatic.net/sstatic/search/pc/css/sp_autocomplete_210318.css\"> <link rel=\"shortcut icon\" type=\"image/x-icon\" href=\"/favicon.ico?1\"/>  <link rel=\"apple-touch-icon\" sizes=\"114x114\" href=\"https://s.pstatic.net/static/www/u/2014/0328/mma_204243574.png\"/> <link rel=\"apple-touch-icon\" href=\"https://s.pstatic.net/static/www/u/2014/0328/mma_20432863.png\"/> <script>document.domain=\"naver.com\",window.nmain=window.nmain||{},window.nmain.supportFlicking=!1;var nsc=\"navertop.v4\",ua=navigator.userAgent;window.nmain.isIE=navigator.appName&&navigator.appName.indexOf(\"Explorer\")>0&&ua.toLocaleLowerCase().indexOf(\"msie 10.0\")<0,document.getElementsByTagName(\"html\")[0].setAttribute(\"data-useragent\",ua),window.nmain.isIE&&(Object.create=function(n){function a(){}return a.prototype=n,new a})</script> <script>var darkmode= false;window.naver_corp_da=window.naver_corp_da||{main:{}},window.naver_corp_da.main=window.naver_corp_da.main||{},window.naver_corp_da.main.darkmode=darkmode</script> <script> window.nmain.gv = {  isLogin: false,\\nuseId: null,   daInfo: {\"ANIMAL\":{\"menu\":\"ANIMAL\",\"childMenu\":\"\",\"adType\":\"singleDom\",\"multiDomAdUrl\":\"\",\"multiDomUnit\":\"\",\"infoList\":[{\"adposId\":\"1000161\",\"singleDomAdUrl\":\"https://siape.veta.naver.com/fxshow\",\"param\":{\"da_dom_id\":\"p_main_animal_1\",\"tb\":\"ANIMAL_1\",\"unit\":\"SU10567\",\"calp\":\"-\"},\"type\":{\"position\":\"abs\",\"positionIndex\":4,\"subject\":\"contents\"},\"dom\":null},{\"adposId\":\"1000162\",\"singleDomAdUrl\":\"https://siape.veta.naver.com/fxshow\",\"param\":{\"da_dom_id\":\"p_main_animal_2\",\"tb\":\"ANIMAL_1\",\"unit\":\"SU10568\",\"calp\":\"-\"},\"type\":{\"position\":\"abs\",\"positionIndex\":8,\"subject\":\"contents\"},\"dom\":null}]},\"BEAUTY\":{\"menu\":\"BEAUTY\",\"childMenu\":\"\",\"adType\":\"singleDom\",\"multiDomAdUrl\":\"\",\"multiDomUnit\":\"\",\"infoList\":[{\"adposId\":\"1000163\",\"singleDomAdUrl\":\"https://siape.veta.naver.com/fxshow\",\"param\":{\"da_dom_id\":\"p_main_beauty_1\",\"tb\":\"BEAUTY_1\",\"unit\":\"SU10595\",\"calp\":\"-\"},\"type\":{\"position\":\"abs\",\"positionIndex\":4,\"subject\":\"contents\"},\"dom\":null},{\"adposId\":\"1000164\",\"singleDomAdUrl\":\"https://siape.veta.naver.com/fxshow\",\"param\":{\"da_dom_id\":\"p_main_beauty_2\",\"tb\":\"BEAUTY_1\",\"unit\":\"SU10596\",\"calp\":\"-\"},\"type\":{\"position\":\"abs\",\"positionIndex\":8,\"subject\":\"contents\"},\"dom\":null}]},\"BUSINESS\":{\"menu\":\"BUSINESS\",\"childMenu\":\"\",\"adType\":\"singleDom\",\"multiDomAdUrl\":\"\",\"multiDomUnit\":\"\",\"infoList\":[{\"adposId\":\"1000165\",\"singleDomAdUrl\":\"https://siape.veta.naver.com/fxshow\",\"param\":{\"da_dom_id\":\"p_main_business_1\",\"tb\":\"BUSINESS_1\",\"unit\":\"SU10577\",\"calp\":\"-\"},\"type\":{\"position\":\"abs\",\"positionIndex\":4,\"subject\":\"contents\"},\"dom\":null},{\"adposId\":\"1000166\",\"singleDomAdUrl\":\"https://siape.veta.naver.com/fxshow\",\"param\":{\"da_dom_id\":\"p_main_business_2\",\"tb\":\"BUSINESS_1\",\"unit\":\"SU10578\",\"calp\":\"-\"},\"type\":{\"position\":\"abs\",\"positionIndex\":8,\"subject\":\"contents\"},\"dom\":null}]},\"CARGAME\":{\"menu\":\"CARGAME\",\"childMenu\":\"\",\"adType\":\"singleDom\",\"multiDomAdUrl\":\"\",\"multiDomUnit\":\"\",\"infoList\":[{\"adposId\":\"1000167\",\"singleDomAdUrl\":\"https://siape.veta.naver.com/fxshow\",\"param\":{\"da_dom_id\":\"p_main_cargame_1\",\"tb\":\"CARGAME_1\",\"unit\":\"SU10587\",\"calp\":\"-\"},\"type\":{\"position\":\"abs\",\"positionIndex\":4,\"subject\":\"contents\"},\"dom\":null},{\"adposId\":\"1000168\",\"singleDomAdUrl\":\"https://siape.veta.naver.com/fxshow\",\"param\":{\"da_dom_id\":\"p_main_cargame_2\",\"tb\":\"CARGAME_1\",\"unit\":\"SU10588\",\"calp\":\"-\"},\"type\":{\"position\":\"abs\",\"positionIndex\":8,\"subject\":\"contents\"},\"dom\":null}]},\"CHINA\":{\"menu\":\"CHINA\",\"childMenu\":\"\",\"adType\":\"singleDom\",\"multiDomAdUrl\":\"\",\"multiDomUnit\":\"\",\"infoList\":[{\"adposId\":\"1000169\",\"singleDomAdUrl\":\"https://siape.veta.naver.com/fxshow\",\"param\":{\"da_dom_id\":\"p_main_china_1\",\"tb\":\"CHINA_1\",\"unit\":\"SU10591\",\"calp\":\"-\"},\"type\":{\"position\":\"abs\",\"positionIndex\":4,\"subject\":\"contents\"},\"dom\":null},{\"adposId\":\"1000170\",\"singleDomAdUrl\":\"https://siape.veta.naver.com/fxshow\",\"param\":{\"da_dom_id\":\"p_main_china_2\",\"tb\":\"CHINA_1\",\"unit\":\"SU10592\",\"calp\":\"-\"},\"type\":{\"position\":\"abs\",\"positionIndex\":8,\"subject\":\"contents\"},\"dom\":null}]},\"DESIGN\":{\"menu\":\"DESIGN\",\"childMenu\":\"\",\"adType\":\"singleDom\",\"multiDomAdUrl\":\"\",\"multiDomUnit\":\"\",\"infoList\":[{\"adposId\":\"1000171\",\"singleDomAdUrl\":\"https://siape.veta.naver.com/fxshow\",\"param\":{\"da_dom_id\":\"p_main_design_1\",\"tb\":\"DESIGN_1\",\"unit\":\"SU10569\",\"calp\":\"-\"},\"type\":{\"position\":\"abs\",\"positionIndex\":4,\"subject\":\"contents\"},\"dom\":null},{\"adposId\":\"1000172\",\"singleDomAdUrl\":\"https://siape.veta.naver.com/fxshow\",\"param\":{\"da_dom_id\":\"p_main_design_2\",\"tb\":\"DESIGN_1\",\"unit\":\"SU10570\",\"calp\":\"-\"},\"type\":{\"position\":\"abs\",\"positionIndex\":8,\"subject\":\"contents\"},\"dom\":null}]},\"FARM\":{\"menu\":\"FARM\",\"childMenu\":\"\",\"adType\":\"singleDom\",\"multiDomAdUrl\":\"\",\"multiDomUnit\":\"\",\"infoList\":[{\"adposId\":\"1000173\",\"singleDomAdUrl\":\"https://siape.veta.naver.com/fxshow\",\"param\":{\"da_dom_id\":\"p_main_farm_1\",\"tb\":\"FARM_1\",\"unit\":\"SU10561\",\"calp\":\"-\"},\"type\":{\"position\":\"abs\",\"positionIndex\":4,\"subject\":\"contents\"},\"dom\":null},{\"adposId\":\"1000174\",\"singleDomAdUrl\":\"https://siape.veta.naver.com/fxshow\",\"param\":{\"da_dom_id\":\"p_main_farm_2\",\"tb\":\"FARM_1\",\"unit\":\"SU10562\",\"calp\":\"-\"},\"type\":{\"position\":\"abs\",\"positionIndex\":8,\"subject\":\"contents\"},\"dom\":null}]},\"FINANCE\":{\"menu\":\"FINANCE\",\"childMenu\":\"\",\"adType\":\"singleDom\",\"multiDomAdUrl\":\"\",\"multiDomUnit\":\"\",\"infoList\":[{\"adposId\":\"1000175\",\"singleDomAdUrl\":\"https://siape.veta.naver.com/fxshow\",\"param\":{\"da_dom_id\":\"p_main_finance_1\",\"tb\":\"FINANCE_1\",\"unit\":\"SU10563\",\"calp\":\"-\"},\"type\":{\"position\":\"abs\",\"positionIndex\":4,\"subject\":\"contents\"},\"dom\":null},{\"adposId\":\"1000176\",\"singleDomAdUrl\":\"https://siape.veta.naver.com/fxshow\",\"param\":{\"da_dom_id\":\"p_main_finance_2\",\"tb\":\"FINANCE_1\",\"unit\":\"SU10564\",\"calp\":\"-\"},\"type\":{\"position\":\"abs\",\"positionIndex\":8,\"subject\":\"contents\"},\"dom\":null}]},\"ITTECH\":{\"menu\":\"ITTECH\",\"childMenu\":\"\",\"adType\":\"singleDom\",\"multiDomAdUrl\":\"\",\"multiDomUnit\":\"\",\"infoList\":[{\"adposId\":\"1000177\",\"singleDomAdUrl\":\"https://siape.veta.naver.com/fxshow\",\"param\":{\"da_dom_id\":\"p_main_ittech_1\",\"tb\":\"ITTECH_1\",\"unit\":\"SU10593\",\"calp\":\"-\"},\"type\":{\"position\":\"abs\",\"positionIndex\":4,\"subject\":\"contents\"},\"dom\":null},{\"adposId\":\"1000178\",\"singleDomAdUrl\":\"https://siape.veta.naver.com/fxshow\",\"param\":{\"da_dom_id\":\"p_main_ittech_2\",\"tb\":\"ITTECH_1\",\"unit\":\"SU10594\",\"calp\":\"-\"},\"type\":{\"position\":\"abs\",\"positionIndex\":8,\"subject\":\"contents\"},\"dom\":null}]},\"JOB\":{\"menu\":\"JOB\",\"childMenu\":\"\",\"adType\":\"singleDom\",\"multiDomAdUrl\":\"\",\"multiDomUnit\":\"\",\"infoList\":[{\"adposId\":\"1000179\",\"singleDomAdUrl\":\"https://siape.veta.naver.com/fxshow\",\"param\":{\"da_dom_id\":\"p_main_job_1\",\"tb\":\"JOB_1\",\"unit\":\"SU10589\",\"calp\":\"-\"},\"type\":{\"position\":\"abs\",\"positionIndex\":4,\"subject\":\"contents\"},\"dom\":null},{\"adposId\":\"1000180\",\"singleDomAdUrl\":\"https://siape.veta.naver.com/fxshow\",\"param\":{\"da_dom_id\":\"p_main_job_2\",\"tb\":\"JOB_1\",\"unit\":\"SU10590\",\"calp\":\"-\"},\"type\":{\"position\":\"abs\",\"positionIndex\":8,\"subject\":\"contents\"},\"dom\":null}]},\"LAW\":{\"menu\":\"LAW\",\"childMenu\":\"\",\"adType\":\"singleDom\",\"multiDomAdUrl\":\"\",\"multiDomUnit\":\"\",\"infoList\":[{\"adposId\":\"1000181\",\"singleDomAdUrl\":\"https://siape.veta.naver.com/fxshow\",\"param\":{\"da_dom_id\":\"p_main_law_1\",\"tb\":\"LAW_1\",\"unit\":\"SU10573\",\"calp\":\"-\"},\"type\":{\"position\":\"abs\",\"positionIndex\":4,\"subject\":\"contents\"},\"dom\":null},{\"adposId\":\"1000182\",\"singleDomAdUrl\":\"https://siape.veta.naver.com/fxshow\",\"param\":{\"da_dom_id\":\"p_main_law_2\",\"tb\":\"LAW_1\",\"unit\":\"SU10574\",\"calp\":\"-\"},\"type\":{\"position\":\"abs\",\"positionIndex\":8,\"subject\":\"contents\"},\"dom\":null}]},\"LIVING\":{\"menu\":\"LIVING\",\"childMenu\":\"\",\"adType\":\"singleDom\",\"multiDomAdUrl\":\"\",\"multiDomUnit\":\"\",\"infoList\":[{\"adposId\":\"1000183\",\"singleDomAdUrl\":\"https://siape.veta.naver.com/fxshow\",\"param\":{\"da_dom_id\":\"p_main_living_1\",\"tb\":\"LIVING_1\",\"unit\":\"SU10597\",\"calp\":\"-\"},\"type\":{\"position\":\"abs\",\"positionIndex\":4,\"subject\":\"contents\"},\"dom\":null},{\"adposId\":\"1000184\",\"singleDomAdUrl\":\"https://siape.veta.naver.com/fxshow\",\"param\":{\"da_dom_id\":\"p_main_living_2\",\"tb\":\"LIVING_1\",\"unit\":\"SU10606\",\"calp\":\"-\"},\"type\":{\"position\":\"abs\",\"positionIndex\":8,\"subject\":\"contents\"},\"dom\":null}]},\"LIVINGHOME\":{\"menu\":\"LIVINGHOME\",\"childMenu\":\"\",\"adType\":\"singleDom\",\"multiDomAdUrl\":\"\",\"multiDomUnit\":\"\",\"infoList\":[{\"adposId\":\"1000185\",\"singleDomAdUrl\":\"https://siape.veta.naver.com/fxshow\",\"param\":{\"da_dom_id\":\"p_main_livinghome_1\",\"tb\":\"LIVINGHOME_1\",\"unit\":\"SU10571\",\"calp\":\"-\"},\"type\":{\"position\":\"abs\",\"positionIndex\":4,\"subject\":\"contents\"},\"dom\":null},{\"adposId\":\"1000186\",\"singleDomAdUrl\":\"https://siape.veta.naver.com/fxshow\",\"param\":{\"da_dom_id\":\"p_main_livinghome_2\",\"tb\":\"LIVINGHOME_1\",\"unit\":\"SU10572\",\"calp\":\"-\"},\"type\":{\"position\":\"abs\",\"positionIndex\":8,\"subject\":\"contents\"},\"dom\":null}]},\"MOMKIDS\":{\"menu\":\"MOMKIDS\",\"childMenu\":\"\",\"adType\":\"singleDom\",\"multiDomAdUrl\":\"\",\"multiDomUnit\":\"\",\"infoList\":[{\"adposId\":\"1000187\",\"singleDomAdUrl\":\"https://siape.veta.naver.com/fxshow\",\"param\":{\"da_dom_id\":\"p_main_momkids_1\",\"tb\":\"MOMKIDS_1\",\"unit\":\"SU10575\",\"calp\":\"-\"},\"type\":{\"position\":\"abs\",\"positionIndex\":4,\"subject\":\"contents\"},\"dom\":null},{\"adposId\":\"1000188\",\"singleDomAdUrl\":\"https://siape.veta.naver.com/fxshow\",\"param\":{\"da_dom_id\":\"p_main_momkids_2\",\"tb\":\"MOMKIDS_1\",\"unit\":\"SU10576\",\"calp\":\"-\"},\"type\":{\"position\":\"abs\",\"positionIndex\":8,\"subject\":\"contents\"},\"dom\":null}]},\"MOVIE\":{\"menu\":\"MOVIE\",\"childMenu\":\"\",\"adType\":\"singleDom\",\"multiDomAdUrl\":\"\",\"multiDomUnit\":\"\",\"infoList\":[{\"adposId\":\"1000189\",\"singleDomAdUrl\":\"https://siape.veta.naver.com/fxshow\",\"param\":{\"da_dom_id\":\"p_main_movie_1\",\"tb\":\"MOVIE_1\",\"unit\":\"SU10585\",\"calp\":\"-\"},\"type\":{\"position\":\"abs\",\"positionIndex\":4,\"subject\":\"contents\"},\"dom\":null},{\"adposId\":\"1000190\",\"singleDomAdUrl\":\"https://siape.veta.naver.com/fxshow\",\"param\":{\"da_dom_id\":\"p_main_movie_2\",\"tb\":\"MOVIE_1\",\"unit\":\"SU10586\",\"calp\":\"-\"},\"type\":{\"position\":\"abs\",\"positionIndex\":8,\"subject\":\"contents\"},\"dom\":null}]},\"SCHOOL\":{\"menu\":\"SCHOOL\",\"childMenu\":\"\",\"adType\":\"singleDom\",\"multiDomAdUrl\":\"\",\"multiDomUnit\":\"\",\"infoList\":[{\"adposId\":\"1000191\",\"singleDomAdUrl\":\"https://siape.veta.naver.com/fxshow\",\"param\":{\"da_dom_id\":\"p_main_school_1\",\"tb\":\"SCHOOL_1\",\"unit\":\"SU10579\",\"calp\":\"-\"},\"type\":{\"position\":\"abs\",\"positionIndex\":4,\"subject\":\"contents\"},\"dom\":null},{\"adposId\":\"1000192\",\"singleDomAdUrl\":\"https://siape.veta.naver.com/fxshow\",\"param\":{\"da_dom_id\":\"p_main_school_2\",\"tb\":\"SCHOOL_1\",\"unit\":\"SU10580\",\"calp\":\"-\"},\"type\":{\"position\":\"abs\",\"positionIndex\":8,\"subject\":\"contents\"},\"dom\":null}]},\"SHOW\":{\"menu\":\"SHOW\",\"childMenu\":\"\",\"adType\":\"singleDom\",\"multiDomAdUrl\":\"\",\"multiDomUnit\":\"\",\"infoList\":[{\"adposId\":\"1000193\",\"singleDomAdUrl\":\"https://siape.veta.naver.com/fxshow\",\"param\":{\"da_dom_id\":\"p_main_show_1\",\"tb\":\"SHOW_1\",\"unit\":\"SU10565\",\"calp\":\"-\"},\"type\":{\"position\":\"abs\",\"positionIndex\":4,\"subject\":\"contents\"},\"dom\":null},{\"adposId\":\"1000194\",\"singleDomAdUrl\":\"https://siape.veta.naver.com/fxshow\",\"param\":{\"da_dom_id\":\"p_main_show_2\",\"tb\":\"SHOW_1\",\"unit\":\"SU10566\",\"calp\":\"-\"},\"type\":{\"position\":\"abs\",\"positionIndex\":8,\"subject\":\"contents\"},\"dom\":null}]},\"TRAVEL\":{\"menu\":\"TRAVEL\",\"childMenu\":\"\",\"adType\":\"singleDom\",\"multiDomAdUrl\":\"\",\"multiDomUnit\":\"\",\"infoList\":[{\"adposId\":\"1000195\",\"singleDomAdUrl\":\"https://siape.veta.naver.com/fxshow\",\"param\":{\"da_dom_id\":\"p_main_travel_1\",\"tb\":\"TRAVEL_1\",\"unit\":\"SU10581\",\"calp\":\"-\"},\"type\":{\"position\":\"abs\",\"positionIndex\":4,\"subject\":\"contents\"},\"dom\":null},{\"adposId\":\"1000196\",\"singleDomAdUrl\":\"https://siape.veta.naver.com/fxshow\",\"param\":{\"da_dom_id\":\"p_main_travel_2\",\"tb\":\"TRAVEL_1\",\"unit\":\"SU10582\",\"calp\":\"-\"},\"type\":{\"position\":\"abs\",\"positionIndex\":8,\"subject\":\"contents\"},\"dom\":null}]},\"WEDDING\":{\"menu\":\"WEDDING\",\"childMenu\":\"\",\"adType\":\"singleDom\",\"multiDomAdUrl\":\"\",\"multiDomUnit\":\"\",\"infoList\":[{\"adposId\":\"1000197\",\"singleDomAdUrl\":\"https://siape.veta.naver.com/fxshow\",\"param\":{\"da_dom_id\":\"p_main_wedding_1\",\"tb\":\"WEDDING_1\",\"unit\":\"SU10583\",\"calp\":\"-\"},\"type\":{\"position\":\"abs\",\"positionIndex\":4,\"subject\":\"contents\"},\"dom\":null},{\"adposId\":\"1000198\",\"singleDomAdUrl\":\"https://siape.veta.naver.com/fxshow\",\"param\":{\"da_dom_id\":\"p_main_wedding_2\",\"tb\":\"WEDDING_1\",\"unit\":\"SU10584\",\"calp\":\"-\"},\"type\":{\"position\":\"abs\",\"positionIndex\":8,\"subject\":\"contents\"},\"dom\":null}]}},\\nsvt: 20210324173305,\\n}; </script> <script> window.nmain.newsstand = {\\nrcode: \\'11185106\\',\\nnewsCastSubsInfo: \\'\\',\\nnewsStandSubsInfo: \\'\\'\\n};\\nwindow.etc = {  };\\nwindow.svr = \"<!--cweb405-->\"; </script> <script src=\"https://ssl.pstatic.net/tveta/libs/assets/js/pc/main/min/pc.veta.core.min.js\" defer=\"defer\"></script> <script src=\"https://ssl.pstatic.net/tveta/libs/assets/js/common/min/probe.min.js\" defer=\"defer\"></script>   <script src=\"https://pm.pstatic.net/dist/js/external.1be451ae.js?o=www\" type=\"text/javascript\" crossorigin=\"anonymous\" defer=\"defer\"></script> <script src=\"https://pm.pstatic.net/dist/js/preload.6f271894.js?o=www\" type=\"text/javascript\" crossorigin=\"anonymous\" defer=\"defer\"></script> <script src=\"https://pm.pstatic.net/dist/js/polyfill_async.c6f27998.js?o=www\" type=\"text/javascript\" crossorigin=\"anonymous\" async></script>  <script src=\"https://pm.pstatic.net/dist/js/vendors~search.4db2eeeb.js?o=www\" type=\"text/javascript\" crossorigin=\"anonymous\" defer=\"defer\"></script>   <script src=\"https://pm.pstatic.net/dist/js/search.dcb73f6d.js?o=www\" type=\"text/javascript\" crossorigin=\"anonymous\" defer=\"defer\"></script>  <script src=\"https://pm.pstatic.net/dist/js/vendors~more~nmain~sidebar_notice.cd8eaf3c.js?o=www\" type=\"text/javascript\" crossorigin=\"anonymous\" defer=\"defer\"></script> <script src=\"https://pm.pstatic.net/dist/js/vendors~nmain.b342e165.js?o=www\" type=\"text/javascript\" crossorigin=\"anonymous\" defer=\"defer\"></script> <script src=\"https://pm.pstatic.net/dist/js/nmain.8f86af48.js?o=www\" type=\"text/javascript\" crossorigin=\"anonymous\" defer=\"defer\"></script> <style>:root{color-scheme:light}#_nx_kbd .setkorhelp a{display:none}</style> </head> <body> <div id=\"u_skip\"> <a href=\"#newsstand\"><span>뉴스스탠드 바로가기</span></a> <a href=\"#themecast\"><span>주제별캐스트 바로가기</span></a> <a href=\"#timesquare\"><span>타임스퀘어 바로가기</span></a> <a href=\"#shopcast\"><span>쇼핑캐스트 바로가기</span></a> <a href=\"#account\"><span>로그인 바로가기</span></a> </div> <div id=\"wrap\"> <style type=\"text/css\">._1syGnXOL{padding-right:18px;font-size:14px;line-height:0;letter-spacing:-.25px;color:#000}._1syGnXOL span,._1syGnXOL strong{line-height:49px}._1syGnXOL:before{display:inline-block;content:\"\";vertical-align:top;background-image:url(https://static-whale.pstatic.net/main/sprite-20201210@2x.png);background-repeat:no-repeat;background-size:114px 107px;width:18px;height:18px;margin:16px 8px 0 0;background-position:0 -89px}[data-useragent*=\"MSIE 8\"] ._1syGnXOL:before{background-image:url(https://static-whale.pstatic.net/main/sprite-20201210.png)}._1syGnXOL._3dsvmZg2:before{background-position:-68px -63px}._1syGnXOL._1NBFx1WK:before{width:20px;height:20px;margin:15px 8px 0 0;background-position:-26px -85px}._1syGnXOL._2mcQEKCd:before{width:22px;height:22px;margin:14px 7px 0 0;background-position:-26px -63px}._1syGnXOL._18YOHi7v{color:#fff}._1syGnXOL._3di88A4c{padding-right:12px;font-size:17px}._1syGnXOL._3di88A4c:before{content:none}._1syGnXOL._3jtl_dKE{font-size:16px}._1syGnXOL ._19K4X1CD{text-decoration:underline}._2aeXMlrb{display:inline-block;position:relative;font-size:12px;height:49px;width:78px;text-decoration:none;color:#fff;font-weight:700;letter-spacing:-.5px;vertical-align:top}._2aeXMlrb span{text-align:center;margin:9px 0;height:31px;display:block;line-height:31px;border-radius:15px}._2aeXMlrb span:before{display:inline-block;content:\"\";vertical-align:top;background-image:url(https://static-whale.pstatic.net/main/sprite-20201210@2x.png);background-repeat:no-repeat;background-size:114px 107px}[data-useragent*=\"MSIE 8\"] ._2aeXMlrb span:before{background-image:url(https://static-whale.pstatic.net/main/sprite-20201210.png)}._2aeXMlrb.BMgpjddw{font-size:11px;width:94px}._2aeXMlrb.BMgpjddw span:before{margin:9px 3px 0 0;width:17px;height:13px;background-position:-98px -30px}._3h-N8T9V{position:absolute;top:0;left:0;right:0;bottom:0;background:rgba(0,0,0,0)}._1KncATpM{display:inline-block;content:\"\";vertical-align:top;background-image:url(https://static-whale.pstatic.net/main/sprite-20201210@2x.png);background-repeat:no-repeat;background-size:114px 107px;margin-top:14px;float:left;width:98px;height:21px;background-position:0 -21px}[data-useragent*=\"MSIE 8\"] ._1KncATpM{background-image:url(https://static-whale.pstatic.net/main/sprite-20201210.png)}._1KncATpM._2v3uxv2x{background-position:0 0}._1KncATpM._1yl_Ow6o{background-position:0 -42px}._20PYt6lT{font-size:11px;height:49px;cursor:pointer;position:absolute;top:0;right:0;color:#666;opacity:.7}._20PYt6lT:after{width:15px;height:15px;margin-left:4px;background-position:-98px 0;display:inline-block;content:\"\";vertical-align:top;background-image:url(https://static-whale.pstatic.net/main/sprite-20201210@2x.png);background-repeat:no-repeat;background-size:114px 107px}[data-useragent*=\"MSIE 8\"] ._20PYt6lT:after{background-image:url(https://static-whale.pstatic.net/main/sprite-20201210.png)}._20PYt6lT._39oMCV2N:after{background-position:-98px -15px}._20PYt6lT._3wm5EzmJ{color:#fff}._20PYt6lT._3wm5EzmJ:after{background-position:-48px -83px}._1hiMWemA{height:49px}._1hiMWemA .tY_u8r23{position:relative;width:1130px;margin:0 auto}._1hiMWemA .tY_u8r23 a{text-decoration:none}._1hiMWemA._23U_6TM_{position:relative}._1hiMWemA._23U_6TM_:after{position:absolute;z-index:1;content:\"\";display:block;width:100%;height:1px;bottom:0;background-color:rgba(0,0,0,.05)}</style>                  \\n<div id=\"NM_TOP_BANNER\" data-clk-prefix=\"top\" class=\"_1hiMWemA _23U_6TM_\"\\nstyle=\"background-color: #ecfcff;\">\\n<div class=\"tY_u8r23\">\\n<a class=\"_3h-N8T9V\" href=\\'https://whale.naver.com/details/whaleon?=main&wpid=RydDy7\\'\\ndata-clk=\"dropbanner1b\"></a>\\n<i class=\"_1KncATpM\"><span class=\"blind\">NAVER whale</span></i>\\n<img src=\"https://static-whale.pstatic.net/main/img_whaleon@2x.png\" width=\"290\" height=\"49\" alt=\"\"\\nstyle=\"padding-left: 40px;\"/>\\n<span class=\"_1syGnXOL _3jtl_dKE _3di88A4c\" data-clk=\"dropbanner1b\" style=\"padding-left: 16px;\">\\n<strong>별도 설치 없이, 시간 제한 없이! </strong><strong>화상회의는 Whale ON으로!</strong></span>\\n<a href=\\'https://installer-whale.pstatic.net/downloads/banner/RydDy7/WhaleSetup.exe\\' class=\"_2aeXMlrb BMgpjddw\" id=\"NM_whale_download_btn\"\\ndata-clk=\"dropdownload1b\"><span style=\"background-color: #1a6ee4;\">다운로드</span></a>\\n<button type=\"button\" data-ui-cookie-exp-days=\"3\" data-ui-cookie-key=\"NM_TOP_PROMOTION\" data-ui-cookie-value=\"1\"\\ndata-ui-hide-target=\"#NM_TOP_BANNER\" data-clk=\"dropclose1b\" class=\"_20PYt6lT _39oMCV2N\"\\nstyle=\"display: none;\">3일 동안 보지 않기\\n</button>\\n</div>\\n</div>  <div id=\"header\" role=\"banner\">\\n\\n\\n\\n\\n\\n\\n\\n\\n<div class=\"special_bg\">\\n<div class=\"group_flex\">\\n<div class=\"logo_area\">\\n<h1 class=\"logo_default\">\\n<a href=\"/\" class=\"logo_naver\" data-clk=\"top.logo\"\\n><span class=\"blind\">네이버</span></a\\n>\\n</h1>\\n</div>\\n<div class=\"service_area\">\\n<a id=\"NM_set_home_btn\" href=\"https://help.naver.com/support/welcomePage/guide.help\" class=\"link_set\" data-clk=\"top.mkhome\">네이버를 시작페이지로</a>\\n<i class=\"sa_bar\"></i>\\n<a href=\"https://jr.naver.com\" class=\"link_jrnaver\" data-clk=\"top.jrnaver\"><i class=\"ico_jrnaver\"></i><span class=\"blind\">쥬니어네이버</span></a>\\n<a href=\"https://happybean.naver.com\" class=\"link_happybin\" data-clk=\"top.happybean\"><i class=\"ico_happybin\"></i><span class=\"blind\">해피빈</span></a>\\n</div>\\n\\n<div id=\"search\" class=\"search_area\" data-clk-prefix=\"sch\">\\n<form id=\"sform\" name=\"sform\" action=\"https://search.naver.com/search.naver\" method=\"get\" role=\"search\">\\n<fieldset>\\n<legend class=\"blind\">검색</legend>\\n<select id=\"where\" name=\"where\" title=\"검색 범위 선택\" class=\"blind\">\\n<option value=\"nexearch\" selected=\"selected\">통합검색</option><option value=\"post\">블로그</option><option value=\"cafeblog\">카페</option><option value=\"cafe\">- 카페명</option><option value=\"article\">- 카페글</option><option value=\"kin\">지식iN</option><option value=\"news\">뉴스</option><option value=\"web\">사이트</option><option value=\"category\">- 카테고리</option><option value=\"site\">- 사이트</option><option value=\"movie\">영화</option><option value=\"webkr\">웹문서</option><option value=\"dic\">사전</option><option value=\"100\">- 백과사전</option><option value=\"endic\">- 영어사전</option><option value=\"eedic\">- 영영사전</option><option value=\"krdic\">- 국어사전</option><option value=\"jpdic\">- 일본어사전</option><option value=\"hanja\">- 한자사전</option><option value=\"terms\">- 용어사전</option><option value=\"book\">책</option><option value=\"music\">음악</option><option value=\"doc\">전문자료</option><option value=\"shop\">쇼핑</option><option value=\"local\">지역</option><option value=\"video\">동영상</option><option value=\"image\">이미지</option><option value=\"mypc\">내PC</option><optgroup label=\"스마트 파인더\"><option value=\"movie\">영화</option><option value=\"auto\">자동차</option><option value=\"game\">게임</option><option value=\"health\">건강</option><option value=\"people\">인물</option></optgroup><optgroup label=\"네이버 랩\"><option>긍정부정검색</option></optgroup>\\n</select>\\n<input type=\"hidden\" id=\"sm\" name=\"sm\" value=\"top_hty\" />\\n<input type=\"hidden\" id=\"fbm\" name=\"fbm\" value=\"0\" />\\n<input type=\"hidden\" id=\"acr\" name=\"acr\" value=\"\" disabled=\"disabled\" />\\n<input type=\"hidden\" id=\"acq\" name=\"acq\" value=\"\" disabled=\"disabled\" />\\n<input type=\"hidden\" id=\"qdt\" name=\"qdt\" value=\"\" disabled=\"disabled\" />\\n<input type=\"hidden\" id=\"ie\" name=\"ie\" value=\"utf8\" />\\n<input type=\"hidden\" id=\"acir\" name=\"acir\" value=\"\" disabled=\"disabled\" />\\n<input type=\"hidden\" id=\"os\" name=\"os\" value=\"\" disabled=\"disabled\" />\\n<input type=\"hidden\" id=\"bid\" name=\"bid\" value=\"\" disabled=\"disabled\" />\\n<input type=\"hidden\" id=\"pkid\" name=\"pkid\" value=\"\" disabled=\"disabled\" />\\n<input type=\"hidden\" id=\"eid\" name=\"eid\" value=\"\" disabled=\"disabled\" />\\n<input type=\"hidden\" id=\"mra\" name=\"mra\" value=\"\" disabled=\"disabled\" />\\n\\n\\n\\n<div class=\"green_window\" style=\\'\\'>\\n<!-- [AU] data-atcmp-element 에 해당하는 attribute를 추가해주세요. -->\\n<input id=\"query\" name=\"query\" type=\"text\" title=\"검색어 입력\" maxlength=\"255\" class=\"input_text\" tabindex=\"1\" accesskey=\"s\" style=\"ime-mode:active;\" autocomplete=\"off\"  placeholder=\"검색어를 입력해 주세요.\" onclick=\"document.getElementById(\\'fbm\\').value=1;\" value=\"\" data-atcmp-element>\\n</div>\\n<button id=\"search_btn\" type=\"submit\" title=\"검색\" tabindex=\"3\" class=\"btn_submit\" onclick=\"window.nclick(this,\\'sch.action\\',\\'\\',\\'\\',event);\" style=\\'\\'>\\n<span class=\"blind\">검색</span>\\n<span class=\"ico_search_submit\"></span>\\n</button>\\n</fieldset>\\n</form>\\n<!-- 한글입력기 -->\\n<a href=\"#\" id=\"ke_kbd_btn\" role=\"button\" class=\"btn_keyboard\" onclick=\"return false;\"><span class=\"blind\">한글 입력기</span><span class=\"ico_keyboard\"></span></a>\\n<div id=\"_nx_kbd\" style=\"display:none;\"></div>\\n<div class=\"autocomplete\">\\n<!-- 자동완성 열린 경우 fold 클래스 추가, 딤드인 경우 dim 추가 -->\\n<a href=\"#\" role=\"button\" id=\"nautocomplete\" tabindex=\"2\" class=\"btn_arw _btn_arw fold\" aria-pressed=\"false\" data-atcmp-element><span class=\"blind\">자동완성 레이어</span><span class=\"ico_arr\"></span></a>\\n</div>\\n<!-- 자동완성레이어 -->\\n<div id=\"autoFrame\" class=\"reatcmp\" style=\"display: none;\">\\n<!-- [AU] data-atcmp-element attribute를 추가해주세요. -->\\n<div class=\"ly_atcmp\" data-atcmp-element>\\n<div class=\"api_atcmp_wrap\">\\n<!-- 최근검색어 -->\\n<!-- [AU] _recent_layer 클래스를 추가해주세요. -->\\n<div class=\"atcmp_fixer _recent_layer\" style=\"display:none;\">\\n<!-- [AU] _recent_header 클래스를 추가해주세요. -->\\n<div class=\"atcmp_header _recent_header\">\\n<strong class=\"tit\">최근검색어</strong>\\n<div class=\"option\">\\n<!-- [AU] _delAll 클래스를 추가해주세요. -->\\n<a role=\"button\" href=\"#\" class=\"item _delAll\" aria-pressed=\"false\">전체삭제</a>\\n</div>\\n</div>\\n<div class=\"atcmp_container\">\\n<!-- [AU] _recent 클래스를 추가해주세요. -->\\n<ul class=\"kwd_lst _recent\">\\n<!-- 최근검색어 템플릿 -->\\n<!-- [AU] _item 클래스를 추가해주세요. -->\\n<!-- [AU] data-template-type=\"history\" data-keyword=\"@in_txt@\" attribute를 추가해주세요. -->\\n<li class=\"item _item\" data-rank=\"@rank@\" data-template-type=\"history\" data-keyword=\"@in_txt@\">\\n<a href=\"#\" class=\"kwd\">\\n<span class=\"fix\"><span class=\"common_ico_kwd\"><i class=\"imsc ico_search\"></i></span><span>@txt@</span></span>\\n</a>\\n<span class=\"etc\">\\n<em class=\"date\">@date@.</em>\\n<!-- [AU] _del 클래스를 추가해주세요. -->\\n<a href=\"#\" role=\"button\" class=\"bt_item _del\" aria-pressed=\"false\"><i class=\"imsc ico_del\">삭제</i></a>\\n</span>\\n</li>\\n</ul>\\n<!-- [D] 검색어 저장 꺼진 경우 atcmp_fixer에 type_off 추가 -->\\n<!-- [AU] _offMsg 클래스를 추가해주세요. -->\\n<div class=\"kwd_info kwd_off _offMsg\" style=\"display: none;\">검색어 저장 기능이 꺼져 있습니다.<br><span class=\"kwd_dsc\">설정이 초기화 된다면 <a href=\"https://help.naver.com/support/alias/search/word/word_29.naver\" class=\"kwd_help\" data-clk=\"sly.help\" target=\"_blank\">도움말</a>을 확인해주세요.</span></div>\\n<!-- [D] 검색어 내역 없는 경우 atcmp_fixer에 type_off 추가 -->\\n<!-- [AU] _recentNone 클래스를 추가해주세요. -->\\n<div class=\"kwd_info kwd_none _recentNone\" style=\"display: none;\">최근 검색어 내역이 없습니다.<br><span class=\"kwd_dsc\">설정이 초기화 된다면 <a href=\"https://help.naver.com/support/alias/search/word/word_29.naver\" class=\"kwd_help\" data-clk=\"sly.help\" target=\"_blank\">도움말</a>을 확인해주세요.</span></div>\\n</div>\\n<div class=\"atcmp_footer\">\\n<span class=\"side_opt_area\">\\n<span class=\"opt_item\"><a href=\"https://help.naver.com/support/service/main.help?serviceNo=605&amp;categoryNo=1991\" data-clk=\"sly.help\" target=\"_blank\">도움말</a></span>\\n</span>\\n<span class=\"rside_opt_area\">\\n<span class=\"opt_item\">\\n<!-- [AU] _keywordOnOff 클래스를 추가해주세요. -->\\n<a href=\"#\" class=\"close _keywordOnOff\">자동저장 끄기</a>\\n</span>\\n</span>\\n</div>\\n</div>\\n<!-- 자동완성 -->\\n<!-- [AU] _atcmp_layer 클래스를 추가해주세요. -->\\n<div class=\"atcmp_fixer _atcmp_layer\" style=\"display:none;\">\\n<!-- [AU] _words 클래스를 추가해주세요. -->\\n<div class=\"atcmp_container _words\">\\n<!-- 정답형 템플릿 : 로또당첨번호 -->\\n<!-- [AU] _answer 클래스를 추가해주세요. -->\\n<!-- [AU] data-template-type=\"answer_3\" data-code=\"@code@\" data-keyword=\"@1@\" attribute를 추가해주세요. -->\\n<div class=\"atcmp_correct type_lotto _answer\" data-template-type=\"answer_3\" data-code=\"@code@\" data-keyword=\"@1@\">\\n<a href=\"#\" class=\"link_item\">\\n<span class=\"common_ico_kwd\"><i class=\"imsc ico_search\"></i></span>\\n<div class=\"dsc_area\">\\n<span class=\"tit\">@5@회차 당첨번호</span>\\n<span class=\"dsc\">\\n<span class=\"item\">추첨 @13@.</span><span class=\"item\">지급기한 1년</span>\\n</span>\\n</div>\\n<span class=\"etc_area\">\\n<span class=\"etc lotto\">\\n<em class=\"n@6@\">@6@</em><em class=\"n@7@\">@7@</em><em class=\"n@8@\">@8@</em><em class=\"n@9@\">@9@</em><em class=\"n@10@\">@10@</em><em class=\"n@11@\">@11@</em><em class=\"imsc_bf bonus n@12@\">@12@</em>\\n</span>\\n</span>\\n</a>\\n</div>\\n<!-- 정답형 템플릿 : 환율 -->\\n<!-- [AU] _answer 클래스를 추가해주세요. -->\\n<!-- [AU] data-template-type=\"answer_9\" data-code=\"@code@\" data-keyword=\"@1@\" attribute를 추가해주세요. -->\\n<div class=\"atcmp_correct type_exchange _answer\" data-template-type=\"answer_9\" data-code=\"@code@\" data-keyword=\"@1@\">\\n<!-- [D] 상승 up, 하락 down 추가 -->\\n<a href=\"#\" class=\"link_item @11@\">\\n<!-- [D] 국가별 class 가나다순\\nZAR 남아프리카 공화국\\nNPR 네팔\\nNOK 노르웨이\\nNZD 뉴질랜드\\nTWD 대만\\nDKK 덴마크\\nRUB 러시아\\nMOP 마카오\\nMYR 말레이시아\\nMXN 멕시코\\nMNT 몽골\\nUSD 미국\\nBHD 바레인\\nBDT 방글라데시\\nVND 베트남\\nBRL 브라질\\nSAR 사우디아라비아\\nSEK 스웨덴\\nCHF 스위스\\nSGD 싱가포르\\nAED 아랍에미리트\\nGBP 영국\\nEUR 유럽연합\\nILS 이스라엘\\nEGP 이집트\\nINR 인도\\nIDR 인도네시아\\nJPY 일본\\nCNY 중국\\nCZK 체코\\nCLP 칠레\\nKZT 카자흐스탄\\nQAR 카타르\\nCAD 캐나다\\nKWD 쿠웨이트\\nTHB 태국\\nTRY 터키\\nPKR 파키스탄\\nPLN 폴란드\\nPHP 필리핀\\nHUF 헝가리\\nAUD 호주\\nHKD 홍콩\\n-->\\n<span class=\"common_ico_kwd\"><i class=\"imsc ico @12@\">@14@</i></span>\\n<div class=\"dsc_area\">\\n<span class=\"tit\">@txt@<span class=\"sub\">@currency@</span></span>\\n<span class=\"dsc\">\\n<span class=\"item\"><i class=\"imsc ico_arr\"></i>@8@(@9@%)</span>\\n</span>\\n</div>\\n<span class=\"etc_area\">\\n<span class=\"etc\"><em class=\"num\">@6@</em>원</span>\\n</span>\\n</a>\\n</div>\\n<!-- 정답형 템플릿 : 날씨(국내11, 해외12) -->\\n<!-- [AU] _answer 클래스를 추가해주세요. -->\\n<!-- [AU] data-template-type=\"answer_11\" data-code=\"@code@\" data-keyword=\"@1@\" attribute를 추가해주세요. -->\\n<div class=\"atcmp_correct type_weather _answer\" data-template-type=\"answer_11\" data-code=\"@code@\" data-keyword=\"@1@\">\\n<!-- [D] 상승 up, 하락 down 추가 -->\\n<a href=\"#\" class=\"link_item @12@\">\\n<span class=\"common_ico_kwd\"><i class=\"imsc ico_search\"></i></span>\\n<div class=\"dsc_area\">\\n<span class=\"tit\">@txt@</span>\\n<span class=\"dsc\">\\n<span class=\"item\">@7@, @message@</span>\\n</span>\\n</div>\\n<span class=\"etc_area\">\\n<span class=\"etc\">\\n<!-- [D] 날씨별 class\\nico1 맑음(낮)\\nico2 맑음(밤)\\nico3 구름조금(낮)\\nico4 구름조금(밤)\\nico5 구름많음(낮)\\nico6 구름많음(밤)\\nico7 흐림\\nico8 약한비\\nico9 비\\nico10 강한비\\nico11 약한눈\\nico12 눈\\nico13 강한눈\\nico14 진눈깨비\\nico15 소나기\\nico16 안개\\nico17 소낙눈\\nico18 번개뇌우\\nico19 우박\\nico20 황사\\nico21 비또는눈\\nico22 가끔비\\nico23 가끔눈\\nico24 가끔비또는눈\\nico25 흐린후갬\\nico26 뇌우후갬\\nico27 비후갬\\nico28 눈후갬\\nico29 흐려져비\\nico30 흐려져눈\\n-->\\n<span class=\"ico_weather\"><i class=\"imsc ico ico@iconNo@\">@7@</i></span>\\n<em class=\"degree\">@8@<sup class=\"celsius\">°</sup></em>\\n</span>\\n</span>\\n</a>\\n</div>\\n<!-- 정답형 템플릿 : 사이트 바로가기 -->\\n<!-- [AU] _answer 클래스를 추가해주세요. -->\\n<!-- [AU] data-template-type=\"answer_17\" data-code=\"@code@\" data-keyword=\"@1@\" attribute를 추가해주세요. -->\\n<div class=\"atcmp_correct type_site _answer\" data-template-type=\"answer_17\" data-code=\"@code@\" data-keyword=\"@1@\">\\n<a href=\"@5@\" class=\"link_item\" target=\"_blank\">\\n<span class=\"common_ico_kwd\"><i class=\"imsc ico_url\"></i></span>\\n<div class=\"dsc_area\">\\n<span class=\"tit\">@txt@</span>\\n<span class=\"dsc\">\\n<span class=\"item\">@5@</span>\\n</span>\\n</div>\\n<span class=\"etc_area\">\\n<span class=\"etc\">바로가기</span>\\n</span>\\n</a>\\n</div>\\n<!-- [AU] _kwd_list 클래스를 추가해주세요. -->\\n<ul class=\"kwd_lst _kwd_list\">\\n<!-- [AU] 자동완성 검색어 템플릿 -->\\n<!-- [AU] _item 클래스를 추가해주세요. -->\\n<!-- [AU] data-rank=\"@rank@\" data-template-type=\"suggestion\" data-keyword=\"@in_txt@\" attribute를 추가해주세요. -->\\n<li class=\"item _item\" data-rank=\"@rank@\" data-template-type=\"suggestion\" data-keyword=\"@in_txt@\">\\n<a href=\"#\" class=\"kwd\">\\n<span class=\"fix\"><span class=\"common_ico_kwd\"><i class=\"imsc ico_search\"></i></span>@txt@</span>\\n</a>\\n<span class=\"etc\">\\n<a href=\"#\" role=\"button\" class=\"bt_item _add\" aria-pressed=\"false\"><i class=\"imsc ico_insert\">추가</i></a>\\n</span>\\n</li>\\n<!-- [AU] 최근검색어 템플릿 -->\\n<!-- [AU] _item 클래스를 추가해주세요. -->\\n<!-- [AU] data-rank=\"@rank@\" data-template-type=\"history\" data-keyword=\"@in_txt@\" attribute를 추가해주세요. -->\\n<li class=\"item has_correct _item\" data-rank=\"@rank@\" data-template-type=\"history\" data-keyword=\"@in_txt@\">\\n<a href=\"#\" class=\"kwd\">\\n<span class=\"fix\"><span class=\"common_ico_kwd\"><i class=\"imsc ico_search\"></i></span>@txt@</span>\\n</a>\\n<span class=\"etc\">\\n<!-- 최근검색어 있으면 날짜 표시 -->\\n<em class=\"date\">@date@.</em>\\n<a href=\"#\" role=\"button\" class=\"bt_item _add\" aria-pressed=\"false\"><i class=\"imsc ico_insert\">추가</i></a>\\n</span>\\n</li>\\n</ul>\\n<!-- [AU] 문맥검색 템플릿 -->\\n<!-- [AU] _item 클래스를 추가해주세요. -->\\n<!-- [AU] data-rank=\"@rank@\" data-template-type=\"intend\" data-keyword=\"@transQuery@\" attribute를 추가해주세요. -->\\n<li class=\"item has_correct _item\" data-rank=\"@rank@\" data-intend-rank=\"@intendRank@\" data-template-type=\"intend\" data-keyword=\"@transQuery@\">\\n<a href=\"#\" class=\"kwd\">\\n<span class=\"fix\"><span class=\"common_ico_kwd\"><i class=\"imsc ico_search\"></i></span>@query@ <span class=\"context\">@intend@</span></span>\\n</a>\\n<span class=\"etc\">\\n<a href=\"#\" role=\"button\" class=\"bt_item _add\" aria-pressed=\"false\"><i class=\"imsc ico_insert\">추가</i></a>\\n</span>\\n</li>\\n<!-- [D] 선거안내문구 -->\\n<!-- [AU] _alert 클래스를 추가해주세요. -->\\n<div class=\"atcmp_alert _alert\">\\n<div class=\"dsc_election\">\\n<p class=\"dsc\">\\n<i class=\"imsc ico_election\"></i><span class=\"_alert_passage\"></span>\\n</p>\\n<span class=\"dsc_inner\">\\n<!-- [AU] _alert_passage2 클래스를 추가해주세요. -->\\n<span class=\"_alert_passage2\"></span>\\n<!-- [AU] _alert_link 클래스를 추가해주세요. -->\\n<a href=\"#\" class=\"link _alert_link\" target=\"_blank\">자세히보기</a>\\n</span>\\n</div>\\n</div>\\n<!-- [AU] _plus 클래스를 추가해주세요. -->\\n<div class=\"atcmp_plus _plus\">\\n<div class=\"dsc_plus\">\\n<a href=\"https://help.naver.com/support/contents/contents.nhn?serviceNo=606&categoryNo=16658\" class=\"link_dsc\" data-clk=\"sug.cxhelp\" target=\"_blank\">관심사를 반영한 컨텍스트 자동완성<i class=\"imsc ico_help\">도움말</i></a>\\n</div>\\n<div class=\"switch\">\\n<!-- [D] 선택시 aria-pressed=\"ture/false\" -->\\n<!-- [AU] _plus_btn 클래스를 추가해주세요. -->\\n<a role=\"button\" href=\"#\" class=\"bt_switch active _plus_btn\" aria-pressed=\"false\"><i class=\"imsc ico_option\">컨텍스트 자동완성</i></a>\\n</div>\\n<!-- [AU] _plus_layer 클래스를 추가해주세요. -->\\n<div class=\"layer_plus _plus_layer\">\\n<strong class=\"tit\">컨텍스트 자동완성</strong>\\n<!-- [AU] _plus_layer_isloggedin 클래스를 추가해주세요. -->\\n<!-- [AU] style=\"display:none\" 추가해주세요. -->\\n<div class=\"_plus_layer_isloggedin\" style=\"display:none\">\\n<p class=\"dsc\">ON/OFF 설정은<br>해당기기(브라우저)에 저장됩니다.</p>\\n<div class=\"btn_area\">\\n<a href=\"https://help.naver.com/support/contents/contents.help?serviceNo=606&categoryNo=16659\" class=\"btn btn_view\" data-clk=\"sug.cxlink\" target=\"_blank\">자세히</a>\\n</div>\\n</div>\\n<!-- [AU] _plus_layer_isnotloggedin 클래스를 추가해주세요. -->\\n<!-- [AU] style=\"display:none\" 추가해주세요. -->\\n<div class=\"_plus_layer_isnotloggedin\" style=\"display:none\">\\n<p class=\"dsc\"><em class=\"txt\">동일한 시간대/연령/남녀별</em> 사용자 그룹의<br>관심사에 맞춰 자동완성을 제공합니다.</p>\\n<div class=\"btn_area\">\\n<a href=\"https://nid.naver.com/nidlogin.login\" class=\"btn btn_login\" data-clk=\"sug.cxlogin\">로그인</a>\\n<a href=\"https://help.naver.com/support/alias/search/word/word_16.naver\" class=\"btn btn_view\" data-clk=\"sug.cxlink\" target=\"_blank\">자세히</a>\\n</div>\\n</div>\\n<!-- [AU] _plus_layer_close 클래스를 추가해주세요. -->\\n<a href=\"#\" role=\"button\" class=\"btn_close _plus_layer_close\"><i class=\"imsc ico_close\">컨텍스트 자동완성 레이어 닫기</i></a>\\n</div>\\n</div>\\n</div>\\n<div class=\"atcmp_footer\">\\n<span class=\"side_opt_area\">\\n<span class=\"opt_item\"><a href=\"https://help.naver.com/support/service/main.help?serviceNo=605&categoryNo=1987\" data-clk=\"sug.help\" target=\"_blank\">도움말</a></span>\\n<span class=\"opt_item\"><a href=\"https://help.naver.com/support/contents/contents.help?serviceNo=605&categoryNo=18215\" class=\"report\" data-clk=\"sug.report\" target=\"_blank\">신고</a></span>\\n</span>\\n<span class=\"rside_opt_area\">\\n<span class=\"opt_item\">\\n<!-- [AU] _suggestOnOff 클래스를 추가해주세요. -->\\n<a href=\"#\" class=\"close _suggestOnOff\">자동완성 끄기</a>\\n</span>\\n</span>\\n</div>\\n</div>\\n</div>\\n</div>\\n</div>\\n</div>\\n\\n</div>\\n</div>\\n\\n<!--EMPTY-->\\n<div id=\"gnb\">\\n<div id=\"NM_FAVORITE\" class=\"gnb_inner\">\\n<div class=\"group_nav\">\\n<ul class=\"list_nav type_fix\">\\n<li class=\"nav_item\">\\n<a href=\"https://mail.naver.com/\" class=\"nav\" data-clk=\"svc.mail\"><i class=\"ico_mail\"></i>메일</a>\\n</li>\\n<li class=\"nav_item\"><a href=\"https://section.cafe.naver.com/\" class=\"nav\" data-clk=\"svc.cafe\">카페</a></li>\\n<li class=\"nav_item\"><a href=\"https://section.blog.naver.com/\" class=\"nav\" data-clk=\"svc.blog\">블로그</a></li>\\n<li class=\"nav_item\"><a href=\"https://kin.naver.com/\" class=\"nav\" data-clk=\"svc.kin\">지식iN</a></li>\\n<li class=\"nav_item\"><a href=\"https://shopping.naver.com/\" class=\"nav\" data-clk=\"svc.shopping\">쇼핑</a></li>\\n<li class=\"nav_item\"><a href=\"https://order.pay.naver.com/home\" class=\"nav\" data-clk=\"svc.pay\">Pay</a></li>\\n<li class=\"nav_item\">\\n<a href=\"https://tv.naver.com/\" class=\"nav\" data-clk=\"svc.tvcast\"><i class=\"ico_tv\"></i>TV</a>\\n</li>\\n</ul>\\n<ul\\nclass=\"list_nav NM_FAVORITE_LIST\"\\n>\\n<li class=\"nav_item\"><a href=\"https://dict.naver.com/\" class=\"nav\" data-clk=\"svc.dic\">사전</a></li>\\n<li class=\"nav_item\"><a href=\"https://news.naver.com/\" class=\"nav\" data-clk=\"svc.news\">뉴스</a></li>\\n<li class=\"nav_item\"><a href=\"https://finance.naver.com/\" class=\"nav\" data-clk=\"svc.stock\">증권</a></li>\\n<li class=\"nav_item\"><a href=\"https://land.naver.com/\" class=\"nav\" data-clk=\"svc.land\">부동산</a></li>\\n<li class=\"nav_item\"><a href=\"https://map.naver.com/\" class=\"nav\" data-clk=\"svc.map\">지도</a></li>\\n<li class=\"nav_item\"><a href=\"https://movie.naver.com/\" class=\"nav\" data-clk=\"svc.movie\">영화</a></li>\\n<li class=\"nav_item\"><a href=\"https://vibe.naver.com/\" class=\"nav\" data-clk=\"svc.vibe\">VIBE</a>\\n<li class=\"nav_item\"><a href=\"https://book.naver.com/\" class=\"nav\" data-clk=\"svc.book\">책</a></li>\\n<li class=\"nav_item\"><a href=\"https://comic.naver.com/\" class=\"nav\" data-clk=\"svc.webtoon\">웹툰</a></li>\\n\\n</ul>\\n<ul class=\"list_nav type_empty\" style=\"display: none;\"></ul>\\n<a href=\"#\" role=\"button\" class=\"btn_more\" data-clk=\"svc.more\">더보기</a>\\n<div class=\"ly_btn_area\">\\n<a href=\"more.html\" class=\"btn NM_FAVORITE_ALL\" data-clk=\"map.svcmore\">서비스 전체보기</a>\\n<a href=\"#\" role=\"button\" class=\"btn btn_set\" data-clk=\"map.edit\">메뉴설정</a>\\n<a href=\"#\" role=\"button\" class=\"btn btn_reset\" data-clk=\"edt.reset\">초기화</a>\\n<a href=\"#\" role=\"button\" class=\"btn btn_save\" data-clk=\"edt.save\">저장</a>\\n</div>\\n</div>\\n<div id=\"NM_WEATHER\" class=\"group_weather\">\\n<div>\\n<a data-clk=\"squ.weat\" href=\"https://weather.naver.com/today/11185106\" class=\"weather_area ico_w01\">\\n<div class=\"current_box\">\\n<strong class=\"current\" aria-label=\"현재기온\">13.0°</strong><strong class=\"state\">맑음</strong>\\n</div>\\n<div class=\"degree_box\">\\n<span class=\"min\" aria-label=\"최저기온\">7.0°</span><span class=\"max\" aria-label=\"최고기온\">14.0°</span>\\n</div>\\n<span class=\"location\">송도동</span>\\n</a>\\n</div>\\n<div>\\n<a data-clk=\"squ.dust\" href=\"https://weather.naver.com/today/11185106\" class=\"air_area\">\\n<ul class=\"list_air\">\\n<li class=\"air_item\">미세<strong class=\"state state_normal\">보통</strong></li>\\n<li class=\"air_item\">초미세<strong class=\"state state_good\">좋음</strong></li>\\n</ul>\\n<span class=\"location\">송도동</span>\\n</a>\\n</div>\\n\\n</div>\\n</div>\\n<div class=\"ly_service\">\\n<div class=\"group_service NM_FAVORITE_ALL_LY\"></div>\\n<div class=\"group_service NM_FAVORITE_EDIT_LY\" style=\"display: none;\"></div>\\n</div>\\n</div>\\n</div>\\n <div id=\"container\" role=\"main\"> <div style=\"position:relative;width:1130px;margin:0 auto;z-index:11\"> <div id=\"da_top\"></div> <div id=\"da_expwide\"></div> </div> <div id=\"NM_INT_LEFT\" class=\"column_left\">  <div id=\"veta_top\"> <iframe id=\"da_iframe_time\" name=\"da_iframe_time\" data-iframe-src=\"https://siape.veta.naver.com/fxshow?su=SU10599&amp;nrefreshx=0\" data-veta-preview=\"main_time\" title=\"광고\" width=\"750\" height=\"135\" marginheight=\"0\" marginwidth=\"0\" scrolling=\"no\" frameborder=\"0\"> </iframe> <span class=\"veta_bd_t\"></span> <span class=\"veta_bd_b\"></span> <span class=\"veta_bd_l\"></span> <span class=\"veta_bd_r\"></span> </div> <div id=\"newsstand\" class=\"sc_newscast\"> <h2 class=\"blind\">뉴스스탠드</h2> <div id=\"NM_NEWSSTAND_HEADER\" class=\"group_issue\" data-clk-prefix=\"ncy\"> <div class=\"issue_area\"> <a href=\"http://news.naver.com/main/list.nhn?mode=LPOD&mid=sec&sid1=001&sid2=140&oid=001&isYeonhapFlash=Y\" class=\"link_media\" data-clk=\"newsflash\">연합뉴스</a> <div id=\"yna_rolling\" class=\"list_issue\"> <div><a href=\"http://news.naver.com/main/list.nhn?mode=LPOD&mid=sec&sid1=001&sid2=140&oid=001&isYeonhapFlash=Y&aid=0012281220\" class=\"issue\" data-clk=\"quickarticle\">경찰, 대통령 백신접종 관련 허위 글 내사 착수</a></div>\\n<div><a href=\"http://news.naver.com/main/list.nhn?mode=LPOD&mid=sec&sid1=001&sid2=140&oid=001&isYeonhapFlash=Y&aid=0012281591\" class=\"issue\" data-clk=\"quickarticle\">특수본 \"투기 의혹 398명 수사…국회의원 3명 포함\"</a></div>\\n<div><a href=\"http://news.naver.com/main/list.nhn?mode=LPOD&mid=sec&sid1=001&sid2=140&oid=001&isYeonhapFlash=Y&aid=0012281558\" class=\"issue\" data-clk=\"quickarticle\">\\'임성근 법관탄핵\\' 첫 재판…증거·증인채택 놓고 신경전</a></div>\\n<div><a href=\"http://news.naver.com/main/list.nhn?mode=LPOD&mid=sec&sid1=001&sid2=140&oid=001&isYeonhapFlash=Y&aid=0012281458\" class=\"issue\" data-clk=\"quickarticle\">\"계약 갱신 청구했으면 실거주 목적 새 집주인도 비우라 못해\"</a></div>\\n<div><a href=\"http://news.naver.com/main/list.nhn?mode=LPOD&mid=sec&sid1=001&sid2=140&oid=001&isYeonhapFlash=Y&aid=0012281406\" class=\"issue\" data-clk=\"quickarticle\">\\'스토킹 처벌법\\' 제정…10만원 벌금→최대 징역 5년</a></div>\\n<div><a href=\"http://news.naver.com/main/list.nhn?mode=LPOD&mid=sec&sid1=001&sid2=140&oid=001&isYeonhapFlash=Y&aid=0012281293\" class=\"issue\" data-clk=\"quickarticle\">\\'공수처-검경 협의체\\' 구성 합의…29일 첫 회의 예정</a></div>\\n<div><a href=\"http://news.naver.com/main/list.nhn?mode=LPOD&mid=sec&sid1=001&sid2=140&oid=001&isYeonhapFlash=Y&aid=0012280871\" class=\"issue\" data-clk=\"quickarticle\">조민 입시비리 뒤늦은 조사 착수 부산대…\\'늦장 대응\\' 비난 자초</a></div>\\n<div><a href=\"http://news.naver.com/main/list.nhn?mode=LPOD&mid=sec&sid1=001&sid2=140&oid=001&isYeonhapFlash=Y&aid=0012280924\" class=\"issue\" data-clk=\"quickarticle\">손맞잡은 박영선·이재명…서울 재난위로금 공약 공감대</a></div>\\n<div><a href=\"http://news.naver.com/main/list.nhn?mode=LPOD&mid=sec&sid1=001&sid2=140&oid=001&isYeonhapFlash=Y&aid=0012281067\" class=\"issue\" data-clk=\"quickarticle\">안철수, 빨간 넥타이 매고 오세훈과 포옹…\"정권교체\"</a></div>\\n<div><a href=\"http://news.naver.com/main/list.nhn?mode=LPOD&mid=sec&sid1=001&sid2=140&oid=001&isYeonhapFlash=Y&aid=0012280996\" class=\"issue\" data-clk=\"quickarticle\">구미 여아 친모, 3년 전 출산 앞두고 \\'셀프 출산\\' 검색</a></div> </div> </div> <div class=\"direct_area\"> <a href=\"http://news.naver.com/\" class=\"link_news\" data-clk=\"newshome\">네이버뉴스</a>\\n<a href=\"http://entertain.naver.com/home\" class=\"link_direct\" data-clk=\"entertainment\">연예</a>\\n<a href=\"http://sports.news.naver.com/\" class=\"link_direct\" data-clk=\"sports\">스포츠</a>\\n<a href=\"http://news.naver.com/main/main.nhn?mode=LSD&mid=shm&sid1=101\" class=\"link_direct\" data-clk=\"economy\">경제</a> </div> </div>        <div id=\"NM_NEWSSTAND_TITLE\" class=\"group_title\" data-clk-prefix=\"nsd\"> <a href=\"http://newsstand.naver.com/\" class=\"link_newsstand\" data-clk=\"title\" target=\"_blank\">뉴스스탠드</a> <div id=\"NM_NEWSSTAND_data_buttons\" class=\"sort_area\">  <a href=\"#\" role=\"button\" data-type=\"my\" data-clk=\"my\" class=\"btn_sort\">구독한 언론사</a> <a href=\"#\" role=\"button\" data-type=\"all\" data-clk=\"all\" class=\"btn_sort sort_on\">전체언론사</a>  </div> <div id=\"NM_NEWSSTAND_view_buttons\" class=\"set_area\">  <a href=\"#\" role=\"button\" data-type=\"list\" data-clk=\"articleview\" class=\"btn_set\"> <i class=\"ico_list\"><span class=\"blind\">리스트형</span></i></a> <a href=\"#\" role=\"button\" data-type=\"thumb\" data-clk=\"pressview\" class=\"btn_set set_on\"> <i class=\"ico_tile\"><span class=\"blind\">썸네일형</span></i></a>  <a href=\"http://newsstand.naver.com/config.html\" class=\"btn_set\" data-clk=\"set\" target=\"_blank\"> <i class=\"ico_set\"><span class=\"blind\">설정</span></i></a> </div> </div> <div id=\"NM_NEWSSTAND_VIEW_CONTAINER\" style=\"position:relative\"> <div id=\"NM_NEWSSTAND_DEFAULT_LIST\" class=\"group_news\" style=\"display:none\" data-clk-prefix=\"nsd_all\"> <a href=\"#\" role=\"button\" class=\"pm_btn_prev_l _NM_NEWSSTAND_LIST_prev_btn\" data-clk-custom=\"prev\"><i class=\"ico_btn\"><span class=\"blind\">이전</span></i></a> <a href=\"#\" role=\"button\" class=\"pm_btn_next_l _NM_NEWSSTAND_LIST_next_btn\" data-clk-custom=\"next\"><i class=\"ico_btn\"><span class=\"blind\">다음</span></i></a> <div class=\"list_view\"> <div class=\"option_area\"> <div class=\"list_option_wrap\"> <ul class=\"list_option\"> <li class=\"option_item\" data-cateid=\"ct2\"><a href=\"#\" class=\"option\" data-clk=\"daei\">종합/경제</a></li> <li class=\"option_item\" data-cateid=\"ct3\"><a href=\"#\" class=\"option\" data-clk=\"dtvcom\">방송/통신</a></li> <li class=\"option_item\" data-cateid=\"ct4\"><a href=\"#\" class=\"option\" data-clk=\"dit\">IT</a></li> <li class=\"option_item\" data-cateid=\"ct5\"><a href=\"#\" class=\"option\" data-clk=\"deng\">영자지</a></li> <li class=\"option_item\" data-cateid=\"ct6\"><a href=\"#\" class=\"option\" data-clk=\"dsporent\">스포츠/연예</a></li> <li class=\"option_item\" data-cateid=\"ct7\"><a href=\"#\" class=\"option\" data-clk=\"dmagtec\">매거진/전문지</a></li> <li class=\"option_item\" data-cateid=\"ct8\"><a href=\"#\" class=\"option\" data-clk=\"dloc\">지역</a></li> </ul> </div> </div> <div class=\"_NM_NEWSSTAND_ARTICLE_CONTAINER\" data-clk-sub=\"*a\"></div> </div> <div class=\"ly_popup NM_NEWSSTAND_POPUP NM_NEWSSTAND_invalid\" style=\"display:none\" data-clk-sub=\"*a\"> <a href=\"#\" role=\"button\" class=\"btn_close NM_NEWSSTAND_POPUP_CLOSE\"><i class=\"ico_close\"></i><span class=\"blind\">닫기</span></a> <p class=\"popup_msg\">해당 언론사 사정으로 접근이 일시 제한됩니다.</p> <div class=\"popup_btn\"> <a href=\"#\" role=\"button\" class=\"btn_confirm NM_NEWSSTAND_POPUP_CLOSE\">확인</a> </div> </div> <div class=\"ly_popup NM_NEWSSTAND_POPUP NM_NEWSSTAND_undescribe_confirm\" style=\"display:none\" data-clk-sub=\"*a\"> <a href=\"#\" role=\"button\" class=\"btn_close NM_NEWSSTAND_POPUP_CLOSE\" data-clk=\"usclose\"><i class=\"ico_close\"></i><span class=\"blind\">닫기</span></a> <p class=\"popup_msg\"><strong class=\"NM_NEWSSTAND_POPUP_PNAME\"></strong>을(를)<br>구독해지 하시겠습니까?</p> <div class=\"popup_btn\"> <a href=\"#\" role=\"button\" class=\"btn_confirm NM_NEWSSTAND_POPUP_CONFIRM\" data-clk=\"usdone\">확인</a> <a href=\"#\" role=\"button\" class=\"btn_confirm NM_NEWSSTAND_POPUP_CLOSE\" data-clk=\"uscancel\">취소</a> </div> </div> <div class=\"ly_toast NM_NEWSSTAND_TOAST\" style=\"display:none\"> <p class=\"toast_msg\">구독한 언론사에 추가되었습니다.</p> </div> </div>   <div id=\"NM_NEWSSTAND_DEFAULT_THUMB\" class=\"group_news\" style=\"display:block\" data-clk-prefix=\"nsd_all\"> <a href=\"#\" role=\"button\" class=\"pm_btn_prev_l _NM_UI_PAGE_PREV\" data-clk-custom=\"prev\"><i class=\"ico_btn\"><span class=\"blind\">이전</span></i></a> <a href=\"#\" role=\"button\" class=\"pm_btn_next_l _NM_UI_PAGE_NEXT\" data-clk-custom=\"next\"><i class=\"ico_btn\"><span class=\"blind\">다음</span></i></a> <div class=\"_NM_UI_PAGE_CONTAINER\" style=\"height:100%;overflow:hidden\" data-clk-sub=\"*p\">  <div style=\"width: 750px; float: left;\">\\n<div class=\"tile_view\">\\n<div class=\"frame_area\">\\n<i class=\"line to_right1\"></i>\\n<i class=\"line to_right2\"></i>\\n<i class=\"line to_right3\"></i>\\n<i class=\"line to_bottom1\"></i>\\n<i class=\"line to_bottom2\"></i>\\n<i class=\"line to_bottom3\"></i>\\n<i class=\"line to_bottom4\"></i>\\n<i class=\"line to_bottom5\"></i>\\n</div>\\n<div class=\"thumb_area\">\\n<div\\nclass=\"thumb_box _NM_NEWSSTAND_THUMB _NM_NEWSSTAND_THUMB_press_valid\"\\ndata-pid=\"023\"\\n>\\n<a href=\"#\" class=\"thumb\">\\n<img\\nsrc=\"https://s.pstatic.net/static/newsstand/up/2020/0903/nsd185255316.png\"\\nheight=\"20\"\\nalt=\"조선일보\"\\nclass=\"news_logo\"\\n/>\\n<span class=\"thumb_dim\"></span\\n></a>\\n<div class=\"popup_wrap\">\\n<a\\nhref=\"#\"\\nrole=\"button\"\\nclass=\"btn_popup _NM_NEWSSTAND_THUMB_subscribe_press\"\\ndata-pid=\"023\"\\ndata-clk=\"sub\"\\n>구독</a\\n>\\n<a\\nhref=\"#\"\\nrole=\"button\"\\nclass=\"btn_popup _NM_NEWSSTAND_THUMB_unsubscribe_press\"\\ndata-pid=\"023\"\\ndata-clk=\"unsub\"\\n>해지</a\\n>\\n<a\\nhref=\"http://newsstand.naver.com/?list=&pcode=023\"\\ntarget=\"_blank\"\\nclass=\"btn_popup\"\\ndata-clk=\"logo\"\\ndata-pid=\"023\"\\n>기사보기</a\\n>\\n</div>\\n</div>\\n<div\\nclass=\"thumb_box _NM_NEWSSTAND_THUMB _NM_NEWSSTAND_THUMB_press_valid\"\\ndata-pid=\"314\"\\n>\\n<a href=\"#\" class=\"thumb\">\\n<img\\nsrc=\"https://s.pstatic.net/static/newsstand/2020/logo/light/0604/314.png\"\\nheight=\"20\"\\nalt=\"스포츠동아\"\\nclass=\"news_logo\"\\n/>\\n<span class=\"thumb_dim\"></span\\n></a>\\n<div class=\"popup_wrap\">\\n<a\\nhref=\"#\"\\nrole=\"button\"\\nclass=\"btn_popup _NM_NEWSSTAND_THUMB_subscribe_press\"\\ndata-pid=\"314\"\\ndata-clk=\"sub\"\\n>구독</a\\n>\\n<a\\nhref=\"#\"\\nrole=\"button\"\\nclass=\"btn_popup _NM_NEWSSTAND_THUMB_unsubscribe_press\"\\ndata-pid=\"314\"\\ndata-clk=\"unsub\"\\n>해지</a\\n>\\n<a\\nhref=\"http://newsstand.naver.com/?list=&pcode=314\"\\ntarget=\"_blank\"\\nclass=\"btn_popup\"\\ndata-clk=\"logo\"\\ndata-pid=\"314\"\\n>기사보기</a\\n>\\n</div>\\n</div>\\n<div\\nclass=\"thumb_box _NM_NEWSSTAND_THUMB _NM_NEWSSTAND_THUMB_press_valid\"\\ndata-pid=\"032\"\\n>\\n<a href=\"#\" class=\"thumb\">\\n<img\\nsrc=\"https://s.pstatic.net/static/newsstand/2020/logo/light/0604/032.png\"\\nheight=\"20\"\\nalt=\"경향신문\"\\nclass=\"news_logo\"\\n/>\\n<span class=\"thumb_dim\"></span\\n></a>\\n<div class=\"popup_wrap\">\\n<a\\nhref=\"#\"\\nrole=\"button\"\\nclass=\"btn_popup _NM_NEWSSTAND_THUMB_subscribe_press\"\\ndata-pid=\"032\"\\ndata-clk=\"sub\"\\n>구독</a\\n>\\n<a\\nhref=\"#\"\\nrole=\"button\"\\nclass=\"btn_popup _NM_NEWSSTAND_THUMB_unsubscribe_press\"\\ndata-pid=\"032\"\\ndata-clk=\"unsub\"\\n>해지</a\\n>\\n<a\\nhref=\"http://newsstand.naver.com/?list=&pcode=032\"\\ntarget=\"_blank\"\\nclass=\"btn_popup\"\\ndata-clk=\"logo\"\\ndata-pid=\"032\"\\n>기사보기</a\\n>\\n</div>\\n</div>\\n<div\\nclass=\"thumb_box _NM_NEWSSTAND_THUMB _NM_NEWSSTAND_THUMB_press_valid\"\\ndata-pid=\"015\"\\n>\\n<a href=\"#\" class=\"thumb\">\\n<img\\nsrc=\"https://s.pstatic.net/static/newsstand/2020/logo/light/0604/015.png\"\\nheight=\"20\"\\nalt=\"한국경제\"\\nclass=\"news_logo\"\\n/>\\n<span class=\"thumb_dim\"></span\\n></a>\\n<div class=\"popup_wrap\">\\n<a\\nhref=\"#\"\\nrole=\"button\"\\nclass=\"btn_popup _NM_NEWSSTAND_THUMB_subscribe_press\"\\ndata-pid=\"015\"\\ndata-clk=\"sub\"\\n>구독</a\\n>\\n<a\\nhref=\"#\"\\nrole=\"button\"\\nclass=\"btn_popup _NM_NEWSSTAND_THUMB_unsubscribe_press\"\\ndata-pid=\"015\"\\ndata-clk=\"unsub\"\\n>해지</a\\n>\\n<a\\nhref=\"http://newsstand.naver.com/?list=&pcode=015\"\\ntarget=\"_blank\"\\nclass=\"btn_popup\"\\ndata-clk=\"logo\"\\ndata-pid=\"015\"\\n>기사보기</a\\n>\\n</div>\\n</div>\\n<div\\nclass=\"thumb_box _NM_NEWSSTAND_THUMB _NM_NEWSSTAND_THUMB_press_valid\"\\ndata-pid=\"277\"\\n>\\n<a href=\"#\" class=\"thumb\">\\n<img\\nsrc=\"https://s.pstatic.net/static/newsstand/2020/logo/light/0604/277.png\"\\nheight=\"20\"\\nalt=\"아시아경제\"\\nclass=\"news_logo\"\\n/>\\n<span class=\"thumb_dim\"></span\\n></a>\\n<div class=\"popup_wrap\">\\n<a\\nhref=\"#\"\\nrole=\"button\"\\nclass=\"btn_popup _NM_NEWSSTAND_THUMB_subscribe_press\"\\ndata-pid=\"277\"\\ndata-clk=\"sub\"\\n>구독</a\\n>\\n<a\\nhref=\"#\"\\nrole=\"button\"\\nclass=\"btn_popup _NM_NEWSSTAND_THUMB_unsubscribe_press\"\\ndata-pid=\"277\"\\ndata-clk=\"unsub\"\\n>해지</a\\n>\\n<a\\nhref=\"http://newsstand.naver.com/?list=&pcode=277\"\\ntarget=\"_blank\"\\nclass=\"btn_popup\"\\ndata-clk=\"logo\"\\ndata-pid=\"277\"\\n>기사보기</a\\n>\\n</div>\\n</div>\\n<div\\nclass=\"thumb_box _NM_NEWSSTAND_THUMB _NM_NEWSSTAND_THUMB_press_valid\"\\ndata-pid=\"241\"\\n>\\n<a href=\"#\" class=\"thumb\">\\n<img\\nsrc=\"https://s.pstatic.net/static/newsstand/2020/logo/light/0604/241.png\"\\nheight=\"20\"\\nalt=\"일간스포츠\"\\nclass=\"news_logo\"\\n/>\\n<span class=\"thumb_dim\"></span\\n></a>\\n<div class=\"popup_wrap\">\\n<a\\nhref=\"#\"\\nrole=\"button\"\\nclass=\"btn_popup _NM_NEWSSTAND_THUMB_subscribe_press\"\\ndata-pid=\"241\"\\ndata-clk=\"sub\"\\n>구독</a\\n>\\n<a\\nhref=\"#\"\\nrole=\"button\"\\nclass=\"btn_popup _NM_NEWSSTAND_THUMB_unsubscribe_press\"\\ndata-pid=\"241\"\\ndata-clk=\"unsub\"\\n>해지</a\\n>\\n<a\\nhref=\"http://newsstand.naver.com/?list=&pcode=241\"\\ntarget=\"_blank\"\\nclass=\"btn_popup\"\\ndata-clk=\"logo\"\\ndata-pid=\"241\"\\n>기사보기</a\\n>\\n</div>\\n</div>\\n<div\\nclass=\"thumb_box _NM_NEWSSTAND_THUMB _NM_NEWSSTAND_THUMB_press_valid\"\\ndata-pid=\"029\"\\n>\\n<a href=\"#\" class=\"thumb\">\\n<img\\nsrc=\"https://s.pstatic.net/static/newsstand/2020/logo/light/0604/029.png\"\\nheight=\"20\"\\nalt=\"디지털타임스\"\\nclass=\"news_logo\"\\n/>\\n<span class=\"thumb_dim\"></span\\n></a>\\n<div class=\"popup_wrap\">\\n<a\\nhref=\"#\"\\nrole=\"button\"\\nclass=\"btn_popup _NM_NEWSSTAND_THUMB_subscribe_press\"\\ndata-pid=\"029\"\\ndata-clk=\"sub\"\\n>구독</a\\n>\\n<a\\nhref=\"#\"\\nrole=\"button\"\\nclass=\"btn_popup _NM_NEWSSTAND_THUMB_unsubscribe_press\"\\ndata-pid=\"029\"\\ndata-clk=\"unsub\"\\n>해지</a\\n>\\n<a\\nhref=\"http://newsstand.naver.com/?list=&pcode=029\"\\ntarget=\"_blank\"\\nclass=\"btn_popup\"\\ndata-clk=\"logo\"\\ndata-pid=\"029\"\\n>기사보기</a\\n>\\n</div>\\n</div>\\n<div\\nclass=\"thumb_box _NM_NEWSSTAND_THUMB _NM_NEWSSTAND_THUMB_press_valid\"\\ndata-pid=\"081\"\\n>\\n<a href=\"#\" class=\"thumb\">\\n<img\\nsrc=\"https://s.pstatic.net/static/newsstand/2020/logo/light/0604/081.png\"\\nheight=\"20\"\\nalt=\"서울신문\"\\nclass=\"news_logo\"\\n/>\\n<span class=\"thumb_dim\"></span\\n></a>\\n<div class=\"popup_wrap\">\\n<a\\nhref=\"#\"\\nrole=\"button\"\\nclass=\"btn_popup _NM_NEWSSTAND_THUMB_subscribe_press\"\\ndata-pid=\"081\"\\ndata-clk=\"sub\"\\n>구독</a\\n>\\n<a\\nhref=\"#\"\\nrole=\"button\"\\nclass=\"btn_popup _NM_NEWSSTAND_THUMB_unsubscribe_press\"\\ndata-pid=\"081\"\\ndata-clk=\"unsub\"\\n>해지</a\\n>\\n<a\\nhref=\"http://newsstand.naver.com/?list=&pcode=081\"\\ntarget=\"_blank\"\\nclass=\"btn_popup\"\\ndata-clk=\"logo\"\\ndata-pid=\"081\"\\n>기사보기</a\\n>\\n</div>\\n</div>\\n<div\\nclass=\"thumb_box _NM_NEWSSTAND_THUMB _NM_NEWSSTAND_THUMB_press_invalid\"\\ndata-pid=\"376\"\\n>\\n<a href=\"#\" class=\"thumb\" aria-disabled=\"true\">\\n<img\\nsrc=\"https://s.pstatic.net/static/newsstand/2020/logo/light/0604/376.png\"\\nheight=\"20\"\\nalt=\"지지통신\"\\nclass=\"news_logo\"\\n/>\\n<span class=\"thumb_dim\"></span>\\n</a>\\n</div>\\n<div\\nclass=\"thumb_box _NM_NEWSSTAND_THUMB _NM_NEWSSTAND_THUMB_press_valid\"\\ndata-pid=\"422\"\\n>\\n<a href=\"#\" class=\"thumb\">\\n<img\\nsrc=\"https://s.pstatic.net/static/newsstand/2020/logo/light/0604/422.png\"\\nheight=\"20\"\\nalt=\"연합뉴스TV\"\\nclass=\"news_logo\"\\n/>\\n<span class=\"thumb_dim\"></span\\n></a>\\n<div class=\"popup_wrap\">\\n<a\\nhref=\"#\"\\nrole=\"button\"\\nclass=\"btn_popup _NM_NEWSSTAND_THUMB_subscribe_press\"\\ndata-pid=\"422\"\\ndata-clk=\"sub\"\\n>구독</a\\n>\\n<a\\nhref=\"#\"\\nrole=\"button\"\\nclass=\"btn_popup _NM_NEWSSTAND_THUMB_unsubscribe_press\"\\ndata-pid=\"422\"\\ndata-clk=\"unsub\"\\n>해지</a\\n>\\n<a\\nhref=\"http://newsstand.naver.com/?list=&pcode=422\"\\ntarget=\"_blank\"\\nclass=\"btn_popup\"\\ndata-clk=\"logo\"\\ndata-pid=\"422\"\\n>기사보기</a\\n>\\n</div>\\n</div>\\n<div\\nclass=\"thumb_box _NM_NEWSSTAND_THUMB _NM_NEWSSTAND_THUMB_press_valid\"\\ndata-pid=\"092\"\\n>\\n<a href=\"#\" class=\"thumb\">\\n<img\\nsrc=\"https://s.pstatic.net/static/newsstand/2020/logo/light/0604/092.png\"\\nheight=\"20\"\\nalt=\"지디넷코리아\"\\nclass=\"news_logo\"\\n/>\\n<span class=\"thumb_dim\"></span\\n></a>\\n<div class=\"popup_wrap\">\\n<a\\nhref=\"#\"\\nrole=\"button\"\\nclass=\"btn_popup _NM_NEWSSTAND_THUMB_subscribe_press\"\\ndata-pid=\"092\"\\ndata-clk=\"sub\"\\n>구독</a\\n>\\n<a\\nhref=\"#\"\\nrole=\"button\"\\nclass=\"btn_popup _NM_NEWSSTAND_THUMB_unsubscribe_press\"\\ndata-pid=\"092\"\\ndata-clk=\"unsub\"\\n>해지</a\\n>\\n<a\\nhref=\"http://newsstand.naver.com/?list=&pcode=092\"\\ntarget=\"_blank\"\\nclass=\"btn_popup\"\\ndata-clk=\"logo\"\\ndata-pid=\"092\"\\n>기사보기</a\\n>\\n</div>\\n</div>\\n<div\\nclass=\"thumb_box _NM_NEWSSTAND_THUMB _NM_NEWSSTAND_THUMB_press_valid\"\\ndata-pid=\"079\"\\n>\\n<a href=\"#\" class=\"thumb\">\\n<img\\nsrc=\"https://s.pstatic.net/static/newsstand/2020/logo/light/0604/079.png\"\\nheight=\"20\"\\nalt=\"노컷뉴스\"\\nclass=\"news_logo\"\\n/>\\n<span class=\"thumb_dim\"></span\\n></a>\\n<div class=\"popup_wrap\">\\n<a\\nhref=\"#\"\\nrole=\"button\"\\nclass=\"btn_popup _NM_NEWSSTAND_THUMB_subscribe_press\"\\ndata-pid=\"079\"\\ndata-clk=\"sub\"\\n>구독</a\\n>\\n<a\\nhref=\"#\"\\nrole=\"button\"\\nclass=\"btn_popup _NM_NEWSSTAND_THUMB_unsubscribe_press\"\\ndata-pid=\"079\"\\ndata-clk=\"unsub\"\\n>해지</a\\n>\\n<a\\nhref=\"http://newsstand.naver.com/?list=&pcode=079\"\\ntarget=\"_blank\"\\nclass=\"btn_popup\"\\ndata-clk=\"logo\"\\ndata-pid=\"079\"\\n>기사보기</a\\n>\\n</div>\\n</div>\\n<div\\nclass=\"thumb_box _NM_NEWSSTAND_THUMB _NM_NEWSSTAND_THUMB_press_valid\"\\ndata-pid=\"016\"\\n>\\n<a href=\"#\" class=\"thumb\">\\n<img\\nsrc=\"https://s.pstatic.net/static/newsstand/2020/logo/light/0604/016.png\"\\nheight=\"20\"\\nalt=\"헤럴드경제\"\\nclass=\"news_logo\"\\n/>\\n<span class=\"thumb_dim\"></span\\n></a>\\n<div class=\"popup_wrap\">\\n<a\\nhref=\"#\"\\nrole=\"button\"\\nclass=\"btn_popup _NM_NEWSSTAND_THUMB_subscribe_press\"\\ndata-pid=\"016\"\\ndata-clk=\"sub\"\\n>구독</a\\n>\\n<a\\nhref=\"#\"\\nrole=\"button\"\\nclass=\"btn_popup _NM_NEWSSTAND_THUMB_unsubscribe_press\"\\ndata-pid=\"016\"\\ndata-clk=\"unsub\"\\n>해지</a\\n>\\n<a\\nhref=\"http://newsstand.naver.com/?list=&pcode=016\"\\ntarget=\"_blank\"\\nclass=\"btn_popup\"\\ndata-clk=\"logo\"\\ndata-pid=\"016\"\\n>기사보기</a\\n>\\n</div>\\n</div>\\n<div\\nclass=\"thumb_box _NM_NEWSSTAND_THUMB _NM_NEWSSTAND_THUMB_press_valid\"\\ndata-pid=\"073\"\\n>\\n<a href=\"#\" class=\"thumb\">\\n<img\\nsrc=\"https://s.pstatic.net/static/newsstand/up/2020/0708/nsd94830278.png\"\\nheight=\"20\"\\nalt=\"스포츠서울\"\\nclass=\"news_logo\"\\n/>\\n<span class=\"thumb_dim\"></span\\n></a>\\n<div class=\"popup_wrap\">\\n<a\\nhref=\"#\"\\nrole=\"button\"\\nclass=\"btn_popup _NM_NEWSSTAND_THUMB_subscribe_press\"\\ndata-pid=\"073\"\\ndata-clk=\"sub\"\\n>구독</a\\n>\\n<a\\nhref=\"#\"\\nrole=\"button\"\\nclass=\"btn_popup _NM_NEWSSTAND_THUMB_unsubscribe_press\"\\ndata-pid=\"073\"\\ndata-clk=\"unsub\"\\n>해지</a\\n>\\n<a\\nhref=\"http://newsstand.naver.com/?list=&pcode=073\"\\ntarget=\"_blank\"\\nclass=\"btn_popup\"\\ndata-clk=\"logo\"\\ndata-pid=\"073\"\\n>기사보기</a\\n>\\n</div>\\n</div>\\n<div\\nclass=\"thumb_box _NM_NEWSSTAND_THUMB _NM_NEWSSTAND_THUMB_press_valid\"\\ndata-pid=\"005\"\\n>\\n<a href=\"#\" class=\"thumb\">\\n<img\\nsrc=\"https://s.pstatic.net/static/newsstand/2020/logo/light/0604/005.png\"\\nheight=\"20\"\\nalt=\"국민일보\"\\nclass=\"news_logo\"\\n/>\\n<span class=\"thumb_dim\"></span\\n></a>\\n<div class=\"popup_wrap\">\\n<a\\nhref=\"#\"\\nrole=\"button\"\\nclass=\"btn_popup _NM_NEWSSTAND_THUMB_subscribe_press\"\\ndata-pid=\"005\"\\ndata-clk=\"sub\"\\n>구독</a\\n>\\n<a\\nhref=\"#\"\\nrole=\"button\"\\nclass=\"btn_popup _NM_NEWSSTAND_THUMB_unsubscribe_press\"\\ndata-pid=\"005\"\\ndata-clk=\"unsub\"\\n>해지</a\\n>\\n<a\\nhref=\"http://newsstand.naver.com/?list=&pcode=005\"\\ntarget=\"_blank\"\\nclass=\"btn_popup\"\\ndata-clk=\"logo\"\\ndata-pid=\"005\"\\n>기사보기</a\\n>\\n</div>\\n</div>\\n<div\\nclass=\"thumb_box _NM_NEWSSTAND_THUMB _NM_NEWSSTAND_THUMB_press_valid\"\\ndata-pid=\"339\"\\n>\\n<a href=\"#\" class=\"thumb\">\\n<img\\nsrc=\"https://s.pstatic.net/static/newsstand/2020/logo/light/0604/339.png\"\\nheight=\"20\"\\nalt=\"경기일보\"\\nclass=\"news_logo\"\\n/>\\n<span class=\"thumb_dim\"></span\\n></a>\\n<div class=\"popup_wrap\">\\n<a\\nhref=\"#\"\\nrole=\"button\"\\nclass=\"btn_popup _NM_NEWSSTAND_THUMB_subscribe_press\"\\ndata-pid=\"339\"\\ndata-clk=\"sub\"\\n>구독</a\\n>\\n<a\\nhref=\"#\"\\nrole=\"button\"\\nclass=\"btn_popup _NM_NEWSSTAND_THUMB_unsubscribe_press\"\\ndata-pid=\"339\"\\ndata-clk=\"unsub\"\\n>해지</a\\n>\\n<a\\nhref=\"http://newsstand.naver.com/?list=&pcode=339\"\\ntarget=\"_blank\"\\nclass=\"btn_popup\"\\ndata-clk=\"logo\"\\ndata-pid=\"339\"\\n>기사보기</a\\n>\\n</div>\\n</div>\\n<div\\nclass=\"thumb_box _NM_NEWSSTAND_THUMB _NM_NEWSSTAND_THUMB_press_valid\"\\ndata-pid=\"387\"\\n>\\n<a href=\"#\" class=\"thumb\">\\n<img\\nsrc=\"https://s.pstatic.net/static/newsstand/2020/logo/light/0604/387.png\"\\nheight=\"20\"\\nalt=\"인천일보\"\\nclass=\"news_logo\"\\n/>\\n<span class=\"thumb_dim\"></span\\n></a>\\n<div class=\"popup_wrap\">\\n<a\\nhref=\"#\"\\nrole=\"button\"\\nclass=\"btn_popup _NM_NEWSSTAND_THUMB_subscribe_press\"\\ndata-pid=\"387\"\\ndata-clk=\"sub\"\\n>구독</a\\n>\\n<a\\nhref=\"#\"\\nrole=\"button\"\\nclass=\"btn_popup _NM_NEWSSTAND_THUMB_unsubscribe_press\"\\ndata-pid=\"387\"\\ndata-clk=\"unsub\"\\n>해지</a\\n>\\n<a\\nhref=\"http://newsstand.naver.com/?list=&pcode=387\"\\ntarget=\"_blank\"\\nclass=\"btn_popup\"\\ndata-clk=\"logo\"\\ndata-pid=\"387\"\\n>기사보기</a\\n>\\n</div>\\n</div>\\n<div\\nclass=\"thumb_box _NM_NEWSSTAND_THUMB _NM_NEWSSTAND_THUMB_press_valid\"\\ndata-pid=\"926\"\\n>\\n<a href=\"#\" class=\"thumb\">\\n<img\\nsrc=\"https://s.pstatic.net/static/newsstand/2020/logo/light/0604/926.png\"\\nheight=\"20\"\\nalt=\"중부일보\"\\nclass=\"news_logo\"\\n/>\\n<span class=\"thumb_dim\"></span\\n></a>\\n<div class=\"popup_wrap\">\\n<a\\nhref=\"#\"\\nrole=\"button\"\\nclass=\"btn_popup _NM_NEWSSTAND_THUMB_subscribe_press\"\\ndata-pid=\"926\"\\ndata-clk=\"sub\"\\n>구독</a\\n>\\n<a\\nhref=\"#\"\\nrole=\"button\"\\nclass=\"btn_popup _NM_NEWSSTAND_THUMB_unsubscribe_press\"\\ndata-pid=\"926\"\\ndata-clk=\"unsub\"\\n>해지</a\\n>\\n<a\\nhref=\"http://newsstand.naver.com/?list=&pcode=926\"\\ntarget=\"_blank\"\\nclass=\"btn_popup\"\\ndata-clk=\"logo\"\\ndata-pid=\"926\"\\n>기사보기</a\\n>\\n</div>\\n</div>\\n<div\\nclass=\"thumb_box _NM_NEWSSTAND_THUMB _NM_NEWSSTAND_THUMB_press_valid\"\\ndata-pid=\"108\"\\n>\\n<a href=\"#\" class=\"thumb\">\\n<img\\nsrc=\"https://s.pstatic.net/static/newsstand/2020/logo/light/0604/108.png\"\\nheight=\"20\"\\nalt=\"스타뉴스\"\\nclass=\"news_logo\"\\n/>\\n<span class=\"thumb_dim\"></span\\n></a>\\n<div class=\"popup_wrap\">\\n<a\\nhref=\"#\"\\nrole=\"button\"\\nclass=\"btn_popup _NM_NEWSSTAND_THUMB_subscribe_press\"\\ndata-pid=\"108\"\\ndata-clk=\"sub\"\\n>구독</a\\n>\\n<a\\nhref=\"#\"\\nrole=\"button\"\\nclass=\"btn_popup _NM_NEWSSTAND_THUMB_unsubscribe_press\"\\ndata-pid=\"108\"\\ndata-clk=\"unsub\"\\n>해지</a\\n>\\n<a\\nhref=\"http://newsstand.naver.com/?list=&pcode=108\"\\ntarget=\"_blank\"\\nclass=\"btn_popup\"\\ndata-clk=\"logo\"\\ndata-pid=\"108\"\\n>기사보기</a\\n>\\n</div>\\n</div>\\n<div\\nclass=\"thumb_box _NM_NEWSSTAND_THUMB _NM_NEWSSTAND_THUMB_press_valid\"\\ndata-pid=\"825\"\\n>\\n<a href=\"#\" class=\"thumb\">\\n<img\\nsrc=\"https://s.pstatic.net/static/newsstand/2020/logo/light/0604/825.png\"\\nheight=\"20\"\\nalt=\"이로운넷\"\\nclass=\"news_logo\"\\n/>\\n<span class=\"thumb_dim\"></span\\n></a>\\n<div class=\"popup_wrap\">\\n<a\\nhref=\"#\"\\nrole=\"button\"\\nclass=\"btn_popup _NM_NEWSSTAND_THUMB_subscribe_press\"\\ndata-pid=\"825\"\\ndata-clk=\"sub\"\\n>구독</a\\n>\\n<a\\nhref=\"#\"\\nrole=\"button\"\\nclass=\"btn_popup _NM_NEWSSTAND_THUMB_unsubscribe_press\"\\ndata-pid=\"825\"\\ndata-clk=\"unsub\"\\n>해지</a\\n>\\n<a\\nhref=\"http://newsstand.naver.com/?list=&pcode=825\"\\ntarget=\"_blank\"\\nclass=\"btn_popup\"\\ndata-clk=\"logo\"\\ndata-pid=\"825\"\\n>기사보기</a\\n>\\n</div>\\n</div>\\n<div\\nclass=\"thumb_box _NM_NEWSSTAND_THUMB _NM_NEWSSTAND_THUMB_press_valid\"\\ndata-pid=\"361\"\\n>\\n<a href=\"#\" class=\"thumb\">\\n<img\\nsrc=\"https://s.pstatic.net/static/newsstand/2020/logo/light/0604/361.png\"\\nheight=\"20\"\\nalt=\"채널예스\"\\nclass=\"news_logo\"\\n/>\\n<span class=\"thumb_dim\"></span\\n></a>\\n<div class=\"popup_wrap\">\\n<a\\nhref=\"#\"\\nrole=\"button\"\\nclass=\"btn_popup _NM_NEWSSTAND_THUMB_subscribe_press\"\\ndata-pid=\"361\"\\ndata-clk=\"sub\"\\n>구독</a\\n>\\n<a\\nhref=\"#\"\\nrole=\"button\"\\nclass=\"btn_popup _NM_NEWSSTAND_THUMB_unsubscribe_press\"\\ndata-pid=\"361\"\\ndata-clk=\"unsub\"\\n>해지</a\\n>\\n<a\\nhref=\"http://newsstand.naver.com/?list=&pcode=361\"\\ntarget=\"_blank\"\\nclass=\"btn_popup\"\\ndata-clk=\"logo\"\\ndata-pid=\"361\"\\n>기사보기</a\\n>\\n</div>\\n</div>\\n<div\\nclass=\"thumb_box _NM_NEWSSTAND_THUMB _NM_NEWSSTAND_THUMB_press_valid\"\\ndata-pid=\"818\"\\n>\\n<a href=\"#\" class=\"thumb\">\\n<img\\nsrc=\"https://s.pstatic.net/static/newsstand/2020/logo/light/0604/818.png\"\\nheight=\"20\"\\nalt=\"IT동아\"\\nclass=\"news_logo\"\\n/>\\n<span class=\"thumb_dim\"></span\\n></a>\\n<div class=\"popup_wrap\">\\n<a\\nhref=\"#\"\\nrole=\"button\"\\nclass=\"btn_popup _NM_NEWSSTAND_THUMB_subscribe_press\"\\ndata-pid=\"818\"\\ndata-clk=\"sub\"\\n>구독</a\\n>\\n<a\\nhref=\"#\"\\nrole=\"button\"\\nclass=\"btn_popup _NM_NEWSSTAND_THUMB_unsubscribe_press\"\\ndata-pid=\"818\"\\ndata-clk=\"unsub\"\\n>해지</a\\n>\\n<a\\nhref=\"http://newsstand.naver.com/?list=&pcode=818\"\\ntarget=\"_blank\"\\nclass=\"btn_popup\"\\ndata-clk=\"logo\"\\ndata-pid=\"818\"\\n>기사보기</a\\n>\\n</div>\\n</div>\\n<div\\nclass=\"thumb_box _NM_NEWSSTAND_THUMB _NM_NEWSSTAND_THUMB_press_valid\"\\ndata-pid=\"396\"\\n>\\n<a href=\"#\" class=\"thumb\">\\n<img\\nsrc=\"https://s.pstatic.net/static/newsstand/2020/logo/light/0604/396.png\"\\nheight=\"20\"\\nalt=\"스포츠월드\"\\nclass=\"news_logo\"\\n/>\\n<span class=\"thumb_dim\"></span\\n></a>\\n<div class=\"popup_wrap\">\\n<a\\nhref=\"#\"\\nrole=\"button\"\\nclass=\"btn_popup _NM_NEWSSTAND_THUMB_subscribe_press\"\\ndata-pid=\"396\"\\ndata-clk=\"sub\"\\n>구독</a\\n>\\n<a\\nhref=\"#\"\\nrole=\"button\"\\nclass=\"btn_popup _NM_NEWSSTAND_THUMB_unsubscribe_press\"\\ndata-pid=\"396\"\\ndata-clk=\"unsub\"\\n>해지</a\\n>\\n<a\\nhref=\"http://newsstand.naver.com/?list=&pcode=396\"\\ntarget=\"_blank\"\\nclass=\"btn_popup\"\\ndata-clk=\"logo\"\\ndata-pid=\"396\"\\n>기사보기</a\\n>\\n</div>\\n</div>\\n<div\\nclass=\"thumb_box _NM_NEWSSTAND_THUMB _NM_NEWSSTAND_THUMB_press_valid\"\\ndata-pid=\"296\"\\n>\\n<a href=\"#\" class=\"thumb\">\\n<img\\nsrc=\"https://s.pstatic.net/static/newsstand/2020/logo/light/0604/296.png\"\\nheight=\"20\"\\nalt=\"코메디닷컴\"\\nclass=\"news_logo\"\\n/>\\n<span class=\"thumb_dim\"></span\\n></a>\\n<div class=\"popup_wrap\">\\n<a\\nhref=\"#\"\\nrole=\"button\"\\nclass=\"btn_popup _NM_NEWSSTAND_THUMB_subscribe_press\"\\ndata-pid=\"296\"\\ndata-clk=\"sub\"\\n>구독</a\\n>\\n<a\\nhref=\"#\"\\nrole=\"button\"\\nclass=\"btn_popup _NM_NEWSSTAND_THUMB_unsubscribe_press\"\\ndata-pid=\"296\"\\ndata-clk=\"unsub\"\\n>해지</a\\n>\\n<a\\nhref=\"http://newsstand.naver.com/?list=&pcode=296\"\\ntarget=\"_blank\"\\nclass=\"btn_popup\"\\ndata-clk=\"logo\"\\ndata-pid=\"296\"\\n>기사보기</a\\n>\\n</div>\\n</div>\\n</div>\\n</div>\\n</div>\\n  </div> <div class=\"ly_popup NM_NEWSSTAND_POPUP NM_NEWSSTAND_invalid\" style=\"display:none\"> <a href=\"#\" role=\"button\" class=\"btn_close NM_NEWSSTAND_POPUP_CLOSE\"><i class=\"ico_close\"></i><span class=\"blind\">닫기</span></a> <p class=\"popup_msg\">해당 언론사 사정으로 접근이 일시 제한됩니다.</p> <div class=\"popup_btn\"> <a href=\"#\" role=\"button\" class=\"btn_confirm NM_NEWSSTAND_POPUP_CLOSE\">확인</a> </div> </div> <div class=\"ly_popup NM_NEWSSTAND_POPUP NM_NEWSSTAND_undescribe_confirm\" style=\"display:none\" data-clk-sub=\"*a\"> <a href=\"#\" role=\"button\" class=\"btn_close NM_NEWSSTAND_POPUP_CLOSE\" data-clk=\"usclose\"><i class=\"ico_close\"></i><span class=\"blind\">닫기</span></a> <p class=\"popup_msg\"><strong class=\"NM_NEWSSTAND_POPUP_PNAME\"></strong>을(를)<br/>구독해지 하시겠습니까?</p> <div class=\"popup_btn\"> <a href=\"#\" role=\"button\" class=\"btn_confirm NM_NEWSSTAND_POPUP_CONFIRM\" data-clk=\"usdone\">확인</a> <a href=\"#\" role=\"button\" class=\"btn_confirm NM_NEWSSTAND_POPUP_CLOSE\" data-clk=\"uscancel\">취소</a> </div> </div> <div class=\"ly_toast NM_NEWSSTAND_TOAST\" style=\"display:none\"> <p class=\"toast_msg\">구독한 언론사에 추가되었습니다.</p> </div> </div> <div id=\"NM_NEWSSTAND_MY_LIST\" class=\"group_news\" style=\"display:none\" data-clk-prefix=\"nsd_myn\"> <a href=\"#\" role=\"button\" class=\"pm_btn_prev_l _NM_NEWSSTAND_LIST_prev_btn\" data-clk-custom=\"prev\"><i class=\"ico_btn\"></i><span class=\"blind\">이전</span></a> <a href=\"#\" role=\"button\" class=\"pm_btn_next_l _NM_NEWSSTAND_LIST_next_btn\" data-clk-custom=\"next\"><i class=\"ico_btn\"></i><span class=\"blind\">다음</span><span class=\"blind\">다음</span></a> <div class=\"list_view\"> <div class=\"option_area\"> <div class=\"list_option_wrap\"> <ul class=\"list_option _NM_NEWSSTAND_MY_presslist\"> <!-- nvpaperlist:empty --> </ul> </div> </div> <div class=\"_NM_NEWSSTAND_ARTICLE_CONTAINER\" data-clk-sub=\"*a\">  </div> </div> <div class=\"ly_popup NM_NEWSSTAND_POPUP NM_NEWSSTAND_invalid\" style=\"display:none\"> <a href=\"#\" role=\"button\" class=\"btn_close NM_NEWSSTAND_POPUP_CLOSE\"><i class=\"ico_close\"></i><span class=\"blind\">닫기</span></a> <p class=\"popup_msg\">해당 언론사 사정으로 접근이 일시 제한됩니다.</p> <div class=\"popup_btn\"> <a href=\"#\" role=\"button\" class=\"btn_confirm NM_NEWSSTAND_POPUP_CLOSE\">확인</a> </div> </div> <div class=\"ly_popup NM_NEWSSTAND_POPUP NM_NEWSSTAND_undescribe_confirm\" style=\"display:none\" data-clk-sub=\"*a\"> <a href=\"#\" role=\"button\" class=\"btn_close NM_NEWSSTAND_POPUP_CLOSE\" data-clk=\"usclose\"><i class=\"ico_close\"></i><span class=\"blind\">닫기</span></a> <p class=\"popup_msg\"><strong class=\"NM_NEWSSTAND_POPUP_PNAME\"></strong>을(를)<br>구독해지 하시겠습니까?</p> <div class=\"popup_btn\"> <a href=\"#\" role=\"button\" class=\"btn_confirm NM_NEWSSTAND_POPUP_CONFIRM\" data-clk=\"usdone\">확인</a> <a href=\"#\" role=\"button\" class=\"btn_confirm NM_NEWSSTAND_POPUP_CLOSE\" data-clk=\"uscancel\">취소</a> </div> </div> </div> <div id=\"NM_NEWSSTAND_MY_THUMB\" class=\"group_news\" style=\"display:none\" data-clk-prefix=\"nsd_myn\"> <a href=\"#\" role=\"button\" class=\"pm_btn_prev_l _NM_UI_PAGE_PREV\" data-clk-custom=\"prev\"><i class=\"ico_btn\"><span class=\"blind\">이전</span></i></a> <a href=\"#\" role=\"button\" class=\"pm_btn_next_l _NM_UI_PAGE_NEXT\" data-clk-custom=\"next\"><i class=\"ico_btn\"><span class=\"blind\">다음</span></i></a> <div class=\"_NM_UI_PAGE_CONTAINER\" data-clk-sub=\"*p\"></div> <div class=\"ly_popup NM_NEWSSTAND_POPUP NM_NEWSSTAND_invalid\" style=\"display:none\"> <a href=\"#\" role=\"button\" class=\"btn_close NM_NEWSSTAND_POPUP_CLOSE\"><i class=\"ico_close\"></i><span class=\"blind\">닫기</span></a> <p class=\"popup_msg\">해당 언론사 사정으로 접근이 일시 제한됩니다.</p> <div class=\"popup_btn\"> <a href=\"#\" role=\"button\" class=\"btn_confirm NM_NEWSSTAND_POPUP_CLOSE\">확인</a> </div> </div> <div class=\"ly_popup NM_NEWSSTAND_POPUP NM_NEWSSTAND_undescribe_confirm\" style=\"display:none\" data-clk-sub=\"*a\"> <a href=\"#\" role=\"button\" class=\"btn_close NM_NEWSSTAND_POPUP_CLOSE\" data-clk=\"usclose\"><i class=\"ico_close\"></i><span class=\"blind\">닫기</span></a> <p class=\"popup_msg\"><strong class=\"NM_NEWSSTAND_POPUP_PNAME\"></strong>을(를)<br>구독해지 하시겠습니까?</p> <div class=\"popup_btn\"> <a href=\"#\" role=\"button\" class=\"btn_confirm NM_NEWSSTAND_POPUP_CONFIRM\" data-clk=\"usdone\">확인</a> <a href=\"#\" role=\"button\" class=\"btn_confirm NM_NEWSSTAND_POPUP_CLOSE\" data-clk=\"uscancel\">취소</a> </div> </div> </div> <div id=\"NM_NEWSSTAND_MY_EMPTY\" class=\"group_news\" style=\"display:none\"> <div class=\"error_view\"> <div class=\"error_area\"> <strong class=\"error_msg\">구독한 언론사가 없습니다.</strong> <p class=\"dsc_msg\">언론사 구독 설정에서 관심있는 언론사를 구독하시면<br>언론사가 직접 편집한 뉴스들을 네이버 홈에서 바로 보실 수 있습니다.</p> <a href=\"http://newsstand.naver.com/config.html\" class=\"link_redirect\" target=\"_blank\">언론사 구독 설정하기</a> </div> </div> </div> </div> </div> <!-- EMPTY --> <div id=\"NM_THEMECAST_CONTENTS_CONTAINER\"> <div id=\"themecast\" class=\"sc_themecast id_beauty\" >\\n\\t<h2 class=\"blind\">주제별 캐스트</h2>\\n\\t<div class=\"theme_head\">\\n\\t\\t<div class=\"group_title\">\\n\\t<div class=\"title_area\">\\n\\t\\t<strong class=\"title\">오늘 읽을만한 글</strong><span class=\"dsc\">주제별로 분류된 다양한 글 모음</span>\\n\\t</div>\\n\\t<div class=\"info_area\">\\n\\t\\t\\n\\t\\t\\t<span class=\"info\"><strong class=\"new\">1,801</strong> 개의 글</span>\\n\\t\\t\\n\\t\\t<a id=\"NM_THEME_EDIT_SET\" href=\"#\" role=\"button\" class=\"btn_set\" data-clk=\"tca.like\">관심주제 설정</a>\\n\\t</div>\\n</div>\\n<div class=\"theme_fix_wrap\">\\n\\t<div id=\"NM_THEME_CATE_GROUPS\" class=\"group_category\" data-demo-key=\"default\">\\n\\t\\t<div class=\"main_category\">\\n\\t\\t\\t<a href=\"#\" role=\"button\" class=\"pm_btn_prev NM_THEME_PREV\" data-clk=\"tct.prev\" style=\"display: none;\">\\n\\t\\t\\t\\t<i class=\"ico_btn\"><span class=\"blind\">이전</span></i>\\n\\t\\t\\t</a>\\n\\t\\t\\t<a href=\"#\" role=\"button\" class=\"pm_btn_next NM_THEME_NEXT\" data-clk=\"tct.next\" style=\"display: none;\">\\n\\t\\t\\t\\t<i class=\"ico_btn\"><span class=\"blind\">다음</span></i>\\n\\t\\t\\t</a>\\n\\t\\t\\t<div id=\"NM_THEME_CATE_FLICK\" class=\"_NM_UI_PAGE_CONTAINER\" style=\"height: 49px; overflow: hidden;\">\\n\\t\\t\\t\\t\\n\\t\\t\\t\\t\\t<div style=\"width: 750px;\">\\n\\t\\t\\t\\t\\t\\t<ul class=\"list_category\" role=\"tablist\">\\n\\t\\t\\t\\t\\t\\t\\t\\n\\t\\t\\t\\t\\t\\t\\t\\t<li class=\"category_item\" role=\"presentation\">\\n\\t\\t\\t\\t\\t\\t\\t\\t\\t\\n\\t\\t\\t\\t\\t\\t\\t\\t\\t\\n\\t\\t\\t\\t\\t\\t\\t\\t\\t<a href=\"#\" role=\"tab\" class=\"_NM_THEME_CATE tab id_enter\"\\n\\t\\t\\t\\t\\t\\t\\t\\t\\t   aria-selected=\"false\"\\n\\t\\t\\t\\t\\t\\t\\t\\t\\t   data-clk=\"tct.tvc\" data-panel-code=\"ENTER\">엔터</a>\\n\\t\\t\\t\\t\\t\\t\\t\\t</li>\\n\\t\\t\\t\\t\\t\\t\\t\\n\\t\\t\\t\\t\\t\\t\\t\\t<li class=\"category_item\" role=\"presentation\">\\n\\t\\t\\t\\t\\t\\t\\t\\t\\t\\n\\t\\t\\t\\t\\t\\t\\t\\t\\t\\n\\t\\t\\t\\t\\t\\t\\t\\t\\t<a href=\"#\" role=\"tab\" class=\"_NM_THEME_CATE tab id_sports\"\\n\\t\\t\\t\\t\\t\\t\\t\\t\\t   aria-selected=\"false\"\\n\\t\\t\\t\\t\\t\\t\\t\\t\\t   data-clk=\"tct.spo\" data-panel-code=\"SPORTS\">스포츠</a>\\n\\t\\t\\t\\t\\t\\t\\t\\t</li>\\n\\t\\t\\t\\t\\t\\t\\t\\n\\t\\t\\t\\t\\t\\t\\t\\t<li class=\"category_item\" role=\"presentation\">\\n\\t\\t\\t\\t\\t\\t\\t\\t\\t\\n\\t\\t\\t\\t\\t\\t\\t\\t\\t\\n\\t\\t\\t\\t\\t\\t\\t\\t\\t<a href=\"#\" role=\"tab\" class=\"_NM_THEME_CATE tab id_cargame\"\\n\\t\\t\\t\\t\\t\\t\\t\\t\\t   aria-selected=\"false\"\\n\\t\\t\\t\\t\\t\\t\\t\\t\\t   data-clk=\"tct.aut\" data-panel-code=\"CARGAME\">자동차</a>\\n\\t\\t\\t\\t\\t\\t\\t\\t</li>\\n\\t\\t\\t\\t\\t\\t\\t\\n\\t\\t\\t\\t\\t\\t\\t\\t<li class=\"category_item\" role=\"presentation\">\\n\\t\\t\\t\\t\\t\\t\\t\\t\\t\\n\\t\\t\\t\\t\\t\\t\\t\\t\\t\\n\\t\\t\\t\\t\\t\\t\\t\\t\\t<a href=\"#\" role=\"tab\" class=\"_NM_THEME_CATE tab id_bboom\"\\n\\t\\t\\t\\t\\t\\t\\t\\t\\t   aria-selected=\"false\"\\n\\t\\t\\t\\t\\t\\t\\t\\t\\t   data-clk=\"tct.web\" data-panel-code=\"BBOOM\">웹툰</a>\\n\\t\\t\\t\\t\\t\\t\\t\\t</li>\\n\\t\\t\\t\\t\\t\\t\\t\\n\\t\\t\\t\\t\\t\\t\\t\\t<li class=\"category_item\" role=\"presentation\">\\n\\t\\t\\t\\t\\t\\t\\t\\t\\t\\n\\t\\t\\t\\t\\t\\t\\t\\t\\t\\n\\t\\t\\t\\t\\t\\t\\t\\t\\t<a href=\"#\" role=\"tab\" class=\"_NM_THEME_CATE tab id_finance\"\\n\\t\\t\\t\\t\\t\\t\\t\\t\\t   aria-selected=\"false\"\\n\\t\\t\\t\\t\\t\\t\\t\\t\\t   data-clk=\"tct.fin\" data-panel-code=\"FINANCE\">경제M</a>\\n\\t\\t\\t\\t\\t\\t\\t\\t</li>\\n\\t\\t\\t\\t\\t\\t\\t\\n\\t\\t\\t\\t\\t\\t\\t\\t<li class=\"category_item\" role=\"presentation\">\\n\\t\\t\\t\\t\\t\\t\\t\\t\\t\\n\\t\\t\\t\\t\\t\\t\\t\\t\\t\\n\\t\\t\\t\\t\\t\\t\\t\\t\\t<a href=\"#\" role=\"tab\" class=\"_NM_THEME_CATE tab id_living\"\\n\\t\\t\\t\\t\\t\\t\\t\\t\\t   aria-selected=\"false\"\\n\\t\\t\\t\\t\\t\\t\\t\\t\\t   data-clk=\"tct.fod\" data-panel-code=\"LIVING\">푸드</a>\\n\\t\\t\\t\\t\\t\\t\\t\\t</li>\\n\\t\\t\\t\\t\\t\\t\\t\\n\\t\\t\\t\\t\\t\\t\\t\\t<li class=\"category_item\" role=\"presentation\">\\n\\t\\t\\t\\t\\t\\t\\t\\t\\t\\n\\t\\t\\t\\t\\t\\t\\t\\t\\t\\n\\t\\t\\t\\t\\t\\t\\t\\t\\t<a href=\"#\" role=\"tab\" class=\"_NM_THEME_CATE tab id_gameapp\"\\n\\t\\t\\t\\t\\t\\t\\t\\t\\t   aria-selected=\"false\"\\n\\t\\t\\t\\t\\t\\t\\t\\t\\t   data-clk=\"tct.gam\" data-panel-code=\"GAMEAPP\">게임</a>\\n\\t\\t\\t\\t\\t\\t\\t\\t</li>\\n\\t\\t\\t\\t\\t\\t\\t\\n\\t\\t\\t\\t\\t\\t\\t\\t<li class=\"category_item\" role=\"presentation\">\\n\\t\\t\\t\\t\\t\\t\\t\\t\\t\\n\\t\\t\\t\\t\\t\\t\\t\\t\\t\\n\\t\\t\\t\\t\\t\\t\\t\\t\\t<a href=\"#\" role=\"tab\" class=\"_NM_THEME_CATE tab id_movie\"\\n\\t\\t\\t\\t\\t\\t\\t\\t\\t   aria-selected=\"false\"\\n\\t\\t\\t\\t\\t\\t\\t\\t\\t   data-clk=\"tct.mov\" data-panel-code=\"MOVIE\">영화</a>\\n\\t\\t\\t\\t\\t\\t\\t\\t</li>\\n\\t\\t\\t\\t\\t\\t\\t\\n\\t\\t\\t\\t\\t\\t</ul>\\n\\t\\t\\t\\t\\t</div>\\n\\t\\t\\t\\t\\n\\t\\t\\t\\t\\t<div style=\"width: 750px;\">\\n\\t\\t\\t\\t\\t\\t<ul class=\"list_category\" role=\"tablist\">\\n\\t\\t\\t\\t\\t\\t\\t\\n\\t\\t\\t\\t\\t\\t\\t\\t<li class=\"category_item\" role=\"presentation\">\\n\\t\\t\\t\\t\\t\\t\\t\\t\\t\\n\\t\\t\\t\\t\\t\\t\\t\\t\\t\\n\\t\\t\\t\\t\\t\\t\\t\\t\\t<a href=\"#\" role=\"tab\" class=\"_NM_THEME_CATE tab id_job\"\\n\\t\\t\\t\\t\\t\\t\\t\\t\\t   aria-selected=\"false\"\\n\\t\\t\\t\\t\\t\\t\\t\\t\\t   data-clk=\"tct.job\" data-panel-code=\"JOB\">JOB&amp;</a>\\n\\t\\t\\t\\t\\t\\t\\t\\t</li>\\n\\t\\t\\t\\t\\t\\t\\t\\n\\t\\t\\t\\t\\t\\t\\t\\t<li class=\"category_item\" role=\"presentation\">\\n\\t\\t\\t\\t\\t\\t\\t\\t\\t\\n\\t\\t\\t\\t\\t\\t\\t\\t\\t\\n\\t\\t\\t\\t\\t\\t\\t\\t\\t<a href=\"#\" role=\"tab\" class=\"_NM_THEME_CATE tab id_ittech\"\\n\\t\\t\\t\\t\\t\\t\\t\\t\\t   aria-selected=\"false\"\\n\\t\\t\\t\\t\\t\\t\\t\\t\\t   data-clk=\"tct.tec\" data-panel-code=\"ITTECH\">테크</a>\\n\\t\\t\\t\\t\\t\\t\\t\\t</li>\\n\\t\\t\\t\\t\\t\\t\\t\\n\\t\\t\\t\\t\\t\\t\\t\\t<li class=\"category_item\" role=\"presentation\">\\n\\t\\t\\t\\t\\t\\t\\t\\t\\t\\n\\t\\t\\t\\t\\t\\t\\t\\t\\t\\n\\t\\t\\t\\t\\t\\t\\t\\t\\t<a href=\"#\" role=\"tab\" class=\"_NM_THEME_CATE tab id_travel\"\\n\\t\\t\\t\\t\\t\\t\\t\\t\\t   aria-selected=\"false\"\\n\\t\\t\\t\\t\\t\\t\\t\\t\\t   data-clk=\"tct.tra\" data-panel-code=\"TRAVEL\">여행+</a>\\n\\t\\t\\t\\t\\t\\t\\t\\t</li>\\n\\t\\t\\t\\t\\t\\t\\t\\n\\t\\t\\t\\t\\t\\t\\t\\t<li class=\"category_item\" role=\"presentation\">\\n\\t\\t\\t\\t\\t\\t\\t\\t\\t\\n\\t\\t\\t\\t\\t\\t\\t\\t\\t\\n\\t\\t\\t\\t\\t\\t\\t\\t\\t<a href=\"#\" role=\"tab\" class=\"_NM_THEME_CATE tab id_science\"\\n\\t\\t\\t\\t\\t\\t\\t\\t\\t   aria-selected=\"false\"\\n\\t\\t\\t\\t\\t\\t\\t\\t\\t   data-clk=\"tct.sci\" data-panel-code=\"SCIENCE\">과학</a>\\n\\t\\t\\t\\t\\t\\t\\t\\t</li>\\n\\t\\t\\t\\t\\t\\t\\t\\n\\t\\t\\t\\t\\t\\t\\t\\t<li class=\"category_item\" role=\"presentation\">\\n\\t\\t\\t\\t\\t\\t\\t\\t\\t\\n\\t\\t\\t\\t\\t\\t\\t\\t\\t\\n\\t\\t\\t\\t\\t\\t\\t\\t\\t<a href=\"#\" role=\"tab\" class=\"_NM_THEME_CATE tab id_livinghome\"\\n\\t\\t\\t\\t\\t\\t\\t\\t\\t   aria-selected=\"false\"\\n\\t\\t\\t\\t\\t\\t\\t\\t\\t   data-clk=\"tct.lif\" data-panel-code=\"LIVINGHOME\">리빙</a>\\n\\t\\t\\t\\t\\t\\t\\t\\t</li>\\n\\t\\t\\t\\t\\t\\t\\t\\n\\t\\t\\t\\t\\t\\t\\t\\t<li class=\"category_item\" role=\"presentation\">\\n\\t\\t\\t\\t\\t\\t\\t\\t\\t\\n\\t\\t\\t\\t\\t\\t\\t\\t\\t\\n\\t\\t\\t\\t\\t\\t\\t\\t\\t<a href=\"#\" role=\"tab\" class=\"_NM_THEME_CATE tab id_health\"\\n\\t\\t\\t\\t\\t\\t\\t\\t\\t   aria-selected=\"false\"\\n\\t\\t\\t\\t\\t\\t\\t\\t\\t   data-clk=\"tct.hea\" data-panel-code=\"HEALTH\">건강</a>\\n\\t\\t\\t\\t\\t\\t\\t\\t</li>\\n\\t\\t\\t\\t\\t\\t\\t\\n\\t\\t\\t\\t\\t\\t\\t\\t<li class=\"category_item\" role=\"presentation\">\\n\\t\\t\\t\\t\\t\\t\\t\\t\\t\\n\\t\\t\\t\\t\\t\\t\\t\\t\\t\\n\\t\\t\\t\\t\\t\\t\\t\\t\\t<a href=\"#\" role=\"tab\" class=\"_NM_THEME_CATE tab id_business\"\\n\\t\\t\\t\\t\\t\\t\\t\\t\\t   aria-selected=\"false\"\\n\\t\\t\\t\\t\\t\\t\\t\\t\\t   data-clk=\"tct.bsn\" data-panel-code=\"BUSINESS\">비즈니스</a>\\n\\t\\t\\t\\t\\t\\t\\t\\t</li>\\n\\t\\t\\t\\t\\t\\t\\t\\n\\t\\t\\t\\t\\t\\t\\t\\t<li class=\"category_item\" role=\"presentation\">\\n\\t\\t\\t\\t\\t\\t\\t\\t\\t\\n\\t\\t\\t\\t\\t\\t\\t\\t\\t\\n\\t\\t\\t\\t\\t\\t\\t\\t\\t<a href=\"#\" role=\"tab\" class=\"_NM_THEME_CATE tab id_wedding\"\\n\\t\\t\\t\\t\\t\\t\\t\\t\\t   aria-selected=\"false\"\\n\\t\\t\\t\\t\\t\\t\\t\\t\\t   data-clk=\"tct.wed\" data-panel-code=\"WEDDING\">연애·결혼</a>\\n\\t\\t\\t\\t\\t\\t\\t\\t</li>\\n\\t\\t\\t\\t\\t\\t\\t\\n\\t\\t\\t\\t\\t\\t</ul>\\n\\t\\t\\t\\t\\t</div>\\n\\t\\t\\t\\t\\n\\t\\t\\t\\t\\t<div style=\"width: 750px;\">\\n\\t\\t\\t\\t\\t\\t<ul class=\"list_category\" role=\"tablist\">\\n\\t\\t\\t\\t\\t\\t\\t\\n\\t\\t\\t\\t\\t\\t\\t\\t<li class=\"category_item\" role=\"presentation\">\\n\\t\\t\\t\\t\\t\\t\\t\\t\\t\\n\\t\\t\\t\\t\\t\\t\\t\\t\\t\\n\\t\\t\\t\\t\\t\\t\\t\\t\\t<a href=\"#\" role=\"tab\" class=\"_NM_THEME_CATE tab id_culture\"\\n\\t\\t\\t\\t\\t\\t\\t\\t\\t   aria-selected=\"false\"\\n\\t\\t\\t\\t\\t\\t\\t\\t\\t   data-clk=\"tct.bok\" data-panel-code=\"CULTURE\">책문화</a>\\n\\t\\t\\t\\t\\t\\t\\t\\t</li>\\n\\t\\t\\t\\t\\t\\t\\t\\n\\t\\t\\t\\t\\t\\t\\t\\t<li class=\"category_item\" role=\"presentation\">\\n\\t\\t\\t\\t\\t\\t\\t\\t\\t\\n\\t\\t\\t\\t\\t\\t\\t\\t\\t\\n\\t\\t\\t\\t\\t\\t\\t\\t\\t<a href=\"#\" role=\"tab\" class=\"_NM_THEME_CATE tab id_momkids\"\\n\\t\\t\\t\\t\\t\\t\\t\\t\\t   aria-selected=\"false\"\\n\\t\\t\\t\\t\\t\\t\\t\\t\\t   data-clk=\"tct.mom\" data-panel-code=\"MOMKIDS\">부모i</a>\\n\\t\\t\\t\\t\\t\\t\\t\\t</li>\\n\\t\\t\\t\\t\\t\\t\\t\\n\\t\\t\\t\\t\\t\\t\\t\\t<li class=\"category_item\" role=\"presentation\">\\n\\t\\t\\t\\t\\t\\t\\t\\t\\t\\n\\t\\t\\t\\t\\t\\t\\t\\t\\t\\n\\t\\t\\t\\t\\t\\t\\t\\t\\t<a href=\"#\" role=\"tab\" class=\"_NM_THEME_CATE tab id_law\"\\n\\t\\t\\t\\t\\t\\t\\t\\t\\t   aria-selected=\"false\"\\n\\t\\t\\t\\t\\t\\t\\t\\t\\t   data-clk=\"tct.law\" data-panel-code=\"LAW\">법률</a>\\n\\t\\t\\t\\t\\t\\t\\t\\t</li>\\n\\t\\t\\t\\t\\t\\t\\t\\n\\t\\t\\t\\t\\t\\t\\t\\t<li class=\"category_item\" role=\"presentation\">\\n\\t\\t\\t\\t\\t\\t\\t\\t\\t\\n\\t\\t\\t\\t\\t\\t\\t\\t\\t\\n\\t\\t\\t\\t\\t\\t\\t\\t\\t<a href=\"#\" role=\"tab\" class=\"_NM_THEME_CATE tab id_beauty\"\\n\\t\\t\\t\\t\\t\\t\\t\\t\\t   aria-selected=\"true\"\\n\\t\\t\\t\\t\\t\\t\\t\\t\\t   data-clk=\"tct.bty\" data-panel-code=\"BEAUTY\">패션뷰티</a>\\n\\t\\t\\t\\t\\t\\t\\t\\t</li>\\n\\t\\t\\t\\t\\t\\t\\t\\n\\t\\t\\t\\t\\t\\t\\t\\t<li class=\"category_item\" role=\"presentation\">\\n\\t\\t\\t\\t\\t\\t\\t\\t\\t\\n\\t\\t\\t\\t\\t\\t\\t\\t\\t\\n\\t\\t\\t\\t\\t\\t\\t\\t\\t<a href=\"#\" role=\"tab\" class=\"_NM_THEME_CATE tab id_animal\"\\n\\t\\t\\t\\t\\t\\t\\t\\t\\t   aria-selected=\"false\"\\n\\t\\t\\t\\t\\t\\t\\t\\t\\t   data-clk=\"tct.ani\" data-panel-code=\"ANIMAL\">동물공감</a>\\n\\t\\t\\t\\t\\t\\t\\t\\t</li>\\n\\t\\t\\t\\t\\t\\t\\t\\n\\t\\t\\t\\t\\t\\t\\t\\t<li class=\"category_item\" role=\"presentation\">\\n\\t\\t\\t\\t\\t\\t\\t\\t\\t\\n\\t\\t\\t\\t\\t\\t\\t\\t\\t\\n\\t\\t\\t\\t\\t\\t\\t\\t\\t<a href=\"#\" role=\"tab\" class=\"_NM_THEME_CATE tab id_design\"\\n\\t\\t\\t\\t\\t\\t\\t\\t\\t   aria-selected=\"false\"\\n\\t\\t\\t\\t\\t\\t\\t\\t\\t   data-clk=\"tct.des\" data-panel-code=\"DESIGN\">디자인</a>\\n\\t\\t\\t\\t\\t\\t\\t\\t</li>\\n\\t\\t\\t\\t\\t\\t\\t\\n\\t\\t\\t\\t\\t\\t\\t\\t<li class=\"category_item\" role=\"presentation\">\\n\\t\\t\\t\\t\\t\\t\\t\\t\\t\\n\\t\\t\\t\\t\\t\\t\\t\\t\\t\\n\\t\\t\\t\\t\\t\\t\\t\\t\\t<a href=\"#\" role=\"tab\" class=\"_NM_THEME_CATE tab id_china\"\\n\\t\\t\\t\\t\\t\\t\\t\\t\\t   aria-selected=\"false\"\\n\\t\\t\\t\\t\\t\\t\\t\\t\\t   data-clk=\"tct.chn\" data-panel-code=\"CHINA\">중국</a>\\n\\t\\t\\t\\t\\t\\t\\t\\t</li>\\n\\t\\t\\t\\t\\t\\t\\t\\n\\t\\t\\t\\t\\t\\t\\t\\t<li class=\"category_item\" role=\"presentation\">\\n\\t\\t\\t\\t\\t\\t\\t\\t\\t\\n\\t\\t\\t\\t\\t\\t\\t\\t\\t\\n\\t\\t\\t\\t\\t\\t\\t\\t\\t<a href=\"#\" role=\"tab\" class=\"_NM_THEME_CATE tab id_farm\"\\n\\t\\t\\t\\t\\t\\t\\t\\t\\t   aria-selected=\"false\"\\n\\t\\t\\t\\t\\t\\t\\t\\t\\t   data-clk=\"tct.far\" data-panel-code=\"FARM\">FARM</a>\\n\\t\\t\\t\\t\\t\\t\\t\\t</li>\\n\\t\\t\\t\\t\\t\\t\\t\\n\\t\\t\\t\\t\\t\\t</ul>\\n\\t\\t\\t\\t\\t</div>\\n\\t\\t\\t\\t\\n\\t\\t\\t\\t\\t<div style=\"width: 750px;\">\\n\\t\\t\\t\\t\\t\\t<ul class=\"list_category\" role=\"tablist\">\\n\\t\\t\\t\\t\\t\\t\\t\\n\\t\\t\\t\\t\\t\\t\\t\\t<li class=\"category_item\" role=\"presentation\">\\n\\t\\t\\t\\t\\t\\t\\t\\t\\t\\n\\t\\t\\t\\t\\t\\t\\t\\t\\t\\n\\t\\t\\t\\t\\t\\t\\t\\t\\t<a href=\"#\" role=\"tab\" class=\"_NM_THEME_CATE tab id_show\"\\n\\t\\t\\t\\t\\t\\t\\t\\t\\t   aria-selected=\"false\"\\n\\t\\t\\t\\t\\t\\t\\t\\t\\t   data-clk=\"tct.sow\" data-panel-code=\"SHOW\">공연전시</a>\\n\\t\\t\\t\\t\\t\\t\\t\\t</li>\\n\\t\\t\\t\\t\\t\\t\\t\\n\\t\\t\\t\\t\\t\\t\\t\\t<li class=\"category_item\" role=\"presentation\">\\n\\t\\t\\t\\t\\t\\t\\t\\t\\t\\n\\t\\t\\t\\t\\t\\t\\t\\t\\t\\n\\t\\t\\t\\t\\t\\t\\t\\t\\t<a href=\"#\" role=\"tab\" class=\"_NM_THEME_CATE tab id_with\"\\n\\t\\t\\t\\t\\t\\t\\t\\t\\t   aria-selected=\"false\"\\n\\t\\t\\t\\t\\t\\t\\t\\t\\t   data-clk=\"tct.pub\" data-panel-code=\"WITH\">함께N</a>\\n\\t\\t\\t\\t\\t\\t\\t\\t</li>\\n\\t\\t\\t\\t\\t\\t\\t\\n\\t\\t\\t\\t\\t\\t\\t\\t<li class=\"category_item\" role=\"presentation\">\\n\\t\\t\\t\\t\\t\\t\\t\\t\\t\\n\\t\\t\\t\\t\\t\\t\\t\\t\\t\\n\\t\\t\\t\\t\\t\\t\\t\\t\\t<a href=\"#\" role=\"tab\" class=\"_NM_THEME_CATE tab id_school\"\\n\\t\\t\\t\\t\\t\\t\\t\\t\\t   aria-selected=\"false\"\\n\\t\\t\\t\\t\\t\\t\\t\\t\\t   data-clk=\"tct.scl\" data-panel-code=\"SCHOOL\">스쿨잼</a>\\n\\t\\t\\t\\t\\t\\t\\t\\t</li>\\n\\t\\t\\t\\t\\t\\t\\t\\n\\t\\t\\t\\t\\t\\t</ul>\\n\\t\\t\\t\\t\\t</div>\\n\\t\\t\\t\\t\\n\\t\\t\\t</div>\\n\\t\\t</div>\\n\\t</div>\\n</div>\\n\\n\\t</div>\\n\\t<div class=\"theme_cont\" data-panel-code=\"BEAUTY\">\\n\\t\\t<div class=\"group_topstory\" data-block-id=\"60599d964481b4a0c2d2a82e\" data-block-code=\"PC-THEME-BEAUTY-EDIT-AREA\" data-block-type=\"BLOCKS\" data-template-code=\"PC-THEMECAST-EDIT-AREA\"\\n\\n\\t data-da=\"margin-top\"\\n\\t >\\n\\n\\t<div class=\"topstory_inner\" data-block-id=\"60599c6d4481b4a0c2d2a82c\" data-block-code=\"PC-THEME-BEAUTY-EDIT-AREA-ITEM\" data-block-type=\"A-MATERIAL\" data-template-code=\"IMAGE1\"\\n\\n\\t >\\n\\n\\t\\n\\t\\t<div class=\"topstory_view \">\\n\\n\\t\\t\\t\\n\\t\\t\\t\\n\\t\\t\\t<a href=\"https://tv.naver.com/v/19078857\" class=\"topstory_thumb\"\\n\\t\\t\\t   data-clk=\"tcc_bty.editbigimg1\"\\n\\t\\t\\t   target=\"_blank\">\\n\\t\\t\\t\\t<img src=\"https://s.pstatic.net/static/www/mobile/edit/2021/0323/mobile_164258308683.jpg\" data-src=\"https://s.pstatic.net/static/www/mobile/edit/2021/0323/mobile_164258308683.jpg\" alt=\"천서진st 스모키 VS 주근깨 화장의 승자는 누구?\" width=\"364\" height=\"180\">\\n\\n\\t\\t\\t\\t\\n\\t\\t\\t\\t\\t<span class=\"thumb_bd\"></span>\\n\\t\\t\\t\\t\\n\\t\\t\\t</a>\\n\\t\\t\\t<a href=\"https://tv.naver.com/v/19078857\" class=\"topstory_info\"\\n\\t\\t\\t   data-clk=\"tcc_bty.editbigtxt1\"\\n\\t\\t\\t   target=\"_blank\">\\n\\t\\t\\t\\t\\n\\t\\t\\t\\t\\t<em class=\"theme_category\">[STYLE TV] 같은 얼굴이 달라지는 마법</em>\\n\\t\\t\\t\\t\\n\\n\\t\\t\\t\\t<strong class=\"title  \">천서진st 스모키 VS 주근깨 화장의 승자는 누구?</strong>\\n\\t\\t\\t\\t\\n\\t\\t\\t\\t\\t<p class=\"desc\">아이라이너 NO! 섀도로 완성하는 스모키 화장은 어떨까 <br>귀염 뽀짝 주근깨 메이크업과 대결을 펼친 결과는 (두둥)</p>\\n\\t\\t\\t\\t\\n\\n\\t\\t\\t\\t\\n\\t\\t\\t\\t\\t<div class=\"source_area\">\\n\\t\\t\\t\\t\\t\\t<span class=\"source\"><span class=\"source_inner\">언니들의 뷰티카풀(with 효연, 보라)</span></span>\\n\\t\\t\\t\\t\\t</div>\\n\\t\\t\\t\\t\\n\\t\\t\\t</a>\\n\\t\\t\\t\\n\\t\\t</div>\\n\\t\\n</div><div class=\"topstory_inner\" data-block-id=\"60599d668fdcc4d6611cb158\" data-block-code=\"PC-THEME-BEAUTY-EDIT-AREA-ITEM\" data-block-type=\"A-MATERIAL\" data-template-code=\"IMAGE1\"\\n\\n\\t >\\n\\n\\t\\n\\t\\t<div class=\"topstory_view \">\\n\\n\\t\\t\\t\\n\\t\\t\\t\\n\\t\\t\\t<a href=\"https://post.naver.com/viewer/postView.nhn?volumeNo&#x3D;30976287&amp;memberNo&#x3D;485094\" class=\"topstory_thumb\"\\n\\t\\t\\t   data-clk=\"tcc_bty.editbigimg2\"\\n\\t\\t\\t   target=\"_blank\">\\n\\t\\t\\t\\t<img src=\"https://s.pstatic.net/static/www/mobile/edit/2021/0323/mobile_1647182299.jpg\" data-src=\"https://s.pstatic.net/static/www/mobile/edit/2021/0323/mobile_1647182299.jpg\" alt=\"베이지 컬러 재킷 하나로 일주일 돌려 입는 법\" width=\"364\" height=\"180\">\\n\\n\\t\\t\\t\\t\\n\\t\\t\\t\\t\\t<span class=\"thumb_bd\"></span>\\n\\t\\t\\t\\t\\n\\t\\t\\t</a>\\n\\t\\t\\t<a href=\"https://post.naver.com/viewer/postView.nhn?volumeNo&#x3D;30976287&amp;memberNo&#x3D;485094\" class=\"topstory_info\"\\n\\t\\t\\t   data-clk=\"tcc_bty.editbigtxt2\"\\n\\t\\t\\t   target=\"_blank\">\\n\\t\\t\\t\\t\\n\\t\\t\\t\\t\\t<em class=\"theme_category\">[스타일 에디터] 봄 내내 최강의 활용도</em>\\n\\t\\t\\t\\t\\n\\n\\t\\t\\t\\t<strong class=\"title  \">베이지 컬러 재킷 하나로 일주일 돌려 입는 법</strong>\\n\\t\\t\\t\\t\\n\\t\\t\\t\\t\\t<p class=\"desc\">장희령은 기본 카디건에 데님을 매치해 캐주얼하게 코디했어 <br>데일리, 출근 룩에 모두 활용할 수 있으니 따라 해 봐도 좋아</p>\\n\\t\\t\\t\\t\\n\\n\\t\\t\\t\\t\\n\\t\\t\\t\\t\\t<div class=\"source_area\">\\n\\t\\t\\t\\t\\t\\t<span class=\"source\"><span class=\"source_inner\">언니의파우치</span></span>\\n\\t\\t\\t\\t\\t</div>\\n\\t\\t\\t\\t\\n\\t\\t\\t</a>\\n\\t\\t\\t\\n\\t\\t</div>\\n\\t\\n</div>\\n</div>\\n<div class=\"group_theme\" data-block-id=\"\" data-block-code=\"PC-THEME-BEAUTY-MOBILE-RANKING-DEFAULT-0\" data-block-type=\"MATERIALS\" data-template-code=\"MOBILE-RANKING-LIST\"\\n\\n\\t data-da=\"container\"\\n\\t data-index=\"\"\\n     data-page=\"1\"\\n\\t >\\n\\n\\t<div class=\"list_theme_wrap\">\\n\\t\\t<ul class=\"list_theme\">\\n\\t\\t\\t\\n\\t\\t\\t\\t<li class=\"theme_item\" data-gdid=\"CAS_73eb2c57-8852-11eb-aa63-25b92f29f8b8\" data-da-position=\"true\">\\n\\t\\t\\t\\t\\t<a href=\"https://post.naver.com/viewer/postView.nhn?volumeNo&#x3D;30968896&amp;memberNo&#x3D;49083282\" class=\"theme_thumb\" data-clk=\"tcc_bty.list1cont1\" target=\"_blank\">\\n\\t\\t\\t\\t\\t\\t<img src=\"https://s.pstatic.net/dthumb.phinf/?src&#x3D;%22https%3A%2F%2Fs.pstatic.net%2Fstatic%2Fwww%2Fmobile%2Fedit%2F2021%2F0319%2Fupload_16161197898375xR4g.jpg%22&amp;type&#x3D;nf340_228\" data-src=\"https://s.pstatic.net/dthumb.phinf/?src&#x3D;%22https%3A%2F%2Fs.pstatic.net%2Fstatic%2Fwww%2Fmobile%2Fedit%2F2021%2F0319%2Fupload_16161197898375xR4g.jpg%22&amp;type&#x3D;nf340_228\" alt=\"사복 패피💥 블랙핑크 제니의 카디건 코디법\" width=\"170\" height=\"114\">\\n\\t\\t\\t\\t\\t\\t<span class=\"thumb_bd\"></span>\\n\\t\\t\\t\\t\\t</a>\\n\\t\\t\\t\\t\\t<a href=\"https://post.naver.com/viewer/postView.nhn?volumeNo&#x3D;30968896&amp;memberNo&#x3D;49083282\" class=\"theme_info\" data-clk=\"tcc_bty.list1cont1\" target=\"_blank\">\\n\\t\\t\\t\\t\\t\\t<em class=\"theme_category\"> 패션뷰티</em>\\n\\t\\t\\t\\t\\t\\t<strong class=\"title elss\">사복 패피💥 블랙핑크 제니의 카디건 코디법</strong>\\n\\t\\t\\t\\t\\t\\t<p class=\"desc\">요즘 날이 따뜻해지면서제법 봄기운이 느껴지지 않나요~?봄이면 찾게 되는 아우터 중가디건을 빼놓을 수가 없는데요.그래서 오늘은평소 패셔니스타로 유명한블랙핑크 제니의 가디건 코디를 준비했어요.데일리룩으로도 참고하기 좋은제니의 가디건 스타일링을 파헤쳐 보아요.  사진 _ 제니 인스타그램 티셔츠와 가디건의 조합은누구나 데일리룩으로 도전하기 좋은 코디에요.제니는 화</p>\\n\\t\\t\\t\\t\\t\\t<div class=\"source_box\">\\n\\t\\t\\t\\t\\t\\t\\t<span class=\"date\">6일 전</span>\\n\\t\\t\\t\\t\\t\\t\\t<span class=\"source\"><span class=\"source_inner\">쓸</span></span>\\n\\t\\t\\t\\t\\t\\t</div>\\n\\t\\t\\t\\t\\t</a>\\n\\t\\t\\t\\t</li>\\n\\t\\t\\t\\n\\t\\t\\t\\t<li class=\"theme_item\" data-gdid=\"CAS_73eb2c56-8852-11eb-aa63-f13c3f1feb87\" data-da-position=\"true\">\\n\\t\\t\\t\\t\\t<a href=\"https://post.naver.com/viewer/postView.nhn?volumeNo&#x3D;30960312&amp;memberNo&#x3D;10365454\" class=\"theme_thumb\" data-clk=\"tcc_bty.list1cont2\" target=\"_blank\">\\n\\t\\t\\t\\t\\t\\t<img src=\"https://s.pstatic.net/dthumb.phinf/?src&#x3D;%22https%3A%2F%2Fs.pstatic.net%2Fstatic%2Fwww%2Fmobile%2Fedit%2F2021%2F0319%2Fupload_1616119775023v6dgZ.jpg%22&amp;type&#x3D;nf340_228\" data-src=\"https://s.pstatic.net/dthumb.phinf/?src&#x3D;%22https%3A%2F%2Fs.pstatic.net%2Fstatic%2Fwww%2Fmobile%2Fedit%2F2021%2F0319%2Fupload_1616119775023v6dgZ.jpg%22&amp;type&#x3D;nf340_228\" alt=\"스타일리시한 봄 패션을 완성 시켜줄 아이템은?\" width=\"170\" height=\"114\">\\n\\t\\t\\t\\t\\t\\t<span class=\"thumb_bd\"></span>\\n\\t\\t\\t\\t\\t</a>\\n\\t\\t\\t\\t\\t<a href=\"https://post.naver.com/viewer/postView.nhn?volumeNo&#x3D;30960312&amp;memberNo&#x3D;10365454\" class=\"theme_info\" data-clk=\"tcc_bty.list1cont2\" target=\"_blank\">\\n\\t\\t\\t\\t\\t\\t<em class=\"theme_category\"> 패션뷰티</em>\\n\\t\\t\\t\\t\\t\\t<strong class=\"title elss\">스타일리시한 봄 패션을 완성 시켜줄 아이템은?</strong>\\n\\t\\t\\t\\t\\t\\t<p class=\"desc\">봄바람이 느껴지는 요즘, 겨울철 교복과도 같았던 패딩과도 이젠 작별 인사를 할 때. 옷차림이 가벼워지는 만큼 봄 코디에도 관심이 높아지기 마련!&#x27;헤어 아이템&#x27;으로 스타일리시한 봄 스타일링을 완성해보자!와이드 헤어밴드로 스포티한 스타일링스포티한 와이드 밴딩은 스타일리시하면서 가볍게 착용하기에 좋다 편안한 트레이닝 셋업 or 캐주얼룩과 함께 연출해보자.데일리 </p>\\n\\t\\t\\t\\t\\t\\t<div class=\"source_box\">\\n\\t\\t\\t\\t\\t\\t\\t<span class=\"date\">1주일 전</span>\\n\\t\\t\\t\\t\\t\\t\\t<span class=\"source\"><span class=\"source_inner\">패션웹진스냅</span></span>\\n\\t\\t\\t\\t\\t\\t</div>\\n\\t\\t\\t\\t\\t</a>\\n\\t\\t\\t\\t</li>\\n\\t\\t\\t\\n\\t\\t\\t\\t<li class=\"theme_item\" data-gdid=\"CAS_722b05c0-8852-11eb-aa63-fdad8fc7c61f\" data-da-position=\"true\">\\n\\t\\t\\t\\t\\t<a href=\"https://post.naver.com/viewer/postView.nhn?volumeNo&#x3D;30952256&amp;memberNo&#x3D;33406474\" class=\"theme_thumb\" data-clk=\"tcc_bty.list1cont3\" target=\"_blank\">\\n\\t\\t\\t\\t\\t\\t<img src=\"https://s.pstatic.net/dthumb.phinf/?src&#x3D;%22https%3A%2F%2Fs.pstatic.net%2Fstatic%2Fwww%2Fmobile%2Fedit%2F2021%2F0319%2Fupload_1616130237336urJen.jpg%22&amp;type&#x3D;nf340_228\" data-src=\"https://s.pstatic.net/dthumb.phinf/?src&#x3D;%22https%3A%2F%2Fs.pstatic.net%2Fstatic%2Fwww%2Fmobile%2Fedit%2F2021%2F0319%2Fupload_1616130237336urJen.jpg%22&amp;type&#x3D;nf340_228\" alt=\"남녀노소 모두에게 사랑받는 맨투맨 맛집 추천\" width=\"170\" height=\"114\">\\n\\t\\t\\t\\t\\t\\t<span class=\"thumb_bd\"></span>\\n\\t\\t\\t\\t\\t</a>\\n\\t\\t\\t\\t\\t<a href=\"https://post.naver.com/viewer/postView.nhn?volumeNo&#x3D;30952256&amp;memberNo&#x3D;33406474\" class=\"theme_info\" data-clk=\"tcc_bty.list1cont3\" target=\"_blank\">\\n\\t\\t\\t\\t\\t\\t<em class=\"theme_category\"> 패션뷰티</em>\\n\\t\\t\\t\\t\\t\\t<strong class=\"title elss\">남녀노소 모두에게 사랑받는 맨투맨 맛집 추천</strong>\\n\\t\\t\\t\\t\\t\\t<p class=\"desc\">우리를 괴롭히던 추위도 어느덧 잠잠해지고,한 발 앞으로 다가온 따뜻한 계절 &#x27;봄(春)&#x27;.지금 가장 관심이 집중되는 아이템을 꼽자면단연 1순위의 아이템 &#x27;맨투맨&#x27;다양한 브랜드와 수많은 디자인의 아이템들 속에서남녀노소 누가 입어도 실패 없는, 하나씩 있으면 아주 유용할BEST 맨투맨 요일에서 추천해드릴게요. 타미힐피거(TOMMY HILFIGER) 아메리칸 클래</p>\\n\\t\\t\\t\\t\\t\\t<div class=\"source_box\">\\n\\t\\t\\t\\t\\t\\t\\t<span class=\"date\">1주일 전</span>\\n\\t\\t\\t\\t\\t\\t\\t<span class=\"source\"><span class=\"source_inner\">요일 yoil</span></span>\\n\\t\\t\\t\\t\\t\\t</div>\\n\\t\\t\\t\\t\\t</a>\\n\\t\\t\\t\\t</li>\\n\\t\\t\\t\\n\\t\\t\\t\\t<li class=\"theme_item\" data-gdid=\"CAS_722b05c5-8852-11eb-aa63-81359a15429e\" data-da-position=\"true\">\\n\\t\\t\\t\\t\\t<a href=\"https://blog.naver.com/lqud/222273101206\" class=\"theme_thumb\" data-clk=\"tcc_bty.list1cont4\" target=\"_blank\">\\n\\t\\t\\t\\t\\t\\t<img src=\"https://s.pstatic.net/dthumb.phinf/?src&#x3D;%22https%3A%2F%2Fs.pstatic.net%2Fstatic%2Fwww%2Fmobile%2Fedit%2F2021%2F0319%2Fupload_1616130754362IlBnQ.jpg%22&amp;type&#x3D;nf340_228\" data-src=\"https://s.pstatic.net/dthumb.phinf/?src&#x3D;%22https%3A%2F%2Fs.pstatic.net%2Fstatic%2Fwww%2Fmobile%2Fedit%2F2021%2F0319%2Fupload_1616130754362IlBnQ.jpg%22&amp;type&#x3D;nf340_228\" alt=\"지금 쓰는 기초는 무엇? 지성 피부의 솔직 후기\" width=\"170\" height=\"114\">\\n\\t\\t\\t\\t\\t\\t<span class=\"thumb_bd\"></span>\\n\\t\\t\\t\\t\\t</a>\\n\\t\\t\\t\\t\\t<a href=\"https://blog.naver.com/lqud/222273101206\" class=\"theme_info\" data-clk=\"tcc_bty.list1cont4\" target=\"_blank\">\\n\\t\\t\\t\\t\\t\\t<em class=\"theme_category\"> 패션뷰티</em>\\n\\t\\t\\t\\t\\t\\t<strong class=\"title elss\">지금 쓰는 기초는 무엇? 지성 피부의 솔직 후기</strong>\\n\\t\\t\\t\\t\\t\\t<p class=\"desc\">오랜만에 #지성피부 #공병후기 왔습니다~~~\\u200b이번엔 양이 은근 많은데 조금씩 나누어서 쓰던 화장품들이 한꺼번에 공병을 내게되었더라구요저번에 올려야됐는데 어디에 둔건지 잊어먹어서 못 가져온 것들도 포함하느라 양이 많아졌습니다 ㅋㅋㅋ\\u200b요즘은 또 지성피부로 유분 뿜뿜하는 중인데거기에 자잘하면서 누르면 아픈 여드름까지 생겨서아주 미치겠네요 ㅠㅠ\\u200b재밌게 봐주시...</p>\\n\\t\\t\\t\\t\\t\\t<div class=\"source_box\">\\n\\t\\t\\t\\t\\t\\t\\t<span class=\"date\">1주일 전</span>\\n\\t\\t\\t\\t\\t\\t\\t<span class=\"source\"><span class=\"source_inner\">제제</span></span>\\n\\t\\t\\t\\t\\t\\t</div>\\n\\t\\t\\t\\t\\t</a>\\n\\t\\t\\t\\t</li>\\n\\t\\t\\t\\n\\t\\t</ul>\\n\\t</div>\\n</div>\\n<div class=\"group_theme\" data-block-id=\"\" data-block-code=\"PC-THEME-BEAUTY-MOBILE-RANKING-VIDEO-0\" data-block-type=\"MATERIALS\" data-template-code=\"MOBILE-RANKING-VIDEO-LIST\"\\n\\n\\t data-index=\"\"\\n\\t data-page=\"1\"\\n\\t >\\n\\n\\t<div class=\"media_view_wrap type_column\">\\n\\t\\t<div class=\"media_view\">\\n\\t\\t\\t\\n\\t\\t\\t\\t<a href=\"https://m.tv.naver.com/v/19047139\" class=\"media_area\" data-gdid=\"CAS_722b05bf-8852-11eb-aa63-bbd1f05a2080\" data-clk=\"tcc_bty.video1cont1\" target=\"_blank\">\\n\\t\\t\\t\\t\\t<div class=\"media_thumb\">\\n\\t\\t\\t\\t\\t\\t<img src=\"https://s.pstatic.net/dthumb.phinf/?src&#x3D;%22https%3A%2F%2Fs.pstatic.net%2Fstatic%2Fwww%2Fmobile%2Fedit%2F2021%2F0319%2Fupload_1616130674465eDhNf.jpg%22&amp;type&#x3D;nf464_260\" data-src=\"https://s.pstatic.net/dthumb.phinf/?src&#x3D;%22https%3A%2F%2Fs.pstatic.net%2Fstatic%2Fwww%2Fmobile%2Fedit%2F2021%2F0319%2Fupload_1616130674465eDhNf.jpg%22&amp;type&#x3D;nf464_260\" alt=\"2021 S/S &#x27;자라&#x27; 신상 15가지 직접 입어봤어요\" width=\"232\" height=\"130\">\\n\\t\\t\\t\\t\\t\\t<span class=\"thumb_dim\"></span>\\n\\t\\t\\t\\t\\t\\t<span class=\"thumb_bd\"></span>\\n\\t\\t\\t\\t\\t\\t<i class=\"pm_ico_play\"><span class=\"blind\">재생</span></i>\\n\\t\\t\\t\\t\\t\\t<span class=\"theme_runtime\"><span class=\"runtime_bg\">재생시간</span><em class=\"time\">06:07</em></span>\\n\\t\\t\\t\\t\\t</div>\\n\\t\\t\\t\\t\\t<div class=\"media_info\">\\n\\t\\t\\t\\t\\t\\t<div class=\"info_box\">\\n\\t\\t\\t\\t\\t\\t\\t<strong class=\"title\">2021 S/S \\'자라\\' 신상 15가지 직접 입어봤어요</strong>\\n\\t\\t\\t\\t\\t\\t\\t<div class=\"source_wrap\">\\n\\t\\t\\t\\t\\t\\t\\t\\t<span class=\"date\">6일 전</span>\\n\\t\\t\\t\\t\\t\\t\\t\\t<span class=\"source\"><span class=\"source_inner\">정민 JEONGMIN</span></span>\\n\\t\\t\\t\\t\\t\\t\\t</div>\\n\\t\\t\\t\\t\\t\\t</div>\\n\\t\\t\\t\\t\\t</div>\\n\\t\\t\\t\\t</a>\\n\\t\\t\\t\\n\\t\\t\\t\\t<a href=\"https://m.tv.naver.com/v/18943840\" class=\"media_area\" data-gdid=\"CAS_722b05c3-8852-11eb-aa63-03a21ff9c54f\" data-clk=\"tcc_bty.video1cont2\" target=\"_blank\">\\n\\t\\t\\t\\t\\t<div class=\"media_thumb\">\\n\\t\\t\\t\\t\\t\\t<img src=\"https://s.pstatic.net/dthumb.phinf/?src&#x3D;%22https%3A%2F%2Fs.pstatic.net%2Fstatic%2Fwww%2Fmobile%2Fedit%2F2021%2F0319%2Fupload_1616130724954Dmg54.jpg%22&amp;type&#x3D;nf464_260\" data-src=\"https://s.pstatic.net/dthumb.phinf/?src&#x3D;%22https%3A%2F%2Fs.pstatic.net%2Fstatic%2Fwww%2Fmobile%2Fedit%2F2021%2F0319%2Fupload_1616130724954Dmg54.jpg%22&amp;type&#x3D;nf464_260\" alt=\"샤넬, 디올 등 면세점에서 털어온 명품 화장품\" width=\"232\" height=\"130\">\\n\\t\\t\\t\\t\\t\\t<span class=\"thumb_dim\"></span>\\n\\t\\t\\t\\t\\t\\t<span class=\"thumb_bd\"></span>\\n\\t\\t\\t\\t\\t\\t<i class=\"pm_ico_play\"><span class=\"blind\">재생</span></i>\\n\\t\\t\\t\\t\\t\\t<span class=\"theme_runtime\"><span class=\"runtime_bg\">재생시간</span><em class=\"time\">08:45</em></span>\\n\\t\\t\\t\\t\\t</div>\\n\\t\\t\\t\\t\\t<div class=\"media_info\">\\n\\t\\t\\t\\t\\t\\t<div class=\"info_box\">\\n\\t\\t\\t\\t\\t\\t\\t<strong class=\"title\">샤넬, 디올 등 면세점에서 털어온 명품 화장품</strong>\\n\\t\\t\\t\\t\\t\\t\\t<div class=\"source_wrap\">\\n\\t\\t\\t\\t\\t\\t\\t\\t<span class=\"date\">1주일 전</span>\\n\\t\\t\\t\\t\\t\\t\\t\\t<span class=\"source\"><span class=\"source_inner\">포푼젤</span></span>\\n\\t\\t\\t\\t\\t\\t\\t</div>\\n\\t\\t\\t\\t\\t\\t</div>\\n\\t\\t\\t\\t\\t</div>\\n\\t\\t\\t\\t</a>\\n\\t\\t\\t\\n\\t\\t\\t\\t<a href=\"https://m.tv.naver.com/v/19019776\" class=\"media_area\" data-gdid=\"CAS_707f2a79-8852-11eb-aa63-a307af687275\" data-clk=\"tcc_bty.video1cont3\" target=\"_blank\">\\n\\t\\t\\t\\t\\t<div class=\"media_thumb\">\\n\\t\\t\\t\\t\\t\\t<img src=\"https://s.pstatic.net/dthumb.phinf/?src&#x3D;%22https%3A%2F%2Fs.pstatic.net%2Fstatic%2Fwww%2Fmobile%2Fedit%2F2021%2F0322%2Fupload_1616397114242gTddx.jpg%22&amp;type&#x3D;nf464_260\" data-src=\"https://s.pstatic.net/dthumb.phinf/?src&#x3D;%22https%3A%2F%2Fs.pstatic.net%2Fstatic%2Fwww%2Fmobile%2Fedit%2F2021%2F0322%2Fupload_1616397114242gTddx.jpg%22&amp;type&#x3D;nf464_260\" alt=\"내추럴한 꾸안꾸 데일리 메이크업 ft. 활용 꿀팁\" width=\"232\" height=\"130\">\\n\\t\\t\\t\\t\\t\\t<span class=\"thumb_dim\"></span>\\n\\t\\t\\t\\t\\t\\t<span class=\"thumb_bd\"></span>\\n\\t\\t\\t\\t\\t\\t<i class=\"pm_ico_play\"><span class=\"blind\">재생</span></i>\\n\\t\\t\\t\\t\\t\\t<span class=\"theme_runtime\"><span class=\"runtime_bg\">재생시간</span><em class=\"time\">10:27</em></span>\\n\\t\\t\\t\\t\\t</div>\\n\\t\\t\\t\\t\\t<div class=\"media_info\">\\n\\t\\t\\t\\t\\t\\t<div class=\"info_box\">\\n\\t\\t\\t\\t\\t\\t\\t<strong class=\"title\">내추럴한 꾸안꾸 데일리 메이크업 ft. 활용 꿀팁</strong>\\n\\t\\t\\t\\t\\t\\t\\t<div class=\"source_wrap\">\\n\\t\\t\\t\\t\\t\\t\\t\\t<span class=\"date\">1주일 전</span>\\n\\t\\t\\t\\t\\t\\t\\t\\t<span class=\"source\"><span class=\"source_inner\">으뜸뷰티 (EUDDEUM BEAUTY)</span></span>\\n\\t\\t\\t\\t\\t\\t\\t</div>\\n\\t\\t\\t\\t\\t\\t</div>\\n\\t\\t\\t\\t\\t</div>\\n\\t\\t\\t\\t</a>\\n\\t\\t\\t\\n\\t\\t</div>\\n\\t</div>\\n</div>\\n<div class=\"group_theme\" data-block-id=\"\" data-block-code=\"PC-THEME-BEAUTY-MOBILE-RANKING-DEFAULT-1\" data-block-type=\"MATERIALS\" data-template-code=\"MOBILE-RANKING-LIST\"\\n\\n\\t data-da=\"container\"\\n\\t data-index=\"\"\\n     data-page=\"1\"\\n\\t >\\n\\n\\t<div class=\"list_theme_wrap\">\\n\\t\\t<ul class=\"list_theme\">\\n\\t\\t\\t\\n\\t\\t\\t\\t<li class=\"theme_item\" data-gdid=\"CAS_fe151495-8b9e-11eb-b8ab-4f3e81137fad\" data-da-position=\"true\">\\n\\t\\t\\t\\t\\t<a href=\"https://post.naver.com/viewer/postView.nhn?volumeNo&#x3D;31003701&amp;memberNo&#x3D;5979878\" class=\"theme_thumb\" data-clk=\"tcc_bty.list2cont1\" target=\"_blank\">\\n\\t\\t\\t\\t\\t\\t<img src=\"https://s.pstatic.net/dthumb.phinf/?src&#x3D;%22https%3A%2F%2Fs.pstatic.net%2Fstatic%2Fwww%2Fmobile%2Fedit%2F2021%2F0323%2Fupload_1616480412545mheki.jpg%22&amp;type&#x3D;nf340_228\" data-src=\"https://s.pstatic.net/dthumb.phinf/?src&#x3D;%22https%3A%2F%2Fs.pstatic.net%2Fstatic%2Fwww%2Fmobile%2Fedit%2F2021%2F0323%2Fupload_1616480412545mheki.jpg%22&amp;type&#x3D;nf340_228\" alt=\"설화수 파운데이션 VS 쿠션, 어떤 게 더 좋아?\" width=\"170\" height=\"114\">\\n\\t\\t\\t\\t\\t\\t<span class=\"thumb_bd\"></span>\\n\\t\\t\\t\\t\\t</a>\\n\\t\\t\\t\\t\\t<a href=\"https://post.naver.com/viewer/postView.nhn?volumeNo&#x3D;31003701&amp;memberNo&#x3D;5979878\" class=\"theme_info\" data-clk=\"tcc_bty.list2cont1\" target=\"_blank\">\\n\\t\\t\\t\\t\\t\\t<em class=\"theme_category\"> 패션뷰티</em>\\n\\t\\t\\t\\t\\t\\t<strong class=\"title elss\">설화수 파운데이션 VS 쿠션, 어떤 게 더 좋아?</strong>\\n\\t\\t\\t\\t\\t\\t<p class=\"desc\">안\\u200b녕하세요! 메이쥬니입니다! 오늘은 좀 포스팅의 분위기를 활기차게 반말로 할거야!! 왜냐면 진심으로 인생템을 만나서 이건 꼭!! 소개하고 싶었거든.. (진심) 사실 오늘 소개하는 제품은 나 뿐만 아니라 많은 뷰티 인플루언서들이 다 좋다고 하길래 대체 얼마나 좋길래!!? 다 광고 아니야? (~‾▿‾)~ ㅡ하</p>\\n\\t\\t\\t\\t\\t\\t<div class=\"source_box\">\\n\\t\\t\\t\\t\\t\\t\\t<span class=\"date\">2일 전</span>\\n\\t\\t\\t\\t\\t\\t\\t<span class=\"source\"><span class=\"source_inner\">뷰스타 메이쥬니</span></span>\\n\\t\\t\\t\\t\\t\\t</div>\\n\\t\\t\\t\\t\\t</a>\\n\\t\\t\\t\\t</li>\\n\\t\\t\\t\\n\\t\\t\\t\\t<li class=\"theme_item\" data-gdid=\"CAS_722b05c2-8852-11eb-aa63-fd0b8449ecb5\" data-da-position=\"true\">\\n\\t\\t\\t\\t\\t<a href=\"https://blog.naver.com/ggggggenie/222272406830\" class=\"theme_thumb\" data-clk=\"tcc_bty.list2cont2\" target=\"_blank\">\\n\\t\\t\\t\\t\\t\\t<img src=\"https://s.pstatic.net/dthumb.phinf/?src&#x3D;%22https%3A%2F%2Fs.pstatic.net%2Fstatic%2Fwww%2Fmobile%2Fedit%2F2021%2F0319%2Fupload_16161307158658JSpf.jpg%22&amp;type&#x3D;nf340_228\" data-src=\"https://s.pstatic.net/dthumb.phinf/?src&#x3D;%22https%3A%2F%2Fs.pstatic.net%2Fstatic%2Fwww%2Fmobile%2Fedit%2F2021%2F0319%2Fupload_16161307158658JSpf.jpg%22&amp;type&#x3D;nf340_228\" alt=\"수분 진정 케어하기 좋아 #알파비 신제품 리뷰\" width=\"170\" height=\"114\">\\n\\t\\t\\t\\t\\t\\t<span class=\"thumb_bd\"></span>\\n\\t\\t\\t\\t\\t</a>\\n\\t\\t\\t\\t\\t<a href=\"https://blog.naver.com/ggggggenie/222272406830\" class=\"theme_info\" data-clk=\"tcc_bty.list2cont2\" target=\"_blank\">\\n\\t\\t\\t\\t\\t\\t<em class=\"theme_category\"> 패션뷰티</em>\\n\\t\\t\\t\\t\\t\\t<strong class=\"title elss\">수분 진정 케어하기 좋아 #알파비 신제품 리뷰</strong>\\n\\t\\t\\t\\t\\t\\t<p class=\"desc\">\\u200b\\u200b안뇽 ? 여러분 ?오늘은 신제품 &#x27;ㅁ&#x27; !!!ALPHA + BEAUTY가 합쳐진고기능 테크놀로지 스킨케어 브랜드,알파비 시카 파워 라인 4종을 가지고 왔습니당.\\u200b얼마전 ALPHA.B 레드 프로폴리스 앰플이PX에 입점되어 인기가 빵빵 터진다는 얘기를 듣고오 궁금한데 ??? 라는 생각을 했는데이 브랜드 기초 맛집이쟈냐???\\u200b\\u200b\\u200b\\u200b\\u200b\\u200b\\u200b\\u200b겨울에서 봄으로 계.</p>\\n\\t\\t\\t\\t\\t\\t<div class=\"source_box\">\\n\\t\\t\\t\\t\\t\\t\\t<span class=\"date\">1주일 전</span>\\n\\t\\t\\t\\t\\t\\t\\t<span class=\"source\"><span class=\"source_inner\">지니찌</span></span>\\n\\t\\t\\t\\t\\t\\t</div>\\n\\t\\t\\t\\t\\t</a>\\n\\t\\t\\t\\t</li>\\n\\t\\t\\t\\n\\t\\t\\t\\t<li class=\"theme_item\" data-gdid=\"CAS_722b05c4-8852-11eb-aa63-27321cdad69b\" data-da-position=\"true\">\\n\\t\\t\\t\\t\\t<a href=\"https://blog.naver.com/roo_sa/222264195159\" class=\"theme_thumb\" data-clk=\"tcc_bty.list2cont3\" target=\"_blank\">\\n\\t\\t\\t\\t\\t\\t<img src=\"https://s.pstatic.net/dthumb.phinf/?src&#x3D;%22https%3A%2F%2Fs.pstatic.net%2Fstatic%2Fwww%2Fmobile%2Fedit%2F2021%2F0319%2Fupload_1616130738389q07Uo.jpg%22&amp;type&#x3D;nf340_228\" data-src=\"https://s.pstatic.net/dthumb.phinf/?src&#x3D;%22https%3A%2F%2Fs.pstatic.net%2Fstatic%2Fwww%2Fmobile%2Fedit%2F2021%2F0319%2Fupload_1616130738389q07Uo.jpg%22&amp;type&#x3D;nf340_228\" alt=\"피부 밸런스 맞추기 위해 선택한 컨디셔닝 루틴\" width=\"170\" height=\"114\">\\n\\t\\t\\t\\t\\t\\t<span class=\"thumb_bd\"></span>\\n\\t\\t\\t\\t\\t</a>\\n\\t\\t\\t\\t\\t<a href=\"https://blog.naver.com/roo_sa/222264195159\" class=\"theme_info\" data-clk=\"tcc_bty.list2cont3\" target=\"_blank\">\\n\\t\\t\\t\\t\\t\\t<em class=\"theme_category\"> 패션뷰티</em>\\n\\t\\t\\t\\t\\t\\t<strong class=\"title elss\">피부 밸런스 맞추기 위해 선택한 컨디셔닝 루틴</strong>\\n\\t\\t\\t\\t\\t\\t<p class=\"desc\">안녕하세요, 루사입니다.환절기가 되면서 피부가 더 건조하게 느껴지고 푸석푸석하다는 느낌은 저만 받는건 아니지요? ㅜㅜ이럴 때 피부 밸런스를 맞춰주고 피부 진정에 좋은 제품을 사용하면 좋은데요\\u200b이번 봄, 저의 선택은헉슬리 컨디셔닝 루틴발효 에센스와 부스팅 마스크에요.\\u200b\\u200b부스팅 마스크 같은 경우에는 이미 소개 해 드린 적 있는데요진짜 촉촉하고 너무 좋아서 저의</p>\\n\\t\\t\\t\\t\\t\\t<div class=\"source_box\">\\n\\t\\t\\t\\t\\t\\t\\t<span class=\"date\">2주일 전</span>\\n\\t\\t\\t\\t\\t\\t\\t<span class=\"source\"><span class=\"source_inner\">루사</span></span>\\n\\t\\t\\t\\t\\t\\t</div>\\n\\t\\t\\t\\t\\t</a>\\n\\t\\t\\t\\t</li>\\n\\t\\t\\t\\n\\t\\t\\t\\t<li class=\"theme_item\" data-gdid=\"CAS_8aabc23e-878e-11eb-95da-15fe1bca8263\" data-da-position=\"true\">\\n\\t\\t\\t\\t\\t<a href=\"https://post.naver.com/viewer/postView.nhn?volumeNo&#x3D;30917138&amp;memberNo&#x3D;1972782\" class=\"theme_thumb\" data-clk=\"tcc_bty.list2cont4\" target=\"_blank\">\\n\\t\\t\\t\\t\\t\\t<img src=\"https://s.pstatic.net/dthumb.phinf/?src&#x3D;%22https%3A%2F%2Fs.pstatic.net%2Fstatic%2Fwww%2Fmobile%2Fedit%2F2021%2F0318%2Fupload_1616050221927smu0w.jpg%22&amp;type&#x3D;nf340_228\" data-src=\"https://s.pstatic.net/dthumb.phinf/?src&#x3D;%22https%3A%2F%2Fs.pstatic.net%2Fstatic%2Fwww%2Fmobile%2Fedit%2F2021%2F0318%2Fupload_1616050221927smu0w.jpg%22&amp;type&#x3D;nf340_228\" alt=\"연예인 화보로 보는 2021 봄 패션 트렌드 총정리\" width=\"170\" height=\"114\">\\n\\t\\t\\t\\t\\t\\t<span class=\"thumb_bd\"></span>\\n\\t\\t\\t\\t\\t</a>\\n\\t\\t\\t\\t\\t<a href=\"https://post.naver.com/viewer/postView.nhn?volumeNo&#x3D;30917138&amp;memberNo&#x3D;1972782\" class=\"theme_info\" data-clk=\"tcc_bty.list2cont4\" target=\"_blank\">\\n\\t\\t\\t\\t\\t\\t<em class=\"theme_category\"> 패션뷰티</em>\\n\\t\\t\\t\\t\\t\\t<strong class=\"title elss\">연예인 화보로 보는 2021 봄 패션 트렌드 총정리</strong>\\n\\t\\t\\t\\t\\t\\t<p class=\"desc\">안녕하세요 톡톡이에용~ 최근들어 21SS 화보가 쏟아지고 있는데요 ! 이쯤에서 연예인 화보 패션 총정리가 필요한것같아 준비했습니다. 연예인 화보로 봄 패션 미리보기!화보 몇 장만 봐도 봄 향기가 여기까지 나는 것 같쟈나여~♡ 요즘 연일 공개되고 있는 화보에 &quot;그 연예인 그 제품 뭐였더라?&quot; 하시는 분들에게는 아주 유용한 포스팅이 될거란 확</p>\\n\\t\\t\\t\\t\\t\\t<div class=\"source_box\">\\n\\t\\t\\t\\t\\t\\t\\t<span class=\"date\">1주일 전</span>\\n\\t\\t\\t\\t\\t\\t\\t<span class=\"source\"><span class=\"source_inner\">패션톡톡</span></span>\\n\\t\\t\\t\\t\\t\\t</div>\\n\\t\\t\\t\\t\\t</a>\\n\\t\\t\\t\\t</li>\\n\\t\\t\\t\\n\\t\\t</ul>\\n\\t</div>\\n</div>\\n<div class=\"group_theme\" data-block-id=\"\" data-block-code=\"PC-THEME-BEAUTY-MOBILE-RANKING-VIDEO-1\" data-block-type=\"MATERIALS\" data-template-code=\"MOBILE-RANKING-VIDEO-LIST\"\\n\\n\\t data-index=\"\"\\n\\t data-page=\"1\"\\n\\t >\\n\\n\\t<div class=\"media_view_wrap type_column\">\\n\\t\\t<div class=\"media_view\">\\n\\t\\t\\t\\n\\t\\t\\t\\t<a href=\"https://m.tv.naver.com/v/19078857\" class=\"media_area\" data-gdid=\"CAS_707f2a7a-8852-11eb-aa63-d532b4626679\" data-clk=\"tcc_bty.video2cont1\" target=\"_blank\">\\n\\t\\t\\t\\t\\t<div class=\"media_thumb\">\\n\\t\\t\\t\\t\\t\\t<img src=\"https://s.pstatic.net/dthumb.phinf/?src&#x3D;%22https%3A%2F%2Fs.pstatic.net%2Fstatic%2Fwww%2Fmobile%2Fedit%2F2021%2F0322%2Fupload_1616397122880k1oCk.jpg%22&amp;type&#x3D;nf464_260\" data-src=\"https://s.pstatic.net/dthumb.phinf/?src&#x3D;%22https%3A%2F%2Fs.pstatic.net%2Fstatic%2Fwww%2Fmobile%2Fedit%2F2021%2F0322%2Fupload_1616397122880k1oCk.jpg%22&amp;type&#x3D;nf464_260\" alt=\"천서진st 스모키 VS 주근깨 화장의 승자는 누구\" width=\"232\" height=\"130\">\\n\\t\\t\\t\\t\\t\\t<span class=\"thumb_dim\"></span>\\n\\t\\t\\t\\t\\t\\t<span class=\"thumb_bd\"></span>\\n\\t\\t\\t\\t\\t\\t<i class=\"pm_ico_play\"><span class=\"blind\">재생</span></i>\\n\\t\\t\\t\\t\\t\\t<span class=\"theme_runtime\"><span class=\"runtime_bg\">재생시간</span><em class=\"time\">12:56</em></span>\\n\\t\\t\\t\\t\\t</div>\\n\\t\\t\\t\\t\\t<div class=\"media_info\">\\n\\t\\t\\t\\t\\t\\t<div class=\"info_box\">\\n\\t\\t\\t\\t\\t\\t\\t<strong class=\"title\">천서진st 스모키 VS 주근깨 화장의 승자는 누구</strong>\\n\\t\\t\\t\\t\\t\\t\\t<div class=\"source_wrap\">\\n\\t\\t\\t\\t\\t\\t\\t\\t<span class=\"date\">5일 전</span>\\n\\t\\t\\t\\t\\t\\t\\t\\t<span class=\"source\"><span class=\"source_inner\">언니들의 뷰티카풀(with 효연, 보라)</span></span>\\n\\t\\t\\t\\t\\t\\t\\t</div>\\n\\t\\t\\t\\t\\t\\t</div>\\n\\t\\t\\t\\t\\t</div>\\n\\t\\t\\t\\t</a>\\n\\t\\t\\t\\n\\t\\t\\t\\t<a href=\"https://m.tv.naver.com/v/18934700\" class=\"media_area\" data-gdid=\"CAS_722b05be-8852-11eb-aa63-31cfc5b90aba\" data-clk=\"tcc_bty.video2cont2\" target=\"_blank\">\\n\\t\\t\\t\\t\\t<div class=\"media_thumb\">\\n\\t\\t\\t\\t\\t\\t<img src=\"https://s.pstatic.net/dthumb.phinf/?src&#x3D;%22https%3A%2F%2Fs.pstatic.net%2Fstatic%2Fwww%2Fmobile%2Fedit%2F2021%2F0319%2Fupload_1616130213171HaJuA.jpg%22&amp;type&#x3D;nf464_260\" data-src=\"https://s.pstatic.net/dthumb.phinf/?src&#x3D;%22https%3A%2F%2Fs.pstatic.net%2Fstatic%2Fwww%2Fmobile%2Fedit%2F2021%2F0319%2Fupload_1616130213171HaJuA.jpg%22&amp;type&#x3D;nf464_260\" alt=\"10대 20대 모여라! 신학기 아이템 봄옷 하울🌸\" width=\"232\" height=\"130\">\\n\\t\\t\\t\\t\\t\\t<span class=\"thumb_dim\"></span>\\n\\t\\t\\t\\t\\t\\t<span class=\"thumb_bd\"></span>\\n\\t\\t\\t\\t\\t\\t<i class=\"pm_ico_play\"><span class=\"blind\">재생</span></i>\\n\\t\\t\\t\\t\\t\\t<span class=\"theme_runtime\"><span class=\"runtime_bg\">재생시간</span><em class=\"time\">08:58</em></span>\\n\\t\\t\\t\\t\\t</div>\\n\\t\\t\\t\\t\\t<div class=\"media_info\">\\n\\t\\t\\t\\t\\t\\t<div class=\"info_box\">\\n\\t\\t\\t\\t\\t\\t\\t<strong class=\"title\">10대 20대 모여라! 신학기 아이템 봄옷 하울🌸</strong>\\n\\t\\t\\t\\t\\t\\t\\t<div class=\"source_wrap\">\\n\\t\\t\\t\\t\\t\\t\\t\\t<span class=\"date\">1주일 전</span>\\n\\t\\t\\t\\t\\t\\t\\t\\t<span class=\"source\"><span class=\"source_inner\">누엘</span></span>\\n\\t\\t\\t\\t\\t\\t\\t</div>\\n\\t\\t\\t\\t\\t\\t</div>\\n\\t\\t\\t\\t\\t</div>\\n\\t\\t\\t\\t</a>\\n\\t\\t\\t\\n\\t\\t\\t\\t<a href=\"https://www.vlive.tv/video/241714\" class=\"media_area\" data-gdid=\"CAS_21c85af3-8b82-11eb-aa63-01de614b080d\" data-clk=\"tcc_bty.video2cont3\" target=\"_blank\">\\n\\t\\t\\t\\t\\t<div class=\"media_thumb\">\\n\\t\\t\\t\\t\\t\\t<img src=\"https://s.pstatic.net/dthumb.phinf/?src&#x3D;%22https%3A%2F%2Fs.pstatic.net%2Fstatic%2Fwww%2Fmobile%2Fedit%2F2021%2F0323%2Fupload_1616467700056WH2mC.jpg%22&amp;type&#x3D;nf464_260\" data-src=\"https://s.pstatic.net/dthumb.phinf/?src&#x3D;%22https%3A%2F%2Fs.pstatic.net%2Fstatic%2Fwww%2Fmobile%2Fedit%2F2021%2F0323%2Fupload_1616467700056WH2mC.jpg%22&amp;type&#x3D;nf464_260\" alt=\"이성동 &#x27;얼킨&#x27;\" width=\"232\" height=\"130\">\\n\\t\\t\\t\\t\\t\\t<span class=\"thumb_dim\"></span>\\n\\t\\t\\t\\t\\t\\t<span class=\"thumb_bd\"></span>\\n\\t\\t\\t\\t\\t\\t<i class=\"pm_ico_play\"><span class=\"blind\">재생</span></i>\\n\\t\\t\\t\\t\\t\\t<span class=\"theme_runtime\"><span class=\"runtime_bg\">재생시간</span><em class=\"time\">04:01</em></span>\\n\\t\\t\\t\\t\\t</div>\\n\\t\\t\\t\\t\\t<div class=\"media_info\">\\n\\t\\t\\t\\t\\t\\t<div class=\"info_box\">\\n\\t\\t\\t\\t\\t\\t\\t<strong class=\"title\">이성동 \\'얼킨\\'</strong>\\n\\t\\t\\t\\t\\t\\t\\t<div class=\"source_wrap\">\\n\\t\\t\\t\\t\\t\\t\\t\\t<span class=\"date\">2일 전</span>\\n\\t\\t\\t\\t\\t\\t\\t\\t<span class=\"source\"><span class=\"source_inner\">V FASHION</span></span>\\n\\t\\t\\t\\t\\t\\t\\t</div>\\n\\t\\t\\t\\t\\t\\t</div>\\n\\t\\t\\t\\t\\t</div>\\n\\t\\t\\t\\t</a>\\n\\t\\t\\t\\n\\t\\t</div>\\n\\t</div>\\n</div>\\n<div class=\"group_theme\" data-block-id=\"\" data-block-code=\"PC-THEME-BEAUTY-MOBILE-RANKING-DEFAULT-2\" data-block-type=\"MATERIALS\" data-template-code=\"MOBILE-RANKING-LIST\"\\n\\n\\t data-da=\"container\"\\n\\t data-index=\"\"\\n     data-page=\"2\"\\n\\t style=\"display:none\">\\n\\n\\t<div class=\"list_theme_wrap\">\\n\\t\\t<ul class=\"list_theme\">\\n\\t\\t\\t\\n\\t\\t\\t\\t<li class=\"theme_item\" data-gdid=\"CAS_8cb7986e-878e-11eb-92ec-a7967977752c\" data-da-position=\"true\">\\n\\t\\t\\t\\t\\t<a href=\"https://post.naver.com/viewer/postView.nhn?volumeNo&#x3D;30975642&amp;memberNo&#x3D;42107144\" class=\"theme_thumb\" data-clk=\"tcc_bty.list3cont1\" target=\"_blank\">\\n\\t\\t\\t\\t\\t\\t<img  data-src=\"https://s.pstatic.net/dthumb.phinf/?src&#x3D;%22https%3A%2F%2Fs.pstatic.net%2Fstatic%2Fwww%2Fmobile%2Fedit%2F2021%2F0318%2Fupload_1616055193599Sl0In.jpg%22&amp;type&#x3D;nf340_228\" alt=\"롤린 롤린💙 브레이브걸스 유정의 일상 패션\" width=\"170\" height=\"114\">\\n\\t\\t\\t\\t\\t\\t<span class=\"thumb_bd\"></span>\\n\\t\\t\\t\\t\\t</a>\\n\\t\\t\\t\\t\\t<a href=\"https://post.naver.com/viewer/postView.nhn?volumeNo&#x3D;30975642&amp;memberNo&#x3D;42107144\" class=\"theme_info\" data-clk=\"tcc_bty.list3cont1\" target=\"_blank\">\\n\\t\\t\\t\\t\\t\\t<em class=\"theme_category\"> 패션뷰티</em>\\n\\t\\t\\t\\t\\t\\t<strong class=\"title elss\">롤린 롤린💙 브레이브걸스 유정의 일상 패션</strong>\\n\\t\\t\\t\\t\\t\\t<p class=\"desc\">역주행? EXID의 바통을 넘겨받은 ‘브레이브걸스’의 ‘롤린’이 뜨겁다. 그리고 그 이유의 중심에는 멤버 한사람 한 사람이 가진 서로 다른 매력, 중독성 있는 음악 그리고 ‘꼬북좌 남유정’을 빼놓을 수 없을 것이다. 오늘은 사랑스러운 포켓몬 꼬북이의 미소를 닮은 그녀의 인스타그램 속 패션을 체크해보자. #브레이브걸스 #남유정 #꼬북좌 #민트 출처 유정 인스</p>\\n\\t\\t\\t\\t\\t\\t<div class=\"source_box\">\\n\\t\\t\\t\\t\\t\\t\\t<span class=\"date\">6일 전</span>\\n\\t\\t\\t\\t\\t\\t\\t<span class=\"source\"><span class=\"source_inner\">트렌디스</span></span>\\n\\t\\t\\t\\t\\t\\t</div>\\n\\t\\t\\t\\t\\t</a>\\n\\t\\t\\t\\t</li>\\n\\t\\t\\t\\n\\t\\t\\t\\t<li class=\"theme_item\" data-gdid=\"CAS_60a8a611-8ade-11eb-bdee-f5384ed41091\" data-da-position=\"true\">\\n\\t\\t\\t\\t\\t<a href=\"https://blog.naver.com/hyun8042/222262989178\" class=\"theme_thumb\" data-clk=\"tcc_bty.list3cont2\" target=\"_blank\">\\n\\t\\t\\t\\t\\t\\t<img  data-src=\"https://s.pstatic.net/dthumb.phinf/?src&#x3D;%22https%3A%2F%2Fs.pstatic.net%2Fstatic%2Fwww%2Fmobile%2Fedit%2F2021%2F0322%2Fupload_1616397626401r7lcx.jpg%22&amp;type&#x3D;nf340_228\" alt=\"피부관리숍 대신 집에서 간편하게 리프팅 하자\" width=\"170\" height=\"114\">\\n\\t\\t\\t\\t\\t\\t<span class=\"thumb_bd\"></span>\\n\\t\\t\\t\\t\\t</a>\\n\\t\\t\\t\\t\\t<a href=\"https://blog.naver.com/hyun8042/222262989178\" class=\"theme_info\" data-clk=\"tcc_bty.list3cont2\" target=\"_blank\">\\n\\t\\t\\t\\t\\t\\t<em class=\"theme_category\"> 패션뷰티</em>\\n\\t\\t\\t\\t\\t\\t<strong class=\"title elss\">피부관리숍 대신 집에서 간편하게 리프팅 하자</strong>\\n\\t\\t\\t\\t\\t\\t<p class=\"desc\">\\u200b\\u200b안녕하세요뷰스타 꼬소입니다 :D\\u200b\\u200b\\u200b\\u200b요즘 시국이 시국인 만큼 피부샵을 다니지 못하다 보니까다들 홈 케어를 많이 하실 것 같아요!그래서 제가 오늘 정말 꿀템을 하나 들고 왔는데,집에서도 간편하게 케어할 수 있는 페이스 롤러를 들고습니다 후후\\u200b\\u200b사실 제가 얼굴이 작은 편은 아닌지라...예전부터 페이스롤러에 상당히 관심이 많았는데아무래도 얼굴에 직접적으로 </p>\\n\\t\\t\\t\\t\\t\\t<div class=\"source_box\">\\n\\t\\t\\t\\t\\t\\t\\t<span class=\"date\">3주일 전</span>\\n\\t\\t\\t\\t\\t\\t\\t<span class=\"source\"><span class=\"source_inner\">꼬소</span></span>\\n\\t\\t\\t\\t\\t\\t</div>\\n\\t\\t\\t\\t\\t</a>\\n\\t\\t\\t\\t</li>\\n\\t\\t\\t\\n\\t\\t\\t\\t<li class=\"theme_item\" data-gdid=\"CAS_8aabc243-878e-11eb-95da-7ffffa6dc0b1\" data-da-position=\"true\">\\n\\t\\t\\t\\t\\t<a href=\"https://post.naver.com/viewer/postView.nhn?volumeNo&#x3D;30914936&amp;memberNo&#x3D;44303069\" class=\"theme_thumb\" data-clk=\"tcc_bty.list3cont3\" target=\"_blank\">\\n\\t\\t\\t\\t\\t\\t<img  data-src=\"https://s.pstatic.net/dthumb.phinf/?src&#x3D;%22https%3A%2F%2Fs.pstatic.net%2Fstatic%2Fwww%2Fmobile%2Fedit%2F2021%2F0318%2Fupload_1616050404858Om0Ns.jpg%22&amp;type&#x3D;nf340_228\" alt=\"롬앤, 크리니크 등 1위 템으로 메이크업 도~전\" width=\"170\" height=\"114\">\\n\\t\\t\\t\\t\\t\\t<span class=\"thumb_bd\"></span>\\n\\t\\t\\t\\t\\t</a>\\n\\t\\t\\t\\t\\t<a href=\"https://post.naver.com/viewer/postView.nhn?volumeNo&#x3D;30914936&amp;memberNo&#x3D;44303069\" class=\"theme_info\" data-clk=\"tcc_bty.list3cont3\" target=\"_blank\">\\n\\t\\t\\t\\t\\t\\t<em class=\"theme_category\"> 패션뷰티</em>\\n\\t\\t\\t\\t\\t\\t<strong class=\"title elss\">롬앤, 크리니크 등 1위 템으로 메이크업 도~전</strong>\\n\\t\\t\\t\\t\\t\\t<p class=\"desc\">BRAVO my BEAUTY❤ 뷰라보 친구들 안-녕요즘 뷰티템들은 따로 화장품가게에 가지 않아도올리브영에서 한꺼번에 구경할 수 있어서올리브영을 많이 찾게되는데종류가 너무 많아서어떤 메이크업 아이템을 사야할 지 잘 모르겠다구?  그래서 오늘은 올리브영 홈페이지 베스트 탭에서상위권에 있는 메이크업템을 소개하려고 해.사람들이 많이 쓰는 베스트 아이템인 만큼기능성</p>\\n\\t\\t\\t\\t\\t\\t<div class=\"source_box\">\\n\\t\\t\\t\\t\\t\\t\\t<span class=\"date\">1주일 전</span>\\n\\t\\t\\t\\t\\t\\t\\t<span class=\"source\"><span class=\"source_inner\">뷰라보 라이프</span></span>\\n\\t\\t\\t\\t\\t\\t</div>\\n\\t\\t\\t\\t\\t</a>\\n\\t\\t\\t\\t</li>\\n\\t\\t\\t\\n\\t\\t\\t\\t<li class=\"theme_item\" data-gdid=\"CAS_8cb7986f-878e-11eb-92ec-f7148ca29b4e\" data-da-position=\"true\">\\n\\t\\t\\t\\t\\t<a href=\"https://post.naver.com/viewer/postView.nhn?volumeNo&#x3D;30946982&amp;memberNo&#x3D;42690419\" class=\"theme_thumb\" data-clk=\"tcc_bty.list3cont4\" target=\"_blank\">\\n\\t\\t\\t\\t\\t\\t<img  data-src=\"https://s.pstatic.net/dthumb.phinf/?src&#x3D;%22https%3A%2F%2Fs.pstatic.net%2Fstatic%2Fwww%2Fmobile%2Fedit%2F2021%2F0318%2Fupload_1616050858098oHRjE.jpg%22&amp;type&#x3D;nf340_228\" alt=\"가장 핫한 그들! 마마무의 4인 4색 스타일 분석\" width=\"170\" height=\"114\">\\n\\t\\t\\t\\t\\t\\t<span class=\"thumb_bd\"></span>\\n\\t\\t\\t\\t\\t</a>\\n\\t\\t\\t\\t\\t<a href=\"https://post.naver.com/viewer/postView.nhn?volumeNo&#x3D;30946982&amp;memberNo&#x3D;42690419\" class=\"theme_info\" data-clk=\"tcc_bty.list3cont4\" target=\"_blank\">\\n\\t\\t\\t\\t\\t\\t<em class=\"theme_category\"> 패션뷰티</em>\\n\\t\\t\\t\\t\\t\\t<strong class=\"title elss\">가장 핫한 그들! 마마무의 4인 4색 스타일 분석</strong>\\n\\t\\t\\t\\t\\t\\t<p class=\"desc\">[갓잇코리아 / 오혜인 기자] 2014년 데뷔한 그룹 마마무는 뛰어난 가창력과 화려한 퍼포먼스로 K 팝을 대표하는 걸그룹으로 등극했다. 마마무는 데뷔곡 Mr. 애매모호를 시작으로, 음오아예, 데칼코마니, 나로 말할 것 같으면, 너 나 해 등 수많은 히트곡을 배출했으며 드라마 OST, 광고음악 등까지 섭렵하며 믿듣맘무(믿고 듣는 마마무)라는 수</p>\\n\\t\\t\\t\\t\\t\\t<div class=\"source_box\">\\n\\t\\t\\t\\t\\t\\t\\t<span class=\"date\">1주일 전</span>\\n\\t\\t\\t\\t\\t\\t\\t<span class=\"source\"><span class=\"source_inner\">갓잇코리아</span></span>\\n\\t\\t\\t\\t\\t\\t</div>\\n\\t\\t\\t\\t\\t</a>\\n\\t\\t\\t\\t</li>\\n\\t\\t\\t\\n\\t\\t\\t\\t<li class=\"theme_item\" data-gdid=\"CAS_8aabc241-878e-11eb-95da-5f61a4102f59\" data-da-position=\"true\">\\n\\t\\t\\t\\t\\t<a href=\"https://blog.naver.com/joaeng/222254906996\" class=\"theme_thumb\" data-clk=\"tcc_bty.list3cont5\" target=\"_blank\">\\n\\t\\t\\t\\t\\t\\t<img  data-src=\"https://s.pstatic.net/dthumb.phinf/?src&#x3D;%22https%3A%2F%2Fs.pstatic.net%2Fstatic%2Fwww%2Fmobile%2Fedit%2F2021%2F0318%2Fupload_1616050329991vDTwP.jpg%22&amp;type&#x3D;nf340_228\" alt=\"묻어남 없이 화사해지는 촉촉한 톤업 크림 찾니\" width=\"170\" height=\"114\">\\n\\t\\t\\t\\t\\t\\t<span class=\"thumb_bd\"></span>\\n\\t\\t\\t\\t\\t</a>\\n\\t\\t\\t\\t\\t<a href=\"https://blog.naver.com/joaeng/222254906996\" class=\"theme_info\" data-clk=\"tcc_bty.list3cont5\" target=\"_blank\">\\n\\t\\t\\t\\t\\t\\t<em class=\"theme_category\"> 패션뷰티</em>\\n\\t\\t\\t\\t\\t\\t<strong class=\"title elss\">묻어남 없이 화사해지는 촉촉한 톤업 크림 찾니</strong>\\n\\t\\t\\t\\t\\t\\t<p class=\"desc\">COSNORI TONE-UP CREAM \\u200b\\u200b\\u200b안녕하세요! 뷰스타 뚜이입니다 (✿◡‿◡)\\u200b파데프리 메이크업하시는 분들이라면올리브영 톤업크림 추천템 관심 많으시죠! ㅋㅋㅋ현실보정으로 화사해지고보송한 마무리감, 오랜 지속력으로 사랑받는코스노리 톤업크림 사용해봤어요!\\u200b\\u200b\\u200b\\u200b\\u200b\\u200b이미 많은 분들의 인생템으로 유명하죠올리브영 톤업크림 판매 1위는 물론화해 , ...</p>\\n\\t\\t\\t\\t\\t\\t<div class=\"source_box\">\\n\\t\\t\\t\\t\\t\\t\\t<span class=\"date\">1개월 전</span>\\n\\t\\t\\t\\t\\t\\t\\t<span class=\"source\"><span class=\"source_inner\">뚜이</span></span>\\n\\t\\t\\t\\t\\t\\t</div>\\n\\t\\t\\t\\t\\t</a>\\n\\t\\t\\t\\t</li>\\n\\t\\t\\t\\n\\t\\t</ul>\\n\\t</div>\\n</div>\\n<div class=\"group_theme\" data-block-id=\"\" data-block-code=\"PC-THEME-BEAUTY-MOBILE-RANKING-VIDEO-2\" data-block-type=\"MATERIALS\" data-template-code=\"MOBILE-RANKING-VIDEO-LIST\"\\n\\n\\t data-index=\"\"\\n\\t data-page=\"2\"\\n\\t style=\"display:none\">\\n\\n\\t<div class=\"media_view_wrap type_column\">\\n\\t\\t<div class=\"media_view\">\\n\\t\\t\\t\\n\\t\\t\\t\\t<a href=\"https://m.tv.naver.com/v/19056362\" class=\"media_area\" data-gdid=\"CAS_890b3199-878e-11eb-95da-ed2de92bf128\" data-clk=\"tcc_bty.video3cont1\" target=\"_blank\">\\n\\t\\t\\t\\t\\t<div class=\"media_thumb\">\\n\\t\\t\\t\\t\\t\\t<img  data-src=\"https://s.pstatic.net/dthumb.phinf/?src&#x3D;%22https%3A%2F%2Fs.pstatic.net%2Fstatic%2Fwww%2Fmobile%2Fedit%2F2021%2F0322%2Fupload_1616396477507PK7th.jpg%22&amp;type&#x3D;nf464_260\" alt=\"살랑살랑~ 러블리한 봄 플리츠스커트 스타일링\" width=\"232\" height=\"130\">\\n\\t\\t\\t\\t\\t\\t<span class=\"thumb_dim\"></span>\\n\\t\\t\\t\\t\\t\\t<span class=\"thumb_bd\"></span>\\n\\t\\t\\t\\t\\t\\t<i class=\"pm_ico_play\"><span class=\"blind\">재생</span></i>\\n\\t\\t\\t\\t\\t\\t<span class=\"theme_runtime\"><span class=\"runtime_bg\">재생시간</span><em class=\"time\">01:33</em></span>\\n\\t\\t\\t\\t\\t</div>\\n\\t\\t\\t\\t\\t<div class=\"media_info\">\\n\\t\\t\\t\\t\\t\\t<div class=\"info_box\">\\n\\t\\t\\t\\t\\t\\t\\t<strong class=\"title\">살랑살랑~ 러블리한 봄 플리츠스커트 스타일링</strong>\\n\\t\\t\\t\\t\\t\\t\\t<div class=\"source_wrap\">\\n\\t\\t\\t\\t\\t\\t\\t\\t<span class=\"date\">6일 전</span>\\n\\t\\t\\t\\t\\t\\t\\t\\t<span class=\"source\"><span class=\"source_inner\">엘르</span></span>\\n\\t\\t\\t\\t\\t\\t\\t</div>\\n\\t\\t\\t\\t\\t\\t</div>\\n\\t\\t\\t\\t\\t</div>\\n\\t\\t\\t\\t</a>\\n\\t\\t\\t\\n\\t\\t\\t\\t<a href=\"https://m.tv.naver.com/v/18925516\" class=\"media_area\" data-gdid=\"CAS_890b3198-878e-11eb-95da-0fefcd5fbb8e\" data-clk=\"tcc_bty.video3cont2\" target=\"_blank\">\\n\\t\\t\\t\\t\\t<div class=\"media_thumb\">\\n\\t\\t\\t\\t\\t\\t<img  data-src=\"https://s.pstatic.net/dthumb.phinf/?src&#x3D;%22https%3A%2F%2Fs.pstatic.net%2Fstatic%2Fwww%2Fmobile%2Fedit%2F2021%2F0322%2Fupload_1616396469584QY7t3.jpg%22&amp;type&#x3D;nf464_260\" alt=\"핏과 디자인 넘나 훌륭한 국내 브랜드 재킷 11\" width=\"232\" height=\"130\">\\n\\t\\t\\t\\t\\t\\t<span class=\"thumb_dim\"></span>\\n\\t\\t\\t\\t\\t\\t<span class=\"thumb_bd\"></span>\\n\\t\\t\\t\\t\\t\\t<i class=\"pm_ico_play\"><span class=\"blind\">재생</span></i>\\n\\t\\t\\t\\t\\t\\t<span class=\"theme_runtime\"><span class=\"runtime_bg\">재생시간</span><em class=\"time\">17:47</em></span>\\n\\t\\t\\t\\t\\t</div>\\n\\t\\t\\t\\t\\t<div class=\"media_info\">\\n\\t\\t\\t\\t\\t\\t<div class=\"info_box\">\\n\\t\\t\\t\\t\\t\\t\\t<strong class=\"title\">핏과 디자인 넘나 훌륭한 국내 브랜드 재킷 11</strong>\\n\\t\\t\\t\\t\\t\\t\\t<div class=\"source_wrap\">\\n\\t\\t\\t\\t\\t\\t\\t\\t<span class=\"date\">1주일 전</span>\\n\\t\\t\\t\\t\\t\\t\\t\\t<span class=\"source\"><span class=\"source_inner\">옆집언니 최실장</span></span>\\n\\t\\t\\t\\t\\t\\t\\t</div>\\n\\t\\t\\t\\t\\t\\t</div>\\n\\t\\t\\t\\t\\t</div>\\n\\t\\t\\t\\t</a>\\n\\t\\t\\t\\n\\t\\t\\t\\t<a href=\"https://m.tv.naver.com/v/18937406\" class=\"media_area\" data-gdid=\"CAS_8aabc240-878e-11eb-95da-7f2a003d5dde\" data-clk=\"tcc_bty.video3cont3\" target=\"_blank\">\\n\\t\\t\\t\\t\\t<div class=\"media_thumb\">\\n\\t\\t\\t\\t\\t\\t<img  data-src=\"https://s.pstatic.net/dthumb.phinf/?src&#x3D;%22https%3A%2F%2Fs.pstatic.net%2Fstatic%2Fwww%2Fmobile%2Fedit%2F2021%2F0318%2Fupload_16160503136289dsLx.jpg%22&amp;type&#x3D;nf464_260\" alt=\"레이어드 하기 좋은 실반지 ft. 스타일링 팁💍\" width=\"232\" height=\"130\">\\n\\t\\t\\t\\t\\t\\t<span class=\"thumb_dim\"></span>\\n\\t\\t\\t\\t\\t\\t<span class=\"thumb_bd\"></span>\\n\\t\\t\\t\\t\\t\\t<i class=\"pm_ico_play\"><span class=\"blind\">재생</span></i>\\n\\t\\t\\t\\t\\t\\t<span class=\"theme_runtime\"><span class=\"runtime_bg\">재생시간</span><em class=\"time\">07:30</em></span>\\n\\t\\t\\t\\t\\t</div>\\n\\t\\t\\t\\t\\t<div class=\"media_info\">\\n\\t\\t\\t\\t\\t\\t<div class=\"info_box\">\\n\\t\\t\\t\\t\\t\\t\\t<strong class=\"title\">레이어드 하기 좋은 실반지 ft. 스타일링 팁💍</strong>\\n\\t\\t\\t\\t\\t\\t\\t<div class=\"source_wrap\">\\n\\t\\t\\t\\t\\t\\t\\t\\t<span class=\"date\">1주일 전</span>\\n\\t\\t\\t\\t\\t\\t\\t\\t<span class=\"source\"><span class=\"source_inner\">금지언니 Jewelry room</span></span>\\n\\t\\t\\t\\t\\t\\t\\t</div>\\n\\t\\t\\t\\t\\t\\t</div>\\n\\t\\t\\t\\t\\t</div>\\n\\t\\t\\t\\t</a>\\n\\t\\t\\t\\n\\t\\t</div>\\n\\t</div>\\n</div>\\n<div class=\"group_theme\" data-block-id=\"\" data-block-code=\"PC-THEME-BEAUTY-MOBILE-RANKING-DEFAULT-3\" data-block-type=\"MATERIALS\" data-template-code=\"MOBILE-RANKING-LIST\"\\n\\n\\t data-da=\"container\"\\n\\t data-index=\"\"\\n     data-page=\"2\"\\n\\t style=\"display:none\">\\n\\n\\t<div class=\"list_theme_wrap\">\\n\\t\\t<ul class=\"list_theme\">\\n\\t\\t\\t\\n\\t\\t\\t\\t<li class=\"theme_item\" data-gdid=\"CAS_8aabc244-878e-11eb-95da-538ad5bb9f72\" data-da-position=\"true\">\\n\\t\\t\\t\\t\\t<a href=\"https://blog.naver.com/minimouse24/222270039013\" class=\"theme_thumb\" data-clk=\"tcc_bty.list4cont1\" target=\"_blank\">\\n\\t\\t\\t\\t\\t\\t<img  data-src=\"https://s.pstatic.net/dthumb.phinf/?src&#x3D;%22https%3A%2F%2Fs.pstatic.net%2Fstatic%2Fwww%2Fmobile%2Fedit%2F2021%2F0318%2Fupload_1616050424008qo4cF.jpg%22&amp;type&#x3D;nf340_228\" alt=\"재구매한 제품은? 탈탈 털어 쓴 기초 공병 후기\" width=\"170\" height=\"114\">\\n\\t\\t\\t\\t\\t\\t<span class=\"thumb_bd\"></span>\\n\\t\\t\\t\\t\\t</a>\\n\\t\\t\\t\\t\\t<a href=\"https://blog.naver.com/minimouse24/222270039013\" class=\"theme_info\" data-clk=\"tcc_bty.list4cont1\" target=\"_blank\">\\n\\t\\t\\t\\t\\t\\t<em class=\"theme_category\"> 패션뷰티</em>\\n\\t\\t\\t\\t\\t\\t<strong class=\"title elss\">재구매한 제품은? 탈탈 털어 쓴 기초 공병 후기</strong>\\n\\t\\t\\t\\t\\t\\t<p class=\"desc\">\\u200b\\u200b요며칠 푹 쳐진듯한 하루를 보내고있네요방도 너저분해보이고 ㅠㅠ 모아두었던 공병들도 싹 정리해봤어요뭔가 이렇게 포스팅하고 나면 내가 뭘 잘 썼나 보이기도 하는데막상 또 모아두려고하다보면 이게 짐이더라구요!이번엔 색조보다는 겨울내내 잘 활용했던 제품들이 많더라구요\\u200b\\u200b\\u200b첫번째 공병은 바이오더마 센시비오 클렌징워터이상하게 그 어떤 타입의 세안제보다 자...</p>\\n\\t\\t\\t\\t\\t\\t<div class=\"source_box\">\\n\\t\\t\\t\\t\\t\\t\\t<span class=\"date\">2주일 전</span>\\n\\t\\t\\t\\t\\t\\t\\t<span class=\"source\"><span class=\"source_inner\">빵긋</span></span>\\n\\t\\t\\t\\t\\t\\t</div>\\n\\t\\t\\t\\t\\t</a>\\n\\t\\t\\t\\t</li>\\n\\t\\t\\t\\n\\t\\t\\t\\t<li class=\"theme_item\" data-gdid=\"CAS_60a8a610-8ade-11eb-bdee-d71ade6041f1\" data-da-position=\"true\">\\n\\t\\t\\t\\t\\t<a href=\"https://blog.naver.com/rose9old/222282562671\" class=\"theme_thumb\" data-clk=\"tcc_bty.list4cont2\" target=\"_blank\">\\n\\t\\t\\t\\t\\t\\t<img  data-src=\"https://s.pstatic.net/dthumb.phinf/?src&#x3D;%22https%3A%2F%2Fs.pstatic.net%2Fstatic%2Fwww%2Fmobile%2Fedit%2F2021%2F0322%2Fupload_1616397619101GrlrK.jpg%22&amp;type&#x3D;nf340_228\" alt=\"뜯는 버릇 그만! 입술 각질 하루 만에 촉촉해짐\" width=\"170\" height=\"114\">\\n\\t\\t\\t\\t\\t\\t<span class=\"thumb_bd\"></span>\\n\\t\\t\\t\\t\\t</a>\\n\\t\\t\\t\\t\\t<a href=\"https://blog.naver.com/rose9old/222282562671\" class=\"theme_info\" data-clk=\"tcc_bty.list4cont2\" target=\"_blank\">\\n\\t\\t\\t\\t\\t\\t<em class=\"theme_category\"> 패션뷰티</em>\\n\\t\\t\\t\\t\\t\\t<strong class=\"title elss\">뜯는 버릇 그만! 입술 각질 하루 만에 촉촉해짐</strong>\\n\\t\\t\\t\\t\\t\\t<p class=\"desc\">본 포스팅은 위 상품을 추천하면서 해당 브랜드로부터 경제적 대가를 받았습니다.\\u200b뷰스타 3월 기획전 3/23(화)~25(목) 이벤트!오만원이상 구매 선착순 150명 스타벅스 5천원 기프트카드 증정스마트 스토어찜 쿠폰 10% 발행!무료배송라네즈 100% 정품\\u200b\\u200b안녕하세요. 뷰스타 박서울입니다!! 드디어 3월 기획전 일정이 나왔습니다~\\u200b3/23(화)~25(목) </p>\\n\\t\\t\\t\\t\\t\\t<div class=\"source_box\">\\n\\t\\t\\t\\t\\t\\t\\t<span class=\"date\">3일 전</span>\\n\\t\\t\\t\\t\\t\\t\\t<span class=\"source\"><span class=\"source_inner\">박서울</span></span>\\n\\t\\t\\t\\t\\t\\t</div>\\n\\t\\t\\t\\t\\t</a>\\n\\t\\t\\t\\t</li>\\n\\t\\t\\t\\n\\t\\t\\t\\t<li class=\"theme_item\" data-gdid=\"CAS_8aabc242-878e-11eb-95da-edf31cbc4481\" data-da-position=\"true\">\\n\\t\\t\\t\\t\\t<a href=\"https://post.naver.com/viewer/postView.nhn?volumeNo&#x3D;30901470&amp;memberNo&#x3D;11670400\" class=\"theme_thumb\" data-clk=\"tcc_bty.list4cont3\" target=\"_blank\">\\n\\t\\t\\t\\t\\t\\t<img  data-src=\"https://s.pstatic.net/dthumb.phinf/?src&#x3D;%22https%3A%2F%2Fs.pstatic.net%2Fstatic%2Fwww%2Fmobile%2Fedit%2F2021%2F0318%2Fupload_1616050370275HhnAZ.jpg%22&amp;type&#x3D;nf340_228\" alt=\"지구와 피부를 동시에 지키는 친환경 스킨케어\" width=\"170\" height=\"114\">\\n\\t\\t\\t\\t\\t\\t<span class=\"thumb_bd\"></span>\\n\\t\\t\\t\\t\\t</a>\\n\\t\\t\\t\\t\\t<a href=\"https://post.naver.com/viewer/postView.nhn?volumeNo&#x3D;30901470&amp;memberNo&#x3D;11670400\" class=\"theme_info\" data-clk=\"tcc_bty.list4cont3\" target=\"_blank\">\\n\\t\\t\\t\\t\\t\\t<em class=\"theme_category\"> 패션뷰티</em>\\n\\t\\t\\t\\t\\t\\t<strong class=\"title elss\">지구와 피부를 동시에 지키는 친환경 스킨케어</strong>\\n\\t\\t\\t\\t\\t\\t<p class=\"desc\">요즘 대세인 비건 뷰티, 클린 뷰티와함께 하고 싶은 룸메들을 위해서준비했어요!지구와 피부를 동시에 지키는!친환경 스킨케어템 4 친환경 스킨케어 추천 제품 첫 번째는 쏘내추럴 비건 라인, 쏘 비건 노니 크림! 쏘 비건 라인은 토너, 크림, 페이스 오일 총 3종이 있는데요 이 중 가장 잘 쓰고 있는 노니 크림을 가져왔어요 노니와 레몬 추출물이 들어있어서 칙칙한</p>\\n\\t\\t\\t\\t\\t\\t<div class=\"source_box\">\\n\\t\\t\\t\\t\\t\\t\\t<span class=\"date\">1주일 전</span>\\n\\t\\t\\t\\t\\t\\t\\t<span class=\"source\"><span class=\"source_inner\">파우더룸</span></span>\\n\\t\\t\\t\\t\\t\\t</div>\\n\\t\\t\\t\\t\\t</a>\\n\\t\\t\\t\\t</li>\\n\\t\\t\\t\\n\\t\\t\\t\\t<li class=\"theme_item\" data-gdid=\"CAS_4e571ffe-86e4-11eb-a4a8-bd2f3bdd517c\" data-da-position=\"true\">\\n\\t\\t\\t\\t\\t<a href=\"https://post.naver.com/viewer/postView.nhn?volumeNo&#x3D;30931357&amp;memberNo&#x3D;17151462\" class=\"theme_thumb\" data-clk=\"tcc_bty.list4cont4\" target=\"_blank\">\\n\\t\\t\\t\\t\\t\\t<img  data-src=\"https://s.pstatic.net/dthumb.phinf/?src&#x3D;%22https%3A%2F%2Fs.pstatic.net%2Fstatic%2Fwww%2Fmobile%2Fedit%2F2021%2F0317%2Fupload_161596136558201JKB.jpg%22&amp;type&#x3D;nf340_228\" alt=\"&#x27;펜트하우스&#x27; 속 주석경의 사복 코디 모아 보기\" width=\"170\" height=\"114\">\\n\\t\\t\\t\\t\\t\\t<span class=\"thumb_bd\"></span>\\n\\t\\t\\t\\t\\t</a>\\n\\t\\t\\t\\t\\t<a href=\"https://post.naver.com/viewer/postView.nhn?volumeNo&#x3D;30931357&amp;memberNo&#x3D;17151462\" class=\"theme_info\" data-clk=\"tcc_bty.list4cont4\" target=\"_blank\">\\n\\t\\t\\t\\t\\t\\t<em class=\"theme_category\"> 패션뷰티</em>\\n\\t\\t\\t\\t\\t\\t<strong class=\"title elss\">\\'펜트하우스\\' 속 주석경의 사복 코디 모아 보기</strong>\\n\\t\\t\\t\\t\\t\\t<p class=\"desc\">화제의 드라마! 펜트하우스요즘 가장 핫한 드라마인 펜트하우스, 다들 보시나요? 흥미진진한 스토리와 배우들의 뛰어난 연기력으로 매회마다 화제가 되고 있는데요, 헤라 키즈들 중에서도 가장 눈에 띄는 캐릭터는 바로 주석경이 아닐까 싶어요!주석경 캐릭터를 연기하는 배우인 한지현은 사실, 모델 출신이라고 합니다! 어쩐지 인별그램 속 사진마다 멋짐이 느껴지더라구요.모</p>\\n\\t\\t\\t\\t\\t\\t<div class=\"source_box\">\\n\\t\\t\\t\\t\\t\\t\\t<span class=\"date\">1주일 전</span>\\n\\t\\t\\t\\t\\t\\t\\t<span class=\"source\"><span class=\"source_inner\">지그재그 ZIGZAG</span></span>\\n\\t\\t\\t\\t\\t\\t</div>\\n\\t\\t\\t\\t\\t</a>\\n\\t\\t\\t\\t</li>\\n\\t\\t\\t\\n\\t\\t\\t\\t<li class=\"theme_item\" data-gdid=\"CAS_4e571fff-86e4-11eb-a4a8-adaa072a6224\" data-da-position=\"true\">\\n\\t\\t\\t\\t\\t<a href=\"https://post.naver.com/viewer/postView.nhn?volumeNo&#x3D;30927448&amp;memberNo&#x3D;11031159\" class=\"theme_thumb\" data-clk=\"tcc_bty.list4cont5\" target=\"_blank\">\\n\\t\\t\\t\\t\\t\\t<img  data-src=\"https://s.pstatic.net/dthumb.phinf/?src&#x3D;%22https%3A%2F%2Fs.pstatic.net%2Fstatic%2Fwww%2Fmobile%2Fedit%2F2021%2F0317%2Fupload_1615961379486GIvmh.jpg%22&amp;type&#x3D;nf340_228\" alt=\"모델들은 어떤 포인트의 청바지를 즐겨 입을까?\" width=\"170\" height=\"114\">\\n\\t\\t\\t\\t\\t\\t<span class=\"thumb_bd\"></span>\\n\\t\\t\\t\\t\\t</a>\\n\\t\\t\\t\\t\\t<a href=\"https://post.naver.com/viewer/postView.nhn?volumeNo&#x3D;30927448&amp;memberNo&#x3D;11031159\" class=\"theme_info\" data-clk=\"tcc_bty.list4cont5\" target=\"_blank\">\\n\\t\\t\\t\\t\\t\\t<em class=\"theme_category\"> 패션뷰티</em>\\n\\t\\t\\t\\t\\t\\t<strong class=\"title elss\">모델들은 어떤 포인트의 청바지를 즐겨 입을까?</strong>\\n\\t\\t\\t\\t\\t\\t<p class=\"desc\">흰 티에 청바지만 입어도 탄성이 쏟아지는 모델들에게 물었다. 하나, 요즘 어떤 청바지 즐겨 입어? 둘, 이유가 뭐야?  박서희 |\\xa0032c 러브섹스드림\\xa0“넥스트” 진\\xa0라이트 블루 평소에 골반에 걸쳐 입는 청바지를 좋아한다. 이런 청바지는 엉덩이 부분이 벙벙하지 않게 잘 맞는 것을 고르는 것이 관건인데 032c의 이 모델이 딱 그런 핏을 지녔다. 긴 길이와 </p>\\n\\t\\t\\t\\t\\t\\t<div class=\"source_box\">\\n\\t\\t\\t\\t\\t\\t\\t<span class=\"date\">1주일 전</span>\\n\\t\\t\\t\\t\\t\\t\\t<span class=\"source\"><span class=\"source_inner\">얼루어코리아</span></span>\\n\\t\\t\\t\\t\\t\\t</div>\\n\\t\\t\\t\\t\\t</a>\\n\\t\\t\\t\\t</li>\\n\\t\\t\\t\\n\\t\\t</ul>\\n\\t</div>\\n</div>\\n<div class=\"group_theme\" data-block-id=\"\" data-block-code=\"PC-THEME-BEAUTY-MOBILE-RANKING-DEFAULT-4\" data-block-type=\"MATERIALS\" data-template-code=\"MOBILE-RANKING-LIST\"\\n\\n\\t data-da=\"container\"\\n\\t data-index=\"\"\\n     data-page=\"3\"\\n\\t style=\"display:none\">\\n\\n\\t<div class=\"list_theme_wrap\">\\n\\t\\t<ul class=\"list_theme\">\\n\\t\\t\\t\\n\\t\\t\\t\\t<li class=\"theme_item\" data-gdid=\"CAS_4cf8c7cb-86e4-11eb-9c55-2b53d498a91a\" data-da-position=\"true\">\\n\\t\\t\\t\\t\\t<a href=\"https://post.naver.com/viewer/postView.nhn?volumeNo&#x3D;30956081&amp;memberNo&#x3D;34329665\" class=\"theme_thumb\" data-clk=\"tcc_bty.list5cont1\" target=\"_blank\">\\n\\t\\t\\t\\t\\t\\t<img  data-src=\"https://s.pstatic.net/dthumb.phinf/?src&#x3D;%22https%3A%2F%2Fs.pstatic.net%2Fstatic%2Fwww%2Fmobile%2Fedit%2F2021%2F0317%2Fupload_1615963538419yqfNX.jpg%22&amp;type&#x3D;nf340_228\" alt=\"라코스테, MLB 등 피부 톤 밝혀주는 맨투맨. zip\" width=\"170\" height=\"114\">\\n\\t\\t\\t\\t\\t\\t<span class=\"thumb_bd\"></span>\\n\\t\\t\\t\\t\\t</a>\\n\\t\\t\\t\\t\\t<a href=\"https://post.naver.com/viewer/postView.nhn?volumeNo&#x3D;30956081&amp;memberNo&#x3D;34329665\" class=\"theme_info\" data-clk=\"tcc_bty.list5cont1\" target=\"_blank\">\\n\\t\\t\\t\\t\\t\\t<em class=\"theme_category\"> 패션뷰티</em>\\n\\t\\t\\t\\t\\t\\t<strong class=\"title elss\">라코스테, MLB 등 피부 톤 밝혀주는 맨투맨. zip</strong>\\n\\t\\t\\t\\t\\t\\t<p class=\"desc\">라코스테감각적인 컬러 레터링과 라코스테의 상징인 크록 로고가 포인트인 맨투맨이에요~! 빅 크록 로고가 실리콘으로 부착되어 한눈에 들어오는데요 :D 스탠다드핏으로 남녀노소 모두 착용 가능해요! 최근 젠더리스 룩의 유행으로 여성복에만 사용되던 파스텔 색상이 남성복에도 등장하기 시작했는데요, 라코스테의 맨투맨으로 남친룩에 도전해봐도 좋을 거 같아요~!빅 로고는 </p>\\n\\t\\t\\t\\t\\t\\t<div class=\"source_box\">\\n\\t\\t\\t\\t\\t\\t\\t<span class=\"date\">1주일 전</span>\\n\\t\\t\\t\\t\\t\\t\\t<span class=\"source\"><span class=\"source_inner\">마고의 패션뷰티</span></span>\\n\\t\\t\\t\\t\\t\\t</div>\\n\\t\\t\\t\\t\\t</a>\\n\\t\\t\\t\\t</li>\\n\\t\\t\\t\\n\\t\\t\\t\\t<li class=\"theme_item\" data-gdid=\"CAS_4cf8c7c8-86e4-11eb-9c55-e57dd1741f34\" data-da-position=\"true\">\\n\\t\\t\\t\\t\\t<a href=\"https://post.naver.com/viewer/postView.nhn?volumeNo&#x3D;30951112&amp;memberNo&#x3D;43588377\" class=\"theme_thumb\" data-clk=\"tcc_bty.list5cont2\" target=\"_blank\">\\n\\t\\t\\t\\t\\t\\t<img  data-src=\"https://s.pstatic.net/dthumb.phinf/?src&#x3D;%22https%3A%2F%2Fs.pstatic.net%2Fstatic%2Fwww%2Fmobile%2Fedit%2F2021%2F0317%2Fupload_1615963486468Til2V.jpg%22&amp;type&#x3D;nf340_228\" alt=\"봄에 제일 예쁜 #트위드 코디 탈탈 털어왔어요\" width=\"170\" height=\"114\">\\n\\t\\t\\t\\t\\t\\t<span class=\"thumb_bd\"></span>\\n\\t\\t\\t\\t\\t</a>\\n\\t\\t\\t\\t\\t<a href=\"https://post.naver.com/viewer/postView.nhn?volumeNo&#x3D;30951112&amp;memberNo&#x3D;43588377\" class=\"theme_info\" data-clk=\"tcc_bty.list5cont2\" target=\"_blank\">\\n\\t\\t\\t\\t\\t\\t<em class=\"theme_category\"> 패션뷰티</em>\\n\\t\\t\\t\\t\\t\\t<strong class=\"title elss\">봄에 제일 예쁜 #트위드 코디 탈탈 털어왔어요</strong>\\n\\t\\t\\t\\t\\t\\t<p class=\"desc\">봄은 새로운 시작을 의미하는 만큼, 패션 연출에 있어서도 사계절 중 가장 신경을 많이 쓰는 시즌이 아닐까 싶은데요. 그 중에서도 트위드는 여성들의 워너비 아이템으로 손꼽히며 봄이 오면 큰 사랑을 받고 있어요. 오늘은 걸치기만 해도 분위기 뿜뿜하는 트위드 아이템에 대해 함께 살펴보아요!트위드 셋업첫번째는 바로 트위드 셋업. 트위드 셋업은 트위드 본연의 클래식</p>\\n\\t\\t\\t\\t\\t\\t<div class=\"source_box\">\\n\\t\\t\\t\\t\\t\\t\\t<span class=\"date\">1주일 전</span>\\n\\t\\t\\t\\t\\t\\t\\t<span class=\"source\"><span class=\"source_inner\">스타일랩</span></span>\\n\\t\\t\\t\\t\\t\\t</div>\\n\\t\\t\\t\\t\\t</a>\\n\\t\\t\\t\\t</li>\\n\\t\\t\\t\\n\\t\\t\\t\\t<li class=\"theme_item\" data-gdid=\"CAS_4cf8c7cd-86e4-11eb-9c55-23e855643600\" data-da-position=\"true\">\\n\\t\\t\\t\\t\\t<a href=\"https://blog.naver.com/mamelyoo/222273222810\" class=\"theme_thumb\" data-clk=\"tcc_bty.list5cont3\" target=\"_blank\">\\n\\t\\t\\t\\t\\t\\t<img  data-src=\"https://s.pstatic.net/dthumb.phinf/?src&#x3D;%22https%3A%2F%2Fs.pstatic.net%2Fstatic%2Fwww%2Fmobile%2Fedit%2F2021%2F0317%2Fupload_1615963569313xlxJR.jpg%22&amp;type&#x3D;nf340_228\" alt=\"패키징만 봐도 설레는 핑크빛 신상 키트 리뷰♥\" width=\"170\" height=\"114\">\\n\\t\\t\\t\\t\\t\\t<span class=\"thumb_bd\"></span>\\n\\t\\t\\t\\t\\t</a>\\n\\t\\t\\t\\t\\t<a href=\"https://blog.naver.com/mamelyoo/222273222810\" class=\"theme_info\" data-clk=\"tcc_bty.list5cont3\" target=\"_blank\">\\n\\t\\t\\t\\t\\t\\t<em class=\"theme_category\"> 패션뷰티</em>\\n\\t\\t\\t\\t\\t\\t<strong class=\"title elss\">패키징만 봐도 설레는 핑크빛 신상 키트 리뷰♥</strong>\\n\\t\\t\\t\\t\\t\\t<p class=\"desc\">\\u200b\\u200b\\u200b\\u200b\\u200b유난히 추웠던 겨울이 지나고어김없이 봄시즌이 한껏 다가오고 있어요 (설렘)이번에는 어떤 사랑스러운 아이템들이등장할지 매우 설레이는데요 !\\u200b패키징만봐도 봄의 따스한 무드와꽃향기가 기분좋게 퍼지는 것 같은신상 봄컬렉션을 소개할게요 ෆ\\u200b\\u200b\\u200b\\u200b오늘은 스프링 모브의 핑크빛 봄 무드를 담은특별한 패키지를 데리고 왔어요 ๑&#x27;ٮ&#x27;๑\\u200b쿨톤 피부 톤...</p>\\n\\t\\t\\t\\t\\t\\t<div class=\"source_box\">\\n\\t\\t\\t\\t\\t\\t\\t<span class=\"date\">1주일 전</span>\\n\\t\\t\\t\\t\\t\\t\\t<span class=\"source\"><span class=\"source_inner\">마멜유</span></span>\\n\\t\\t\\t\\t\\t\\t</div>\\n\\t\\t\\t\\t\\t</a>\\n\\t\\t\\t\\t</li>\\n\\t\\t\\t\\n\\t\\t\\t\\t<li class=\"theme_item\" data-gdid=\"CAS_4cf8c7ce-86e4-11eb-9c55-972f485bd754\" data-da-position=\"true\">\\n\\t\\t\\t\\t\\t<a href=\"https://post.naver.com/viewer/postView.nhn?volumeNo&#x3D;30928812&amp;memberNo&#x3D;20169999\" class=\"theme_thumb\" data-clk=\"tcc_bty.list5cont4\" target=\"_blank\">\\n\\t\\t\\t\\t\\t\\t<img  data-src=\"https://s.pstatic.net/dthumb.phinf/?src&#x3D;%22https%3A%2F%2Fs.pstatic.net%2Fstatic%2Fwww%2Fmobile%2Fedit%2F2021%2F0317%2Fupload_1615963586341w1eom.jpg%22&amp;type&#x3D;nf340_228\" alt=\"에디터가 찐으로 애정하는 아바타 템 털어보니\" width=\"170\" height=\"114\">\\n\\t\\t\\t\\t\\t\\t<span class=\"thumb_bd\"></span>\\n\\t\\t\\t\\t\\t</a>\\n\\t\\t\\t\\t\\t<a href=\"https://post.naver.com/viewer/postView.nhn?volumeNo&#x3D;30928812&amp;memberNo&#x3D;20169999\" class=\"theme_info\" data-clk=\"tcc_bty.list5cont4\" target=\"_blank\">\\n\\t\\t\\t\\t\\t\\t<em class=\"theme_category\"> 패션뷰티</em>\\n\\t\\t\\t\\t\\t\\t<strong class=\"title elss\">에디터가 찐으로 애정하는 아바타 템 털어보니</strong>\\n\\t\\t\\t\\t\\t\\t<p class=\"desc\">업무 특성상 평소 수많은 뷰티 제품을 사용하며 경험할 수 있는 에디터. 때문에 사용하다가 찐으로 좋으면 내 분신인 것마냥 아바타처럼 가지고 다니면서 사용 중에 있지.우선 에디터의 파우치 속 아바타템을 소개하기 전에!! 에디터의 피부 타입과 특징부터 알고 가자구♥에디터가 파우치에 넣고 다니는 아바타템♥ 뭐가 참 많이 들어 있지? 그럼</p>\\n\\t\\t\\t\\t\\t\\t<div class=\"source_box\">\\n\\t\\t\\t\\t\\t\\t\\t<span class=\"date\">1주일 전</span>\\n\\t\\t\\t\\t\\t\\t\\t<span class=\"source\"><span class=\"source_inner\">레뷰픽</span></span>\\n\\t\\t\\t\\t\\t\\t</div>\\n\\t\\t\\t\\t\\t</a>\\n\\t\\t\\t\\t</li>\\n\\t\\t\\t\\n\\t\\t\\t\\t<li class=\"theme_item\" data-gdid=\"CAS_4cf8c7cf-86e4-11eb-9c55-9bece9493c76\" data-da-position=\"true\">\\n\\t\\t\\t\\t\\t<a href=\"https://blog.naver.com/iamchocolat/222262640280\" class=\"theme_thumb\" data-clk=\"tcc_bty.list5cont5\" target=\"_blank\">\\n\\t\\t\\t\\t\\t\\t<img  data-src=\"https://s.pstatic.net/dthumb.phinf/?src&#x3D;%22https%3A%2F%2Fs.pstatic.net%2Fstatic%2Fwww%2Fmobile%2Fedit%2F2021%2F0317%2Fupload_1615963599392TRRLh.jpg%22&amp;type&#x3D;nf340_228\" alt=\"100시간 지속되는 강력 보습 #크리니크_쏙크림\" width=\"170\" height=\"114\">\\n\\t\\t\\t\\t\\t\\t<span class=\"thumb_bd\"></span>\\n\\t\\t\\t\\t\\t</a>\\n\\t\\t\\t\\t\\t<a href=\"https://blog.naver.com/iamchocolat/222262640280\" class=\"theme_info\" data-clk=\"tcc_bty.list5cont5\" target=\"_blank\">\\n\\t\\t\\t\\t\\t\\t<em class=\"theme_category\"> 패션뷰티</em>\\n\\t\\t\\t\\t\\t\\t<strong class=\"title elss\">100시간 지속되는 강력 보습 #크리니크_쏙크림</strong>\\n\\t\\t\\t\\t\\t\\t<p class=\"desc\">\\u200b\\u200b\\u200b기초화장품을 발라도 발라도속당김과 속건조가 잡히지 않는 것 같을 때,\\u200b피부 속까지 촉촉하게 채워주고오랜 시간 수분감을 유지해주는 크리니크 쏙보습크림을 만나보았어요.\\u200b오래 전부터 핑크 수분크림으로 유명했고저도 몇 통은 사용했었더랬죠 ㅎㅎ특히 복합성, 지성 타입 분들에게 딱 맞는수부지 수분크림 추천 제품인데요!\\u200b이번에 한층 더 업그레이드된100시간 동..</p>\\n\\t\\t\\t\\t\\t\\t<div class=\"source_box\">\\n\\t\\t\\t\\t\\t\\t\\t<span class=\"date\">3주일 전</span>\\n\\t\\t\\t\\t\\t\\t\\t<span class=\"source\"><span class=\"source_inner\">쇼콜라</span></span>\\n\\t\\t\\t\\t\\t\\t</div>\\n\\t\\t\\t\\t\\t</a>\\n\\t\\t\\t\\t</li>\\n\\t\\t\\t\\n\\t\\t</ul>\\n\\t</div>\\n</div>\\n<div class=\"group_theme\" data-block-id=\"\" data-block-code=\"PC-THEME-BEAUTY-MOBILE-RANKING-DEFAULT-5\" data-block-type=\"MATERIALS\" data-template-code=\"MOBILE-RANKING-LIST\"\\n\\n\\t data-da=\"container\"\\n\\t data-index=\"\"\\n     data-page=\"3\"\\n\\t style=\"display:none\">\\n\\n\\t<div class=\"list_theme_wrap\">\\n\\t\\t<ul class=\"list_theme\">\\n\\t\\t\\t\\n\\t\\t\\t\\t<li class=\"theme_item\" data-gdid=\"CAS_4cf8c7cc-86e4-11eb-9c55-dd8c69606aff\" data-da-position=\"true\">\\n\\t\\t\\t\\t\\t<a href=\"https://post.naver.com/viewer/postView.nhn?volumeNo&#x3D;30931540&amp;memberNo&#x3D;9011320\" class=\"theme_thumb\" data-clk=\"tcc_bty.list6cont1\" target=\"_blank\">\\n\\t\\t\\t\\t\\t\\t<img  data-src=\"https://s.pstatic.net/dthumb.phinf/?src&#x3D;%22https%3A%2F%2Fs.pstatic.net%2Fstatic%2Fwww%2Fmobile%2Fedit%2F2021%2F0317%2Fupload_1615963556368G468r.jpg%22&amp;type&#x3D;nf340_228\" alt=\"이거면 OK! 환절기에 꼭 필요한 스킨케어 모음\" width=\"170\" height=\"114\">\\n\\t\\t\\t\\t\\t\\t<span class=\"thumb_bd\"></span>\\n\\t\\t\\t\\t\\t</a>\\n\\t\\t\\t\\t\\t<a href=\"https://post.naver.com/viewer/postView.nhn?volumeNo&#x3D;30931540&amp;memberNo&#x3D;9011320\" class=\"theme_info\" data-clk=\"tcc_bty.list6cont1\" target=\"_blank\">\\n\\t\\t\\t\\t\\t\\t<em class=\"theme_category\"> 패션뷰티</em>\\n\\t\\t\\t\\t\\t\\t<strong class=\"title elss\">이거면 OK! 환절기에 꼭 필요한 스킨케어 모음</strong>\\n\\t\\t\\t\\t\\t\\t<p class=\"desc\">설레는 봄을 맞이하는 것도 잠시\\u200b...낮과 밤의 기온차가 심한 환절기가 찾아오면서\\u200b피부 속 건조가 심해지고 있는 요즘!\\u200b\\u200b피부는 외부 상황에 영향을 많이 받기 때문에\\u200b오락가락 날씨인 환절기엔\\u200b피부가 엄~청 스트레스를 받고 있단 사실 ㅠ_ㅠ\\u200b\\u200b그래서! 오늘은 에디터가 환절기에 꼭 필요한\\u200b스킨케어 저격 템을 가져와봤다구 ♥\\u200b\\u200b시작!\\u200b 7천 년의 에너지가 담긴 </p>\\n\\t\\t\\t\\t\\t\\t<div class=\"source_box\">\\n\\t\\t\\t\\t\\t\\t\\t<span class=\"date\">1주일 전</span>\\n\\t\\t\\t\\t\\t\\t\\t<span class=\"source\"><span class=\"source_inner\">채널뷰티</span></span>\\n\\t\\t\\t\\t\\t\\t</div>\\n\\t\\t\\t\\t\\t</a>\\n\\t\\t\\t\\t</li>\\n\\t\\t\\t\\n\\t\\t\\t\\t<li class=\"theme_item\" data-gdid=\"CAS_599bc4d9-86c2-11eb-a4a8-37255e45fabe\" data-da-position=\"true\">\\n\\t\\t\\t\\t\\t<a href=\"https://post.naver.com/viewer/postView.nhn?volumeNo&#x3D;30927485&amp;memberNo&#x3D;42690419\" class=\"theme_thumb\" data-clk=\"tcc_bty.list6cont2\" target=\"_blank\">\\n\\t\\t\\t\\t\\t\\t<img  data-src=\"https://s.pstatic.net/dthumb.phinf/?src&#x3D;%22https%3A%2F%2Fs.pstatic.net%2Fstatic%2Fwww%2Fmobile%2Fedit%2F2021%2F0317%2Fupload_1615948094511zNQB7.jpg%22&amp;type&#x3D;nf340_228\" alt=\"올해 트렌드는 가죽! 스타들은 어떻게 매치했나\" width=\"170\" height=\"114\">\\n\\t\\t\\t\\t\\t\\t<span class=\"thumb_bd\"></span>\\n\\t\\t\\t\\t\\t</a>\\n\\t\\t\\t\\t\\t<a href=\"https://post.naver.com/viewer/postView.nhn?volumeNo&#x3D;30927485&amp;memberNo&#x3D;42690419\" class=\"theme_info\" data-clk=\"tcc_bty.list6cont2\" target=\"_blank\">\\n\\t\\t\\t\\t\\t\\t<em class=\"theme_category\"> 패션뷰티</em>\\n\\t\\t\\t\\t\\t\\t<strong class=\"title elss\">올해 트렌드는 가죽! 스타들은 어떻게 매치했나</strong>\\n\\t\\t\\t\\t\\t\\t<p class=\"desc\">[갓잇코리아 / 오혜인 기자] 쎈 언니들의 전유물이라 여겨졌던 가죽 소재는 이제 남녀노소 선호하는 잇 아이템이 됐다. 과거 가죽은 아우터나 재킷에 주로 활용되었지만 제한적인 범위에서 벗어나 팬츠, 스커트, 원피스 등 다양한 아이템으로 변모하여 소비자들의 마음을 사로잡고 있다. 본래 가죽은 포유동물의 피부를 벗겨내 제작했지만 기술이 개발되기 시작하면서 인조 </p>\\n\\t\\t\\t\\t\\t\\t<div class=\"source_box\">\\n\\t\\t\\t\\t\\t\\t\\t<span class=\"date\">1주일 전</span>\\n\\t\\t\\t\\t\\t\\t\\t<span class=\"source\"><span class=\"source_inner\">갓잇코리아</span></span>\\n\\t\\t\\t\\t\\t\\t</div>\\n\\t\\t\\t\\t\\t</a>\\n\\t\\t\\t\\t</li>\\n\\t\\t\\t\\n\\t\\t\\t\\t<li class=\"theme_item\" data-gdid=\"CAS_572630f3-86c2-11eb-a4a8-c19081c13bb0\" data-da-position=\"true\">\\n\\t\\t\\t\\t\\t<a href=\"https://post.naver.com/viewer/postView.nhn?volumeNo&#x3D;30946456&amp;memberNo&#x3D;12504201\" class=\"theme_thumb\" data-clk=\"tcc_bty.list6cont3\" target=\"_blank\">\\n\\t\\t\\t\\t\\t\\t<img  data-src=\"https://s.pstatic.net/dthumb.phinf/?src&#x3D;%22https%3A%2F%2Fs.pstatic.net%2Fstatic%2Fwww%2Fmobile%2Fedit%2F2021%2F0317%2Fupload_1615959532135ICRpy.jpg%22&amp;type&#x3D;nf340_228\" alt=\"더워지기 전에 바로 지금! &#x27;레더&#x27;로 일주일 나기\" width=\"170\" height=\"114\">\\n\\t\\t\\t\\t\\t\\t<span class=\"thumb_bd\"></span>\\n\\t\\t\\t\\t\\t</a>\\n\\t\\t\\t\\t\\t<a href=\"https://post.naver.com/viewer/postView.nhn?volumeNo&#x3D;30946456&amp;memberNo&#x3D;12504201\" class=\"theme_info\" data-clk=\"tcc_bty.list6cont3\" target=\"_blank\">\\n\\t\\t\\t\\t\\t\\t<em class=\"theme_category\"> 패션뷰티</em>\\n\\t\\t\\t\\t\\t\\t<strong class=\"title elss\">더워지기 전에 바로 지금! \\'레더\\'로 일주일 나기</strong>\\n\\t\\t\\t\\t\\t\\t<p class=\"desc\">어물어물 하다가 간절기 다 간다! 가죽 소재의 아이템을 갖고 있다면 다들 한번쯤은 공감할만 하지 않나요? 몇 번 입지도 못한 것 같은데, 금새 더워지거나 추워지기 마련인 간절기 핫 아이템 &#x27;가죽&#x27; 가죽소재의 아이템으로 일주일 나기를 소개합니다.8 by YOOX 셔츠 Red Valentino 벨트 캐디 미디 스커트 8 by YOOX 부츠 간절기 하면 떠오르는</p>\\n\\t\\t\\t\\t\\t\\t<div class=\"source_box\">\\n\\t\\t\\t\\t\\t\\t\\t<span class=\"date\">1주일 전</span>\\n\\t\\t\\t\\t\\t\\t\\t<span class=\"source\"><span class=\"source_inner\">엘르 코리아</span></span>\\n\\t\\t\\t\\t\\t\\t</div>\\n\\t\\t\\t\\t\\t</a>\\n\\t\\t\\t\\t</li>\\n\\t\\t\\t\\n\\t\\t\\t\\t<li class=\"theme_item\" data-gdid=\"CAS_572630f2-86c2-11eb-a4a8-892e40e5d5c7\" data-da-position=\"true\">\\n\\t\\t\\t\\t\\t<a href=\"https://post.naver.com/viewer/postView.nhn?volumeNo&#x3D;30947859&amp;memberNo&#x3D;22191262\" class=\"theme_thumb\" data-clk=\"tcc_bty.list6cont4\" target=\"_blank\">\\n\\t\\t\\t\\t\\t\\t<img  data-src=\"https://s.pstatic.net/dthumb.phinf/?src&#x3D;%22https%3A%2F%2Fs.pstatic.net%2Fstatic%2Fwww%2Fmobile%2Fedit%2F2021%2F0317%2Fupload_1615959508612Ymr2M.jpg%22&amp;type&#x3D;nf340_228\" alt=\"기분 따라 골라 입는 7가지 스웨트 셔츠 코디법\" width=\"170\" height=\"114\">\\n\\t\\t\\t\\t\\t\\t<span class=\"thumb_bd\"></span>\\n\\t\\t\\t\\t\\t</a>\\n\\t\\t\\t\\t\\t<a href=\"https://post.naver.com/viewer/postView.nhn?volumeNo&#x3D;30947859&amp;memberNo&#x3D;22191262\" class=\"theme_info\" data-clk=\"tcc_bty.list6cont4\" target=\"_blank\">\\n\\t\\t\\t\\t\\t\\t<em class=\"theme_category\"> 패션뷰티</em>\\n\\t\\t\\t\\t\\t\\t<strong class=\"title elss\">기분 따라 골라 입는 7가지 스웨트 셔츠 코디법</strong>\\n\\t\\t\\t\\t\\t\\t<p class=\"desc\">CODI 01 CODI 02 CODI 03 CODI 04 CODI 05 CODI 06 CODI 07 어디에나 잘 어울리는 스웨트셔츠 코디 7봄 코디 걱정을 해결해 줄 명쾌한 해답! 요일별로 골라 입기 좋은 다채로운 컬러의 7가지 스웨트셔츠 코디를 소개한다. 즐겨 입는 바지나 모자, 가방과 신발과 함께 매치해 나만의 개성 있는 룩을 완성하자.    모음전ㅣ무</p>\\n\\t\\t\\t\\t\\t\\t<div class=\"source_box\">\\n\\t\\t\\t\\t\\t\\t\\t<span class=\"date\">1주일 전</span>\\n\\t\\t\\t\\t\\t\\t\\t<span class=\"source\"><span class=\"source_inner\">무신사</span></span>\\n\\t\\t\\t\\t\\t\\t</div>\\n\\t\\t\\t\\t\\t</a>\\n\\t\\t\\t\\t</li>\\n\\t\\t\\t\\n\\t\\t\\t\\t<li class=\"theme_item\" data-gdid=\"CAS_572630f6-86c2-11eb-a4a8-f11af7e65998\" data-da-position=\"true\">\\n\\t\\t\\t\\t\\t<a href=\"https://blog.naver.com/maize210/222275737349\" class=\"theme_thumb\" data-clk=\"tcc_bty.list6cont5\" target=\"_blank\">\\n\\t\\t\\t\\t\\t\\t<img  data-src=\"https://s.pstatic.net/dthumb.phinf/?src&#x3D;%22https%3A%2F%2Fs.pstatic.net%2Fstatic%2Fwww%2Fmobile%2Fedit%2F2021%2F0317%2Fupload_1615959582082w8G9b.jpg%22&amp;type&#x3D;nf340_228\" alt=\"차곡차곡 레이어링 되는 #롬앤 10구 팔레트 발색\" width=\"170\" height=\"114\">\\n\\t\\t\\t\\t\\t\\t<span class=\"thumb_bd\"></span>\\n\\t\\t\\t\\t\\t</a>\\n\\t\\t\\t\\t\\t<a href=\"https://blog.naver.com/maize210/222275737349\" class=\"theme_info\" data-clk=\"tcc_bty.list6cont5\" target=\"_blank\">\\n\\t\\t\\t\\t\\t\\t<em class=\"theme_category\"> 패션뷰티</em>\\n\\t\\t\\t\\t\\t\\t<strong class=\"title elss\">차곡차곡 레이어링 되는 #롬앤 10구 팔레트 발색</strong>\\n\\t\\t\\t\\t\\t\\t<p class=\"desc\">안녕하세요! 뷰스타 살구입니다❤\\u200b오늘은 차곡차곡 레이어링 되는 음영 레이어링 10구 팔레트 롬앤 베러댄팔레트 전색상을 보여드릴게요❤\\u200b베러댄아이즈에 이어 새롭게 출시되는 팔레트라 진짜 너무너무 기대가 됐던 제품인데발색하자마자,,이거다!!!ㅋㅋㅋㅋㅋ했어요진짜 너무너무 예쁨❤\\u200b\\u200b\\u200b\\u200b롬앤 베러 댄 팔레트 #비밀정원 \\u200b01 팜파스 가든 / 02 마호가니 가든 / 0</p>\\n\\t\\t\\t\\t\\t\\t<div class=\"source_box\">\\n\\t\\t\\t\\t\\t\\t\\t<span class=\"date\">1주일 전</span>\\n\\t\\t\\t\\t\\t\\t\\t<span class=\"source\"><span class=\"source_inner\">살구</span></span>\\n\\t\\t\\t\\t\\t\\t</div>\\n\\t\\t\\t\\t\\t</a>\\n\\t\\t\\t\\t</li>\\n\\t\\t\\t\\n\\t\\t</ul>\\n\\t</div>\\n</div>\\n<div class=\"group_theme\" data-block-id=\"\" data-block-code=\"PC-THEME-BEAUTY-MOBILE-RANKING-DEFAULT-6\" data-block-type=\"MATERIALS\" data-template-code=\"MOBILE-RANKING-LIST\"\\n\\n\\t data-da=\"container\"\\n\\t data-index=\"\"\\n     data-page=\"4\"\\n\\t style=\"display:none\">\\n\\n\\t<div class=\"list_theme_wrap\">\\n\\t\\t<ul class=\"list_theme\">\\n\\t\\t\\t\\n\\t\\t\\t\\t<li class=\"theme_item\" data-gdid=\"CAS_599bc4da-86c2-11eb-a4a8-b5449e8747e1\" data-da-position=\"true\">\\n\\t\\t\\t\\t\\t<a href=\"https://post.naver.com/viewer/postView.nhn?volumeNo&#x3D;30942247&amp;memberNo&#x3D;10253678\" class=\"theme_thumb\" data-clk=\"tcc_bty.list7cont1\" target=\"_blank\">\\n\\t\\t\\t\\t\\t\\t<img  data-src=\"https://s.pstatic.net/dthumb.phinf/?src&#x3D;%22https%3A%2F%2Fs.pstatic.net%2Fstatic%2Fwww%2Fmobile%2Fedit%2F2021%2F0317%2Fupload_1615948123306gAHuK.jpg%22&amp;type&#x3D;nf340_228\" alt=\"밋밋한 룩에 &#x27;이것&#x27; 포인트면 꾸안꾸 패션 완성\" width=\"170\" height=\"114\">\\n\\t\\t\\t\\t\\t\\t<span class=\"thumb_bd\"></span>\\n\\t\\t\\t\\t\\t</a>\\n\\t\\t\\t\\t\\t<a href=\"https://post.naver.com/viewer/postView.nhn?volumeNo&#x3D;30942247&amp;memberNo&#x3D;10253678\" class=\"theme_info\" data-clk=\"tcc_bty.list7cont1\" target=\"_blank\">\\n\\t\\t\\t\\t\\t\\t<em class=\"theme_category\"> 패션뷰티</em>\\n\\t\\t\\t\\t\\t\\t<strong class=\"title elss\">밋밋한 룩에 \\'이것\\' 포인트면 꾸안꾸 패션 완성</strong>\\n\\t\\t\\t\\t\\t\\t<p class=\"desc\">스타일링을 편하게 하다보면 메이크업이나 헤어를 어떻게 해야되나, 고민될 때가 많아요.편안한 트레이닝복 차림에 메이크업을 진하게 하는 건 너무 어색하잖아요.그렇다고 쌩얼로 나가자니 부담스럽기도 한데요.이럴 때 필요한 게 바로 스타일리쉬한 볼캡!푹 눌러쓰면 메이크업이나 헤어 스타일을 걱정할 필요도 없고,밋밋한 스타일에 포인트도 되죠!오늘은 스타들이 선택한 볼캡</p>\\n\\t\\t\\t\\t\\t\\t<div class=\"source_box\">\\n\\t\\t\\t\\t\\t\\t\\t<span class=\"date\">1주일 전</span>\\n\\t\\t\\t\\t\\t\\t\\t<span class=\"source\"><span class=\"source_inner\">골든걸 by 동아일보</span></span>\\n\\t\\t\\t\\t\\t\\t</div>\\n\\t\\t\\t\\t\\t</a>\\n\\t\\t\\t\\t</li>\\n\\t\\t\\t\\n\\t\\t\\t\\t<li class=\"theme_item\" data-gdid=\"CAS_572630f5-86c2-11eb-a4a8-cbb7b15922d6\" data-da-position=\"true\">\\n\\t\\t\\t\\t\\t<a href=\"https://post.naver.com/viewer/postView.nhn?volumeNo&#x3D;30931341&amp;memberNo&#x3D;4656129\" class=\"theme_thumb\" data-clk=\"tcc_bty.list7cont2\" target=\"_blank\">\\n\\t\\t\\t\\t\\t\\t<img  data-src=\"https://s.pstatic.net/dthumb.phinf/?src&#x3D;%22https%3A%2F%2Fs.pstatic.net%2Fstatic%2Fwww%2Fmobile%2Fedit%2F2021%2F0317%2Fupload_16159595684599ibp1.jpg%22&amp;type&#x3D;nf340_228\" alt=\"봄맞이 모공 대청소하자~ 다양한 클렌징템 리뷰\" width=\"170\" height=\"114\">\\n\\t\\t\\t\\t\\t\\t<span class=\"thumb_bd\"></span>\\n\\t\\t\\t\\t\\t</a>\\n\\t\\t\\t\\t\\t<a href=\"https://post.naver.com/viewer/postView.nhn?volumeNo&#x3D;30931341&amp;memberNo&#x3D;4656129\" class=\"theme_info\" data-clk=\"tcc_bty.list7cont2\" target=\"_blank\">\\n\\t\\t\\t\\t\\t\\t<em class=\"theme_category\"> 패션뷰티</em>\\n\\t\\t\\t\\t\\t\\t<strong class=\"title elss\">봄맞이 모공 대청소하자~ 다양한 클렌징템 리뷰</strong>\\n\\t\\t\\t\\t\\t\\t<p class=\"desc\">안녕하세요 클로젯걸 디두에요~ 점점 다가오는 봄! 그만큼 피부 관리가 힘든 환절기 ㅠ,ㅠ 거칠어지는 피부를 달래줄 봄맞이 모공 대청소를 준비해봤어요 클렌징 디바이스와 다양한 클렌저들 리뷰!스킨케어 0단계 라고 불리는 클렌징 바르는 것도 중요하지만 지우는 것도 중요하죠? 쉽게 푸석해지고, 거칠다고 느껴지는 봄날의 클렌징과 스킨케어는 중요하답니다~클렌저는 여윽</p>\\n\\t\\t\\t\\t\\t\\t<div class=\"source_box\">\\n\\t\\t\\t\\t\\t\\t\\t<span class=\"date\">1주일 전</span>\\n\\t\\t\\t\\t\\t\\t\\t<span class=\"source\"><span class=\"source_inner\">클로젯걸</span></span>\\n\\t\\t\\t\\t\\t\\t</div>\\n\\t\\t\\t\\t\\t</a>\\n\\t\\t\\t\\t</li>\\n\\t\\t\\t\\n\\t\\t\\t\\t<li class=\"theme_item\" data-gdid=\"CAS_572630f7-86c2-11eb-a4a8-555c999a3e03\" data-da-position=\"true\">\\n\\t\\t\\t\\t\\t<a href=\"https://blog.naver.com/sunkjydbgn/222276175212\" class=\"theme_thumb\" data-clk=\"tcc_bty.list7cont3\" target=\"_blank\">\\n\\t\\t\\t\\t\\t\\t<img  data-src=\"https://s.pstatic.net/dthumb.phinf/?src&#x3D;%22https%3A%2F%2Fs.pstatic.net%2Fstatic%2Fwww%2Fmobile%2Fedit%2F2021%2F0317%2Fupload_1615959605811Ditlu.jpg%22&amp;type&#x3D;nf340_228\" alt=\"쉐이프 슬림 3종이면 초간단 아이 M/UP 가능\" width=\"170\" height=\"114\">\\n\\t\\t\\t\\t\\t\\t<span class=\"thumb_bd\"></span>\\n\\t\\t\\t\\t\\t</a>\\n\\t\\t\\t\\t\\t<a href=\"https://blog.naver.com/sunkjydbgn/222276175212\" class=\"theme_info\" data-clk=\"tcc_bty.list7cont3\" target=\"_blank\">\\n\\t\\t\\t\\t\\t\\t<em class=\"theme_category\"> 패션뷰티</em>\\n\\t\\t\\t\\t\\t\\t<strong class=\"title elss\">쉐이프 슬림 3종이면 초간단 아이 M/UP 가능</strong>\\n\\t\\t\\t\\t\\t\\t<p class=\"desc\">\\u200b\\u200b\\u200b안녕하세요 제이와이에요 :-)마스크 착용하게 되면서다른 메이크업보다 아이메이크업에특히 더 신경쓰는 분들.. 많으시죠?\\u200b저는 요즘 메이크업 하게 되면피부는 그렇다쳐도 립은 생략할때도 많은데.. ;ㅅ;아이메이크업은 안할수가 없더라구요\\u200b그래서 오늘은 아이메이크업의기본 중의 기본!아이라이너, 브로우, 마스카라까지스톤브릭 신제품으로 보여드릴게요 ♡\\u200b\\u200b\\u200b\\u200b...</p>\\n\\t\\t\\t\\t\\t\\t<div class=\"source_box\">\\n\\t\\t\\t\\t\\t\\t\\t<span class=\"date\">1주일 전</span>\\n\\t\\t\\t\\t\\t\\t\\t<span class=\"source\"><span class=\"source_inner\">뷰스타 제이와이</span></span>\\n\\t\\t\\t\\t\\t\\t</div>\\n\\t\\t\\t\\t\\t</a>\\n\\t\\t\\t\\t</li>\\n\\t\\t\\t\\n\\t\\t\\t\\t<li class=\"theme_item\" data-gdid=\"CAS_2c118380-8621-11eb-9f6a-2b1499e19ee3\" data-da-position=\"true\">\\n\\t\\t\\t\\t\\t<a href=\"https://post.naver.com/viewer/postView.nhn?volumeNo&#x3D;30949055&amp;memberNo&#x3D;46582925\" class=\"theme_thumb\" data-clk=\"tcc_bty.list7cont4\" target=\"_blank\">\\n\\t\\t\\t\\t\\t\\t<img  data-src=\"https://s.pstatic.net/dthumb.phinf/?src&#x3D;%22https%3A%2F%2Fs.pstatic.net%2Fstatic%2Fwww%2Fmobile%2Fedit%2F2021%2F0316%2Fupload_1615878920333oV0WY.jpg%22&amp;type&#x3D;nf340_228\" alt=\"가벼운 아우터에 연출하기 좋은 스타 가방 정보\" width=\"170\" height=\"114\">\\n\\t\\t\\t\\t\\t\\t<span class=\"thumb_bd\"></span>\\n\\t\\t\\t\\t\\t</a>\\n\\t\\t\\t\\t\\t<a href=\"https://post.naver.com/viewer/postView.nhn?volumeNo&#x3D;30949055&amp;memberNo&#x3D;46582925\" class=\"theme_info\" data-clk=\"tcc_bty.list7cont4\" target=\"_blank\">\\n\\t\\t\\t\\t\\t\\t<em class=\"theme_category\"> 패션뷰티</em>\\n\\t\\t\\t\\t\\t\\t<strong class=\"title elss\">가벼운 아우터에 연출하기 좋은 스타 가방 정보</strong>\\n\\t\\t\\t\\t\\t\\t<p class=\"desc\">안녕~인싸가 되고 싶은 인싸언니야.따뜻한 날씨 속에봄이 오는 소리 들리지?그에 따라 어느새 옷장은 점점봄옷으로 가득 차고 있지?오늘은 따뜻한 봄 룩에잘 어울릴만한 가방을 추천하려고 해! 오늘 추천하는 가방은데일리룩의 정석인 정원 언니부터유니크한 스타일 룩으로마니아층이 확실한 현아 언니의가방을 추천하려고 하니,이점 참고해서 재밌게 봐줘♥(3만 원대 저렴한 가</p>\\n\\t\\t\\t\\t\\t\\t<div class=\"source_box\">\\n\\t\\t\\t\\t\\t\\t\\t<span class=\"date\">1주일 전</span>\\n\\t\\t\\t\\t\\t\\t\\t<span class=\"source\"><span class=\"source_inner\">인싸언니</span></span>\\n\\t\\t\\t\\t\\t\\t</div>\\n\\t\\t\\t\\t\\t</a>\\n\\t\\t\\t\\t</li>\\n\\t\\t\\t\\n\\t\\t\\t\\t<li class=\"theme_item\" data-gdid=\"CAS_2c11837f-8621-11eb-9f6a-2fe599b8d432\" data-da-position=\"true\">\\n\\t\\t\\t\\t\\t<a href=\"https://post.naver.com/viewer/postView.nhn?volumeNo&#x3D;30919817&amp;memberNo&#x3D;11464638\" class=\"theme_thumb\" data-clk=\"tcc_bty.list7cont5\" target=\"_blank\">\\n\\t\\t\\t\\t\\t\\t<img  data-src=\"https://s.pstatic.net/dthumb.phinf/?src&#x3D;%22https%3A%2F%2Fs.pstatic.net%2Fstatic%2Fwww%2Fmobile%2Fedit%2F2021%2F0316%2Fupload_1615878880634IO0jl.jpg%22&amp;type&#x3D;nf340_228\" alt=\"핫 셀럽들이 사랑하는 세컨드 스킨 톱 스타일링\" width=\"170\" height=\"114\">\\n\\t\\t\\t\\t\\t\\t<span class=\"thumb_bd\"></span>\\n\\t\\t\\t\\t\\t</a>\\n\\t\\t\\t\\t\\t<a href=\"https://post.naver.com/viewer/postView.nhn?volumeNo&#x3D;30919817&amp;memberNo&#x3D;11464638\" class=\"theme_info\" data-clk=\"tcc_bty.list7cont5\" target=\"_blank\">\\n\\t\\t\\t\\t\\t\\t<em class=\"theme_category\"> 패션뷰티</em>\\n\\t\\t\\t\\t\\t\\t<strong class=\"title elss\">핫 셀럽들이 사랑하는 세컨드 스킨 톱 스타일링</strong>\\n\\t\\t\\t\\t\\t\\t<p class=\"desc\">날씨가 점점 따뜻해지면서 ‘세컨드 스킨 톱’이 곳곳에서 포착되고 있습니다. ‘제2의 피부’란 뜻의 세컨드 스킨 톱은 몸에 밀착되고 마치 피부처럼 느껴지는 얇고 신축성 있는 소재가 특징이죠. 시어한 소재에 강렬한 프린트를 더하면 세컨드 스킨 톱만의 관능적이고 쿨한 매력을 살릴 수 있는데요. 기사 보러 가기 (클릭!) 세컨드 스킨 톱에 빠진 셀럽들 | 보그 코</p>\\n\\t\\t\\t\\t\\t\\t<div class=\"source_box\">\\n\\t\\t\\t\\t\\t\\t\\t<span class=\"date\">1주일 전</span>\\n\\t\\t\\t\\t\\t\\t\\t<span class=\"source\"><span class=\"source_inner\">보그</span></span>\\n\\t\\t\\t\\t\\t\\t</div>\\n\\t\\t\\t\\t\\t</a>\\n\\t\\t\\t\\t</li>\\n\\t\\t\\t\\n\\t\\t</ul>\\n\\t</div>\\n</div>\\n<div class=\"group_theme\" data-block-id=\"\" data-block-code=\"PC-THEME-BEAUTY-MOBILE-RANKING-DEFAULT-7\" data-block-type=\"MATERIALS\" data-template-code=\"MOBILE-RANKING-LIST\"\\n\\n\\t data-da=\"container\"\\n\\t data-index=\"\"\\n     data-page=\"4\"\\n\\t style=\"display:none\">\\n\\n\\t<div class=\"list_theme_wrap\">\\n\\t\\t<ul class=\"list_theme\">\\n\\t\\t\\t\\n\\t\\t\\t\\t<li class=\"theme_item\" data-gdid=\"CAS_2e08718e-8621-11eb-a4a8-698564ac2680\" data-da-position=\"true\">\\n\\t\\t\\t\\t\\t<a href=\"https://post.naver.com/viewer/postView.nhn?volumeNo&#x3D;30930594&amp;memberNo&#x3D;33406474\" class=\"theme_thumb\" data-clk=\"tcc_bty.list8cont1\" target=\"_blank\">\\n\\t\\t\\t\\t\\t\\t<img  data-src=\"https://s.pstatic.net/dthumb.phinf/?src&#x3D;%22https%3A%2F%2Fs.pstatic.net%2Fstatic%2Fwww%2Fmobile%2Fedit%2F2021%2F0316%2Fupload_1615877420129AkdK9.jpg%22&amp;type&#x3D;nf340_228\" alt=\"지수 원피스, 현아 가방 등 셀럽 픽 아이템 정보\" width=\"170\" height=\"114\">\\n\\t\\t\\t\\t\\t\\t<span class=\"thumb_bd\"></span>\\n\\t\\t\\t\\t\\t</a>\\n\\t\\t\\t\\t\\t<a href=\"https://post.naver.com/viewer/postView.nhn?volumeNo&#x3D;30930594&amp;memberNo&#x3D;33406474\" class=\"theme_info\" data-clk=\"tcc_bty.list8cont1\" target=\"_blank\">\\n\\t\\t\\t\\t\\t\\t<em class=\"theme_category\"> 패션뷰티</em>\\n\\t\\t\\t\\t\\t\\t<strong class=\"title elss\">지수 원피스, 현아 가방 등 셀럽 픽 아이템 정보</strong>\\n\\t\\t\\t\\t\\t\\t<p class=\"desc\">한층 따뜻해진 요즘 날씨와 알맞게 패션계에선 봄기운 가득한 S/S 시즌 상품들을 선보입니다. 셀럽들의 SNS 속에서 찾아볼 수 있는 2021 S/S 신상 패션 화보의 Spring Must Have Items를 요일이 소개해드릴게요.블랙핑크 지수의 &#x27;원피스&#x27; 잇미샤JISOO X it MICHAA 어반 라이프스타일 여성 패션 브랜드 잇미샤(it MICH</p>\\n\\t\\t\\t\\t\\t\\t<div class=\"source_box\">\\n\\t\\t\\t\\t\\t\\t\\t<span class=\"date\">1주일 전</span>\\n\\t\\t\\t\\t\\t\\t\\t<span class=\"source\"><span class=\"source_inner\">요일 yoil</span></span>\\n\\t\\t\\t\\t\\t\\t</div>\\n\\t\\t\\t\\t\\t</a>\\n\\t\\t\\t\\t</li>\\n\\t\\t\\t\\n\\t\\t\\t\\t<li class=\"theme_item\" data-gdid=\"CAS_2c118385-8621-11eb-9f6a-a79553fdb513\" data-da-position=\"true\">\\n\\t\\t\\t\\t\\t<a href=\"https://post.naver.com/viewer/postView.nhn?volumeNo&#x3D;30919116&amp;memberNo&#x3D;485094\" class=\"theme_thumb\" data-clk=\"tcc_bty.list8cont2\" target=\"_blank\">\\n\\t\\t\\t\\t\\t\\t<img  data-src=\"https://s.pstatic.net/dthumb.phinf/?src&#x3D;%22https%3A%2F%2Fs.pstatic.net%2Fstatic%2Fwww%2Fmobile%2Fedit%2F2021%2F0316%2Fupload_1615878981610p4sO7.jpg%22&amp;type&#x3D;nf340_228\" alt=\"두근두근♥ 파우치 가득 채울 3월 NEW 뷰티템\" width=\"170\" height=\"114\">\\n\\t\\t\\t\\t\\t\\t<span class=\"thumb_bd\"></span>\\n\\t\\t\\t\\t\\t</a>\\n\\t\\t\\t\\t\\t<a href=\"https://post.naver.com/viewer/postView.nhn?volumeNo&#x3D;30919116&amp;memberNo&#x3D;485094\" class=\"theme_info\" data-clk=\"tcc_bty.list8cont2\" target=\"_blank\">\\n\\t\\t\\t\\t\\t\\t<em class=\"theme_category\"> 패션뷰티</em>\\n\\t\\t\\t\\t\\t\\t<strong class=\"title elss\">두근두근♥ 파우치 가득 채울 3월 NEW 뷰티템</strong>\\n\\t\\t\\t\\t\\t\\t<p class=\"desc\">봄이 오면 가장 먼저 할 일!반짝거리고 예쁜 신상으로내 파우치를 채우는 일!그래서 여러분의 파우치도 채워드려요♪갓 신상으로 &gt;(●ˇ∀ˇ●)&lt;베이스부터 클렌저까지! 빠짐없이 다 있네(룰루랄라) 오늘 소개했던 따끈따끈한 신상 중여러분의 마음에 콕! 들어온 신상은?난... KTX 타고 봐도 반짝이는..♥섀도우 팔레트 (히히..)* 본 콘텐츠는 트윙클팝</p>\\n\\t\\t\\t\\t\\t\\t<div class=\"source_box\">\\n\\t\\t\\t\\t\\t\\t\\t<span class=\"date\">1주일 전</span>\\n\\t\\t\\t\\t\\t\\t\\t<span class=\"source\"><span class=\"source_inner\">언니의파우치</span></span>\\n\\t\\t\\t\\t\\t\\t</div>\\n\\t\\t\\t\\t\\t</a>\\n\\t\\t\\t\\t</li>\\n\\t\\t\\t\\n\\t\\t\\t\\t<li class=\"theme_item\" data-gdid=\"CAS_2c118383-8621-11eb-9f6a-69b1ccb30dc6\" data-da-position=\"true\">\\n\\t\\t\\t\\t\\t<a href=\"https://post.naver.com/viewer/postView.nhn?volumeNo&#x3D;30925941&amp;memberNo&#x3D;44303069\" class=\"theme_thumb\" data-clk=\"tcc_bty.list8cont3\" target=\"_blank\">\\n\\t\\t\\t\\t\\t\\t<img  data-src=\"https://s.pstatic.net/dthumb.phinf/?src&#x3D;%22https%3A%2F%2Fs.pstatic.net%2Fstatic%2Fwww%2Fmobile%2Fedit%2F2021%2F0316%2Fupload_1615878952927Dv5Ea.jpg%22&amp;type&#x3D;nf340_228\" alt=\"맑고 청량한 분위기 가득! 스카이 블루 네일. zip\" width=\"170\" height=\"114\">\\n\\t\\t\\t\\t\\t\\t<span class=\"thumb_bd\"></span>\\n\\t\\t\\t\\t\\t</a>\\n\\t\\t\\t\\t\\t<a href=\"https://post.naver.com/viewer/postView.nhn?volumeNo&#x3D;30925941&amp;memberNo&#x3D;44303069\" class=\"theme_info\" data-clk=\"tcc_bty.list8cont3\" target=\"_blank\">\\n\\t\\t\\t\\t\\t\\t<em class=\"theme_category\"> 패션뷰티</em>\\n\\t\\t\\t\\t\\t\\t<strong class=\"title elss\">맑고 청량한 분위기 가득! 스카이 블루 네일. zip</strong>\\n\\t\\t\\t\\t\\t\\t<p class=\"desc\">BRAVO my BEAUTY❤ 따뜻한 봄날씨가 계속되고 있는 요즘,낮에는 맑은 날씨 덕에밖에 나가 놀고 싶은 마음 굴뚝이지만아쉽게도 마음 놓고 돌아다닐 수 없다는 사실... 아쉬운 마음을 달래기 위해 오늘은맑고 청량한 분위기 살리기 좋은스카이 블루 네일 디자인 모아봤으니하늘 하늘한 감성으로 기분 전환 해볼까? 톤 다운된 하늘색 컬러를FULL로 발라 투명 덩</p>\\n\\t\\t\\t\\t\\t\\t<div class=\"source_box\">\\n\\t\\t\\t\\t\\t\\t\\t<span class=\"date\">1주일 전</span>\\n\\t\\t\\t\\t\\t\\t\\t<span class=\"source\"><span class=\"source_inner\">뷰라보 라이프</span></span>\\n\\t\\t\\t\\t\\t\\t</div>\\n\\t\\t\\t\\t\\t</a>\\n\\t\\t\\t\\t</li>\\n\\t\\t\\t\\n\\t\\t\\t\\t<li class=\"theme_item\" data-gdid=\"CAS_2c118384-8621-11eb-9f6a-4d76bccbcdd1\" data-da-position=\"true\">\\n\\t\\t\\t\\t\\t<a href=\"https://blog.naver.com/r_ryun/222259198694\" class=\"theme_thumb\" data-clk=\"tcc_bty.list8cont4\" target=\"_blank\">\\n\\t\\t\\t\\t\\t\\t<img  data-src=\"https://s.pstatic.net/dthumb.phinf/?src&#x3D;%22https%3A%2F%2Fs.pstatic.net%2Fstatic%2Fwww%2Fmobile%2Fedit%2F2021%2F0316%2Fupload_16158789667693NJ2V.jpg%22&amp;type&#x3D;nf340_228\" alt=\"글리터 맛집 #트윙클팝 신상으로 화려하게 변신\" width=\"170\" height=\"114\">\\n\\t\\t\\t\\t\\t\\t<span class=\"thumb_bd\"></span>\\n\\t\\t\\t\\t\\t</a>\\n\\t\\t\\t\\t\\t<a href=\"https://blog.naver.com/r_ryun/222259198694\" class=\"theme_info\" data-clk=\"tcc_bty.list8cont4\" target=\"_blank\">\\n\\t\\t\\t\\t\\t\\t<em class=\"theme_category\"> 패션뷰티</em>\\n\\t\\t\\t\\t\\t\\t<strong class=\"title elss\">글리터 맛집 #트윙클팝 신상으로 화려하게 변신</strong>\\n\\t\\t\\t\\t\\t\\t<p class=\"desc\">\\u200b\\u200b안녕하세요 헮입니다 !\\u200b\\u200b#글리터 #글리터섀도우팔레트 하면떠오르는 브랜드 있으시죠?!\\u200b글리터 맛집 하면 빼놓을 수 없는!바로 #트윙클팝 ! 이전에도 보여드리면서 감탄 감탄 했던글리터 덕후인 저를 울린! #트윙클팝 #펄플렉스글리터아이팔레트 의새로운 컬러가 출시되었다고 해서 빠르게 가져와봤어요..♥\\u200b\\u200b\\u200b\\u200b봄 메이크업에 찰떡인 컬러의 #섀도우팔레트 !혹은 #</p>\\n\\t\\t\\t\\t\\t\\t<div class=\"source_box\">\\n\\t\\t\\t\\t\\t\\t\\t<span class=\"date\">1주일 전</span>\\n\\t\\t\\t\\t\\t\\t\\t<span class=\"source\"><span class=\"source_inner\">헮</span></span>\\n\\t\\t\\t\\t\\t\\t</div>\\n\\t\\t\\t\\t\\t</a>\\n\\t\\t\\t\\t</li>\\n\\t\\t\\t\\n\\t\\t\\t\\t<li class=\"theme_item\" data-gdid=\"CAS_2c118382-8621-11eb-9f6a-e32fbb7d7f17\" data-da-position=\"true\">\\n\\t\\t\\t\\t\\t<a href=\"https://post.naver.com/viewer/postView.nhn?volumeNo&#x3D;30945155&amp;memberNo&#x3D;25590338\" class=\"theme_thumb\" data-clk=\"tcc_bty.list8cont5\" target=\"_blank\">\\n\\t\\t\\t\\t\\t\\t<img  data-src=\"https://s.pstatic.net/dthumb.phinf/?src&#x3D;%22https%3A%2F%2Fs.pstatic.net%2Fstatic%2Fwww%2Fmobile%2Fedit%2F2021%2F0316%2Fupload_1615878935154QuL5c.jpg%22&amp;type&#x3D;nf340_228\" alt=\"폼부터 젤까지, 에디터가 뽑은 최고의 클렌저는\" width=\"170\" height=\"114\">\\n\\t\\t\\t\\t\\t\\t<span class=\"thumb_bd\"></span>\\n\\t\\t\\t\\t\\t</a>\\n\\t\\t\\t\\t\\t<a href=\"https://post.naver.com/viewer/postView.nhn?volumeNo&#x3D;30945155&amp;memberNo&#x3D;25590338\" class=\"theme_info\" data-clk=\"tcc_bty.list8cont5\" target=\"_blank\">\\n\\t\\t\\t\\t\\t\\t<em class=\"theme_category\"> 패션뷰티</em>\\n\\t\\t\\t\\t\\t\\t<strong class=\"title elss\">폼부터 젤까지, 에디터가 뽑은 최고의 클렌저는</strong>\\n\\t\\t\\t\\t\\t\\t<p class=\"desc\">타입별 클렌징 추천!에디터가 꼭꼭 숨겨두었던최고의 클렌저는?! 스킨케어, 베이스 메이크업,각종 색조 제품들 사이에서도코덕들에게 가장 중요한 것은 바로★ 클. 렌. 징 ★ 이 글을 읽고 있는 코덕들은모두 공감할 거야!클렌징은 특히나 취향을 타기도 하는데,오늘은 에디터가 아끼는 클렌징제품들을 소개하려고 해.Editor. JI HYEPhoto. Ssin.phot</p>\\n\\t\\t\\t\\t\\t\\t<div class=\"source_box\">\\n\\t\\t\\t\\t\\t\\t\\t<span class=\"date\">1주일 전</span>\\n\\t\\t\\t\\t\\t\\t\\t<span class=\"source\"><span class=\"source_inner\">원뷰티</span></span>\\n\\t\\t\\t\\t\\t\\t</div>\\n\\t\\t\\t\\t\\t</a>\\n\\t\\t\\t\\t</li>\\n\\t\\t\\t\\n\\t\\t</ul>\\n\\t</div>\\n</div>\\n<div class=\"group_theme\" data-block-id=\"\" data-block-code=\"PC-THEME-BEAUTY-MOBILE-RANKING-DEFAULT-8\" data-block-type=\"MATERIALS\" data-template-code=\"MOBILE-RANKING-LIST\"\\n\\n\\t data-da=\"container\"\\n\\t data-index=\"\"\\n     data-page=\"5\"\\n\\t style=\"display:none\">\\n\\n\\t<div class=\"list_theme_wrap\">\\n\\t\\t<ul class=\"list_theme\">\\n\\t\\t\\t\\n\\t\\t\\t\\t<li class=\"theme_item\" data-gdid=\"CAS_2e08718d-8621-11eb-a4a8-df7a2c261b70\" data-da-position=\"true\">\\n\\t\\t\\t\\t\\t<a href=\"https://post.naver.com/viewer/postView.nhn?volumeNo&#x3D;30941265&amp;memberNo&#x3D;48485425\" class=\"theme_thumb\" data-clk=\"tcc_bty.list9cont1\" target=\"_blank\">\\n\\t\\t\\t\\t\\t\\t<img  data-src=\"https://s.pstatic.net/dthumb.phinf/?src&#x3D;%22https%3A%2F%2Fs.pstatic.net%2Fstatic%2Fwww%2Fmobile%2Fedit%2F2021%2F0316%2Fupload_1615877400835PfBIm.jpg%22&amp;type&#x3D;nf340_228\" alt=\"얼굴 작아 보이는 효과? 러블리 빅 카라의 매력\" width=\"170\" height=\"114\">\\n\\t\\t\\t\\t\\t\\t<span class=\"thumb_bd\"></span>\\n\\t\\t\\t\\t\\t</a>\\n\\t\\t\\t\\t\\t<a href=\"https://post.naver.com/viewer/postView.nhn?volumeNo&#x3D;30941265&amp;memberNo&#x3D;48485425\" class=\"theme_info\" data-clk=\"tcc_bty.list9cont1\" target=\"_blank\">\\n\\t\\t\\t\\t\\t\\t<em class=\"theme_category\"> 패션뷰티</em>\\n\\t\\t\\t\\t\\t\\t<strong class=\"title elss\">얼굴 작아 보이는 효과? 러블리 빅 카라의 매력</strong>\\n\\t\\t\\t\\t\\t\\t<p class=\"desc\">[제이닷 J MAGAZINE] 블라우스 한 장으로 코디의 느낌을 굉장히 러블리하게 바꿔주는 빅카라블라우스! 올해 빅카라블라우스가 꽤 인기를 끌고있습니다. 나풀나풀하고 화려한 디자인때문에 사랑스럽게 포인트주기에도 좋고, 빅카라 덕분에 어깨를 좁아보이게 하고 얼굴을 조금 더 작아보이게 하는 효과도 있는데요. 오늘은 셀럽이 입은 빅카라블라우스를 소개해보려고 합니</p>\\n\\t\\t\\t\\t\\t\\t<div class=\"source_box\">\\n\\t\\t\\t\\t\\t\\t\\t<span class=\"date\">1주일 전</span>\\n\\t\\t\\t\\t\\t\\t\\t<span class=\"source\"><span class=\"source_inner\">제이닷 J MAGAZINE</span></span>\\n\\t\\t\\t\\t\\t\\t</div>\\n\\t\\t\\t\\t\\t</a>\\n\\t\\t\\t\\t</li>\\n\\t\\t\\t\\n\\t\\t\\t\\t<li class=\"theme_item\" data-gdid=\"CAS_4e0e32ea-85ff-11eb-9c55-4768f88718b1\" data-da-position=\"true\">\\n\\t\\t\\t\\t\\t<a href=\"https://post.naver.com/viewer/postView.nhn?volumeNo&#x3D;30930063&amp;memberNo&#x3D;35404784\" class=\"theme_thumb\" data-clk=\"tcc_bty.list9cont2\" target=\"_blank\">\\n\\t\\t\\t\\t\\t\\t<img  data-src=\"https://s.pstatic.net/dthumb.phinf/?src&#x3D;%22https%3A%2F%2Fs.pstatic.net%2Fstatic%2Fwww%2Fmobile%2Fedit%2F2021%2F0316%2Fupload_1615875014237rRItJ.jpg%22&amp;type&#x3D;nf340_228\" alt=\"심플하지만 특별한 데일리 룩 ft. 브랜드별 신상\" width=\"170\" height=\"114\">\\n\\t\\t\\t\\t\\t\\t<span class=\"thumb_bd\"></span>\\n\\t\\t\\t\\t\\t</a>\\n\\t\\t\\t\\t\\t<a href=\"https://post.naver.com/viewer/postView.nhn?volumeNo&#x3D;30930063&amp;memberNo&#x3D;35404784\" class=\"theme_info\" data-clk=\"tcc_bty.list9cont2\" target=\"_blank\">\\n\\t\\t\\t\\t\\t\\t<em class=\"theme_category\"> 패션뷰티</em>\\n\\t\\t\\t\\t\\t\\t<strong class=\"title elss\">심플하지만 특별한 데일리 룩 ft. 브랜드별 신상</strong>\\n\\t\\t\\t\\t\\t\\t<p class=\"desc\">요즘 가장 핫한 여자,남자 맨투맨 활용한 코디 꿀팁은?심플하지만 특별하게 데일리룩을 다양하게 연출할 수 있는 아이템은? 바로 여자 맨투맨, 스웻셔츠★ 트레이닝복, 캐주얼복으로만 입는다는 건 옛말! 요즘 가장 핫한 맨투맨 브랜드 신상 템들을 활용해 패피들이 입는 찐 맨투맨 활용법까지 가지고 왔어요♥ 먼저 인싸템으로 불리는 여자 맨투맨 브랜드의 신</p>\\n\\t\\t\\t\\t\\t\\t<div class=\"source_box\">\\n\\t\\t\\t\\t\\t\\t\\t<span class=\"date\">1주일 전</span>\\n\\t\\t\\t\\t\\t\\t\\t<span class=\"source\"><span class=\"source_inner\">걸스픽</span></span>\\n\\t\\t\\t\\t\\t\\t</div>\\n\\t\\t\\t\\t\\t</a>\\n\\t\\t\\t\\t</li>\\n\\t\\t\\t\\n\\t\\t\\t\\t<li class=\"theme_item\" data-gdid=\"CAS_4e0e32e7-85ff-11eb-9c55-e92c82e7e8d5\" data-da-position=\"true\">\\n\\t\\t\\t\\t\\t<a href=\"https://post.naver.com/viewer/postView.nhn?volumeNo&#x3D;30950463&amp;memberNo&#x3D;4656129\" class=\"theme_thumb\" data-clk=\"tcc_bty.list9cont3\" target=\"_blank\">\\n\\t\\t\\t\\t\\t\\t<img  data-src=\"https://s.pstatic.net/dthumb.phinf/?src&#x3D;%22https%3A%2F%2Fs.pstatic.net%2Fstatic%2Fwww%2Fmobile%2Fedit%2F2021%2F0316%2Fupload_1615874953828zbVHp.jpg%22&amp;type&#x3D;nf340_228\" alt=\"달콤한 봄의 컬러를 담은 미니 백 30가지 추천\" width=\"170\" height=\"114\">\\n\\t\\t\\t\\t\\t\\t<span class=\"thumb_bd\"></span>\\n\\t\\t\\t\\t\\t</a>\\n\\t\\t\\t\\t\\t<a href=\"https://post.naver.com/viewer/postView.nhn?volumeNo&#x3D;30950463&amp;memberNo&#x3D;4656129\" class=\"theme_info\" data-clk=\"tcc_bty.list9cont3\" target=\"_blank\">\\n\\t\\t\\t\\t\\t\\t<em class=\"theme_category\"> 패션뷰티</em>\\n\\t\\t\\t\\t\\t\\t<strong class=\"title elss\">달콤한 봄의 컬러를 담은 미니 백 30가지 추천</strong>\\n\\t\\t\\t\\t\\t\\t<p class=\"desc\">안녕하세요 여러분! 클로젯걸 미나입니다 :D 혹시 요즘 가방 트렌드가 뭔지 아시나요? 바로~ 마이크로백부터 미니백까지! 오늘날 패션 트렌드에서 미니미니한 가방들이 꾸준하게 등장하는 추세인데요그래서 이번 포스트에서는 곧 다가오는 봄과 어울리는 달콤한 컬러부터 베이직한 컬러까지 다채로운 미니백을 추천해드릴게요 총 30가지의 미니백을 준비했으니 이 중에 취향 하</p>\\n\\t\\t\\t\\t\\t\\t<div class=\"source_box\">\\n\\t\\t\\t\\t\\t\\t\\t<span class=\"date\">1주일 전</span>\\n\\t\\t\\t\\t\\t\\t\\t<span class=\"source\"><span class=\"source_inner\">클로젯걸</span></span>\\n\\t\\t\\t\\t\\t\\t</div>\\n\\t\\t\\t\\t\\t</a>\\n\\t\\t\\t\\t</li>\\n\\t\\t\\t\\n\\t\\t\\t\\t<li class=\"theme_item\" data-gdid=\"CAS_4ff78c60-85ff-11eb-9c55-1b8827c20aa5\" data-da-position=\"true\">\\n\\t\\t\\t\\t\\t<a href=\"https://post.naver.com/viewer/postView.nhn?volumeNo&#x3D;30926021&amp;memberNo&#x3D;34329665\" class=\"theme_thumb\" data-clk=\"tcc_bty.list9cont4\" target=\"_blank\">\\n\\t\\t\\t\\t\\t\\t<img  data-src=\"https://s.pstatic.net/dthumb.phinf/?src&#x3D;%22https%3A%2F%2Fs.pstatic.net%2Fstatic%2Fwww%2Fmobile%2Fedit%2F2021%2F0316%2Fupload_1615871804746Onv60.jpg%22&amp;type&#x3D;nf340_228\" alt=\"요즘 뭐 입지? 봄을 만끽할 수 있는 스타일. zip\" width=\"170\" height=\"114\">\\n\\t\\t\\t\\t\\t\\t<span class=\"thumb_bd\"></span>\\n\\t\\t\\t\\t\\t</a>\\n\\t\\t\\t\\t\\t<a href=\"https://post.naver.com/viewer/postView.nhn?volumeNo&#x3D;30926021&amp;memberNo&#x3D;34329665\" class=\"theme_info\" data-clk=\"tcc_bty.list9cont4\" target=\"_blank\">\\n\\t\\t\\t\\t\\t\\t<em class=\"theme_category\"> 패션뷰티</em>\\n\\t\\t\\t\\t\\t\\t<strong class=\"title elss\">요즘 뭐 입지? 봄을 만끽할 수 있는 스타일. zip</strong>\\n\\t\\t\\t\\t\\t\\t<p class=\"desc\">오르락내리락 하는 기온에 뭐 입을지 고민되는 요즘! 미리 봄을 만끽하고 있는 셀럽들의 데일리룩을 같이 만나 보아요☆정유미윰블리의 선택은 오버핏 화이트 재킷! 정유미의 청초한 매력이 돋보이는 패션인데요, 코디에 유용한 베이직 아이템인 화이트 재킷으로 화사한 봄을 보낼 수 있을 것 같아요 :D코디 이미지조이러블리 끝판왕 조이가 찰떡같이 소화한 아이템은 핑크 컬</p>\\n\\t\\t\\t\\t\\t\\t<div class=\"source_box\">\\n\\t\\t\\t\\t\\t\\t\\t<span class=\"date\">1주일 전</span>\\n\\t\\t\\t\\t\\t\\t\\t<span class=\"source\"><span class=\"source_inner\">마고의 패션뷰티</span></span>\\n\\t\\t\\t\\t\\t\\t</div>\\n\\t\\t\\t\\t\\t</a>\\n\\t\\t\\t\\t</li>\\n\\t\\t\\t\\n\\t\\t\\t\\t<li class=\"theme_item\" data-gdid=\"CAS_4e0e32e8-85ff-11eb-9c55-ffd0bab1d56c\" data-da-position=\"true\">\\n\\t\\t\\t\\t\\t<a href=\"https://post.naver.com/viewer/postView.nhn?volumeNo&#x3D;30946085&amp;memberNo&#x3D;44303069\" class=\"theme_thumb\" data-clk=\"tcc_bty.list9cont5\" target=\"_blank\">\\n\\t\\t\\t\\t\\t\\t<img  data-src=\"https://s.pstatic.net/dthumb.phinf/?src&#x3D;%22https%3A%2F%2Fs.pstatic.net%2Fstatic%2Fwww%2Fmobile%2Fedit%2F2021%2F0316%2Fupload_1615874997414c4x92.jpg%22&amp;type&#x3D;nf340_228\" alt=\"코트 그만! 세련된 청청 패션을 연출하고 싶다면\" width=\"170\" height=\"114\">\\n\\t\\t\\t\\t\\t\\t<span class=\"thumb_bd\"></span>\\n\\t\\t\\t\\t\\t</a>\\n\\t\\t\\t\\t\\t<a href=\"https://post.naver.com/viewer/postView.nhn?volumeNo&#x3D;30946085&amp;memberNo&#x3D;44303069\" class=\"theme_info\" data-clk=\"tcc_bty.list9cont5\" target=\"_blank\">\\n\\t\\t\\t\\t\\t\\t<em class=\"theme_category\"> 패션뷰티</em>\\n\\t\\t\\t\\t\\t\\t<strong class=\"title elss\">코트 그만! 세련된 청청 패션을 연출하고 싶다면</strong>\\n\\t\\t\\t\\t\\t\\t<p class=\"desc\">BRAVO my BEAUTY❤ 두꺼운 패딩, 코트는 이제 그만!패션은 돌고 돈다고 하는데질리지 않고 이맘때쯤 항상유행하는 패션이 있지?바로 청청 코디 스타일! ‘봄패션’하면 절대 빼놓을 수 없는코디 스타일 중 하나로 꼽히는데!오늘은 계절감에 맞게 입을 수 있는데님 스타일에 대해 알아봤으니어떻게 입으면 예쁘게 코디할 수 있는지같이 살펴보자구! 모자부터 신발까</p>\\n\\t\\t\\t\\t\\t\\t<div class=\"source_box\">\\n\\t\\t\\t\\t\\t\\t\\t<span class=\"date\">1주일 전</span>\\n\\t\\t\\t\\t\\t\\t\\t<span class=\"source\"><span class=\"source_inner\">뷰라보 라이프</span></span>\\n\\t\\t\\t\\t\\t\\t</div>\\n\\t\\t\\t\\t\\t</a>\\n\\t\\t\\t\\t</li>\\n\\t\\t\\t\\n\\t\\t</ul>\\n\\t</div>\\n</div>\\n<div class=\"group_theme\" data-block-id=\"\" data-block-code=\"PC-THEME-BEAUTY-MOBILE-RANKING-DEFAULT-9\" data-block-type=\"MATERIALS\" data-template-code=\"MOBILE-RANKING-LIST\"\\n\\n\\t data-da=\"container\"\\n\\t data-index=\"\"\\n     data-page=\"5\"\\n\\t style=\"display:none\">\\n\\n\\t<div class=\"list_theme_wrap\">\\n\\t\\t<ul class=\"list_theme\">\\n\\t\\t\\t\\n\\t\\t\\t\\t<li class=\"theme_item\" data-gdid=\"CAS_4ff78c5f-85ff-11eb-9c55-a57563cce9e2\" data-da-position=\"true\">\\n\\t\\t\\t\\t\\t<a href=\"https://post.naver.com/viewer/postView.nhn?volumeNo&#x3D;30890598&amp;memberNo&#x3D;1097200\" class=\"theme_thumb\" data-clk=\"tcc_bty.list10cont1\" target=\"_blank\">\\n\\t\\t\\t\\t\\t\\t<img  data-src=\"https://s.pstatic.net/dthumb.phinf/?src&#x3D;%22https%3A%2F%2Fs.pstatic.net%2Fstatic%2Fwww%2Fmobile%2Fedit%2F2021%2F0316%2Fupload_1615871821771PTUwu.jpg%22&amp;type&#x3D;nf340_228\" alt=\"예리부터 휘인까지! 스타들의 데일리룩 파헤치기\" width=\"170\" height=\"114\">\\n\\t\\t\\t\\t\\t\\t<span class=\"thumb_bd\"></span>\\n\\t\\t\\t\\t\\t</a>\\n\\t\\t\\t\\t\\t<a href=\"https://post.naver.com/viewer/postView.nhn?volumeNo&#x3D;30890598&amp;memberNo&#x3D;1097200\" class=\"theme_info\" data-clk=\"tcc_bty.list10cont1\" target=\"_blank\">\\n\\t\\t\\t\\t\\t\\t<em class=\"theme_category\"> 패션뷰티</em>\\n\\t\\t\\t\\t\\t\\t<strong class=\"title elss\">예리부터 휘인까지! 스타들의 데일리룩 파헤치기</strong>\\n\\t\\t\\t\\t\\t\\t<p class=\"desc\">안녕~~오늘 준비한 포스팅은 바로 여자아이돌 데일리룩이얌!! 레드벨벳 예리부터 마마무 휘인 허영지, 러블리즈 서지수, 에이핑크 초롱까지 다 모아봤으니깐 빨리 보여줄게~먼저 레드벨벳 예리! 어제 올라온 따끈따끈한 인스타그램 사진 가져왔어~ 다들 알다시피 평소 예리가 입는 옷, 액세서리, 가방까지! 머리부터 발끝까지 핫이슈! 아니겠어?? 사진 속 예리는 버킷햇</p>\\n\\t\\t\\t\\t\\t\\t<div class=\"source_box\">\\n\\t\\t\\t\\t\\t\\t\\t<span class=\"date\">2주일 전</span>\\n\\t\\t\\t\\t\\t\\t\\t<span class=\"source\"><span class=\"source_inner\">패션뷰티 끼룩끼룩</span></span>\\n\\t\\t\\t\\t\\t\\t</div>\\n\\t\\t\\t\\t\\t</a>\\n\\t\\t\\t\\t</li>\\n\\t\\t\\t\\n\\t\\t\\t\\t<li class=\"theme_item\" data-gdid=\"CAS_4e0e32ec-85ff-11eb-9c55-0b88e4d08051\" data-da-position=\"true\">\\n\\t\\t\\t\\t\\t<a href=\"https://post.naver.com/viewer/postView.nhn?volumeNo&#x3D;30927061&amp;memberNo&#x3D;23953116\" class=\"theme_thumb\" data-clk=\"tcc_bty.list10cont2\" target=\"_blank\">\\n\\t\\t\\t\\t\\t\\t<img  data-src=\"https://s.pstatic.net/dthumb.phinf/?src&#x3D;%22https%3A%2F%2Fs.pstatic.net%2Fstatic%2Fwww%2Fmobile%2Fedit%2F2021%2F0316%2Fupload_1615875055368qG6TK.jpg%22&amp;type&#x3D;nf340_228\" alt=\"에디터가 10통 넘게 탈탈 털어 쓴 힛팬템은 무엇\" width=\"170\" height=\"114\">\\n\\t\\t\\t\\t\\t\\t<span class=\"thumb_bd\"></span>\\n\\t\\t\\t\\t\\t</a>\\n\\t\\t\\t\\t\\t<a href=\"https://post.naver.com/viewer/postView.nhn?volumeNo&#x3D;30927061&amp;memberNo&#x3D;23953116\" class=\"theme_info\" data-clk=\"tcc_bty.list10cont2\" target=\"_blank\">\\n\\t\\t\\t\\t\\t\\t<em class=\"theme_category\"> 패션뷰티</em>\\n\\t\\t\\t\\t\\t\\t<strong class=\"title elss\">에디터가 10통 넘게 탈탈 털어 쓴 힛팬템은 무엇</strong>\\n\\t\\t\\t\\t\\t\\t<p class=\"desc\">파뷰칭구들 앙뇽!오늘은 에디터랑 PD가한달동안 잘 쓰고 힛팬 보이는 제품들에네임택을 붙여서 소개해볼까 행오늘도 재밌게 봐줭 ψ(｀∇´)ψ 첫번째 TAG! my 힛팬템은#10통넘게비움 이라는 태그를 붙여준바이오더마의 센시비오 H2O이 제품은 넘넘넘 유명템이지?정말 살면서 10통 넘게 비운 것 같아안그래도 다썼는데 이번에올리브영 브랜드세일 한다길래아주 3통 사</p>\\n\\t\\t\\t\\t\\t\\t<div class=\"source_box\">\\n\\t\\t\\t\\t\\t\\t\\t<span class=\"date\">1주일 전</span>\\n\\t\\t\\t\\t\\t\\t\\t<span class=\"source\"><span class=\"source_inner\">파이베트 FAIBET</span></span>\\n\\t\\t\\t\\t\\t\\t</div>\\n\\t\\t\\t\\t\\t</a>\\n\\t\\t\\t\\t</li>\\n\\t\\t\\t\\n\\t\\t\\t\\t<li class=\"theme_item\" data-gdid=\"CAS_4e0e32eb-85ff-11eb-9c55-efe8e60994f3\" data-da-position=\"true\">\\n\\t\\t\\t\\t\\t<a href=\"https://post.naver.com/viewer/postView.nhn?volumeNo&#x3D;30866632&amp;memberNo&#x3D;506738\" class=\"theme_thumb\" data-clk=\"tcc_bty.list10cont3\" target=\"_blank\">\\n\\t\\t\\t\\t\\t\\t<img  data-src=\"https://s.pstatic.net/dthumb.phinf/?src&#x3D;%22https%3A%2F%2Fs.pstatic.net%2Fstatic%2Fwww%2Fmobile%2Fedit%2F2021%2F0316%2Fupload_16158750346571wdx9.jpg%22&amp;type&#x3D;nf340_228\" alt=\"환절기 피부 고민 타파! 3월 신상 스킨케어 BEST\" width=\"170\" height=\"114\">\\n\\t\\t\\t\\t\\t\\t<span class=\"thumb_bd\"></span>\\n\\t\\t\\t\\t\\t</a>\\n\\t\\t\\t\\t\\t<a href=\"https://post.naver.com/viewer/postView.nhn?volumeNo&#x3D;30866632&amp;memberNo&#x3D;506738\" class=\"theme_info\" data-clk=\"tcc_bty.list10cont3\" target=\"_blank\">\\n\\t\\t\\t\\t\\t\\t<em class=\"theme_category\"> 패션뷰티</em>\\n\\t\\t\\t\\t\\t\\t<strong class=\"title elss\">환절기 피부 고민 타파! 3월 신상 스킨케어 BEST</strong>\\n\\t\\t\\t\\t\\t\\t<p class=\"desc\">봄이 그렇게도 좋니 ♬ 3월 되자마자 한층 푸석해진 피부,, 그렇습니다. 환절기가 다가왔습니다.환절기, 건조해질 내 피부를 위한 특단의 조치가 필요합니다 ★ 피부 솔루션, 3월에 막 출시한 따끈따끈한 신상 뷰티템에서 찾아봤습니다! 지금 바로 쓰기 좋은 3월 신제품 스킨케어 아이템 만나보세요 ♥샤넬의 새로운 뷰티템은 가브리엘 샤넬 보디크림입니다.</p>\\n\\t\\t\\t\\t\\t\\t<div class=\"source_box\">\\n\\t\\t\\t\\t\\t\\t\\t<span class=\"date\">2주일 전</span>\\n\\t\\t\\t\\t\\t\\t\\t<span class=\"source\"><span class=\"source_inner\">에디터D</span></span>\\n\\t\\t\\t\\t\\t\\t</div>\\n\\t\\t\\t\\t\\t</a>\\n\\t\\t\\t\\t</li>\\n\\t\\t\\t\\n\\t\\t\\t\\t<li class=\"theme_item\" data-gdid=\"CAS_4e0e32ed-85ff-11eb-9c55-d99b0cac4c9f\" data-da-position=\"true\">\\n\\t\\t\\t\\t\\t<a href=\"https://blog.naver.com/dlcmalsis/222270091648\" class=\"theme_thumb\" data-clk=\"tcc_bty.list10cont4\" target=\"_blank\">\\n\\t\\t\\t\\t\\t\\t<img  data-src=\"https://s.pstatic.net/dthumb.phinf/?src&#x3D;%22https%3A%2F%2Fs.pstatic.net%2Fstatic%2Fwww%2Fmobile%2Fedit%2F2021%2F0316%2Fupload_1615875068005P5u6m.jpg%22&amp;type&#x3D;nf340_228\" alt=\"탄력 크림 1위 #보타닉힐보 리뉴얼 세트 써봄\" width=\"170\" height=\"114\">\\n\\t\\t\\t\\t\\t\\t<span class=\"thumb_bd\"></span>\\n\\t\\t\\t\\t\\t</a>\\n\\t\\t\\t\\t\\t<a href=\"https://blog.naver.com/dlcmalsis/222270091648\" class=\"theme_info\" data-clk=\"tcc_bty.list10cont4\" target=\"_blank\">\\n\\t\\t\\t\\t\\t\\t<em class=\"theme_category\"> 패션뷰티</em>\\n\\t\\t\\t\\t\\t\\t<strong class=\"title elss\">탄력 크림 1위 #보타닉힐보 리뉴얼 세트 써봄</strong>\\n\\t\\t\\t\\t\\t\\t<p class=\"desc\">\\u200b\\u200b\\u200b\\u200b안녕하세요, 홍차예요 :)#올리브영1등탄력크림 * 으로 유명한#보타닉힐보 라는 브랜드아시나요?!\\u200b이번에 이 보타닉힐보 브랜드가 #바이오힐보 로 새롭게 업그레이드 됐는데요Bio-Dematology 기반의 고기능 안티에이징 더마 스킨케어 브랜드 &lt;바이오힐보&gt; 로 리뉴얼되면서베스트 라인 제품들의 패키지도, 성분도 한층 업그레이드 됐어요.\\u200b\\u200b\\u200b\\u200b\\u200b\\u200b\\u200b\\u200b특히</p>\\n\\t\\t\\t\\t\\t\\t<div class=\"source_box\">\\n\\t\\t\\t\\t\\t\\t\\t<span class=\"date\">2주일 전</span>\\n\\t\\t\\t\\t\\t\\t\\t<span class=\"source\"><span class=\"source_inner\">홍차</span></span>\\n\\t\\t\\t\\t\\t\\t</div>\\n\\t\\t\\t\\t\\t</a>\\n\\t\\t\\t\\t</li>\\n\\t\\t\\t\\n\\t\\t\\t\\t<li class=\"theme_item\" data-gdid=\"CAS_4e0e32ee-85ff-11eb-9c55-8721a252df82\" data-da-position=\"true\">\\n\\t\\t\\t\\t\\t<a href=\"https://post.naver.com/viewer/postView.nhn?volumeNo&#x3D;30930972&amp;memberNo&#x3D;33521568\" class=\"theme_thumb\" data-clk=\"tcc_bty.list10cont5\" target=\"_blank\">\\n\\t\\t\\t\\t\\t\\t<img  data-src=\"https://s.pstatic.net/dthumb.phinf/?src&#x3D;%22https%3A%2F%2Fs.pstatic.net%2Fstatic%2Fwww%2Fmobile%2Fedit%2F2021%2F0316%2Fupload_1615876072701Ze6IF.jpg%22&amp;type&#x3D;nf340_228\" alt=\"모공까지 매끈~ 남자 올인원 로션 전격 비교 3\" width=\"170\" height=\"114\">\\n\\t\\t\\t\\t\\t\\t<span class=\"thumb_bd\"></span>\\n\\t\\t\\t\\t\\t</a>\\n\\t\\t\\t\\t\\t<a href=\"https://post.naver.com/viewer/postView.nhn?volumeNo&#x3D;30930972&amp;memberNo&#x3D;33521568\" class=\"theme_info\" data-clk=\"tcc_bty.list10cont5\" target=\"_blank\">\\n\\t\\t\\t\\t\\t\\t<em class=\"theme_category\"> 패션뷰티</em>\\n\\t\\t\\t\\t\\t\\t<strong class=\"title elss\">모공까지 매끈~ 남자 올인원 로션 전격 비교 3</strong>\\n\\t\\t\\t\\t\\t\\t<p class=\"desc\">뷰 ㅡ 하 !뷰린이들 안뇽~벌써 따뜻한 봄이 다가왔어날씨도 따듯.. 마음도 따듯..옆구리도 따..듯..... 하지..?오늘 뷰쌤이 준비한건 남친템 8탄!!남친에게 줄 선물을 고민중인 뷰린이,혹은 남성 뷰린이들에게 완죤 꿀정보 ㅎ그럼 바로 고고싱~~  두둥.... 아무래두 뷰쌤은 여자다보니까남성 피부 고민을 따로 알아봤는데여자랑 크게 다르지는 않았지만...그</p>\\n\\t\\t\\t\\t\\t\\t<div class=\"source_box\">\\n\\t\\t\\t\\t\\t\\t\\t<span class=\"date\">1주일 전</span>\\n\\t\\t\\t\\t\\t\\t\\t<span class=\"source\"><span class=\"source_inner\">뷰쌤</span></span>\\n\\t\\t\\t\\t\\t\\t</div>\\n\\t\\t\\t\\t\\t</a>\\n\\t\\t\\t\\t</li>\\n\\t\\t\\t\\n\\t\\t</ul>\\n\\t</div>\\n</div>\\n<div class=\"group_theme\" data-block-id=\"\" data-block-code=\"PC-THEME-BEAUTY-MOBILE-RANKING-DEFAULT-10\" data-block-type=\"MATERIALS\" data-template-code=\"MOBILE-RANKING-LIST\"\\n\\n\\t data-da=\"container\"\\n\\t data-index=\"\"\\n     data-page=\"6\"\\n\\t style=\"display:none\">\\n\\n\\t<div class=\"list_theme_wrap\">\\n\\t\\t<ul class=\"list_theme\">\\n\\t\\t\\t\\n\\t\\t\\t\\t<li class=\"theme_item\" data-gdid=\"CAS_d576f7bb-8530-11eb-9c55-9161c71c7685\" data-da-position=\"true\">\\n\\t\\t\\t\\t\\t<a href=\"https://post.naver.com/viewer/postView.nhn?volumeNo&#x3D;30871498&amp;memberNo&#x3D;10365454\" class=\"theme_thumb\" data-clk=\"tcc_bty.list11cont1\" target=\"_blank\">\\n\\t\\t\\t\\t\\t\\t<img  data-src=\"https://s.pstatic.net/dthumb.phinf/?src&#x3D;%22https%3A%2F%2Fs.pstatic.net%2Fstatic%2Fwww%2Fmobile%2Fedit%2F2021%2F0315%2Fupload_1615776172219108w8.jpg%22&amp;type&#x3D;nf340_228\" alt=\"고준희, 민아 등 셀럽들이 픽한 간절기 아우터는\" width=\"170\" height=\"114\">\\n\\t\\t\\t\\t\\t\\t<span class=\"thumb_bd\"></span>\\n\\t\\t\\t\\t\\t</a>\\n\\t\\t\\t\\t\\t<a href=\"https://post.naver.com/viewer/postView.nhn?volumeNo&#x3D;30871498&amp;memberNo&#x3D;10365454\" class=\"theme_info\" data-clk=\"tcc_bty.list11cont1\" target=\"_blank\">\\n\\t\\t\\t\\t\\t\\t<em class=\"theme_category\"> 패션뷰티</em>\\n\\t\\t\\t\\t\\t\\t<strong class=\"title elss\">고준희, 민아 등 셀럽들이 픽한 간절기 아우터는</strong>\\n\\t\\t\\t\\t\\t\\t<p class=\"desc\">매섭던 한파가 한 걸음 물러나면서 날씨가 조금은 따뜻해졌음을 느꼈을 것이다. 슬슬 겨울내 두툼했던 옷차림이 조금은 가벼워질 때. 봄 스타일링이 고민이라면 이 글을 주목해 보자.패션 셀럽들의 간절기 코디를 참고해 봄 스타일링을 미리 준비해보자!트렌치코트슬슬 트렌치코트의 계절이 다가오고 있다. 하늘 아래 같은 트렌치코트는 없는 법. 올봄엔 새로운 컬러를 선택해</p>\\n\\t\\t\\t\\t\\t\\t<div class=\"source_box\">\\n\\t\\t\\t\\t\\t\\t\\t<span class=\"date\">2주일 전</span>\\n\\t\\t\\t\\t\\t\\t\\t<span class=\"source\"><span class=\"source_inner\">패션웹진스냅</span></span>\\n\\t\\t\\t\\t\\t\\t</div>\\n\\t\\t\\t\\t\\t</a>\\n\\t\\t\\t\\t</li>\\n\\t\\t\\t\\n\\t\\t\\t\\t<li class=\"theme_item\" data-gdid=\"CAS_d39761f0-8530-11eb-9f6a-4f00c141611f\" data-da-position=\"true\">\\n\\t\\t\\t\\t\\t<a href=\"https://post.naver.com/viewer/postView.nhn?volumeNo&#x3D;30899644&amp;memberNo&#x3D;15964145\" class=\"theme_thumb\" data-clk=\"tcc_bty.list11cont2\" target=\"_blank\">\\n\\t\\t\\t\\t\\t\\t<img  data-src=\"https://s.pstatic.net/dthumb.phinf/?src&#x3D;%22https%3A%2F%2Fs.pstatic.net%2Fstatic%2Fwww%2Fmobile%2Fedit%2F2021%2F0315%2Fupload_16157869308510rIzM.jpg%22&amp;type&#x3D;nf340_228\" alt=\"스커트 한 가지만 있어도 다양하게 연출 가능해\" width=\"170\" height=\"114\">\\n\\t\\t\\t\\t\\t\\t<span class=\"thumb_bd\"></span>\\n\\t\\t\\t\\t\\t</a>\\n\\t\\t\\t\\t\\t<a href=\"https://post.naver.com/viewer/postView.nhn?volumeNo&#x3D;30899644&amp;memberNo&#x3D;15964145\" class=\"theme_info\" data-clk=\"tcc_bty.list11cont2\" target=\"_blank\">\\n\\t\\t\\t\\t\\t\\t<em class=\"theme_category\"> 패션뷰티</em>\\n\\t\\t\\t\\t\\t\\t<strong class=\"title elss\">스커트 한 가지만 있어도 다양하게 연출 가능해</strong>\\n\\t\\t\\t\\t\\t\\t<p class=\"desc\">날씨가 점점 따뜻해지면서 예쁜 스커트들이 눈에 자꾸 들어오는 걸 보니, 정말 봄이 오긴 오나봐요. 봄 하면 떠오르는 패션의 필수 아이템! 바로 스커트죠! 겨우내 입었던 무거운 옷을 던져버리고 이제 발랄한 매력의 스커트를 입어보세요! 오늘은 한 가지 스커트, 4가지 컬러로 각각 7가지씩 총 28가지의 코디법을 소개 해 드릴게요. 코디에 사용 된 스커트 정보 </p>\\n\\t\\t\\t\\t\\t\\t<div class=\"source_box\">\\n\\t\\t\\t\\t\\t\\t\\t<span class=\"date\">1주일 전</span>\\n\\t\\t\\t\\t\\t\\t\\t<span class=\"source\"><span class=\"source_inner\">코디북</span></span>\\n\\t\\t\\t\\t\\t\\t</div>\\n\\t\\t\\t\\t\\t</a>\\n\\t\\t\\t\\t</li>\\n\\t\\t\\t\\n\\t\\t\\t\\t<li class=\"theme_item\" data-gdid=\"CAS_d576f7ba-8530-11eb-9c55-85c4f91618bc\" data-da-position=\"true\">\\n\\t\\t\\t\\t\\t<a href=\"https://post.naver.com/viewer/postView.nhn?volumeNo&#x3D;30898640&amp;memberNo&#x3D;4656129\" class=\"theme_thumb\" data-clk=\"tcc_bty.list11cont3\" target=\"_blank\">\\n\\t\\t\\t\\t\\t\\t<img  data-src=\"https://s.pstatic.net/dthumb.phinf/?src&#x3D;%22https%3A%2F%2Fs.pstatic.net%2Fstatic%2Fwww%2Fmobile%2Fedit%2F2021%2F0315%2Fupload_1615776152949RmR5K.jpg%22&amp;type&#x3D;nf340_228\" alt=\"캐주얼한 게 제일 예뻐! 새내기 추천 스타일링\" width=\"170\" height=\"114\">\\n\\t\\t\\t\\t\\t\\t<span class=\"thumb_bd\"></span>\\n\\t\\t\\t\\t\\t</a>\\n\\t\\t\\t\\t\\t<a href=\"https://post.naver.com/viewer/postView.nhn?volumeNo&#x3D;30898640&amp;memberNo&#x3D;4656129\" class=\"theme_info\" data-clk=\"tcc_bty.list11cont3\" target=\"_blank\">\\n\\t\\t\\t\\t\\t\\t<em class=\"theme_category\"> 패션뷰티</em>\\n\\t\\t\\t\\t\\t\\t<strong class=\"title elss\">캐주얼한 게 제일 예뻐! 새내기 추천 스타일링</strong>\\n\\t\\t\\t\\t\\t\\t<p class=\"desc\">안녕하세요! 클로젯걸 미나입니다 :) 3월은 봄의 시작을 알리는 달이기도 하지만 새로운 시작을 알리기도 하는 달인데요! 신학기가 시작되는 새내기들에겐 무엇보다 설레는 달임엔 분명하죠코로나로 인해 비대면 수업이 주를 이루고 있지만 전공 특성 상 학교에 나가시는 분들도 계실텐데요! 그래서 캐주얼함이 돋보이는 새내기 스타일링을 준비해보았어요~ 뿐만 아니라</p>\\n\\t\\t\\t\\t\\t\\t<div class=\"source_box\">\\n\\t\\t\\t\\t\\t\\t\\t<span class=\"date\">2주일 전</span>\\n\\t\\t\\t\\t\\t\\t\\t<span class=\"source\"><span class=\"source_inner\">클로젯걸</span></span>\\n\\t\\t\\t\\t\\t\\t</div>\\n\\t\\t\\t\\t\\t</a>\\n\\t\\t\\t\\t</li>\\n\\t\\t\\t\\n\\t\\t\\t\\t<li class=\"theme_item\" data-gdid=\"CAS_d39761ed-8530-11eb-9f6a-67d4a9a30e28\" data-da-position=\"true\">\\n\\t\\t\\t\\t\\t<a href=\"https://post.naver.com/viewer/postView.nhn?volumeNo&#x3D;30889425&amp;memberNo&#x3D;11031159\" class=\"theme_thumb\" data-clk=\"tcc_bty.list11cont4\" target=\"_blank\">\\n\\t\\t\\t\\t\\t\\t<img  data-src=\"https://s.pstatic.net/dthumb.phinf/?src&#x3D;%22https%3A%2F%2Fs.pstatic.net%2Fstatic%2Fwww%2Fmobile%2Fedit%2F2021%2F0315%2Fupload_1615786878047r1Skk.jpg%22&amp;type&#x3D;nf340_228\" alt=\"가볍고 편안한 &#x27;플랫슈즈&#x27;를 색다르게 신는 법\" width=\"170\" height=\"114\">\\n\\t\\t\\t\\t\\t\\t<span class=\"thumb_bd\"></span>\\n\\t\\t\\t\\t\\t</a>\\n\\t\\t\\t\\t\\t<a href=\"https://post.naver.com/viewer/postView.nhn?volumeNo&#x3D;30889425&amp;memberNo&#x3D;11031159\" class=\"theme_info\" data-clk=\"tcc_bty.list11cont4\" target=\"_blank\">\\n\\t\\t\\t\\t\\t\\t<em class=\"theme_category\"> 패션뷰티</em>\\n\\t\\t\\t\\t\\t\\t<strong class=\"title elss\">가볍고 편안한 \\'플랫슈즈\\'를 색다르게 신는 법</strong>\\n\\t\\t\\t\\t\\t\\t<p class=\"desc\">모든 스타일을 아우를 수 있는 가볍고 편안한 플랫슈즈의 계절이 돌아왔다. 사뿐한 플랫슈즈를 신고 봄을 향해 걸어가는 여섯 가지 방법.  90&#x27;S\\xa0MINIMALISM 곧게 뻗은 직선 라인이 강조된 튜닉 원피스에 테일러드 팬츠를 레이어드한 1990년대의 미니멀리즘 스타일. 앞코가 뾰족한 포인티드 토 플랫슈즈를 함께 매치하면 모던한 느낌을 극대화할 수 있</p>\\n\\t\\t\\t\\t\\t\\t<div class=\"source_box\">\\n\\t\\t\\t\\t\\t\\t\\t<span class=\"date\">2주일 전</span>\\n\\t\\t\\t\\t\\t\\t\\t<span class=\"source\"><span class=\"source_inner\">얼루어코리아</span></span>\\n\\t\\t\\t\\t\\t\\t</div>\\n\\t\\t\\t\\t\\t</a>\\n\\t\\t\\t\\t</li>\\n\\t\\t\\t\\n\\t\\t\\t\\t<li class=\"theme_item\" data-gdid=\"CAS_d39761f2-8530-11eb-9f6a-933d459d3be2\" data-da-position=\"true\">\\n\\t\\t\\t\\t\\t<a href=\"https://blog.naver.com/sobongg/222256388067\" class=\"theme_thumb\" data-clk=\"tcc_bty.list11cont5\" target=\"_blank\">\\n\\t\\t\\t\\t\\t\\t<img  data-src=\"https://s.pstatic.net/dthumb.phinf/?src&#x3D;%22https%3A%2F%2Fs.pstatic.net%2Fstatic%2Fwww%2Fmobile%2Fedit%2F2021%2F0315%2Fupload_1615786967159vhM80.jpg%22&amp;type&#x3D;nf340_228\" alt=\"&#x27;아르마니&#x27; 파데 NEW 컬러 구매 전 발색 체크해\" width=\"170\" height=\"114\">\\n\\t\\t\\t\\t\\t\\t<span class=\"thumb_bd\"></span>\\n\\t\\t\\t\\t\\t</a>\\n\\t\\t\\t\\t\\t<a href=\"https://blog.naver.com/sobongg/222256388067\" class=\"theme_info\" data-clk=\"tcc_bty.list11cont5\" target=\"_blank\">\\n\\t\\t\\t\\t\\t\\t<em class=\"theme_category\"> 패션뷰티</em>\\n\\t\\t\\t\\t\\t\\t<strong class=\"title elss\">\\'아르마니\\' 파데 NEW 컬러 구매 전 발색 체크해</strong>\\n\\t\\t\\t\\t\\t\\t<p class=\"desc\">\\u200b광채파운데이션 추천조르지오 아르마니 뷰티 디자이너리프트1호 &amp; 1.5호 &amp; 1.75호 비교후기\\u200b\\u200b\\u200b\\u200b\\u200b\\u200b\\u200b안녕하세요 뷰스타 소봉입니다.파운데이션의 명가 아르마니 뷰티가볍게 발리면서 촉촉한 제형이 특징인광채파운데이션! 디자이너 리프트 파운데이션이이번에 상아빛 피부에 잘 맞는 화사한 NEW컬러가출시되어 만나봤어요. 어떤 컬러를 골라야 할지고민이 된다...</p>\\n\\t\\t\\t\\t\\t\\t<div class=\"source_box\">\\n\\t\\t\\t\\t\\t\\t\\t<span class=\"date\">3주일 전</span>\\n\\t\\t\\t\\t\\t\\t\\t<span class=\"source\"><span class=\"source_inner\">소봉</span></span>\\n\\t\\t\\t\\t\\t\\t</div>\\n\\t\\t\\t\\t\\t</a>\\n\\t\\t\\t\\t</li>\\n\\t\\t\\t\\n\\t\\t</ul>\\n\\t</div>\\n</div>\\n<div class=\"group_theme\" data-block-id=\"\" data-block-code=\"PC-THEME-BEAUTY-MOBILE-RANKING-DEFAULT-11\" data-block-type=\"MATERIALS\" data-template-code=\"MOBILE-RANKING-LIST\"\\n\\n\\t data-da=\"container\"\\n\\t data-index=\"\"\\n     data-page=\"6\"\\n\\t style=\"display:none\">\\n\\n\\t<div class=\"list_theme_wrap\">\\n\\t\\t<ul class=\"list_theme\">\\n\\t\\t\\t\\n\\t\\t\\t\\t<li class=\"theme_item\" data-gdid=\"CAS_d39761f4-8530-11eb-9f6a-151e66b6471e\" data-da-position=\"true\">\\n\\t\\t\\t\\t\\t<a href=\"https://post.naver.com/viewer/postView.nhn?volumeNo&#x3D;30857147&amp;memberNo&#x3D;485094\" class=\"theme_thumb\" data-clk=\"tcc_bty.list12cont1\" target=\"_blank\">\\n\\t\\t\\t\\t\\t\\t<img  data-src=\"https://s.pstatic.net/dthumb.phinf/?src&#x3D;%22https%3A%2F%2Fs.pstatic.net%2Fstatic%2Fwww%2Fmobile%2Fedit%2F2021%2F0315%2Fupload_1615787007454HXHh7.jpg%22&amp;type&#x3D;nf340_228\" alt=\"마음까지 든든해지는 착한 가격 대용량 템. zip\" width=\"170\" height=\"114\">\\n\\t\\t\\t\\t\\t\\t<span class=\"thumb_bd\"></span>\\n\\t\\t\\t\\t\\t</a>\\n\\t\\t\\t\\t\\t<a href=\"https://post.naver.com/viewer/postView.nhn?volumeNo&#x3D;30857147&amp;memberNo&#x3D;485094\" class=\"theme_info\" data-clk=\"tcc_bty.list12cont1\" target=\"_blank\">\\n\\t\\t\\t\\t\\t\\t<em class=\"theme_category\"> 패션뷰티</em>\\n\\t\\t\\t\\t\\t\\t<strong class=\"title elss\">마음까지 든든해지는 착한 가격 대용량 템. zip</strong>\\n\\t\\t\\t\\t\\t\\t<p class=\"desc\">인생템 발견하면 꼭 빨리빨리 다 써 버려서 아쉬웠던 경험 한 사람 있나 hoxy..? 따뜻해진 봄을 맞아 용량은 넉넉, 마음은 든든하게 채워줄 지금 꼭 사야하는 올리브영 대용량 추천템, 에디터가 알차게 들고왔다구 ! 봄봄봄 봄이왔어요~ 봄을 맞아 올리브영도 기뻤나봐 ,,, 올리브영 단독 한정으로 만나볼 수 있는 대용량구성을 엄청 가져왔다지 뭐야 ?! 올리브</p>\\n\\t\\t\\t\\t\\t\\t<div class=\"source_box\">\\n\\t\\t\\t\\t\\t\\t\\t<span class=\"date\">2주일 전</span>\\n\\t\\t\\t\\t\\t\\t\\t<span class=\"source\"><span class=\"source_inner\">언니의파우치</span></span>\\n\\t\\t\\t\\t\\t\\t</div>\\n\\t\\t\\t\\t\\t</a>\\n\\t\\t\\t\\t</li>\\n\\t\\t\\t\\n\\t\\t\\t\\t<li class=\"theme_item\" data-gdid=\"CAS_d39761f3-8530-11eb-9f6a-55aeb0d47a1d\" data-da-position=\"true\">\\n\\t\\t\\t\\t\\t<a href=\"https://post.naver.com/viewer/postView.nhn?volumeNo&#x3D;30899577&amp;memberNo&#x3D;25590338\" class=\"theme_thumb\" data-clk=\"tcc_bty.list12cont2\" target=\"_blank\">\\n\\t\\t\\t\\t\\t\\t<img  data-src=\"https://s.pstatic.net/dthumb.phinf/?src&#x3D;%22https%3A%2F%2Fs.pstatic.net%2Fstatic%2Fwww%2Fmobile%2Fedit%2F2021%2F0315%2Fupload_1615786989461TQmEX.jpg%22&amp;type&#x3D;nf340_228\" alt=\"거품이 퐁퐁~ 에디터가 탈모 샴푸 직접 써보니\" width=\"170\" height=\"114\">\\n\\t\\t\\t\\t\\t\\t<span class=\"thumb_bd\"></span>\\n\\t\\t\\t\\t\\t</a>\\n\\t\\t\\t\\t\\t<a href=\"https://post.naver.com/viewer/postView.nhn?volumeNo&#x3D;30899577&amp;memberNo&#x3D;25590338\" class=\"theme_info\" data-clk=\"tcc_bty.list12cont2\" target=\"_blank\">\\n\\t\\t\\t\\t\\t\\t<em class=\"theme_category\"> 패션뷰티</em>\\n\\t\\t\\t\\t\\t\\t<strong class=\"title elss\">거품이 퐁퐁~ 에디터가 탈모 샴푸 직접 써보니</strong>\\n\\t\\t\\t\\t\\t\\t<p class=\"desc\">길어지는 코로나 상황으로 인해 사회적 거리 두기가 지속되면서 정상적인 일상생활이 불가능하게 되자 과도한 불안과 스트레스 등 정신건강 문제가 발생하고 그로 인해 탈모를 호소하는 사람들이 늘어나고 있다.때문에, 탈모샴푸에 대한 관심이 증가하였으며 많은 브랜드에서 탈모샴푸를 출시하고 있는 추세이다.수많은 탈모샴푸 중, 가장 관심을 많이 받고 있는 5가지 탈모샴푸</p>\\n\\t\\t\\t\\t\\t\\t<div class=\"source_box\">\\n\\t\\t\\t\\t\\t\\t\\t<span class=\"date\">2주일 전</span>\\n\\t\\t\\t\\t\\t\\t\\t<span class=\"source\"><span class=\"source_inner\">원뷰티</span></span>\\n\\t\\t\\t\\t\\t\\t</div>\\n\\t\\t\\t\\t\\t</a>\\n\\t\\t\\t\\t</li>\\n\\t\\t\\t\\n\\t\\t\\t\\t<li class=\"theme_item\" data-gdid=\"CAS_d52d97c0-82d2-11eb-a4a8-b10acca3dac8\" data-da-position=\"true\">\\n\\t\\t\\t\\t\\t<a href=\"https://post.naver.com/viewer/postView.nhn?volumeNo&#x3D;30868370&amp;memberNo&#x3D;303190\" class=\"theme_thumb\" data-clk=\"tcc_bty.list12cont3\" target=\"_blank\">\\n\\t\\t\\t\\t\\t\\t<img  data-src=\"https://s.pstatic.net/dthumb.phinf/?src&#x3D;%22https%3A%2F%2Fs.pstatic.net%2Fstatic%2Fwww%2Fmobile%2Fedit%2F2021%2F0312%2Fupload_1615516288197L7DoE.jpg%22&amp;type&#x3D;nf340_228\" alt=\"패딩 넣고 재킷 꺼내! 하체 통통 언니의 코디법\" width=\"170\" height=\"114\">\\n\\t\\t\\t\\t\\t\\t<span class=\"thumb_bd\"></span>\\n\\t\\t\\t\\t\\t</a>\\n\\t\\t\\t\\t\\t<a href=\"https://post.naver.com/viewer/postView.nhn?volumeNo&#x3D;30868370&amp;memberNo&#x3D;303190\" class=\"theme_info\" data-clk=\"tcc_bty.list12cont3\" target=\"_blank\">\\n\\t\\t\\t\\t\\t\\t<em class=\"theme_category\"> 패션뷰티</em>\\n\\t\\t\\t\\t\\t\\t<strong class=\"title elss\">패딩 넣고 재킷 꺼내! 하체 통통 언니의 코디법</strong>\\n\\t\\t\\t\\t\\t\\t<p class=\"desc\">얼마 전 댕댕이와 함께 산책을 나갔더니 매화나무 가지에 꽃들이 조금씩~조금씩~ 고개를 드는 것 있지? 진짜 봄이 오긴 왔나 봐.. 설렘ㅠㅠ♥본격적인 봄이 다가왔으니 이젠 패딩을 넣고 가디건, 재킷 등 봄옷을 꺼낼 차례! 하체통통 에디터의 돌려입기 : 3월편 그럼 바로 시작해볼까?DAY 1① 레귤러핏(43,000원) ② 자라(</p>\\n\\t\\t\\t\\t\\t\\t<div class=\"source_box\">\\n\\t\\t\\t\\t\\t\\t\\t<span class=\"date\">2주일 전</span>\\n\\t\\t\\t\\t\\t\\t\\t<span class=\"source\"><span class=\"source_inner\">에딧</span></span>\\n\\t\\t\\t\\t\\t\\t</div>\\n\\t\\t\\t\\t\\t</a>\\n\\t\\t\\t\\t</li>\\n\\t\\t\\t\\n\\t\\t\\t\\t<li class=\"theme_item\" data-gdid=\"CAS_d52d97c1-82d2-11eb-a4a8-41ecd6f9e5e8\" data-da-position=\"true\">\\n\\t\\t\\t\\t\\t<a href=\"https://post.naver.com/viewer/postView.nhn?volumeNo&#x3D;30870682&amp;memberNo&#x3D;24216069\" class=\"theme_thumb\" data-clk=\"tcc_bty.list12cont4\" target=\"_blank\">\\n\\t\\t\\t\\t\\t\\t<img  data-src=\"https://s.pstatic.net/dthumb.phinf/?src&#x3D;%22https%3A%2F%2Fs.pstatic.net%2Fstatic%2Fwww%2Fmobile%2Fedit%2F2021%2F0312%2Fupload_1615516429018ChqoG.jpg%22&amp;type&#x3D;nf340_228\" alt=\"형형색색 다채로운 컬러를 세련되게 입으려면?\" width=\"170\" height=\"114\">\\n\\t\\t\\t\\t\\t\\t<span class=\"thumb_bd\"></span>\\n\\t\\t\\t\\t\\t</a>\\n\\t\\t\\t\\t\\t<a href=\"https://post.naver.com/viewer/postView.nhn?volumeNo&#x3D;30870682&amp;memberNo&#x3D;24216069\" class=\"theme_info\" data-clk=\"tcc_bty.list12cont4\" target=\"_blank\">\\n\\t\\t\\t\\t\\t\\t<em class=\"theme_category\"> 패션뷰티</em>\\n\\t\\t\\t\\t\\t\\t<strong class=\"title elss\">형형색색 다채로운 컬러를 세련되게 입으려면?</strong>\\n\\t\\t\\t\\t\\t\\t<p class=\"desc\">컬러 테라피 화사한 봄을 맞이하는 첫 번째 수순. 형형색색의 컬러를 즐기는 다채로운 방식을 전수한다. m.thesingle.co.kr 컬러 테라피화사한 봄을 맞이하는 첫 번째 수순. 형형색색의 컬러를 즐기는 다채로운 방식을 전수한다. 과감한 보색대비 겨우내 몸을 덮은 어둡고 칙칙한 컬러의 흔적을 남김없이 지우려는 듯, 화사한 컬러 조합이 곳곳에서 눈에 띈다</p>\\n\\t\\t\\t\\t\\t\\t<div class=\"source_box\">\\n\\t\\t\\t\\t\\t\\t\\t<span class=\"date\">2주일 전</span>\\n\\t\\t\\t\\t\\t\\t\\t<span class=\"source\"><span class=\"source_inner\">싱글즈</span></span>\\n\\t\\t\\t\\t\\t\\t</div>\\n\\t\\t\\t\\t\\t</a>\\n\\t\\t\\t\\t</li>\\n\\t\\t\\t\\n\\t\\t\\t\\t<li class=\"theme_item\" data-gdid=\"CAS_d52d97c6-82d2-11eb-a4a8-65d4b6b70eb3\" data-da-position=\"true\">\\n\\t\\t\\t\\t\\t<a href=\"https://post.naver.com/viewer/postView.nhn?volumeNo&#x3D;30866657&amp;memberNo&#x3D;44303069\" class=\"theme_thumb\" data-clk=\"tcc_bty.list12cont5\" target=\"_blank\">\\n\\t\\t\\t\\t\\t\\t<img  data-src=\"https://s.pstatic.net/dthumb.phinf/?src&#x3D;%22https%3A%2F%2Fs.pstatic.net%2Fstatic%2Fwww%2Fmobile%2Fedit%2F2021%2F0312%2Fupload_1615516500758HjPNM.jpg%22&amp;type&#x3D;nf340_228\" alt=\"화사한 패션에 걸맞게 손끝에도 플라워가 활짝\" width=\"170\" height=\"114\">\\n\\t\\t\\t\\t\\t\\t<span class=\"thumb_bd\"></span>\\n\\t\\t\\t\\t\\t</a>\\n\\t\\t\\t\\t\\t<a href=\"https://post.naver.com/viewer/postView.nhn?volumeNo&#x3D;30866657&amp;memberNo&#x3D;44303069\" class=\"theme_info\" data-clk=\"tcc_bty.list12cont5\" target=\"_blank\">\\n\\t\\t\\t\\t\\t\\t<em class=\"theme_category\"> 패션뷰티</em>\\n\\t\\t\\t\\t\\t\\t<strong class=\"title elss\">화사한 패션에 걸맞게 손끝에도 플라워가 활짝</strong>\\n\\t\\t\\t\\t\\t\\t<p class=\"desc\">BRAVO my BEAUTY❤ 밝은 컬러감의 화사한 패션에 걸맞게손 끝에서도 화사한 봄기운이 느껴지고 있는 요즘이지? 역시나 봄 하면 푸릇하고 화사한플라워 패턴이 진리 아니겠어?그래서 오늘은플라워 디자인 네일을 모두 모아봤zip! 톤 다운된 차분한 퍼플 컬러에라일락 플라워를 포인트로 얹은 네일!꽃향기가 여기까지 느껴지는걸 보니봄기운 만끽하기 좋은 네일이라구</p>\\n\\t\\t\\t\\t\\t\\t<div class=\"source_box\">\\n\\t\\t\\t\\t\\t\\t\\t<span class=\"date\">2주일 전</span>\\n\\t\\t\\t\\t\\t\\t\\t<span class=\"source\"><span class=\"source_inner\">뷰라보 라이프</span></span>\\n\\t\\t\\t\\t\\t\\t</div>\\n\\t\\t\\t\\t\\t</a>\\n\\t\\t\\t\\t</li>\\n\\t\\t\\t\\n\\t\\t</ul>\\n\\t</div>\\n</div>\\n\\n\\n\\n\\n\\t<div class=\"btn_more_wrap\">\\n\\t\\t<button type=\"button\" class=\"btn_more\" data-clk-custom=\"tcc_bty.more\" data-next-page=\"2\"><i class=\"ico_more\"></i>새로운 글 더보기</button>\\n\\t</div>\\n\\n\\n\\t</div>\\n</div>\\n </div> </div> <div id=\"NM_INT_RIGHT\" class=\"column_right\"> <div class=\"column_fix_wrap\"> <div id=\"da_brand\"></div> \\n\\n\\n\\n\\n<div id=\"account\" class=\"sc_login\">\\n<h2 class=\"blind\">Sign in</h2>\\n<p class=\"login_msg\">Connect with people</p>\\n<a href=\"https://nid.naver.com/nidlogin.login?mode=form&url=https%3A%2F%2Fwww.naver.com\" class=\"link_login\" data-clk=\"log_off.login\"><i class=\"ico_naver\"><span class=\"blind\">NAVER</span></i>Sign in</a>\\n<div class=\"sub_area\">\\n<div class=\"look_box\">\\n<a href=\"https://nid.naver.com/user/help.nhn?todo=idinquiry\" class=\"link_look\" data-clk=\"log_off.searchid\">Forgot Username</a>\\n<a href=\"https://nid.naver.com/nidreminder.form\" class=\"link_look\" data-clk=\"log_off.searchpass\">Password</a>\\n</div>\\n<a href=\"https://nid.naver.com/nidregister.form?url=https%3A%2F%2Fwww.naver.com\" class=\"link_join\" data-clk=\"log_off.registration\">Sign up</a>\\n</div>\\n</div>\\n\\n\\n\\n <div id=\"timesquare\" class=\"sc_timesquare\"> <h2 class=\"blind\">타임스퀘어</h2> <div class=\"card_wrap\">\\n<div class=\"card_nav\">\\n<a href=\"#\" role=\"button\" class=\"btn_nav btn_prev\" data-clk=\"squ.pre\"><span class=\"blind\">이전</span></a>\\n<a href=\"#\" role=\"button\" class=\"btn_nav btn_next\" data-clk=\"squ.next\"><span class=\"blind\">다음</span></a>\\n</div>\\n<div id=\"NM_TS_ROLLING_WRAP\" style=\"height: 100%;\">\\n<div>\\n<a href=\"https://search.naver.com/search.naver?sm=top_hty&amp;fbm=0&amp;ie=utf8&amp;query=%EC%BD%94%EB%A1%9C%EB%82%9819\" class=\"card_news\" data-clk=\"squ.line3\"><i class=\"news_badge\">이슈</i><span class=\"news\">코로나바이러스감염증19 현황</span></a>\\n</div>\\n<div>\\n<a href=\"https://finance.naver.com/world/sise.nhn?symbol=RUI@RTSI\" class=\"card_stock \" data-clk=\"squ.rus\">\\n<strong class=\"stock_title\">증시</strong>\\n<div class=\"stock_box\">\\n<em class=\"name\">러시아</em>\\n<strong class=\"current\">1,426.50</strong>\\n<span class=\"rate rate_down\">2.04 -0.14%</span>\\n</div>\\n</a>\\n</div>\\n<div>\\n<a href=\"https://finance.naver.com/world/sise.nhn?symbol=XTR@DAX30\" class=\"card_stock \" data-clk=\"squ.ger\">\\n<strong class=\"stock_title\">증시</strong>\\n<div class=\"stock_box\">\\n<em class=\"name\">독일</em>\\n<strong class=\"current\">14,543.58</strong>\\n<span class=\"rate rate_down\">75.61 -0.52%</span>\\n</div>\\n</a>\\n</div>\\n<div>\\n<a href=\"https://finance.naver.com/world/sise.nhn?symbol=STX@SX5E\" class=\"card_stock \" data-clk=\"squ.euro\">\\n<strong class=\"stock_title\">증시</strong>\\n<div class=\"stock_box\">\\n<em class=\"name\">유로스톡스50</em>\\n<strong class=\"current\">3,820.78</strong>\\n<span class=\"rate rate_down\">10.38 -0.27%</span>\\n</div>\\n</a>\\n</div>\\n<div>\\n<a href=\"https://finance.naver.com/marketindex/exchangeDetail.nhn?marketindexCd=FX_USDKRW\" class=\"card_stock type_exchange\" data-clk=\"squ.usd\">\\n<strong class=\"stock_title\">환율</strong>\\n<div class=\"stock_box\">\\n<em class=\"name\">USD</em>\\n<strong class=\"current\">1,133.50</strong>\\n<span class=\"rate rate_up\">3.00 +0.27%</span>\\n</div>\\n</a>\\n</div>\\n</div>\\n</div> <!-- EMPTY --> </div>  <div id=\"veta_branding\"> <iframe id=\"da_iframe_rolling\" name=\"da_iframe_rolling\" data-iframe-src=\"https://siape.veta.naver.com/fxshow?su=SU10601&amp;nrefreshx=0\" data-veta-preview=\"main_rolling\" title=\"광고\" width=\"350\" height=\"200\" marginheight=\"0\" marginwidth=\"0\" scrolling=\"no\" frameborder=\"0\"></iframe> <span class=\"veta_bd_t\"></span> <span class=\"veta_bd_b\"></span> <span class=\"veta_bd_l\"></span> <span class=\"veta_bd_r\"></span> </div>   <div id=\"shopcast\" class=\"sc_shopcast\"> <iframe id=\"shopcast_iframe\" data-iframe-src=\"https://castbox.shopping.naver.com/shoppingboxnew/main.nhn\" title=\"쇼핑캐스트\" width=\"350\" height=\"1539\" marginheight=\"0\" marginwidth=\"0\" scrolling=\"no\" frameborder=\"0\"></iframe> </div> </div> </div> <a id=\"NM_scroll_top_btn\" href=\"#wrap\" class=\"content_top\"><span class=\"blind\">TOP</span></a> <button id=\"NM_darkmode_btn\" type=\"button\" role=\"button\" class=\"btn_theme\" aria-pressed=\"false\"  > <span class=\"blind\">라이트 모드로 보기</span> </button> </div> <div id=\"footer\" role=\"contentinfo\"> <div class=\"footer_inner\"> <div class=\"banner_area\"> <div class=\"da_box_wrap\">    <div id=\"da_public_left\"> <iframe id=\"da_iframe_bottom_left\" data-iframe-src=\"https://siape.veta.naver.com/fxshow?su=SU10641&amp;nrefreshx=0\" title=\"광고\" width=\"350\" height=\"86\" scrolling=\"no\" frameborder=\"0\"></iframe> </div> <div id=\"da_public_right\"> <iframe id=\"da_iframe_bottom_right\" data-iframe-src=\"https://siape.veta.naver.com/fxshow?su=SU10642&amp;nrefreshx=0\" title=\"광고\" width=\"350\" height=\"86\" scrolling=\"no\" frameborder=\"0\"></iframe> </div> <div id=\"veta_time2\"> <iframe id=\"da_iframe_below\" name=\"da_iframe_below\" data-iframe-src=\"https://siape.veta.naver.com/fxshow?su=SU10640&amp;nrefreshx=0\" data-veta-preview=\"main_below\" width=\"350\" height=\"86\" scrolling=\"no\" frameborder=\"0\" title=\"광고\"> </iframe> </div> </div> </div> <div class=\"notice_area\" data-clk-prefix=\"ntc\"> <div class=\"notice_box\"> <h3 class=\"title\"><a href=\"https://www.naver.com/NOTICE\">공지사항</a> </h3> <!-- EMPTY --> </div> <a href=\"more.html\" class=\"link_all\" data-clk=\"svcmap\">서비스 전체보기</a> </div> <div class=\"aside_area\"> <div class=\"partner_box_wrap\"> <div class=\"partner_box\" data-clk-prefix=\"crt\"> <h3 class=\"title\">Creators</h3> <a href=\"https://www.navercorp.com/service/creators\" class=\"link_partner\" data-clk=\"creator\">크리에이터</a> <a href=\"https://www.navercorp.com/service/business\" class=\"link_partner\" data-clk=\"smbusiness\">스몰비즈니스</a> </div> <div class=\"partner_box\" data-clk-prefix=\"crt\"> <h3 class=\"title\">Partners</h3> <a href=\"https://business.naver.com/service.html\" class=\"link_partner\" data-clk=\"service\">비즈니스 · 광고</a> <a href=\"https://sell.storefarm.naver.com/#/home/about\" class=\"link_partner\" data-clk=\"store\">스토어 개설</a> <a href=\"https://smartplace.naver.com\" class=\"link_partner\" data-clk=\"place\">지역업체 등록</a> <a href=\"https://expert.naver.com/expert/introduction?tab=guide#join\" class=\"link_partner\" data-clk=\"expert\">엑스퍼트 등록</a> </div> <div class=\"partner_box\" data-clk-prefix=\"crt\"> <h3 class=\"title\">Developers</h3> <a href=\"https://developers.naver.com\" class=\"link_partner\" data-clk=\"center\">네이버 개발자 센터</a> <a href=\"https://developers.naver.com/docs/common/openapiguide/#/apilist.md\" class=\"link_partner\" data-clk=\"openapi\">오픈 API</a> <a href=\"https://naver.github.io\" class=\"link_partner\" data-clk=\"opensource\">오픈소스</a> <a href=\"https://d2.naver.com\" class=\"link_partner\" data-clk=\"d2\">네이버 D2</a> <a href=\"http://d2startup.com\" class=\"link_partner\" data-clk=\"naverD2SF\">네이버 D2SF</a> <a href=\"https://www.naverlabs.com\" class=\"link_partner\" data-clk=\"labs\">네이버 랩스</a> </div> </div> <div class=\"service_box_wrap\"> <div class=\"service_box\" data-clk-prefix=\"wbd\"> <a href=\"http://whale.naver.com/\" class=\"service_logo\" data-clk=\"bt\"> <img src=\"data:image/png;base64,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\" alt=\"웨일\" width=\"48\" height=\"48\"> </a> <div class=\"service_info\"> <strong class=\"title\">웨일 브라우저</strong> <a href=\"http://whale.naver.com/\" class=\"dsc\" data-clk=\"bt\">다운받기</a> </div> </div> <div class=\"service_box\" data-clk-prefix=\"prj\"> <a href=\"https://search.naver.com/search.naver?where=nexearch&sm=top_hty&fbm=1&ie=utf8&query=%ED%94%84%EB%A1%9C%EC%A0%9D%ED%8A%B8%EA%BD%83\" class=\"service_logo\" data-clk=\"link\"> <img src=\"data:image/png;base64,iVBORw0KGgoAAAANSUhEUgAAAF4AAABkCAMAAAA47XeXAAAAgVBMVEUAAADN5PdGm99Gm99Gm99Gm99Gm95Gm99Gm99Gm99Gm99Gm99Gm99Gm99Gm99Gm99Gm99Gm99Gm99Gm99Gm99Gm99Gm99Gmt9Gm99Gm99Gm99Gm95Gm99Gm99Gm95Gm99Hm99Gm99Gm9/////3+/5cp+LO5PfR5/fO5fdcp+P7/f/zv5GhAAAAInRSTlMA/v7vH9u5qJNgGwb6l8a9uqF9WFUyLxYMCtbVmLCwe4OCj8gzEgAAA0NJREFUaN7NmmFz4iAQhkkwMTHGWrWtWvWuq8mF+/8/8Ey2nb0OhSwQZnw+MHQ7pbjAy2s2gsuiLPJMLpcyy4tyISZltnmHbxw3MzEVr/MUNNL5q5iCt2ccXCN9fhPB7CQYkTsRRlWDlboSAexzGCHfC28OKxhldfDOzBMwePLNTw0sauHFFphshQcLCUwkaQRfXYBPSkrEUBdv3jezcXXhw1ciUhc+fCUidQlH7qzqEk5d2dQlnHxvU5dwVgdXdSGclaiGyamt6hLO1qIu4ZASzcFE092SBprk1jagulvXAAw/qb5N7m176xQYmOPoLymYaK/X65/PNhlagE6LGUhfRM8FjNzuf/73//bHmInzoJEpjMyeWpp9RzGz/PT6+QvMNO2Q+67PPeYZY5h7jDVg5OM+/BGikd13JfDAj/Ad1WLMyEyUwKPT00ypN1GKAljQJtFiFgqRe86eYhbWIvPPPR5d+9pKiIgUwKNJdHXBvW9jyRye1EWLWYfnJcd141Byspizz7gbUyWDuqiW0v15D9g3ZgF86JwyKUgUHJaATUmS5rsEdkkTZLjZS8Alw+skFr8Nl6H6uosShaKOp3Zo+/jgFTDe+wcSfv0yFGfQaLX7tDO0reXOPRuMCG4Q11Y3IiYblWgzS7R+h31qdRtlGB7zikeUckz+AB3a8FuMqD7Cd2nhUHLOEIkLubQIkEuLxIdwEwUy3HyXxsbgPMJcGuGox+TSIugxuTQ+KHIaAS5N92eIIuMT5tJoPfHy5q9yKoXLelLuKRri0mjMQdhwTPw6Sv8pzKXhFyhNilEwkSCXRrnAnaPnJdyl0UrqXircpeHVglnv+62K4NJo3lFcGmWd79KO7OQoXAE8XNO6tIQGxj7fpfHTwk8RubQLWEGvgTNGKzj01fixunCMCCYcvSSlaFwUyKVx86J3bczpUR3zimq1LqdosAUbJF54ar+uk5Gju436mPTk8ZAXFdO93HRYTesUVgf3B+y0XdxLfdVputmfKp/iBtNjyl3c0kzUwtJIWewIPvAL9LOyWLsV9WAps3VRzh6hJBm3oOqsRKfHLGYzS/GP+iLBuBKdqkd+iWPkFZTHf4Em4us/uhI5qss/6zK5u8+AXpwAAAAASUVORK5CYII=\" alt=\"꽃\" width=\"47\" height=\"50\"> </a> <div class=\"service_info\"> <strong class=\"title\">프로젝트 꽃</strong> <a href=\"https://search.naver.com/search.naver?where=nexearch&sm=top_hty&fbm=1&ie=utf8&query=%ED%94%84%EB%A1%9C%EC%A0%9D%ED%8A%B8%EA%BD%83\" class=\"dsc\" data-clk=\"link\">바로가기</a> </div> </div> </div> </div> <div class=\"corp_area\" data-clk-prefix=\"plc\"> <h3 class=\"blind\">네이버 정책 및 약관</h3> <ul class=\"list_corp\"> <li class=\"corp_item\"><a href=\"https://www.navercorp.com\" data-clk=\"intronhn\">회사소개</a></li> <li class=\"corp_item\"><a href=\"https://recruit.navercorp.com/naver/recruitMain\" data-clk=\"recruit\">인재채용</a></li> <li class=\"corp_item\"><a href=\"https://www.navercorp.com/naver/proposalGuide\" data-clk=\"contact\">제휴제안</a></li> <li class=\"corp_item\"><a href=\"/policy/service.html\" data-clk=\"service\">이용약관</a></li> <li class=\"corp_item\"><a href=\"/policy/privacy.html\" data-clk=\"privacy\"><strong>개인정보처리방침</strong></a></li> <li class=\"corp_item\"><a href=\"/policy/youthpolicy.html\" data-clk=\"youth\">청소년보호정책</a></li> <li class=\"corp_item\"><a href=\"/policy/spamcheck.html\" data-clk=\"policy\">네이버 정책</a></li> <li class=\"corp_item\"><a href=\"https://help.naver.com/\" data-clk=\"helpcenter\">고객센터</a></li> </ul> <address class=\"addr\"><a href=\"https://www.navercorp.com\" target=\"_blank\" data-clk=\"nhn\">ⓒ NAVER Corp.</a></address> </div> </div> </div> </div> <div id=\"adscript\" style=\"display:none\"></div> </body> </html>\\n'"
      ]
     },
     "execution_count": 63,
     "metadata": {},
     "output_type": "execute_result"
    }
   ],
   "source": [
    "import requests\n",
    "resp = requests.get('http://naver.com')\n",
    "resp.text"
   ]
  },
  {
   "cell_type": "code",
   "execution_count": 64,
   "metadata": {},
   "outputs": [],
   "source": [
    "import math"
   ]
  },
  {
   "cell_type": "code",
   "execution_count": 65,
   "metadata": {},
   "outputs": [
    {
     "data": {
      "text/plain": [
       "3.141592653589793"
      ]
     },
     "execution_count": 65,
     "metadata": {},
     "output_type": "execute_result"
    }
   ],
   "source": [
    "math.pi"
   ]
  },
  {
   "cell_type": "code",
   "execution_count": 66,
   "metadata": {},
   "outputs": [
    {
     "data": {
      "text/plain": [
       "0.8623188722876839"
      ]
     },
     "execution_count": 66,
     "metadata": {},
     "output_type": "execute_result"
    }
   ],
   "source": [
    "math.cos(100)"
   ]
  },
  {
   "cell_type": "code",
   "execution_count": 69,
   "metadata": {},
   "outputs": [],
   "source": [
    "from math import pi\n",
    "from math import cos"
   ]
  },
  {
   "cell_type": "code",
   "execution_count": 70,
   "metadata": {},
   "outputs": [
    {
     "data": {
      "text/plain": [
       "0.8623188722876839"
      ]
     },
     "execution_count": 70,
     "metadata": {},
     "output_type": "execute_result"
    }
   ],
   "source": [
    "cos(100)"
   ]
  },
  {
   "cell_type": "code",
   "execution_count": 73,
   "metadata": {},
   "outputs": [
    {
     "data": {
      "text/plain": [
       "2.718281828459045"
      ]
     },
     "execution_count": 73,
     "metadata": {},
     "output_type": "execute_result"
    }
   ],
   "source": [
    "from math import *\n"
   ]
  },
  {
   "cell_type": "code",
   "execution_count": 76,
   "metadata": {},
   "outputs": [
    {
     "data": {
      "text/plain": [
       "0.8623188722876839"
      ]
     },
     "execution_count": 76,
     "metadata": {},
     "output_type": "execute_result"
    }
   ],
   "source": [
    "import math as m \n",
    "m.exp(3)\n",
    "m.cos(100)"
   ]
  },
  {
   "cell_type": "markdown",
   "metadata": {},
   "source": [
    "# 클래스와 오브젝트에 대해서\n",
    "인간일는 타입(class) :attribute/method\n",
    "홍길동, 임걱정 등 실제로 존자해나는 객체(object)\n",
    "\n",
    "# list : 이라는 타입 (class)\n",
    "[1,2,3] = object(객체) : 실제 존재하는 객체임!!"
   ]
  },
  {
   "cell_type": "markdown",
   "metadata": {},
   "source": [
    "# 클래스 정의 및 사용하기\n",
    " - class란 무엇인가?\n",
    " : 실세계의 것을 모델링하여 속성(attribute) + 동작(method)를 갖는 데이터 타입\n",
    " : python에서의 string, int,list,dic모두가 다 클래스로 존재한다\n",
    " : ex) 학생이라는 클래스를 만든다면, 학생을 나타내는 속성과 학생이 행하는 행동을 함께 정의할 수 있다!\n",
    " : 따라서, 다루고자 하는 데이터(변수) 와 데이터를 다루는 연산(함수)를 하나로 캡슐화(encapsulation)하여 클래스로 표현\n",
    " : 모델링에서 중요시 하는 속성에 따라 클래스의 속성과 행동이 각각 달라짐. "
   ]
  },
  {
   "cell_type": "code",
   "execution_count": 1,
   "metadata": {},
   "outputs": [
    {
     "name": "stdout",
     "output_type": "stream",
     "text": [
      "[1, 2, 3, 4, 5]\n"
     ]
    }
   ],
   "source": [
    "a = [1,2,3,4]\n",
    "a.append(5)\n",
    "print(a)"
   ]
  },
  {
   "cell_type": "code",
   "execution_count": 2,
   "metadata": {},
   "outputs": [],
   "source": [
    "class Person:#클래스를 생성하려면 미리 객체의 모체가 되는 class를 선언해야함\n",
    "    pass\n",
    "    "
   ]
  },
  {
   "cell_type": "code",
   "execution_count": 3,
   "metadata": {},
   "outputs": [
    {
     "name": "stdout",
     "output_type": "stream",
     "text": [
      "<class '__main__.Person'> <class '__main__.Person'>\n",
      "<class 'list'> <class 'list'>\n"
     ]
    }
   ],
   "source": [
    "bob = Person()\n",
    "cathy = Person()\n",
    "\n",
    "a=list()\n",
    "b=list()\n",
    "\n",
    "print(type(bob),type(cathy))\n",
    "print(type(a), type(b))"
   ]
  },
  {
   "cell_type": "markdown",
   "metadata": {},
   "source": [
    "# 생성자(_init__)의 이해\n",
    "\n"
   ]
  },
  {
   "cell_type": "code",
   "execution_count": 8,
   "metadata": {},
   "outputs": [
    {
     "name": "stdout",
     "output_type": "stream",
     "text": [
      "<__main__.Person object at 0x03DFE868> is generated\n",
      "<__main__.Person object at 0x03DFE820> is generated\n"
     ]
    },
    {
     "data": {
      "text/plain": [
       "('kate', 10)"
      ]
     },
     "execution_count": 8,
     "metadata": {},
     "output_type": "execute_result"
    }
   ],
   "source": [
    "class Person:\n",
    "    def __init__(self):\n",
    "        print(self,'is generated')\n",
    "        self.name = 'kate'\n",
    "        self.age = 10\n",
    "        \n",
    "p1 = Person()\n",
    "p2 = Person()\n",
    "p1.name, p1.age\n",
    "p2.name, p2.age"
   ]
  },
  {
   "cell_type": "code",
   "execution_count": 14,
   "metadata": {},
   "outputs": [
    {
     "name": "stdout",
     "output_type": "stream",
     "text": [
      "<__main__.Person object at 0x03DFE9B8> is generated\n",
      "<__main__.Person object at 0x03DFECB8> is generated\n",
      "<__main__.Person object at 0x03DFEB68> is generated\n",
      "Bob 30\n",
      "Kate 20\n",
      "Aaron 50\n"
     ]
    }
   ],
   "source": [
    "class Person:\n",
    "    def __init__(self,name,age):\n",
    "        print(self,'is generated')\n",
    "        self.name = name\n",
    "        self.age = age\n",
    "\n",
    "p1 = Person('Bob',30)\n",
    "p2 = Person('Kate', 20)\n",
    "p3 = Person('Aaron',50)\n",
    "\n",
    "print(p1.name, p1.age)\n",
    "print(p2.name, p2.age)\n",
    "print(p3.name, p3.age)"
   ]
  },
  {
   "cell_type": "code",
   "execution_count": 19,
   "metadata": {},
   "outputs": [
    {
     "name": "stdout",
     "output_type": "stream",
     "text": [
      "<__main__.Person object at 0x03DFE9D0>\n",
      "<__main__.Person object at 0x03DFED48>\n",
      "self: <__main__.Person object at 0x03DFE9D0>\n",
      "Aaron 은 잠을 잡니다\n",
      "self: <__main__.Person object at 0x03DFED48>\n",
      "Bob 은 잠을 잡니다\n"
     ]
    }
   ],
   "source": [
    "#[self keyword]\n",
    "class Person:\n",
    "    def __init__(self,name,age):\n",
    "        self.name = name\n",
    "        self.age = age\n",
    "    \n",
    "    def sleep(self):\n",
    "        print('self:', self)\n",
    "        print(self.name, '은 잠을 잡니다')\n",
    "a = Person('Aaron', 20)\n",
    "b = Person('Bob', 30)\n",
    "\n",
    "print(a)\n",
    "print(b)\n",
    "\n",
    "a.sleep()\n",
    "b.sleep()"
   ]
  },
  {
   "cell_type": "markdown",
   "metadata": {},
   "source": [
    "# method & static method 정의!\n",
    "- method : {obj}.{method}()"
   ]
  },
  {
   "cell_type": "code",
   "execution_count": 24,
   "metadata": {},
   "outputs": [
    {
     "name": "stdout",
     "output_type": "stream",
     "text": [
      "현재값은: 0\n",
      "현재값은: 2\n",
      "현재값은: 0\n",
      "현재값은: 0\n"
     ]
    }
   ],
   "source": [
    "#1. 숫자를 하나 증가\n",
    "#2. 숫자를 0으로 초기화\n",
    "\n",
    "class Counter:\n",
    "    def __init__(self) :\n",
    "        self.num = 0\n",
    "    def increment(self):\n",
    "        self.num += 1\n",
    "    def reset(self):\n",
    "        self.num = 0\n",
    "        \n",
    "    def print_current_value(self):\n",
    "        print('현재값은:', self.num)\n",
    "        \n",
    "c1 = Counter()\n",
    "c1.print_current_value()\n",
    "c1.increment()\n",
    "c1.increment()\n",
    "c1.print_current_value()\n",
    "\n",
    "c1.reset()\n",
    "c1.print_current_value()\n",
    "\n",
    "c2 = Counter()\n",
    "c2.increment()\n",
    "c2.print_current_value()\n",
    "\n"
   ]
  },
  {
   "cell_type": "code",
   "execution_count": 28,
   "metadata": {},
   "outputs": [
    {
     "data": {
      "text/plain": [
       "30"
      ]
     },
     "execution_count": 28,
     "metadata": {},
     "output_type": "execute_result"
    }
   ],
   "source": [
    "class Math :\n",
    "    @staticmethod\n",
    "    def add(a,b) :\n",
    "        return a+b\n",
    "    @staticmethod\n",
    "    def multiply(a,b) :\n",
    "        return a*b\n",
    "\n",
    "Math.add(5,7)\n",
    "Math.multiply(5,6)"
   ]
  },
  {
   "cell_type": "markdown",
   "metadata": {},
   "source": [
    "# class inheritance\n",
    "정의하지않고 그냥 상속받을 수 있는것! \n",
    "parent, super,base => child,sub,drived class\n",
    "의미 : is-a"
   ]
  },
  {
   "cell_type": "code",
   "execution_count": 33,
   "metadata": {},
   "outputs": [
    {
     "name": "stdout",
     "output_type": "stream",
     "text": [
      "bob은 BBQ을 먹습니다.\n",
      "bob은 30분 동안 잠을 잡니다\n",
      "bob은 60분동안 일합니다\n"
     ]
    }
   ],
   "source": [
    "class Person:\n",
    "    def __init__(self,name,age):\n",
    "        self.name = name\n",
    "        self.age = age\n",
    "    def eat(self, food):\n",
    "        print('{}은 {}을 먹습니다.'.format(self.name,food))\n",
    "    def sleep(self,minute):\n",
    "        print('{}은 {}분 동안 잠을 잡니다'.format(self.name,minute))\n",
    "    def work(self, minute):\n",
    "        print(\"{}은 {}분동안 일합니다\".format(self.name,minute))\n",
    "        \n",
    "class Student(Person):\n",
    "    def __init__(self,name,age):\n",
    "        self.name=name\n",
    "        self.age=age\n",
    "class Employee(Person):\n",
    "    def __init__(self,name,age):\n",
    "        self.name=name\n",
    "        self.age=age\n",
    "    \n",
    "bob = Student('bob', 25)\n",
    "bob.eat('BBQ')\n",
    "bob.sleep(30)\n",
    "bob.work(60)"
   ]
  },
  {
   "cell_type": "markdown",
   "metadata": {},
   "source": [
    "# method overrid 부모클래스를 다시 정의!"
   ]
  },
  {
   "cell_type": "code",
   "execution_count": 34,
   "metadata": {},
   "outputs": [
    {
     "name": "stdout",
     "output_type": "stream",
     "text": [
      "bob은 BBQ을 먹습니다.\n",
      "bob은 30분 동안 잠을 잡니다\n",
      "bob은 60분동안 study합니다\n"
     ]
    }
   ],
   "source": [
    "class Person:\n",
    "    def __init__(self,name,age):\n",
    "        self.name = name\n",
    "        self.age = age\n",
    "    def eat(self, food):\n",
    "        print('{}은 {}을 먹습니다.'.format(self.name,food))\n",
    "    def sleep(self,minute):\n",
    "        print('{}은 {}분 동안 잠을 잡니다'.format(self.name,minute))\n",
    "    def work(self, minute):\n",
    "        print(\"{}은 {}분동안 일합니다\".format(self.name,minute))\n",
    "        \n",
    "class Student(Person):\n",
    "    def __init__(self,name,age):\n",
    "        self.name=name\n",
    "        self.age=age\n",
    "    def work(self, minute):\n",
    "        print(\"{}은 {}분동안 study합니다\".format(self.name,minute))\n",
    "   \n",
    "class Employee(Person):\n",
    "    def __init__(self,name,age):\n",
    "        self.name=name\n",
    "        self.age=age\n",
    "    \n",
    "bob = Student('bob', 25)\n",
    "bob.eat('BBQ')\n",
    "bob.sleep(30)\n",
    "bob.work(60)"
   ]
  },
  {
   "cell_type": "code",
   "execution_count": 36,
   "metadata": {},
   "outputs": [
    {
     "name": "stdout",
     "output_type": "stream",
     "text": [
      "bob은 BBQ을 먹습니다.\n",
      "bob은 30분 동안 잠을 잡니다\n",
      "bob은 60분동안 준비를 합니다\n",
      "bob은 60분동안 study합니다\n"
     ]
    }
   ],
   "source": [
    "#super 부모클래스를 다시 가져오고 derived 껏도 합치는 기능\n",
    "class Person:\n",
    "    def __init__(self,name,age):\n",
    "        self.name = name\n",
    "        self.age = age\n",
    "    def eat(self, food):\n",
    "        print('{}은 {}을 먹습니다.'.format(self.name,food))\n",
    "    def sleep(self,minute):\n",
    "        print('{}은 {}분 동안 잠을 잡니다'.format(self.name,minute))\n",
    "    def work(self, minute):\n",
    "        print(\"{}은 {}분동안 준비를 합니다\".format(self.name,minute))\n",
    "        \n",
    "class Student(Person):\n",
    "    def __init__(self,name,age):\n",
    "        self.name=name\n",
    "        self.age=age\n",
    "    def work(self, minute):\n",
    "        super().work(minute)\n",
    "        print(\"{}은 {}분동안 study합니다\".format(self.name,minute))\n",
    "   \n",
    "class Employee(Person):\n",
    "    def __init__(self,name,age):\n",
    "        self.name=name\n",
    "        self.age=age\n",
    "    \n",
    "bob = Student('bob', 25)\n",
    "bob.eat('BBQ')\n",
    "bob.sleep(30)\n",
    "bob.work(60)"
   ]
  },
  {
   "cell_type": "markdown",
   "metadata": {},
   "source": [
    "# special method 클래스 연산자 재정의 이해 및 사용\n"
   ]
  },
  {
   "cell_type": "code",
   "execution_count": null,
   "metadata": {},
   "outputs": [],
   "source": [
    "#point\n",
    "#2치원 자표평면 각 점(x,y)\n",
    "#연산\n",
    "#두점의 덧셈, 뺄셈(1,2) + (3,4) = (4,6)\n",
    "#한점과 숫자의 곱셈(1,2)*3 = (3,6)\n",
    "#그 점의 길이(0,0) 부터의 거리\n",
    "#x,y 값 가져오기\n",
    "#출력하기"
   ]
  },
  {
   "cell_type": "code",
   "execution_count": 42,
   "metadata": {},
   "outputs": [
    {
     "name": "stdout",
     "output_type": "stream",
     "text": [
      "(3,4)\n",
      "(2,7)\n",
      "(5,11)\n",
      "(5,11)\n",
      "(9,12)\n",
      "225\n",
      "3\n"
     ]
    }
   ],
   "source": [
    "class Point:\n",
    "    def __init__(self,x,y):\n",
    "        self.x = x\n",
    "        self.y = y\n",
    "    def __add__(self,pt):\n",
    "        new_x = self.x + pt.x\n",
    "        new_y = self.y + pt.y\n",
    "        return Point(new_x, new_y)\n",
    "    \n",
    "    def __sub__(self,pt):\n",
    "        new_x = self.x + pt.x\n",
    "        new_y = self.y + pt.y\n",
    "        return Point(new_x, new_y)\n",
    "    def __mul__(self,factor):\n",
    "        return Point(self.x*factor, self.y*factor)\n",
    "    \n",
    "    def __len__(self):\n",
    "        return self.x**2 + self.y**2\n",
    "    \n",
    "    def __getitem__(self,index):\n",
    "        if index == 0:\n",
    "            return self.x\n",
    "        elif index ==1:\n",
    "            return self.y\n",
    "        else:\n",
    "            return -1\n",
    "        \n",
    "    def __str__(self):\n",
    "        return('({},{})'.format(self.x, self.y))\n",
    "p1 = Point(3,4)\n",
    "p2 = Point(2,7)\n",
    "\n",
    "a= 1+2\n",
    "p3 = p1+p2\n",
    "p4 = p1 - p2\n",
    "p5 = p1*3\n",
    "print(p1)\n",
    "print(p2)\n",
    "print(p3)\n",
    "print(p4)\n",
    "print(p5)\n",
    "print(len(p5))\n",
    "print(p1[0])\n",
    "\n",
    "\n",
    "#emulating numeric type 참고하기!!\n",
    "#emulating container type"
   ]
  },
  {
   "cell_type": "markdown",
   "metadata": {},
   "source": [
    "# 연습문제\n",
    "\n",
    "복소수 클래스를 정의 해봅시다.\n",
    "덧셈, 뺄셈, 곱셈 연산자 지원\n",
    "길이(복소수의 크기)지원\n",
    "복소수 출력 '1+4j'와 같이 표현\n",
    "비교 연산 ==, !=지원\n",
    "절대값 지원"
   ]
  },
  {
   "cell_type": "code",
   "execution_count": 4,
   "metadata": {},
   "outputs": [
    {
     "name": "stdout",
     "output_type": "stream",
     "text": [
      "-7+11j\n"
     ]
    },
    {
     "data": {
      "text/plain": [
       "True"
      ]
     },
     "execution_count": 4,
     "metadata": {},
     "output_type": "execute_result"
    }
   ],
   "source": [
    "import math\n",
    "class ComplexNumber:\n",
    "    def __init__(self,real,img):\n",
    "        self.real = real\n",
    "        self.img = img\n",
    "    def __add__(self,cn):\n",
    "        return ComplexNumber(self.real + cn.real, self.img + cn.img)\n",
    "    def __sub__(self,cn):\n",
    "        return ComplexNumber(self.real - cn.real, self.img - cn.img)\n",
    "    def __mul__(self,x) :\n",
    "        if type(x) == int:\n",
    "            return ComplexNumber(self.real*x, self.img*x)\n",
    "        elif type(x) == ComplexNumber:\n",
    "            return ComplexNumber(self.real*x.real-self.img*x.img, self.real*x.img + self.img*x.real)\n",
    "            #(a+bj)*(c+dj) = (ac-bd)+(ad+bc)j\n",
    "    def __str__(self):\n",
    "        if self.img >=0:\n",
    "            return '{}+{}j'.format(self.real, self.img)\n",
    "        else:\n",
    "            return '{} {}j'.format(self.real, self.img)\n",
    "    \n",
    "    def __eq__(self,cn):\n",
    "        return self.real ==cn.real and self.img == cn.img\n",
    "    \n",
    "    def __ne__(self,cn):\n",
    "        return not(self.real ==cn.real and self.img == cn.img)\n",
    "\n",
    "    def __abs__(self):\n",
    "        return math.sqrt(self.real**2+self.img**2)\n",
    "    def __len__(self):\n",
    "        return self.real**2+self.img**2\n",
    "a = ComplexNumber(1,2)\n",
    "b = ComplexNumber(3,5)\n",
    "\n",
    "print ( a*b )\n",
    "a!=b    "
   ]
  },
  {
   "cell_type": "markdown",
   "metadata": {},
   "source": [
    "# 정규표현식(re) \n",
    "regular expression/ 특정한 패턴과 일치하는 문자열을 검색, 치환, 제거하는 기능을 지원\n",
    "ex. 이메일 형식 판별, 전화번호 형식 판별, 숫자로만 이루어진 문자열\n",
    "# raw string\n",
    ": 문자열 앞에 r이 붙으면 해당 문자열이 구성된 그대로 문자열을 변환"
   ]
  },
  {
   "cell_type": "code",
   "execution_count": 5,
   "metadata": {},
   "outputs": [
    {
     "name": "stdout",
     "output_type": "stream",
     "text": [
      "abced\n",
      "\n",
      "abcdef\\n\n"
     ]
    }
   ],
   "source": [
    "a = 'abced\\n' #escape\n",
    "print(a)\n",
    "b = r'abcdef\\n'\n",
    "print(b)"
   ]
  },
  {
   "cell_type": "markdown",
   "metadata": {},
   "source": [
    "# 기본패턴\n",
    "\\w : 문자와 일치\n",
    "\\s : 공백문자와 일치\n",
    "\\t,\\n,\\r - tab, newline, return\n",
    "\\d : 숫자 character와 일치\n",
    "^ : 시작, $ : 끝 각각 문자열의 시작과 끝을 의미\n",
    "\\ : 스폐셜한 의미가 없어짐. \n",
    "참고 == https://docs.python.org/3/library/re.html"
   ]
  },
  {
   "cell_type": "code",
   "execution_count": null,
   "metadata": {},
   "outputs": [],
   "source": [
    "# search method\n",
    "\n",
    "import re"
   ]
  },
  {
   "cell_type": "code",
   "execution_count": 11,
   "metadata": {},
   "outputs": [
    {
     "ename": "AttributeError",
     "evalue": "'NoneType' object has no attribute 'start'",
     "output_type": "error",
     "traceback": [
      "\u001b[1;31m---------------------------------------------------------------------------\u001b[0m",
      "\u001b[1;31mAttributeError\u001b[0m                            Traceback (most recent call last)",
      "\u001b[1;32m<ipython-input-11-40fe2cec7c12>\u001b[0m in \u001b[0;36m<module>\u001b[1;34m\u001b[0m\n\u001b[0;32m      2\u001b[0m \u001b[0mm\u001b[0m \u001b[1;33m=\u001b[0m \u001b[0mre\u001b[0m\u001b[1;33m.\u001b[0m\u001b[0msearch\u001b[0m\u001b[1;33m(\u001b[0m\u001b[1;34mr'abc'\u001b[0m\u001b[1;33m,\u001b[0m\u001b[1;34m'123abedf'\u001b[0m\u001b[1;33m)\u001b[0m\u001b[1;33m\u001b[0m\u001b[1;33m\u001b[0m\u001b[0m\n\u001b[0;32m      3\u001b[0m \u001b[0mtype\u001b[0m\u001b[1;33m(\u001b[0m\u001b[0mm\u001b[0m\u001b[1;33m)\u001b[0m\u001b[1;33m\u001b[0m\u001b[1;33m\u001b[0m\u001b[0m\n\u001b[1;32m----> 4\u001b[1;33m \u001b[0mprint\u001b[0m\u001b[1;33m(\u001b[0m\u001b[0mm\u001b[0m\u001b[1;33m.\u001b[0m\u001b[0mstart\u001b[0m\u001b[1;33m(\u001b[0m\u001b[1;33m)\u001b[0m\u001b[1;33m)\u001b[0m\u001b[1;33m\u001b[0m\u001b[1;33m\u001b[0m\u001b[0m\n\u001b[0m\u001b[0;32m      5\u001b[0m \u001b[0mprint\u001b[0m\u001b[1;33m(\u001b[0m\u001b[0mm\u001b[0m\u001b[1;33m.\u001b[0m\u001b[0mend\u001b[0m\u001b[1;33m(\u001b[0m\u001b[1;33m)\u001b[0m\u001b[1;33m)\u001b[0m\u001b[1;33m\u001b[0m\u001b[1;33m\u001b[0m\u001b[0m\n\u001b[0;32m      6\u001b[0m \u001b[0mprint\u001b[0m\u001b[1;33m(\u001b[0m\u001b[0mm\u001b[0m\u001b[1;33m.\u001b[0m\u001b[0mgroup\u001b[0m\u001b[1;33m(\u001b[0m\u001b[1;33m)\u001b[0m\u001b[1;33m)\u001b[0m\u001b[1;33m\u001b[0m\u001b[1;33m\u001b[0m\u001b[0m\n",
      "\u001b[1;31mAttributeError\u001b[0m: 'NoneType' object has no attribute 'start'"
     ]
    }
   ],
   "source": [
    "import re\n",
    "m = re.search(r'abc','123abcedf')\n",
    "type(m)\n",
    "print(m.start())\n",
    "print(m.end())\n",
    "print(m.group())"
   ]
  },
  {
   "cell_type": "code",
   "execution_count": 15,
   "metadata": {},
   "outputs": [
    {
     "data": {
      "text/plain": [
       "<re.Match object; span=(1, 5), match='#$AB'>"
      ]
     },
     "execution_count": 15,
     "metadata": {},
     "output_type": "execute_result"
    }
   ],
   "source": [
    "import re\n",
    "re.search(r'\\d\\d\\d\\w', '112abcedf119')\n",
    "m = re.search(r'..\\w\\w', '@#$ABCDabcd')\n",
    "m"
   ]
  },
  {
   "cell_type": "code",
   "execution_count": null,
   "metadata": {},
   "outputs": [],
   "source": [
    "#metacharacters(메타케릭터)\n",
    "\n",
    "[] : 내부의 메타캐릭터는 캐릭터 자체를 나타냄\n",
    "[abck] : a.b.c.or k\n",
    "[abc.^] : a or b or c or.or^\n",
    "[a-d] : a부터 d까지\n",
    "[0-9] : 모든숫자\n",
    "[a-z] : 모든 소문자\n",
    "[A-Z] : 모든 대문자\n",
    "[a-zA-Z0-9] : 모든 알파벳 문자 및 숫자\n",
    "[^0-9]: ^가 맨앞에 사용되는 경우 해당 문자패턴이 아닌 것과 매칭"
   ]
  },
  {
   "cell_type": "code",
   "execution_count": 16,
   "metadata": {},
   "outputs": [
    {
     "data": {
      "text/plain": [
       "<re.Match object; span=(0, 3), match='cat'>"
      ]
     },
     "execution_count": 16,
     "metadata": {},
     "output_type": "execute_result"
    }
   ],
   "source": [
    "re.search(r'[cbm]at','cat')"
   ]
  },
  {
   "cell_type": "code",
   "execution_count": 17,
   "metadata": {},
   "outputs": [
    {
     "data": {
      "text/plain": [
       "<re.Match object; span=(0, 5), match='7haha'>"
      ]
     },
     "execution_count": 17,
     "metadata": {},
     "output_type": "execute_result"
    }
   ],
   "source": [
    "re.search(r'[0-9]haha','7hahah')"
   ]
  },
  {
   "cell_type": "code",
   "execution_count": 18,
   "metadata": {},
   "outputs": [
    {
     "data": {
      "text/plain": [
       "<re.Match object; span=(0, 5), match='caron'>"
      ]
     },
     "execution_count": 18,
     "metadata": {},
     "output_type": "execute_result"
    }
   ],
   "source": [
    "re.search(r'[abc.^]aron','caron')"
   ]
  },
  {
   "cell_type": "code",
   "execution_count": 19,
   "metadata": {},
   "outputs": [
    {
     "data": {
      "text/plain": [
       "<re.Match object; span=(0, 5), match='#aron'>"
      ]
     },
     "execution_count": 19,
     "metadata": {},
     "output_type": "execute_result"
    }
   ],
   "source": [
    "re.search(r'[^abc]aron', '#aron')"
   ]
  },
  {
   "cell_type": "code",
   "execution_count": 23,
   "metadata": {},
   "outputs": [
    {
     "data": {
      "text/plain": [
       "<re.Match object; span=(6, 10), match='land'>"
      ]
     },
     "execution_count": 23,
     "metadata": {},
     "output_type": "execute_result"
    }
   ],
   "source": [
    "re.search(r'\\Sand','apple land banana')"
   ]
  },
  {
   "cell_type": "code",
   "execution_count": 24,
   "metadata": {},
   "outputs": [
    {
     "data": {
      "text/plain": [
       "<re.Match object; span=(0, 4), match='.and'>"
      ]
     },
     "execution_count": 24,
     "metadata": {},
     "output_type": "execute_result"
    }
   ],
   "source": [
    "re.search(r'\\.and','.and')"
   ]
  },
  {
   "cell_type": "code",
   "execution_count": 25,
   "metadata": {},
   "outputs": [
    {
     "data": {
      "text/plain": [
       "<re.Match object; span=(0, 3), match='pig'>"
      ]
     },
     "execution_count": 25,
     "metadata": {},
     "output_type": "execute_result"
    }
   ],
   "source": [
    "re.search(r'p.g','pig')"
   ]
  },
  {
   "cell_type": "markdown",
   "metadata": {},
   "source": [
    "# 반복패턴\n",
    "\n",
    "패턴 뒤에 위치하는 *,+,?는 해당 패턴이 반복적으로 존재하는지 검사\n",
    "'+' -> 1번 이상의 패턴이 발생\n",
    "'*' -> 0번 이상의 패턴이 발생\n",
    "'?' -> 0 혹은 1번의 패턴이 발생\n",
    "\n",
    "반복을 패턴의 경우 greedy하게 검색 함, 즉 가능한 많은 부분이 매칭되도록 함.\n",
    "ex) .eg. a[bcd]*b 패턴을 abcddccd에서 검색하는 경우\n",
    "ab,abcb,abcbdccb + abcbdccb최대한 많은 부분이 매칭된 애가 나옴!\n",
    "\n"
   ]
  },
  {
   "cell_type": "code",
   "execution_count": 27,
   "metadata": {},
   "outputs": [
    {
     "data": {
      "text/plain": [
       "<re.Match object; span=(0, 8), match='abcbdccb'>"
      ]
     },
     "execution_count": 27,
     "metadata": {},
     "output_type": "execute_result"
    }
   ],
   "source": [
    "import re\n",
    "re.search(r'a[bcd]*b','abcbdccb')"
   ]
  },
  {
   "cell_type": "code",
   "execution_count": 28,
   "metadata": {},
   "outputs": [
    {
     "data": {
      "text/plain": [
       "<re.Match object; span=(0, 6), match='banana'>"
      ]
     },
     "execution_count": 28,
     "metadata": {},
     "output_type": "execute_result"
    }
   ],
   "source": [
    "re. search(r'b\\w+a','banana')"
   ]
  },
  {
   "cell_type": "code",
   "execution_count": 30,
   "metadata": {},
   "outputs": [
    {
     "data": {
      "text/plain": [
       "<re.Match object; span=(1, 3), match='ii'>"
      ]
     },
     "execution_count": 30,
     "metadata": {},
     "output_type": "execute_result"
    }
   ],
   "source": [
    "re.search(r'i+','piigiii')"
   ]
  },
  {
   "cell_type": "code",
   "execution_count": 32,
   "metadata": {},
   "outputs": [],
   "source": [
    "re.search(r'pi+g','pg')"
   ]
  },
  {
   "cell_type": "code",
   "execution_count": 31,
   "metadata": {},
   "outputs": [
    {
     "data": {
      "text/plain": [
       "<re.Match object; span=(0, 3), match='pig'>"
      ]
     },
     "execution_count": 31,
     "metadata": {},
     "output_type": "execute_result"
    }
   ],
   "source": [
    "re.search(r'pi*g', 'pig')"
   ]
  },
  {
   "cell_type": "code",
   "execution_count": 33,
   "metadata": {},
   "outputs": [
    {
     "data": {
      "text/plain": [
       "<re.Match object; span=(0, 5), match='https'>"
      ]
     },
     "execution_count": 33,
     "metadata": {},
     "output_type": "execute_result"
    }
   ],
   "source": [
    "re.search(r'https?','https://www.naver.com')"
   ]
  },
  {
   "cell_type": "code",
   "execution_count": 34,
   "metadata": {},
   "outputs": [
    {
     "data": {
      "text/plain": [
       "<re.Match object; span=(2, 6), match='bana'>"
      ]
     },
     "execution_count": 34,
     "metadata": {},
     "output_type": "execute_result"
    }
   ],
   "source": [
    "# ^*, *$\n",
    "\n",
    "re.search(r'b\\w+a','cabana')"
   ]
  },
  {
   "cell_type": "code",
   "execution_count": 35,
   "metadata": {},
   "outputs": [],
   "source": [
    "re.search(r'^b\\w+a','cabana')"
   ]
  },
  {
   "cell_type": "code",
   "execution_count": 36,
   "metadata": {},
   "outputs": [
    {
     "data": {
      "text/plain": [
       "<re.Match object; span=(2, 6), match='bana'>"
      ]
     },
     "execution_count": 36,
     "metadata": {},
     "output_type": "execute_result"
    }
   ],
   "source": [
    "re.search(r'b\\w+a$','cabana')"
   ]
  },
  {
   "cell_type": "code",
   "execution_count": 39,
   "metadata": {},
   "outputs": [
    {
     "name": "stdout",
     "output_type": "stream",
     "text": [
      "test\n",
      "gmail.com\n",
      "test@gmail.com\n"
     ]
    }
   ],
   "source": [
    "#grouping : ()를 사용하여~\n",
    "\n",
    "m = re.search(r'(\\w+)@(.+)','test@gmail.com')\n",
    "print(m.group(1))\n",
    "print(m.group(2))\n",
    "print(m.group(0))"
   ]
  },
  {
   "cell_type": "code",
   "execution_count": 42,
   "metadata": {},
   "outputs": [
    {
     "data": {
      "text/plain": [
       "<re.Match object; span=(0, 5), match='piiig'>"
      ]
     },
     "execution_count": 42,
     "metadata": {},
     "output_type": "execute_result"
    }
   ],
   "source": [
    "# {} :  반복의 횟수명시하고싶어!\n",
    "\n",
    "re.search('pi{3,5}g','piiig')"
   ]
  },
  {
   "cell_type": "code",
   "execution_count": null,
   "metadata": {},
   "outputs": [],
   "source": [
    "#non-greedy way\n",
    "#*,+,? => greddy\n",
    "#:: *? +?만 사용가능!"
   ]
  },
  {
   "cell_type": "code",
   "execution_count": 43,
   "metadata": {},
   "outputs": [
    {
     "data": {
      "text/plain": [
       "<re.Match object; span=(0, 17), match='<html>haha</html>'>"
      ]
     },
     "execution_count": 43,
     "metadata": {},
     "output_type": "execute_result"
    }
   ],
   "source": [
    "re.search(r'<.+>', '<html>haha</html>')"
   ]
  },
  {
   "cell_type": "code",
   "execution_count": 44,
   "metadata": {},
   "outputs": [
    {
     "data": {
      "text/plain": [
       "<re.Match object; span=(0, 6), match='<html>'>"
      ]
     },
     "execution_count": 44,
     "metadata": {},
     "output_type": "execute_result"
    }
   ],
   "source": [
    "re.search(r'<.+?>', '<html>haha</html>')"
   ]
  },
  {
   "cell_type": "code",
   "execution_count": 45,
   "metadata": {},
   "outputs": [
    {
     "data": {
      "text/plain": [
       "<re.Match object; span=(0, 3), match='aaa'>"
      ]
     },
     "execution_count": 45,
     "metadata": {},
     "output_type": "execute_result"
    }
   ],
   "source": [
    "#{}?\n",
    "\n",
    "re.search(r'a{3,5}?','aaaaa')"
   ]
  },
  {
   "cell_type": "code",
   "execution_count": 47,
   "metadata": {},
   "outputs": [],
   "source": [
    "#match :  검색하는 것. ::search와 유사, but 시작부터 비교하여 패턴이 있는지 확인. so, 시작부터 없으면 \"none\"\n",
    "re.match(r'\\d\\d\\d','my number is 123')"
   ]
  },
  {
   "cell_type": "code",
   "execution_count": 46,
   "metadata": {},
   "outputs": [
    {
     "data": {
      "text/plain": [
       "<re.Match object; span=(0, 3), match='123'>"
      ]
     },
     "execution_count": 46,
     "metadata": {},
     "output_type": "execute_result"
    }
   ],
   "source": [
    "re.match(r'\\d\\d\\d','123 is my number')"
   ]
  },
  {
   "cell_type": "code",
   "execution_count": 48,
   "metadata": {},
   "outputs": [
    {
     "data": {
      "text/plain": [
       "<re.Match object; span=(0, 3), match='123'>"
      ]
     },
     "execution_count": 48,
     "metadata": {},
     "output_type": "execute_result"
    }
   ],
   "source": [
    "re.search(r'^\\d\\d\\d','123 is my number')"
   ]
  },
  {
   "cell_type": "code",
   "execution_count": 49,
   "metadata": {},
   "outputs": [
    {
     "data": {
      "text/plain": [
       "['test@gmail.com', 'test2@gmail.com']"
      ]
     },
     "execution_count": 49,
     "metadata": {},
     "output_type": "execute_result"
    }
   ],
   "source": [
    "#findall : 매칭되는 전체의 패턴\n",
    "re.findall(r'[\\w-]+@[\\w.]+','test@gmail.com haha test2@gmail.com nice test test')\n"
   ]
  },
  {
   "cell_type": "code",
   "execution_count": 51,
   "metadata": {},
   "outputs": [
    {
     "data": {
      "text/plain": [
       "'great haha test2@gmail.com nice test test'"
      ]
     },
     "execution_count": 51,
     "metadata": {},
     "output_type": "execute_result"
    }
   ],
   "source": [
    "#sub : 치환, 특정한 문자열을 찾아서 다른 애들로 바꾸는것\n",
    "re.sub(r'[\\w-]+@[\\w.]+','great', 'test@gmail.com haha test2@gmail.com nice test test', count=1)"
   ]
  },
  {
   "cell_type": "code",
   "execution_count": 53,
   "metadata": {},
   "outputs": [
    {
     "data": {
      "text/plain": [
       "<re.Match object; span=(0, 14), match='test@gmail.com'>"
      ]
     },
     "execution_count": 53,
     "metadata": {},
     "output_type": "execute_result"
    }
   ],
   "source": [
    "#compile : 동일한 정규표현식을 매번다시쓰기 번거로움을 해결 \n",
    "#해당표현식을  re.RegexObject객체로 저장하는 것!\n",
    "\n",
    "email_reg = re.compile(r'[\\w-]+@[\\w.]+')\n",
    "email_reg.search('test@gmail.com haha good')\n"
   ]
  },
  {
   "cell_type": "markdown",
   "metadata": {},
   "source": [
    "# 연습문제\n",
    "\n",
    "\"아래 뉴스에서 이메일 주소를 추출해 보세요.\"\n",
    "\"다음 중 올바른 (http,https)웹페이지만 찾으시오.\""
   ]
  },
  {
   "cell_type": "code",
   "execution_count": 3,
   "metadata": {},
   "outputs": [
    {
     "ename": "NameError",
     "evalue": "name 'paragraph_get_text' is not defined",
     "output_type": "error",
     "traceback": [
      "\u001b[1;31m---------------------------------------------------------------------------\u001b[0m",
      "\u001b[1;31mNameError\u001b[0m                                 Traceback (most recent call last)",
      "\u001b[1;32m<ipython-input-3-457bf15a7cb3>\u001b[0m in \u001b[0;36m<module>\u001b[1;34m\u001b[0m\n\u001b[0;32m     15\u001b[0m     \u001b[1;32mreturn\u001b[0m \u001b[0mcontent\u001b[0m\u001b[1;33m\u001b[0m\u001b[1;33m\u001b[0m\u001b[0m\n\u001b[0;32m     16\u001b[0m \u001b[1;33m\u001b[0m\u001b[0m\n\u001b[1;32m---> 17\u001b[1;33m \u001b[0mnews1\u001b[0m \u001b[1;33m=\u001b[0m \u001b[0mget_news_content\u001b[0m\u001b[1;33m(\u001b[0m\u001b[1;34m'https://news.v.daum.net/v/20190617073049838'\u001b[0m\u001b[1;33m)\u001b[0m\u001b[1;33m\u001b[0m\u001b[1;33m\u001b[0m\u001b[0m\n\u001b[0m\u001b[0;32m     18\u001b[0m \u001b[0mprint\u001b[0m\u001b[1;33m(\u001b[0m\u001b[0mnews1\u001b[0m\u001b[1;33m)\u001b[0m\u001b[1;33m\u001b[0m\u001b[1;33m\u001b[0m\u001b[0m\n",
      "\u001b[1;32m<ipython-input-3-457bf15a7cb3>\u001b[0m in \u001b[0;36mget_news_content\u001b[1;34m(url)\u001b[0m\n\u001b[0;32m     12\u001b[0m     \u001b[0mcontent\u001b[0m \u001b[1;33m=\u001b[0m \u001b[1;34m''\u001b[0m\u001b[1;33m\u001b[0m\u001b[1;33m\u001b[0m\u001b[0m\n\u001b[0;32m     13\u001b[0m     \u001b[1;32mfor\u001b[0m \u001b[0mparagraph\u001b[0m \u001b[1;32min\u001b[0m \u001b[0mdiv\u001b[0m\u001b[1;33m.\u001b[0m\u001b[0mfind_all\u001b[0m\u001b[1;33m(\u001b[0m\u001b[1;34m'p'\u001b[0m\u001b[1;33m)\u001b[0m\u001b[1;33m:\u001b[0m\u001b[1;33m\u001b[0m\u001b[1;33m\u001b[0m\u001b[0m\n\u001b[1;32m---> 14\u001b[1;33m         \u001b[0mcontent\u001b[0m \u001b[1;33m+=\u001b[0m \u001b[0mparagraph_get_text\u001b[0m\u001b[1;33m(\u001b[0m\u001b[1;33m)\u001b[0m\u001b[1;33m\u001b[0m\u001b[1;33m\u001b[0m\u001b[0m\n\u001b[0m\u001b[0;32m     15\u001b[0m     \u001b[1;32mreturn\u001b[0m \u001b[0mcontent\u001b[0m\u001b[1;33m\u001b[0m\u001b[1;33m\u001b[0m\u001b[0m\n\u001b[0;32m     16\u001b[0m \u001b[1;33m\u001b[0m\u001b[0m\n",
      "\u001b[1;31mNameError\u001b[0m: name 'paragraph_get_text' is not defined"
     ]
    }
   ],
   "source": [
    "import requests\n",
    "from bs4 import BeautifulSoup\n",
    "#위의 두 모듈이 없는 경우에는 pip install requests bs4 실행\n",
    "\n",
    "def get_news_content(url):\n",
    "    response = requests.get(url)\n",
    "    content = response.text\n",
    "    \n",
    "    soup = BeautifulSoup(content, 'html5lib')\n",
    "    div = soup.find('div', attrs = {'id' : 'harmonyContainer'})\n",
    "    \n",
    "    content = ''\n",
    "    for paragraph in div.find_all('p'):\n",
    "        content += paragraph_get_text()\n",
    "    return content\n",
    "\n",
    "news1 = get_news_content('https://news.v.daum.net/v/20190617073049838')\n",
    "print(news1)"
   ]
  },
  {
   "cell_type": "code",
   "execution_count": 1,
   "metadata": {},
   "outputs": [
    {
     "ename": "NameError",
     "evalue": "name 're' is not defined",
     "output_type": "error",
     "traceback": [
      "\u001b[1;31m---------------------------------------------------------------------------\u001b[0m",
      "\u001b[1;31mNameError\u001b[0m                                 Traceback (most recent call last)",
      "\u001b[1;32m<ipython-input-1-2b20503d5145>\u001b[0m in \u001b[0;36m<module>\u001b[1;34m\u001b[0m\n\u001b[1;32m----> 1\u001b[1;33m \u001b[0memail_reg\u001b[0m \u001b[1;33m=\u001b[0m \u001b[0mre\u001b[0m\u001b[1;33m.\u001b[0m\u001b[0mcompile\u001b[0m\u001b[1;33m(\u001b[0m\u001b[1;34mr'[\\w-]+@[\\w.]+\\w+'\u001b[0m\u001b[1;33m)\u001b[0m\u001b[1;33m\u001b[0m\u001b[1;33m\u001b[0m\u001b[0m\n\u001b[0m\u001b[0;32m      2\u001b[0m \u001b[0memail_reg\u001b[0m\u001b[1;33m.\u001b[0m\u001b[0msearch\u001b[0m\u001b[1;33m(\u001b[0m\u001b[0mnews1\u001b[0m\u001b[1;33m)\u001b[0m\u001b[1;33m\u001b[0m\u001b[1;33m\u001b[0m\u001b[0m\n",
      "\u001b[1;31mNameError\u001b[0m: name 're' is not defined"
     ]
    }
   ],
   "source": [
    "email_reg = re.compile(r'[\\w-]+@[\\w.]+\\w+')\n",
    "email_reg.search(news1)"
   ]
  },
  {
   "cell_type": "code",
   "execution_count": 2,
   "metadata": {},
   "outputs": [
    {
     "ename": "NameError",
     "evalue": "name 're' is not defined",
     "output_type": "error",
     "traceback": [
      "\u001b[1;31m---------------------------------------------------------------------------\u001b[0m",
      "\u001b[1;31mNameError\u001b[0m                                 Traceback (most recent call last)",
      "\u001b[1;32m<ipython-input-2-e9ed38aaa2c2>\u001b[0m in \u001b[0;36m<module>\u001b[1;34m\u001b[0m\n\u001b[0;32m      4\u001b[0m        'ftp://www.test.com']\n\u001b[0;32m      5\u001b[0m \u001b[1;33m\u001b[0m\u001b[0m\n\u001b[1;32m----> 6\u001b[1;33m \u001b[0mweb_reg\u001b[0m \u001b[1;33m=\u001b[0m \u001b[0mre\u001b[0m\u001b[1;33m.\u001b[0m\u001b[0mcompile\u001b[0m\u001b[1;33m(\u001b[0m\u001b[1;34mr'https?://[\\w.]+\\w+$'\u001b[0m\u001b[1;33m)\u001b[0m\u001b[1;33m\u001b[0m\u001b[1;33m\u001b[0m\u001b[0m\n\u001b[0m\u001b[0;32m      7\u001b[0m \u001b[0mlist\u001b[0m\u001b[1;33m(\u001b[0m\u001b[0mmap\u001b[0m\u001b[1;33m(\u001b[0m\u001b[1;32mlambda\u001b[0m \u001b[0mw\u001b[0m\u001b[1;33m:\u001b[0m\u001b[0mweb_reg\u001b[0m\u001b[1;33m.\u001b[0m\u001b[0msearch\u001b[0m\u001b[1;33m(\u001b[0m\u001b[0mw\u001b[0m\u001b[1;33m)\u001b[0m \u001b[1;33m!=\u001b[0m \u001b[1;32mNone\u001b[0m\u001b[1;33m,\u001b[0m \u001b[0mwebs\u001b[0m\u001b[1;33m)\u001b[0m\u001b[1;33m)\u001b[0m\u001b[1;33m\u001b[0m\u001b[1;33m\u001b[0m\u001b[0m\n",
      "\u001b[1;31mNameError\u001b[0m: name 're' is not defined"
     ]
    }
   ],
   "source": [
    "webs = ['http://www.test.co.kr',\n",
    "       'https://www.test1.com',\n",
    "       'http://www.test.com',\n",
    "       'ftp://www.test.com']\n",
    "\n",
    "web_reg = re.compile(r'https?://[\\w.]+\\w+$')\n",
    "list(map(lambda w:web_reg.search(w) != None, webs))"
   ]
  },
  {
   "cell_type": "code",
   "execution_count": null,
   "metadata": {},
   "outputs": [],
   "source": []
  },
  {
   "cell_type": "code",
   "execution_count": null,
   "metadata": {},
   "outputs": [],
   "source": []
  },
  {
   "cell_type": "code",
   "execution_count": null,
   "metadata": {},
   "outputs": [],
   "source": []
  },
  {
   "cell_type": "code",
   "execution_count": null,
   "metadata": {},
   "outputs": [],
   "source": []
  },
  {
   "cell_type": "code",
   "execution_count": null,
   "metadata": {},
   "outputs": [],
   "source": []
  },
  {
   "cell_type": "code",
   "execution_count": null,
   "metadata": {},
   "outputs": [],
   "source": []
  },
  {
   "cell_type": "code",
   "execution_count": null,
   "metadata": {},
   "outputs": [],
   "source": []
  }
 ],
 "metadata": {
  "kernelspec": {
   "display_name": "Python 3",
   "language": "python",
   "name": "python3"
  },
  "language_info": {
   "codemirror_mode": {
    "name": "ipython",
    "version": 3
   },
   "file_extension": ".py",
   "mimetype": "text/x-python",
   "name": "python",
   "nbconvert_exporter": "python",
   "pygments_lexer": "ipython3",
   "version": "3.8.5"
  }
 },
 "nbformat": 4,
 "nbformat_minor": 4
}
