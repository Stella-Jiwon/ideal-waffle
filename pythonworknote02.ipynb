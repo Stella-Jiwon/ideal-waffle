{
 "cells": [
  {
   "cell_type": "code",
   "execution_count": 1,
   "metadata": {},
   "outputs": [
    {
     "name": "stdout",
     "output_type": "stream",
     "text": [
      "10\n"
     ]
    }
   ],
   "source": [
    "a= 10\n",
    "print(a)"
   ]
  },
  {
   "cell_type": "code",
   "execution_count": 2,
   "metadata": {},
   "outputs": [
    {
     "name": "stdout",
     "output_type": "stream",
     "text": [
      " 포포는 나이가5입니다\n"
     ]
    }
   ],
   "source": [
    "a = \" 포포\"\n",
    "b = 5\n",
    "print (a + \"는 나이가\" + str(b) + \"입니다\")"
   ]
  },
  {
   "cell_type": "code",
   "execution_count": 4,
   "metadata": {},
   "outputs": [
    {
     "name": "stdout",
     "output_type": "stream",
     "text": [
      "영구는 5년 전에25살 이었고5년 후에는30살임\n"
     ]
    }
   ],
   "source": [
    "a = \"영구\"\n",
    "b = 25\n",
    "c = 30\n",
    "\n",
    "print(a + \"는 5년 전에\" + str(b)+ \"살 이었고\" + \"5년 후에는\" + str(c)+ \"살임\")"
   ]
  },
  {
   "cell_type": "code",
   "execution_count": 5,
   "metadata": {},
   "outputs": [
    {
     "name": "stdout",
     "output_type": "stream",
     "text": [
      "10 10 200 11.4\n"
     ]
    }
   ],
   "source": [
    "a= 10 # int 정수를 나타냄\n",
    "b = 11.4 # float 실수를 나타냄\n",
    "\n",
    "print (a,10,200,b)"
   ]
  },
  {
   "cell_type": "code",
   "execution_count": 23,
   "metadata": {},
   "outputs": [
    {
     "name": "stdout",
     "output_type": "stream",
     "text": [
      "10*20*100!!"
     ]
    }
   ],
   "source": [
    "a=10\n",
    "b=20\n",
    "c=100\n",
    "print(str(a),str(b),str(c), sep = '*', end='!!')"
   ]
  },
  {
   "cell_type": "code",
   "execution_count": 24,
   "metadata": {},
   "outputs": [
    {
     "name": "stdout",
     "output_type": "stream",
     "text": [
      "영구&포포&레오!!"
     ]
    }
   ],
   "source": [
    "a=\"영구\"\n",
    "b=\"포포\"\n",
    "c=\"레오\"\n",
    "print( a,b,c, sep='&', end = '!!')"
   ]
  },
  {
   "cell_type": "code",
   "execution_count": 30,
   "metadata": {},
   "outputs": [
    {
     "name": "stdout",
     "output_type": "stream",
     "text": [
      "<class 'int'>\n",
      "<class 'float'>\n"
     ]
    }
   ],
   "source": [
    "a = 10\n",
    "b = 12.45\n",
    "\n",
    "print ( type ( a ) )\n",
    "print ( type ( b ) )"
   ]
  },
  {
   "cell_type": "code",
   "execution_count": 31,
   "metadata": {},
   "outputs": [],
   "source": [
    "c = None "
   ]
  },
  {
   "cell_type": "code",
   "execution_count": 33,
   "metadata": {},
   "outputs": [
    {
     "name": "stdout",
     "output_type": "stream",
     "text": [
      "False\n",
      "<class 'bool'>\n"
     ]
    }
   ],
   "source": [
    "a = 5\n",
    "b = 4\n",
    "c = 3\n",
    "\n",
    "print ( a < b)\n",
    "print ( type ( a < b ))"
   ]
  },
  {
   "cell_type": "code",
   "execution_count": 38,
   "metadata": {},
   "outputs": [
    {
     "name": "stdout",
     "output_type": "stream",
     "text": [
      "9\n",
      "20\n",
      "1\n",
      "1.25\n",
      "1\n",
      "625\n"
     ]
    }
   ],
   "source": [
    "a = 5 \n",
    "b = 4 \n",
    "\n",
    "print ( a + b )\n",
    "print ( a * b )\n",
    "print ( a - b )\n",
    "print ( a / b )\n",
    "print ( a % b ) # 나머지\n",
    "print ( a ** b ) #square"
   ]
  },
  {
   "cell_type": "code",
   "execution_count": 40,
   "metadata": {},
   "outputs": [
    {
     "name": "stdout",
     "output_type": "stream",
     "text": [
      "54\n"
     ]
    }
   ],
   "source": [
    "a = 9\n",
    "\n",
    "a *= 6 \n",
    "\n",
    "print(a)"
   ]
  },
  {
   "cell_type": "code",
   "execution_count": 44,
   "metadata": {},
   "outputs": [
    {
     "name": "stdout",
     "output_type": "stream",
     "text": [
      "H\n",
      "l\n",
      "el\n"
     ]
    }
   ],
   "source": [
    "#index 추출 \n",
    "\n",
    "a = 'Hello World' \n",
    "print(a[0])\n",
    "print(a[-2])\n",
    "\n",
    "print(a[1:3])"
   ]
  },
  {
   "cell_type": "code",
   "execution_count": 47,
   "metadata": {},
   "outputs": [
    {
     "name": "stdout",
     "output_type": "stream",
     "text": [
      "HELLO WORLD\n",
      "hello world\n"
     ]
    }
   ],
   "source": [
    "#문자열함수\n",
    "a = 'Hello World'\n",
    "print( a.upper() )\n",
    "print ( a.lower() )"
   ]
  },
  {
   "cell_type": "code",
   "execution_count": 48,
   "metadata": {},
   "outputs": [
    {
     "data": {
      "text/plain": [
       "'jello world'"
      ]
     },
     "execution_count": 48,
     "metadata": {},
     "output_type": "execute_result"
    }
   ],
   "source": [
    "a = 'hello world'\n",
    "a.replace('h','j')"
   ]
  },
  {
   "cell_type": "code",
   "execution_count": 56,
   "metadata": {},
   "outputs": [
    {
     "name": "stdout",
     "output_type": "stream",
     "text": [
      "오늘 기온은25.5이고, 비올 확률은80.0% 입니다.\n"
     ]
    }
   ],
   "source": [
    "#format\n",
    "temp = 25.5\n",
    "prob = 80.0\n",
    "a = '오늘 기온은{}이고, 비올 확률은{}% 입니다.'.format(temp,prob)\n",
    "print(a)"
   ]
  },
  {
   "cell_type": "code",
   "execution_count": 60,
   "metadata": {},
   "outputs": [
    {
     "name": "stdout",
     "output_type": "stream",
     "text": [
      "오늘 영구의 할일은 설거지입니다.\n"
     ]
    }
   ],
   "source": [
    "house_chores = \"설거지\"\n",
    "subject = \"영구\"\n",
    "a  = '오늘 {}의 할일은 {}입니다.'.format(subject, house_chores)\n",
    "print(a)"
   ]
  },
  {
   "cell_type": "code",
   "execution_count": 62,
   "metadata": {},
   "outputs": [
    {
     "data": {
      "text/plain": [
       "['Hello', 'World!', 'What', 'a', 'Nice', 'Weather']"
      ]
     },
     "execution_count": 62,
     "metadata": {},
     "output_type": "execute_result"
    }
   ],
   "source": [
    "a = 'Hello World! What a Nice Weather'\n",
    "a.split()"
   ]
  },
  {
   "cell_type": "code",
   "execution_count": 63,
   "metadata": {},
   "outputs": [
    {
     "data": {
      "text/plain": [
       "['Hello World! What a Nice Weather']"
      ]
     },
     "execution_count": 63,
     "metadata": {},
     "output_type": "execute_result"
    }
   ],
   "source": [
    "a = 'Hello World! What a Nice Weather'\n",
    "a.split('w')"
   ]
  },
  {
   "cell_type": "code",
   "execution_count": null,
   "metadata": {},
   "outputs": [],
   "source": [
    "#list, tuple 은 복수개의 값을 담을 수 있는 데이터 구조를 의미함\n",
    "#우선 list부터!!!\n"
   ]
  },
  {
   "cell_type": "code",
   "execution_count": 65,
   "metadata": {},
   "outputs": [
    {
     "name": "stdout",
     "output_type": "stream",
     "text": [
      "['Hello World']\n"
     ]
    }
   ],
   "source": [
    "a = [\"Hello World\"]\n",
    "b = list(a)\n",
    "print(b)"
   ]
  },
  {
   "cell_type": "code",
   "execution_count": 68,
   "metadata": {},
   "outputs": [
    {
     "name": "stdout",
     "output_type": "stream",
     "text": [
      "['Hello', 'Nice', 'Weather', 'Pal']\n"
     ]
    }
   ],
   "source": [
    "a = \"Hello Nice Weather Pal\"\n",
    "b = a.split()\n",
    "print(b)\n",
    "#String split"
   ]
  },
  {
   "cell_type": "code",
   "execution_count": 69,
   "metadata": {},
   "outputs": [
    {
     "name": "stdout",
     "output_type": "stream",
     "text": [
      "4\n"
     ]
    }
   ],
   "source": [
    "#list indexing\n",
    "a = [1,2,3,4,5]\n",
    "print(a[3])"
   ]
  },
  {
   "cell_type": "code",
   "execution_count": 72,
   "metadata": {},
   "outputs": [
    {
     "data": {
      "text/plain": [
       "'Hi, LoLo and Leo'"
      ]
     },
     "execution_count": 72,
     "metadata": {},
     "output_type": "execute_result"
    }
   ],
   "source": [
    "a = \"Hi, PoPo and Leo\"\n",
    "a.replace(\"P\",\"L\")"
   ]
  },
  {
   "cell_type": "code",
   "execution_count": 75,
   "metadata": {},
   "outputs": [
    {
     "name": "stdout",
     "output_type": "stream",
     "text": [
      "[100, 2, 4, 5, 6, 7]\n"
     ]
    }
   ],
   "source": [
    "a= [1,2,4,5,6,7]\n",
    "a[0] = 100\n",
    "print(a)"
   ]
  },
  {
   "cell_type": "code",
   "execution_count": 77,
   "metadata": {},
   "outputs": [
    {
     "data": {
      "text/plain": [
       "[1, 45, 7, 9]"
      ]
     },
     "execution_count": 77,
     "metadata": {},
     "output_type": "execute_result"
    }
   ],
   "source": [
    "a = [1,23,45,6,7,8,9,10]\n",
    "a[:3]\n",
    "a[:7:2]"
   ]
  },
  {
   "cell_type": "code",
   "execution_count": 80,
   "metadata": {},
   "outputs": [
    {
     "name": "stdout",
     "output_type": "stream",
     "text": [
      "[1, 2, 3, 4, 5, 100]\n"
     ]
    }
   ],
   "source": [
    "#마지막에무언가를추가하고싶을때 append쓰기\n",
    "a = [1,2,3,4,5]\n",
    "a.append(100)\n",
    "print(a)"
   ]
  },
  {
   "cell_type": "code",
   "execution_count": 81,
   "metadata": {},
   "outputs": [
    {
     "name": "stdout",
     "output_type": "stream",
     "text": [
      "[5, 6, 7, 9, 7, 5, 2, 8]\n"
     ]
    }
   ],
   "source": [
    "a = [5,6,7,9]\n",
    "b = [7,5,2,8]\n",
    "a.extend(b)\n",
    "print(a)"
   ]
  },
  {
   "cell_type": "code",
   "execution_count": 82,
   "metadata": {},
   "outputs": [
    {
     "name": "stdout",
     "output_type": "stream",
     "text": [
      "[5, 6, 7, 9, 7, 5, 2, 8, 7, 5, 2, 8]\n"
     ]
    }
   ],
   "source": [
    "a += b\n",
    "print(a)"
   ]
  },
  {
   "cell_type": "code",
   "execution_count": 84,
   "metadata": {},
   "outputs": [
    {
     "name": "stdout",
     "output_type": "stream",
     "text": [
      "[1, 40, 3, 4, 5, 6]\n"
     ]
    }
   ],
   "source": [
    "a = [1,3,4,5,6]\n",
    "a.insert(1,40)\n",
    "print(a)"
   ]
  },
  {
   "cell_type": "code",
   "execution_count": 86,
   "metadata": {},
   "outputs": [
    {
     "name": "stdout",
     "output_type": "stream",
     "text": [
      "[1, 40, 4, 5, 6]\n"
     ]
    }
   ],
   "source": [
    "a.remove(3)\n",
    "print(a)"
   ]
  },
  {
   "cell_type": "code",
   "execution_count": 88,
   "metadata": {},
   "outputs": [
    {
     "name": "stdout",
     "output_type": "stream",
     "text": [
      "[1, 3, 4, 5, 6]\n",
      "[2, 3, 4]\n"
     ]
    }
   ],
   "source": [
    "a = [1,2,3,4,5,6]\n",
    "a.pop(1)\n",
    "print(a)\n",
    "\n",
    "b = [2,3,4]\n",
    "a.index(3)\n",
    "print(b)"
   ]
  },
  {
   "cell_type": "code",
   "execution_count": 96,
   "metadata": {},
   "outputs": [
    {
     "name": "stdout",
     "output_type": "stream",
     "text": [
      "True\n"
     ]
    }
   ],
   "source": [
    "a = [\"레오\",\"포포\",\"영구\",\"지원\"]\n",
    "b = \"레오\"\n",
    "c = b in a \n",
    "print(c)\n",
    "\n",
    "##in 키워드!!!!!!!!"
   ]
  },
  {
   "cell_type": "code",
   "execution_count": 99,
   "metadata": {},
   "outputs": [
    {
     "name": "stdout",
     "output_type": "stream",
     "text": [
      "True\n"
     ]
    }
   ],
   "source": [
    "a = [1,3,5,6]\n",
    "b= 1\n",
    "c = b in a\n",
    "print(c)\n"
   ]
  },
  {
   "cell_type": "code",
   "execution_count": 105,
   "metadata": {},
   "outputs": [
    {
     "name": "stdout",
     "output_type": "stream",
     "text": [
      "[0, 1, 2, 3, 5, 6, 7, 8, 10, 23]\n",
      "[23, 10, 8, 7, 6, 5, 3, 2, 1, 0]\n"
     ]
    }
   ],
   "source": [
    "##정리한는거 : sort\n",
    "\n",
    "a = [10,2,3,5,6,7,8,1,23,0]\n",
    "b =sorted(a)\n",
    "print(b)\n",
    "a.sort(reverse=True)\n",
    "print(a)"
   ]
  },
  {
   "cell_type": "code",
   "execution_count": 122,
   "metadata": {},
   "outputs": [
    {
     "name": "stdout",
     "output_type": "stream",
     "text": [
      "{'a': 1, 'b': 2, 'c': 5}\n"
     ]
    },
    {
     "data": {
      "text/plain": [
       "2"
      ]
     },
     "execution_count": 122,
     "metadata": {},
     "output_type": "execute_result"
    }
   ],
   "source": [
    "#del 지우기\n",
    "\n",
    "a = {\"a\" : 1, \"b\" : 2, \"c\" : 5}\n",
    "print(a)\n",
    "#value access\n",
    "a.get(\"b\")"
   ]
  },
  {
   "cell_type": "code",
   "execution_count": 124,
   "metadata": {},
   "outputs": [
    {
     "name": "stdout",
     "output_type": "stream",
     "text": [
      "['a', 'b', 'c']\n",
      "[1, 2, 5]\n"
     ]
    },
    {
     "data": {
      "text/plain": [
       "[('a', 1), ('b', 2), ('c', 5)]"
      ]
     },
     "execution_count": 124,
     "metadata": {},
     "output_type": "execute_result"
    }
   ],
   "source": [
    "#keys,values,items\n",
    "a = {\"a\" : 1, \"b\" : 2, \"c\" : 5}\n",
    "print(list(a.keys()))\n",
    "print(list(a.values()))\n",
    "list(a.items())"
   ]
  },
  {
   "cell_type": "code",
   "execution_count": 125,
   "metadata": {},
   "outputs": [
    {
     "name": "stdout",
     "output_type": "stream",
     "text": [
      "{1, 3, 5, 6, 7}\n"
     ]
    }
   ],
   "source": [
    "#set는 반복되는걸 없애줌.\n",
    "\n",
    "a = {1,1,3,5,6,7,3}\n",
    "print(a)"
   ]
  },
  {
   "cell_type": "code",
   "execution_count": 129,
   "metadata": {},
   "outputs": [
    {
     "name": "stdout",
     "output_type": "stream",
     "text": [
      "[1, 1, 3, 5, 6, 7, 3]\n",
      "{1, 3, 5, 6, 7}\n"
     ]
    }
   ],
   "source": [
    "a = [1,1,3,5,6,7,3]\n",
    "print(a)\n",
    "b = set(a)\n",
    "print(b)"
   ]
  },
  {
   "cell_type": "code",
   "execution_count": 135,
   "metadata": {},
   "outputs": [
    {
     "name": "stdout",
     "output_type": "stream",
     "text": [
      "{1, 2, 3, 5, 6, 7}\n",
      "set()\n",
      "{1, 2, 3}\n",
      "False\n"
     ]
    }
   ],
   "source": [
    "#합집합 : union\n",
    "#교집합 : intersection\n",
    "#차집합 : difference\n",
    "#부분집합 : issubset\n",
    "\n",
    "a = {1,2,3}\n",
    "b = {5,6,7}\n",
    "\n",
    "print(a.union(b))\n",
    "print(a.intersection(b))\n",
    "print(a.difference(b))\n",
    "print(a.issubset(b))"
   ]
  },
  {
   "cell_type": "code",
   "execution_count": 136,
   "metadata": {},
   "outputs": [
    {
     "name": "stdout",
     "output_type": "stream",
     "text": [
      "6이 5보더 커\n"
     ]
    }
   ],
   "source": [
    "#조건문 : if, elif, else\n",
    "#condition (조건문)\n",
    "\n",
    "if 6>=5 :\n",
    "    print ( \"6이 5보더 커\")"
   ]
  },
  {
   "cell_type": "code",
   "execution_count": null,
   "metadata": {},
   "outputs": [],
   "source": [
    "a = [1,2,3,10,11,12]\n",
    "i = 0\n",
    "while i < len(a):\n",
    "    if a[i]>10:\n",
    "        print(a[i])\n",
    "    i+= 1"
   ]
  },
  {
   "cell_type": "code",
   "execution_count": null,
   "metadata": {},
   "outputs": [],
   "source": [
    "a = [1,2,3,4,5,6] #홀수는 그대로 프린트/짝수는 2로 나누기\n",
    "i = 0\n",
    "while i < len(a):\n",
    "    if a[i]%2 != 0 :\n",
    "        print(a[i])\n",
    "    else : print(a[i]/2)\n",
    "    i += 1"
   ]
  },
  {
   "cell_type": "code",
   "execution_count": 1,
   "metadata": {},
   "outputs": [
    {
     "name": "stdout",
     "output_type": "stream",
     "text": [
      "5050\n"
     ]
    }
   ],
   "source": [
    "#1-100까지 더하기\n",
    "num = 1\n",
    "_sum = 0\n",
    "\n",
    "while num <= 100:\n",
    "    _sum += num\n",
    "    num+=1\n",
    "    \n",
    "print(_sum)\n",
    "    "
   ]
  },
  {
   "cell_type": "code",
   "execution_count": null,
   "metadata": {},
   "outputs": [],
   "source": [
    "#1-1000까지 더하기\n",
    "\n",
    "num = 1\n",
    "sum_ = 0\n",
    "\n",
    "while num <= 1000:\n",
    "    sum_ += num\n",
    "    num += 1\n",
    "    \n",
    "print(sum_)"
   ]
  },
  {
   "cell_type": "code",
   "execution_count": null,
   "metadata": {},
   "outputs": [],
   "source": [
    "#for구문쓰면서 반복문\n",
    "a = [1,2,3,4,5]\n",
    "for i in a :\n",
    "    print( i, i*2)"
   ]
  },
  {
   "cell_type": "code",
   "execution_count": null,
   "metadata": {},
   "outputs": [],
   "source": [
    "a = \"leleleleo\"\n",
    "for character in a:\n",
    "    print(character)"
   ]
  },
  {
   "cell_type": "code",
   "execution_count": null,
   "metadata": {},
   "outputs": [],
   "source": [
    "#dict\n",
    "\n",
    "a = {\"아빠\" : \"영구\", \"첫째\":\"레오\", \"둘째\":\"포포\",\"서열1위\":지원}\n",
    "for k in a:\n",
    "    print(k, a[k])"
   ]
  },
  {
   "cell_type": "code",
   "execution_count": null,
   "metadata": {},
   "outputs": [],
   "source": [
    "range(100)\n",
    "list (range(1,100))"
   ]
  },
  {
   "cell_type": "code",
   "execution_count": null,
   "metadata": {},
   "outputs": [],
   "source": [
    "a = [22,1,3,4,6,98,21,55,87,99,19,20,45]\n",
    "\n",
    "_min = a[0]\n",
    "_max = a[0]\n",
    "\n",
    "for x in a:\n",
    "    if x > _max :\n",
    "        _max = x\n",
    "    if x < _min :\n",
    "        _min = x\n",
    "    \n",
    "print (_max , _min)"
   ]
  },
  {
   "cell_type": "code",
   "execution_count": null,
   "metadata": {},
   "outputs": [],
   "source": [
    "#Problem : a = [22,1,3,4,6,98,21,55,87,99,19,20,45]의 평균 구하기\n",
    "\n",
    "a = [22,1,3,4,6,98,21,55,87,99,19,20,45]\n",
    "\n",
    "_sum = 0\n",
    "i = 0\n",
    "\n",
    "while i > len(a):\n",
    "    _sum += a[i]\n",
    "    i += 1\n",
    "print(_sum/len(a))"
   ]
  },
  {
   "cell_type": "code",
   "execution_count": null,
   "metadata": {},
   "outputs": [],
   "source": [
    "def add(x,y):\n",
    "    n = x+y\n",
    "    return n\n",
    "c = add(30,300)\n",
    "print(c)"
   ]
  },
  {
   "cell_type": "code",
   "execution_count": null,
   "metadata": {},
   "outputs": [],
   "source": [
    "함수 : def 키워드를 사용함!\n",
    "argument : 함수에 입력하는 의미 or parameter\n",
    "함수도 : 콜론이 필요함"
   ]
  },
  {
   "cell_type": "code",
   "execution_count": null,
   "metadata": {},
   "outputs": [],
   "source": [
    "def test(x,y):\n",
    "    print(x,y)\n",
    "    n = x + y\n",
    "    return n\n",
    "print(test(3,5))"
   ]
  },
  {
   "cell_type": "code",
   "execution_count": null,
   "metadata": {},
   "outputs": [],
   "source": [
    "def add_mul(x,y):\n",
    "    s = x*y\n",
    "    m = x + y\n",
    "    \n",
    "    return (s,m)\n",
    "print(add_mul(3,40))"
   ]
  },
  {
   "cell_type": "code",
   "execution_count": null,
   "metadata": {},
   "outputs": [],
   "source": [
    "def test(*args):\n",
    "    for item in x :\n",
    "        print(item)\n",
    "test (100,200,3)"
   ]
  },
  {
   "cell_type": "code",
   "execution_count": null,
   "metadata": {},
   "outputs": [],
   "source": [
    "#keyword parameter(키워드 파라미터)\n",
    "def test2(**kwargs):\n",
    "    for key, value in x.items():\n",
    "        print('key:', key, 'value:', value)\n",
    "test2(a=1)"
   ]
  },
  {
   "cell_type": "code",
   "execution_count": null,
   "metadata": {},
   "outputs": [],
   "source": [
    "#lambda 함수! \n",
    "\n",
    "square = lambda x : x**2\n",
    "square(2)"
   ]
  },
  {
   "cell_type": "code",
   "execution_count": null,
   "metadata": {},
   "outputs": [],
   "source": [
    "strings = ['leo','popo','young','jiwon']\n",
    "strings.sort(key=lambda s : len(s))\n",
    "print(strings)"
   ]
  },
  {
   "cell_type": "code",
   "execution_count": null,
   "metadata": {},
   "outputs": [],
   "source": [
    "#filter/map/reduce\n",
    "\n",
    "def even(n) :\n",
    "    return n%2==0\n",
    "\n",
    "nums = [1,2,3,6,8,9]\n",
    "list(filter(lambda n:n%2==0, nums))"
   ]
  },
  {
   "cell_type": "code",
   "execution_count": null,
   "metadata": {},
   "outputs": [],
   "source": [
    "#map은 주어진 숫자에 제곱을 한 숫자임!!\n",
    "a = [1,2,3,4,5]\n",
    "list(map(lambda n:n**2, nums))"
   ]
  },
  {
   "cell_type": "code",
   "execution_count": null,
   "metadata": {},
   "outputs": [],
   "source": [
    "#reduce 리스트 내의 모든 숫자의 합\n",
    "\n",
    "import functools\n",
    "a = [1,2,3]\n",
    "functools.reduce(lambda x, y: x+y, a)"
   ]
  },
  {
   "cell_type": "code",
   "execution_count": null,
   "metadata": {},
   "outputs": [],
   "source": [
    "#함수연습문제\n",
    "#주어진 숫자 리스트의 평균을 구하는 함수를 출력!\n",
    "\n",
    "_sum=0\n",
    "a = [1,2,3,4,5,6,7,8,9,10]\n",
    "for x in a:\n",
    "    _sum+=x\n",
    "print(_sum/len(a))\n",
    "\n",
    "#입력 : 숫자리스트\n",
    "#출력 : 숫자리스트의 평균값\n",
    "\n",
    "def mean(nums):\n",
    "#     _sum=0\n",
    "#     for x in nums:\n",
    "#         _sum += x\n",
    "    return sum / len(nums)\n",
    "\n",
    "print(mean([1,2,3]))"
   ]
  },
  {
   "cell_type": "code",
   "execution_count": null,
   "metadata": {},
   "outputs": [],
   "source": [
    "#해당숫자가소수인지아닌지판별하시오.\n",
    "#입력 : 양의 정수1개\n",
    "#출력 : boolean (소수 : true, 합성수 : false)\n",
    "\n",
    "\n",
    "def is_prime(num):\n",
    "    for x in range(2, num):\n",
    "        if num%1 == 0:\n",
    "            return False\n",
    "    return True\n",
    "\n",
    "print(is_prime(100))"
   ]
  },
  {
   "cell_type": "code",
   "execution_count": null,
   "metadata": {},
   "outputs": [],
   "source": [
    "#2부터 해당 숫자사이에 소수가 몇개인지 출력하는 함수를 구하시오. \n",
    "#입력 : 양의 정수 1개\n",
    "#출력 : 2- 해당 숫자 사이의 소수의 개수\n",
    "\n",
    "def num_prime(num):\n",
    "    count = 0\n",
    "    for i in range(2,num+1):\n",
    "        count+=1\n",
    "    return count\n",
    "\n",
    "print(num_prime(100))\n",
    "    \n",
    "        "
   ]
  },
  {
   "cell_type": "code",
   "execution_count": null,
   "metadata": {},
   "outputs": [],
   "source": [
    "MODULE\n",
    "\n",
    "requests - HTTP 요청/응답 모듈 \n",
    "numpy - 수치해석 모듈 \n",
    "pandas - 데이터 분석 모듈"
   ]
  },
  {
   "cell_type": "code",
   "execution_count": null,
   "metadata": {},
   "outputs": [],
   "source": [
    "#requests - HTTP 요청/응답 모듈\n",
    "\n",
    "import requests\n",
    "resp = requests.get('http://naver.com')\n",
    "resp.text"
   ]
  },
  {
   "cell_type": "code",
   "execution_count": null,
   "metadata": {},
   "outputs": [],
   "source": [
    "math!!"
   ]
  },
  {
   "cell_type": "code",
   "execution_count": null,
   "metadata": {},
   "outputs": [],
   "source": [
    "import math\n",
    "math.pi\n",
    "math.cos(100)"
   ]
  },
  {
   "cell_type": "code",
   "execution_count": null,
   "metadata": {},
   "outputs": [],
   "source": [
    "from math import pi\n",
    "from math import cos"
   ]
  },
  {
   "cell_type": "code",
   "execution_count": null,
   "metadata": {},
   "outputs": [],
   "source": [
    "from math import *"
   ]
  },
  {
   "cell_type": "code",
   "execution_count": null,
   "metadata": {},
   "outputs": [],
   "source": [
    "class\n",
    "attribute/method\n",
    "object\n",
    "\n",
    "class란? 실세계의 것을 모델링하여 속성(attribute) + 동작(method)를 갖는 데이터 타입\n",
    "string,int,list,dic 등\n",
    "\n",
    "예를 들어볼게~ 학생이라는 class 가 있어. 학생을 나타내는 속성과 행동을 정의 할 수 있겠지?\n",
    "\n",
    "다루고자 하는 데이터(변수)와 데이터를 다루는 연산(함수)를 하나로 캡슐화 한게 \"class!\"\n"
   ]
  },
  {
   "cell_type": "code",
   "execution_count": null,
   "metadata": {},
   "outputs": [],
   "source": [
    "a = [1,2,3,4]\n",
    "a.append(5)\n",
    "print(a)"
   ]
  },
  {
   "cell_type": "code",
   "execution_count": null,
   "metadata": {},
   "outputs": [],
   "source": [
    "class JIWONHOUSE:\n",
    "    pass"
   ]
  },
  {
   "cell_type": "code",
   "execution_count": null,
   "metadata": {},
   "outputs": [],
   "source": [
    "#생성자(init_)의 이해\n",
    "\n",
    "class JIWONHOUSE:\n",
    "    def __init__(self):\n",
    "        print(self,\"is living under Jiwon's house\")\n",
    "        self.name = 'popo'\n",
    "        self.age = 5\n",
    "        \n",
    "J1 = JIWONHOUSE()\n",
    "J2 = JIWONHOUSE()\n",
    "\n",
    "J1.name, J1.age\n",
    "\n",
    "\n"
   ]
  },
  {
   "cell_type": "code",
   "execution_count": 5,
   "metadata": {},
   "outputs": [
    {
     "name": "stdout",
     "output_type": "stream",
     "text": [
      "<__main__.JIJI object at 0x104d0ac40> is living with Jiwon\n",
      "<__main__.JIJI object at 0x104d0a5b0> is living with Jiwon\n",
      "포포 밀당쟁이\n",
      "레오 고집쟁이\n"
     ]
    }
   ],
   "source": [
    "class JIJI:\n",
    "    def __init__(self,name,character):\n",
    "        print(self, \"is living with Jiwon\")\n",
    "        self.name = name\n",
    "        self.character = character\n",
    "j1 = JIJI('포포', '밀당쟁이')\n",
    "j2 = JIJI('레오','고집쟁이')\n",
    "\n",
    "print(j1.name, j1.character)\n",
    "print(j2.name, j2.character)"
   ]
  },
  {
   "cell_type": "code",
   "execution_count": 14,
   "metadata": {},
   "outputs": [
    {
     "name": "stdout",
     "output_type": "stream",
     "text": [
      "포포 는 잠을 잡니다\n",
      "레오 는 잠을 잡니다\n"
     ]
    }
   ],
   "source": [
    "class JIWON:\n",
    "    def __init__(self,name,behavior):\n",
    "        self.name = name\n",
    "        self.behavior = behavior\n",
    "    \n",
    "    def sleep(self):\n",
    "    \n",
    "        print( self.name, '는 잠을 잡니다')\n",
    "\n",
    "a = JIWON('포포','잠')\n",
    "b = JIWON('레오','앞발공격')\n",
    "\n",
    "a.sleep()\n",
    "b.sleep()"
   ]
  },
  {
   "cell_type": "code",
   "execution_count": 17,
   "metadata": {},
   "outputs": [
    {
     "name": "stdout",
     "output_type": "stream",
     "text": [
      "the current value is 1\n"
     ]
    }
   ],
   "source": [
    "class Counter():\n",
    "    def __init__(self):\n",
    "        self.num = 0\n",
    "    def increment(self):\n",
    "        self.num += 1\n",
    "    def reset(self):\n",
    "        self.num = 0\n",
    "    def print_current_value(self):\n",
    "        print('the current value is', self.num)\n",
    "\n",
    "c1 = Counter()\n",
    "c1.increment()\n",
    "c1.print_current_value()"
   ]
  },
  {
   "cell_type": "code",
   "execution_count": 20,
   "metadata": {},
   "outputs": [
    {
     "name": "stdout",
     "output_type": "stream",
     "text": [
      "포포는 고기을 먹는것을 좋아합니다\n",
      "포포는 공놀이하는 것을 좋아합니다\n"
     ]
    }
   ],
   "source": [
    "class DOG():\n",
    "    def __init__(self,name,age):\n",
    "        self.name = name\n",
    "        self.age = age\n",
    "    def eat(self, food):\n",
    "        print('{}는 {}을 먹는것을 좋아합니다'.format(self.name, food))\n",
    "    def play(self, play):\n",
    "        print('{}는 {}하는 것을 좋아합니다'.format(self.name, play))\n",
    "        \n",
    "class JIWON(DOG):\n",
    "    def __init__(self,name,age):\n",
    "        self.name = name\n",
    "        self.age = age\n",
    "\n",
    "popo = JIWON('포포',5)\n",
    "popo.eat('고기')\n",
    "popo.play('공놀이')\n"
   ]
  },
  {
   "cell_type": "code",
   "execution_count": null,
   "metadata": {},
   "outputs": [],
   "source": [
    "HTML -> CSS -> JS"
   ]
  },
  {
   "cell_type": "code",
   "execution_count": null,
   "metadata": {},
   "outputs": [],
   "source": [
    "re정규표현식 :  regular expression이란 뜻//특정한 패턴과 일치하는 문자열을 검색, 치환, \n",
    "    제거하는 기능을 지원함. "
   ]
  },
  {
   "cell_type": "code",
   "execution_count": 21,
   "metadata": {},
   "outputs": [
    {
     "name": "stdout",
     "output_type": "stream",
     "text": [
      "레오가 누워있다\n"
     ]
    }
   ],
   "source": [
    "#raw string : 문자열 앞에 r이 붙으면 해당 문자열이 구성된 그대로 문자열을 반환\n",
    "\n",
    "a = r\"레오가 누워있다\"\n",
    "print(a)"
   ]
  },
  {
   "cell_type": "code",
   "execution_count": null,
   "metadata": {},
   "outputs": [],
   "source": [
    "#기본 다른 패턴 \n",
    "\\w : 문자와 일치\n",
    "\\s : 공백문자와 일치\n",
    "\\t : tab\n",
    "\\n : newline\n",
    "\\r : return\n",
    "\\d : 숫자\n",
    "$ : 끝 각각 문자열의 시작과 끝의 의미\n",
    "\n",
    "    https://docs.python.org/3/library/re.html"
   ]
  },
  {
   "cell_type": "code",
   "execution_count": 25,
   "metadata": {},
   "outputs": [
    {
     "ename": "AttributeError",
     "evalue": "'NoneType' object has no attribute 'start'",
     "output_type": "error",
     "traceback": [
      "\u001b[0;31m---------------------------------------------------------------------------\u001b[0m",
      "\u001b[0;31mAttributeError\u001b[0m                            Traceback (most recent call last)",
      "\u001b[0;32m<ipython-input-25-d78f4481591a>\u001b[0m in \u001b[0;36m<module>\u001b[0;34m\u001b[0m\n\u001b[1;32m      5\u001b[0m \u001b[0ma\u001b[0m \u001b[0;34m=\u001b[0m \u001b[0mre\u001b[0m\u001b[0;34m.\u001b[0m\u001b[0msearch\u001b[0m\u001b[0;34m(\u001b[0m\u001b[0;34mr\"popo\"\u001b[0m\u001b[0;34m,\u001b[0m\u001b[0;34m\"leo\"\u001b[0m\u001b[0;34m)\u001b[0m\u001b[0;34m\u001b[0m\u001b[0;34m\u001b[0m\u001b[0m\n\u001b[1;32m      6\u001b[0m \u001b[0mtype\u001b[0m\u001b[0;34m(\u001b[0m\u001b[0ma\u001b[0m\u001b[0;34m)\u001b[0m\u001b[0;34m\u001b[0m\u001b[0;34m\u001b[0m\u001b[0m\n\u001b[0;32m----> 7\u001b[0;31m \u001b[0mprint\u001b[0m\u001b[0;34m(\u001b[0m\u001b[0ma\u001b[0m\u001b[0;34m.\u001b[0m\u001b[0mstart\u001b[0m\u001b[0;34m(\u001b[0m\u001b[0;34m)\u001b[0m\u001b[0;34m)\u001b[0m\u001b[0;34m\u001b[0m\u001b[0;34m\u001b[0m\u001b[0m\n\u001b[0m",
      "\u001b[0;31mAttributeError\u001b[0m: 'NoneType' object has no attribute 'start'"
     ]
    }
   ],
   "source": [
    "#search method\n",
    "\n",
    "import re\n",
    "\n",
    "a = re.search(r\"popo\",\"leo\")\n",
    "type(a)\n",
    "print(a.start())"
   ]
  },
  {
   "cell_type": "code",
   "execution_count": null,
   "metadata": {},
   "outputs": [],
   "source": [
    "#metacharacters(메타케릭터)\n",
    "\n",
    "[] : 내부의 메타캐릭터는 캐릭터 자체를 나타냄\n",
    "[abck] : a.b.c.or k\n",
    "[abc.^] : a or b or c or.or^\n",
    "[a-d] : a부터 d까지\n",
    "[0-9] : 모든숫자\n",
    "[a-z] : 모든 소문자\n",
    "[A-Z] : 모든 대문자\n",
    "[a-zA-Z0-9] : 모든 알파벳 문자 및 숫자\n",
    "[^0-9]: ^가 맨앞에 사용되는 경우 해당 문자패턴이 아닌 것과 매칭"
   ]
  },
  {
   "cell_type": "code",
   "execution_count": null,
   "metadata": {},
   "outputs": [],
   "source": []
  },
  {
   "cell_type": "code",
   "execution_count": null,
   "metadata": {},
   "outputs": [],
   "source": []
  },
  {
   "cell_type": "code",
   "execution_count": null,
   "metadata": {},
   "outputs": [],
   "source": []
  },
  {
   "cell_type": "raw",
   "metadata": {},
   "source": []
  },
  {
   "cell_type": "code",
   "execution_count": null,
   "metadata": {},
   "outputs": [],
   "source": []
  },
  {
   "cell_type": "code",
   "execution_count": null,
   "metadata": {},
   "outputs": [],
   "source": []
  },
  {
   "cell_type": "code",
   "execution_count": null,
   "metadata": {},
   "outputs": [],
   "source": []
  },
  {
   "cell_type": "code",
   "execution_count": null,
   "metadata": {},
   "outputs": [],
   "source": []
  },
  {
   "cell_type": "code",
   "execution_count": null,
   "metadata": {},
   "outputs": [],
   "source": []
  },
  {
   "cell_type": "code",
   "execution_count": null,
   "metadata": {},
   "outputs": [],
   "source": []
  },
  {
   "cell_type": "code",
   "execution_count": null,
   "metadata": {},
   "outputs": [],
   "source": []
  }
 ],
 "metadata": {
  "kernelspec": {
   "display_name": "Python 3",
   "language": "python",
   "name": "python3"
  },
  "language_info": {
   "codemirror_mode": {
    "name": "ipython",
    "version": 3
   },
   "file_extension": ".py",
   "mimetype": "text/x-python",
   "name": "python",
   "nbconvert_exporter": "python",
   "pygments_lexer": "ipython3",
   "version": "3.8.5"
  }
 },
 "nbformat": 4,
 "nbformat_minor": 4
}
